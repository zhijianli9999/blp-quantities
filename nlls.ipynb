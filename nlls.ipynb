{
 "cells": [
  {
   "cell_type": "code",
   "execution_count": 71,
   "metadata": {},
   "outputs": [],
   "source": [
    "using DataFrames, DataFramesMeta, Optim, Revise, Serialization, DebuggingUtilities, LinearAlgebra, Statistics\n",
    "using JuMP, Ipopt"
   ]
  },
  {
   "cell_type": "code",
   "execution_count": 11,
   "metadata": {},
   "outputs": [],
   "source": [
    "string(@__DIR__) in LOAD_PATH || push!(LOAD_PATH, @__DIR__)\n",
    "using BLPmodule; const m = BLPmodule;"
   ]
  },
  {
   "cell_type": "code",
   "execution_count": 12,
   "metadata": {},
   "outputs": [],
   "source": [
    "test1state = true\n",
    "if test1state \n",
    "    dirpath = \"/export/storage_adgandhi/MiscLi/factract/analysis\"\n",
    "else\n",
    "    dirpath = \"jls\"\n",
    "end;\n",
    "ec = deserialize(\"$dirpath/ec.jls\");"
   ]
  },
  {
   "cell_type": "markdown",
   "metadata": {},
   "source": [
    "---\n",
    "### jump"
   ]
  },
  {
   "cell_type": "code",
   "execution_count": 69,
   "metadata": {},
   "outputs": [],
   "source": [
    "# create some indices \n",
    "# t_indexer[jj] is the vector of markets (i.e. their indices) served by facility jj\n",
    "t_indexer = [[] for _ in 1:length(ec.firms)]\n",
    "for tt in eachindex(ec.tracts)\n",
    "    for ind in ec.tracts[tt].inds\n",
    "        push!(t_indexer[ind], tt)\n",
    "    end\n",
    "end\n",
    "\n",
    "# positionin[jj,tt] is firm jj's position in tract tt's vectors (e.g. the vector of market shares in tt)\n",
    "positionin = Matrix(undef, n_firms, n_tracts)\n",
    "for jj in 1:n_firms\n",
    "    for tt in t_indexer[jj]\n",
    "        positionin[jj,tt] = findall(x->x == jj, j_indexer[tt])[1]\n",
    "    end\n",
    "end"
   ]
  },
  {
   "cell_type": "code",
   "execution_count": 131,
   "metadata": {},
   "outputs": [],
   "source": [
    "n_firms = length(ec.firms);\n",
    "n_firms_intract = [t.n_firms for t in ec.tracts]\n",
    "n_tracts = length(ec.tracts);\n",
    "nX = 2\n",
    "nD = 2\n",
    "X = [t.X[:,1:nX] for t in ec.tracts]\n",
    "D = [t.D[:,1:nD] for t in ec.tracts]\n",
    "j_indexer = [t.inds for t in ec.tracts]\n",
    "M = [t.M for t in ec.tracts]\n",
    "q_obs = ec.q_obs;"
   ]
  },
  {
   "cell_type": "code",
   "execution_count": 132,
   "metadata": {},
   "outputs": [
    {
     "name": "stdout",
     "output_type": "stream",
     "text": [
      "This is Ipopt version 3.14.4, running with linear solver MUMPS 5.4.1.\n",
      "\n",
      "Number of nonzeros in equality constraint Jacobian...:        0\n",
      "Number of nonzeros in inequality constraint Jacobian.:        0\n",
      "Number of nonzeros in Lagrangian Hessian.............:       10\n",
      "\n",
      "Total number of variables............................:        4\n",
      "                     variables with only lower bounds:        0\n",
      "                variables with lower and upper bounds:        0\n",
      "                     variables with only upper bounds:        0\n",
      "Total number of equality constraints.................:        0\n",
      "Total number of inequality constraints...............:        0\n",
      "        inequality constraints with only lower bounds:        0\n",
      "   inequality constraints with lower and upper bounds:        0\n",
      "        inequality constraints with only upper bounds:        0\n",
      "\n",
      "iter    objective    inf_pr   inf_du lg(mu)  ||d||  lg(rg) alpha_du alpha_pr  ls\n",
      "   0  4.4612031e+08 0.00e+00 1.00e+02  -1.0 0.00e+00    -  0.00e+00 0.00e+00   0\n",
      "   1  4.4067257e+08 0.00e+00 1.01e+02  -1.0 1.01e-02   4.0 1.00e+00 1.00e+00f  1\n",
      "   2  4.2326740e+08 0.00e+00 1.05e+02  -1.0 3.16e-02   3.5 1.00e+00 1.00e+00f  1\n",
      "   3  3.6042052e+08 0.00e+00 1.16e+02  -1.0 1.06e-01   3.0 1.00e+00 1.00e+00f  1\n",
      "   4  1.2175739e+08 0.00e+00 9.02e+01  -1.0 3.97e-01   2.6 1.00e+00 1.00e+00f  1\n",
      "   5  6.3430959e+06 0.00e+00 9.52e+00  -1.0 3.32e+01    -  1.00e+00 1.00e+00f  1\n",
      "   6  2.4705535e+06 0.00e+00 2.70e+00  -1.0 3.42e+01    -  1.00e+00 1.00e+00f  1\n",
      "   7  1.6634718e+06 0.00e+00 7.22e-01  -1.0 5.82e+01    -  1.00e+00 1.00e+00f  1\n",
      "   8  1.4081330e+06 0.00e+00 5.04e-01  -1.7 9.45e+01    -  1.00e+00 1.00e+00f  1\n",
      "   9  1.3243608e+06 0.00e+00 1.72e-01  -1.7 6.13e+01    -  1.00e+00 1.00e+00f  1\n",
      "iter    objective    inf_pr   inf_du lg(mu)  ||d||  lg(rg) alpha_du alpha_pr  ls\n",
      "  10  1.3052271e+06 0.00e+00 7.48e-02  -2.5 5.42e+01    -  1.00e+00 1.00e+00f  1\n",
      "  11  1.3020968e+06 0.00e+00 2.23e-02  -2.5 3.00e+01    -  1.00e+00 1.00e+00f  1\n",
      "  12  1.3018750e+06 0.00e+00 2.07e-03  -3.8 8.98e+00    -  1.00e+00 1.00e+00f  1\n",
      "  13  1.3018732e+06 0.00e+00 1.87e-05  -3.8 8.53e-01    -  1.00e+00 1.00e+00f  1\n",
      "  14  1.3018732e+06 0.00e+00 1.47e-09  -5.7 7.56e-03    -  1.00e+00 1.00e+00f  1\n",
      "\n",
      "Number of Iterations....: 14\n",
      "\n",
      "                                   (scaled)                 (unscaled)\n",
      "Objective...............:   2.4630480538236516e-01    1.3018732010196950e+06\n",
      "Dual infeasibility......:   1.4705072506858358e-09    7.7725401199586486e-03\n",
      "Constraint violation....:   0.0000000000000000e+00    0.0000000000000000e+00\n",
      "Variable bound violation:   0.0000000000000000e+00    0.0000000000000000e+00\n",
      "Complementarity.........:   0.0000000000000000e+00    0.0000000000000000e+00\n",
      "Overall NLP error.......:   1.4705072506858358e-09    7.7725401199586486e-03\n",
      "\n",
      "\n",
      "Number of objective function evaluations             = 15\n",
      "Number of objective gradient evaluations             = 15\n",
      "Number of equality constraint evaluations            = 0\n",
      "Number of inequality constraint evaluations          = 0\n",
      "Number of equality constraint Jacobian evaluations   = 0\n",
      "Number of inequality constraint Jacobian evaluations = 0\n",
      "Number of Lagrangian Hessian evaluations             = 14\n",
      "Total seconds in IPOPT                               = 6.508\n",
      "\n",
      "EXIT: Optimal Solution Found.\n"
     ]
    }
   ],
   "source": [
    "model = Model(Ipopt.Optimizer)\n",
    "@variables(model, begin\n",
    "    θx[1:nX]\n",
    "    θd[1:nD]\n",
    "end)\n",
    "\n",
    "u = @NLexpression(model,\n",
    "    [tt in 1:n_tracts, jj in j_indexer[tt]],\n",
    "    sum(θx[ix] * X[tt][positionin[jj,tt],ix] for ix in 1:nX) + sum(θd[id] * D[tt][positionin[jj,tt],id] for id in 1:nD))\n",
    "\n",
    "expu = @NLexpression(model,\n",
    "    [tt in 1:n_tracts, jj in j_indexer[tt]],\n",
    "    exp(u[tt,jj]))\n",
    "\n",
    "denom = @NLexpression(model,\n",
    "    [tt in 1:n_tracts],\n",
    "    1+ sum(expu[tt,jj] for jj in j_indexer[tt]))\n",
    "\n",
    "share = @NLexpression(model,\n",
    "    [tt in 1:n_tracts, jj in j_indexer[tt]],\n",
    "    expu[tt,jj] / denom[tt])\n",
    "\n",
    "mktq = @NLexpression(model,\n",
    "    [tt in 1:n_tracts, jj in j_indexer[tt]],\n",
    "    M[tt] * share[tt,jj])\n",
    "\n",
    "firmq = @NLexpression(model,\n",
    "    [jj in 1:n_firms],\n",
    "    sum(mktq[tt, jj] for tt in t_indexer[jj]))\n",
    "\n",
    "@NLobjective(model, Min, sum((firmq[jj] - q_obs[jj])^2 for jj in 1:n_firms))\n",
    "\n",
    "optimize!(model)\n"
   ]
  },
  {
   "cell_type": "code",
   "execution_count": 133,
   "metadata": {},
   "outputs": [
    {
     "data": {
      "text/plain": [
       "2-element Vector{Float64}:\n",
       " -0.31528325398934093\n",
       " -0.2601845414584704"
      ]
     },
     "metadata": {},
     "output_type": "display_data"
    }
   ],
   "source": [
    "value.(θx)"
   ]
  },
  {
   "cell_type": "code",
   "execution_count": 134,
   "metadata": {},
   "outputs": [
    {
     "data": {
      "text/plain": [
       "2-element Vector{Float64}:\n",
       " -88.0723151986671\n",
       " 375.3906809161418"
      ]
     },
     "metadata": {},
     "output_type": "display_data"
    }
   ],
   "source": [
    "value.(θd)"
   ]
  },
  {
   "cell_type": "code",
   "execution_count": 135,
   "metadata": {},
   "outputs": [],
   "source": [
    "# index with q_preds[jj]\n",
    "q_preds = value.(firmq);\n",
    "\n",
    "# index with share_preds[tt,jj]\n",
    "share_preds = value.(share);\n",
    "mktq_preds = value.(mktq);"
   ]
  },
  {
   "cell_type": "code",
   "execution_count": 136,
   "metadata": {},
   "outputs": [],
   "source": [
    "# θD1 = value.(θd);\n",
    "θD1, θD2 = value.(θd);"
   ]
  },
  {
   "cell_type": "code",
   "execution_count": 137,
   "metadata": {},
   "outputs": [],
   "source": [
    "# quadratic distance\n",
    "ηDj = [sum([mktq_preds[tt,jj]*(1-share_preds[tt,jj])*(θD2*D[tt][positionin[jj,tt],1] + θD1)*D[tt][positionin[jj,tt],1] for tt in t_indexer[jj]]) / q_preds[jj] for jj in 1:n_firms];\n",
    "\n",
    "# linear distance\n",
    "# ηDj_lin = [sum([mktq_preds[tt,jj]*(1-share_preds[tt,jj])*(θD1)*D[tt][positionin[jj,tt],1] for tt in t_indexer[jj]]) / q_preds[jj] for jj in 1:n_firms];"
   ]
  },
  {
   "cell_type": "code",
   "execution_count": 138,
   "metadata": {},
   "outputs": [
    {
     "data": {
      "text/plain": [
       "-2.674955301327756"
      ]
     },
     "metadata": {},
     "output_type": "display_data"
    }
   ],
   "source": [
    "mean(ηDj)"
   ]
  },
  {
   "cell_type": "code",
   "execution_count": null,
   "metadata": {},
   "outputs": [
    {
     "data": {
      "text/plain": [
       "1-element Vector{Float64}:\n",
       " -1.7684851296113835"
      ]
     },
     "metadata": {},
     "output_type": "display_data"
    }
   ],
   "source": [
    "mean(ηDj_lin)"
   ]
  },
  {
   "cell_type": "code",
   "execution_count": null,
   "metadata": {},
   "outputs": [],
   "source": []
  }
 ],
 "metadata": {
  "kernelspec": {
   "display_name": "Julia 1.6.1",
   "language": "julia",
   "name": "julia-1.6"
  },
  "language_info": {
   "file_extension": ".jl",
   "mimetype": "application/julia",
   "name": "julia",
   "version": "1.6.1"
  },
  "orig_nbformat": 4
 },
 "nbformat": 4,
 "nbformat_minor": 2
}
