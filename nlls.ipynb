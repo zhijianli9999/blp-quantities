{
 "cells": [
  {
   "cell_type": "code",
   "execution_count": 1,
   "metadata": {},
   "outputs": [],
   "source": [
    "using DataFrames, DataFramesMeta, Optim, Revise, Serialization, DebuggingUtilities, LinearAlgebra, Statistics\n",
    "using JuMP, Ipopt"
   ]
  },
  {
   "cell_type": "code",
   "execution_count": 12,
   "metadata": {},
   "outputs": [],
   "source": [
    "const datadir = \"/export/storage_adgandhi/MiscLi/factract\";\n",
    "string(@__DIR__) in LOAD_PATH || push!(LOAD_PATH, @__DIR__)\n",
    "using BLPmodule; const m = BLPmodule;"
   ]
  },
  {
   "cell_type": "code",
   "execution_count": 13,
   "metadata": {},
   "outputs": [],
   "source": [
    "testmodes = [\"full\", \"fl\", \"fl17\"]\n",
    "testmode = testmodes[2]################# EDIT THIS ##################\n",
    "\n",
    "ec = deserialize(\"$datadir/analysis/ec_nlls$testmode.jls\");"
   ]
  },
  {
   "cell_type": "markdown",
   "metadata": {},
   "source": [
    "---\n",
    "### jump"
   ]
  },
  {
   "cell_type": "code",
   "execution_count": 14,
   "metadata": {},
   "outputs": [],
   "source": [
    "q_obs = ec.q_obs;\n",
    "tracts = ec.tracts;\n",
    "n_firms = length(ec.firms);\n",
    "X = [t.X[:,1:2] for t in tracts];\n",
    "D = [t.D[:,1:2] for t in tracts];"
   ]
  },
  {
   "cell_type": "code",
   "execution_count": 15,
   "metadata": {},
   "outputs": [],
   "source": [
    "j_indexer, t_indexer, positionin = m.create_indices(tracts, n_firms);"
   ]
  },
  {
   "cell_type": "code",
   "execution_count": 16,
   "metadata": {},
   "outputs": [
    {
     "name": "stdout",
     "output_type": "stream",
     "text": [
      "\n",
      "******************************************************************************\n",
      "This program contains Ipopt, a library for large-scale nonlinear optimization.\n",
      " Ipopt is released as open source code under the Eclipse Public License (EPL).\n",
      "         For more information visit https://github.com/coin-or/Ipopt\n",
      "******************************************************************************\n",
      "\n",
      "This is Ipopt version 3.14.4, running with linear solver MUMPS 5.4.1.\n",
      "\n",
      "Number of nonzeros in equality constraint Jacobian...:        0\n",
      "Number of nonzeros in inequality constraint Jacobian.:        0\n",
      "Number of nonzeros in Lagrangian Hessian.............:       10\n",
      "\n",
      "Total number of variables............................:        4\n",
      "                     variables with only lower bounds:        0\n",
      "                variables with lower and upper bounds:        0\n",
      "                     variables with only upper bounds:        0\n",
      "Total number of equality constraints.................:        0\n",
      "Total number of inequality constraints...............:        0\n",
      "        inequality constraints with only lower bounds:        0\n",
      "   inequality constraints with lower and upper bounds:        0\n",
      "        inequality constraints with only upper bounds:        0\n",
      "\n",
      "iter    objective    inf_pr   inf_du lg(mu)  ||d||  lg(rg) alpha_du alpha_pr  ls\n",
      "   0  1.9642709e+10 0.00e+00 1.20e+04  -1.0 0.00e+00    -  0.00e+00 0.00e+00   0\n",
      "   1  9.2369603e+09 0.00e+00 3.54e+03  -1.0 1.37e-02   6.0 1.00e+00 1.00e+00f  1\n",
      "   2  2.9136778e+08 0.00e+00 1.69e+03  -1.0 1.64e+00    -  1.00e+00 5.00e-01f  2\n",
      "   3  9.2271701e+07 0.00e+00 5.80e+02  -1.0 8.17e-02    -  1.00e+00 1.00e+00f  1\n",
      "   4  3.1249268e+07 0.00e+00 2.04e+02  -1.0 1.02e-01    -  1.00e+00 1.00e+00f  1\n",
      "   5  1.1472483e+07 0.00e+00 7.18e+01  -1.0 1.37e-01    -  1.00e+00 1.00e+00f  1\n",
      "   6  5.1176771e+06 0.00e+00 2.47e+01  -1.0 1.78e-01    -  1.00e+00 1.00e+00f  1\n",
      "   7  3.1442288e+06 0.00e+00 8.13e+00  -1.0 2.01e-01    -  1.00e+00 1.00e+00f  1\n",
      "   8  2.4806844e+06 0.00e+00 2.76e+00  -1.0 1.36e-01    -  1.00e+00 1.00e+00f  1\n",
      "   9  2.1919683e+06 0.00e+00 1.31e+00  -1.0 1.60e-01    -  1.00e+00 1.00e+00f  1\n",
      "iter    objective    inf_pr   inf_du lg(mu)  ||d||  lg(rg) alpha_du alpha_pr  ls\n",
      "  10  2.0646982e+06 0.00e+00 7.21e-01  -1.0 1.68e-01    -  1.00e+00 1.00e+00f  1\n",
      "  11  2.0099070e+06 0.00e+00 5.78e-01  -1.7 1.57e-01    -  1.00e+00 1.00e+00f  1\n",
      "  12  1.9901011e+06 0.00e+00 2.83e-01  -1.7 1.18e-01    -  1.00e+00 1.00e+00f  1\n",
      "  13  1.9859459e+06 0.00e+00 9.42e-02  -1.7 7.00e-02    -  1.00e+00 1.00e+00f  1\n",
      "  14  1.9856612e+06 0.00e+00 7.95e-03  -2.5 2.13e-02    -  1.00e+00 1.00e+00f  1\n",
      "  15  1.9856592e+06 0.00e+00 6.40e-05  -3.8 1.91e-03    -  1.00e+00 1.00e+00f  1\n",
      "  16  1.9856592e+06 0.00e+00 3.58e-09  -5.7 1.44e-05    -  1.00e+00 1.00e+00f  1\n",
      "\n",
      "Number of Iterations....: 16\n",
      "\n",
      "                                   (scaled)                 (unscaled)\n",
      "Objective...............:   1.9856591885687183e-02    1.9856591885687183e+06\n",
      "Dual infeasibility......:   3.5846966000099200e-09    3.5846966000099201e-01\n",
      "Constraint violation....:   0.0000000000000000e+00    0.0000000000000000e+00\n",
      "Variable bound violation:   0.0000000000000000e+00    0.0000000000000000e+00\n",
      "Complementarity.........:   0.0000000000000000e+00    0.0000000000000000e+00\n",
      "Overall NLP error.......:   3.5846966000099200e-09    3.5846966000099201e-01\n",
      "\n",
      "\n",
      "Number of objective function evaluations             = 22\n",
      "Number of objective gradient evaluations             = 17\n",
      "Number of equality constraint evaluations            = 0\n",
      "Number of inequality constraint evaluations          = 0\n",
      "Number of equality constraint Jacobian evaluations   = 0\n",
      "Number of inequality constraint Jacobian evaluations = 0\n",
      "Number of Lagrangian Hessian evaluations             = 16\n",
      "Total seconds in IPOPT                               = 89.249\n",
      "\n",
      "EXIT: Optimal Solution Found.\n"
     ]
    }
   ],
   "source": [
    "θx, θd, share, mktq, firmq = m.run_nlls(X, D, tracts, n_firms, q_obs);"
   ]
  },
  {
   "cell_type": "code",
   "execution_count": 24,
   "metadata": {},
   "outputs": [
    {
     "data": {
      "text/plain": [
       "-2.744910976619643"
      ]
     },
     "metadata": {},
     "output_type": "display_data"
    }
   ],
   "source": [
    "ηDj = m.compute_elasticity(D, θd, share, mktq, t_indexer, positionin, n_firms);\n",
    "mean(ηDj)"
   ]
  },
  {
   "cell_type": "code",
   "execution_count": 33,
   "metadata": {},
   "outputs": [],
   "source": [
    "X_dc = [t.X[:,[1]] for t in tracts];\n",
    "X_rn = [t.X[:,[2]] for t in tracts];"
   ]
  },
  {
   "cell_type": "code",
   "execution_count": 31,
   "metadata": {},
   "outputs": [
    {
     "data": {
      "text/plain": [
       "-2.4279600170299322"
      ]
     },
     "metadata": {},
     "output_type": "display_data"
    }
   ],
   "source": [
    "η_dc = m.compute_elasticity(X_dc, [θx[1]], share, mktq, t_indexer, positionin, n_firms);\n",
    "mean(η_dc)"
   ]
  },
  {
   "cell_type": "code",
   "execution_count": 35,
   "metadata": {},
   "outputs": [
    {
     "data": {
      "text/plain": [
       "-0.05438817773708475"
      ]
     },
     "metadata": {},
     "output_type": "display_data"
    }
   ],
   "source": [
    "η_rn = m.compute_elasticity(X_rn, [θx[2]], share, mktq, t_indexer, positionin, n_firms);\n",
    "mean(η_rn)"
   ]
  },
  {
   "cell_type": "code",
   "execution_count": null,
   "metadata": {},
   "outputs": [],
   "source": []
  }
 ],
 "metadata": {
  "kernelspec": {
   "display_name": "Julia 1.6.1",
   "language": "julia",
   "name": "julia-1.6"
  },
  "language_info": {
   "file_extension": ".jl",
   "mimetype": "application/julia",
   "name": "julia",
   "version": "1.6.1"
  },
  "orig_nbformat": 4
 },
 "nbformat": 4,
 "nbformat_minor": 2
}
