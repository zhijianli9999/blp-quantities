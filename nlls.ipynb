{
 "cells": [
  {
   "cell_type": "code",
   "execution_count": 3,
   "metadata": {},
   "outputs": [],
   "source": [
    "using DataFrames, DataFramesMeta, Optim, Revise, Serialization, DebuggingUtilities, LinearAlgebra\n",
    "using JuMP, Ipopt"
   ]
  },
  {
   "cell_type": "code",
   "execution_count": 1,
   "metadata": {},
   "outputs": [],
   "source": [
    "string(@__DIR__) in LOAD_PATH || push!(LOAD_PATH, @__DIR__)\n",
    "using BLPmodule; const m = BLPmodule;"
   ]
  },
  {
   "cell_type": "code",
   "execution_count": 4,
   "metadata": {},
   "outputs": [],
   "source": [
    "test1state = false\n",
    "if test1state \n",
    "    dirpath = \"/export/storage_adgandhi/MiscLi/factract/analysis\"\n",
    "else\n",
    "    dirpath = \"jls\"\n",
    "end;\n",
    "ec = deserialize(\"$dirpath/ec.jls\");"
   ]
  },
  {
   "cell_type": "markdown",
   "metadata": {},
   "source": [
    "---\n",
    "### jump"
   ]
  },
  {
   "cell_type": "code",
   "execution_count": 5,
   "metadata": {},
   "outputs": [],
   "source": [
    "t_indexer = [[] for _ in 1:length(ec.firms)]\n",
    "for tt in eachindex(ec.tracts)\n",
    "    for ind in ec.tracts[tt].inds\n",
    "        push!(t_indexer[ind], tt)\n",
    "    end\n",
    "end"
   ]
  },
  {
   "cell_type": "code",
   "execution_count": 8,
   "metadata": {},
   "outputs": [],
   "source": [
    "n_firms = length(ec.firms);\n",
    "n_firms_intract = [t.n_firms for t in ec.tracts]\n",
    "n_tracts = length(ec.tracts);\n",
    "nX = 2\n",
    "nD = 2\n",
    "X = [t.X[:,1:nX] for t in ec.tracts]\n",
    "D = [t.D[:,1:nD] for t in ec.tracts]\n",
    "j_indexer = [t.inds for t in ec.tracts]\n",
    "M = [t.M for t in ec.tracts]\n",
    "q_obs = ec.q_obs;"
   ]
  },
  {
   "cell_type": "code",
   "execution_count": 9,
   "metadata": {},
   "outputs": [
    {
     "name": "stdout",
     "output_type": "stream",
     "text": [
      "\n",
      "******************************************************************************\n",
      "This program contains Ipopt, a library for large-scale nonlinear optimization.\n",
      " Ipopt is released as open source code under the Eclipse Public License (EPL).\n",
      "         For more information visit https://github.com/coin-or/Ipopt\n",
      "******************************************************************************\n",
      "\n",
      "This is Ipopt version 3.14.4, running with linear solver MUMPS 5.4.1.\n",
      "\n",
      "Number of nonzeros in equality constraint Jacobian...:        0\n",
      "Number of nonzeros in inequality constraint Jacobian.:        0\n",
      "Number of nonzeros in Lagrangian Hessian.............:       10\n",
      "\n",
      "Total number of variables............................:        4\n",
      "                     variables with only lower bounds:        0\n",
      "                variables with lower and upper bounds:        0\n",
      "                     variables with only upper bounds:        0\n",
      "Total number of equality constraints.................:        0\n",
      "Total number of inequality constraints...............:        0\n",
      "        inequality constraints with only lower bounds:        0\n",
      "   inequality constraints with lower and upper bounds:        0\n",
      "        inequality constraints with only upper bounds:        0\n",
      "\n",
      "iter    objective    inf_pr   inf_du lg(mu)  ||d||  lg(rg) alpha_du alpha_pr  ls\n",
      "   0  3.2145106e+09 0.00e+00 1.00e+02  -1.0 0.00e+00    -  0.00e+00 0.00e+00   0\n",
      "   1  4.3853321e+08 0.00e+00 2.58e+01  -1.0 1.05e+00   2.0 1.00e+00 1.00e+00f  1\n",
      "   2  1.1881534e+08 0.00e+00 6.84e+00  -1.0 7.34e+01    -  1.00e+00 1.00e+00f  1\n",
      "   3  6.1022055e+07 0.00e+00 1.75e+00  -1.0 7.06e+01    -  1.00e+00 1.00e+00f  1\n",
      "   4  4.3286486e+07 0.00e+00 1.02e+00  -1.0 9.90e+01    -  1.00e+00 1.00e+00f  1\n",
      "   5  3.6746617e+07 0.00e+00 6.00e-01  -1.0 9.71e+01    -  1.00e+00 1.00e+00f  1\n",
      "   6  3.4707180e+07 0.00e+00 2.95e-01  -1.7 8.90e+01    -  1.00e+00 1.00e+00f  1\n",
      "   7  3.4157977e+07 0.00e+00 1.52e-01  -1.7 7.86e+01    -  1.00e+00 1.00e+00f  1\n",
      "   8  3.4039770e+07 0.00e+00 5.56e-02  -2.5 4.94e+01    -  1.00e+00 1.00e+00f  1\n",
      "   9  3.4028856e+07 0.00e+00 6.42e-03  -2.5 1.74e+01    -  1.00e+00 1.00e+00f  1\n",
      "iter    objective    inf_pr   inf_du lg(mu)  ||d||  lg(rg) alpha_du alpha_pr  ls\n",
      "  10  3.4028706e+07 0.00e+00 1.09e-04  -3.8 2.29e+00    -  1.00e+00 1.00e+00f  1\n",
      "  11  3.4028706e+07 0.00e+00 2.60e-08  -5.7 3.52e-02    -  1.00e+00 1.00e+00f  1\n",
      "  12  3.4028706e+07 0.00e+00 1.95e-08  -8.6 8.95e-06    -  1.00e+00 2.50e-01f  3\n",
      "  13  3.4028706e+07 0.00e+00 8.27e-15 -12.6 6.71e-06    -  1.00e+00 1.00e+00f  1\n",
      "\n",
      "Number of Iterations....: 13\n",
      "\n",
      "                                   (scaled)                 (unscaled)\n",
      "Objective...............:   9.8262657946647303e-01    3.4028706381698646e+07\n",
      "Dual infeasibility......:   8.2657167853405950e-15    2.8624469905480510e-07\n",
      "Constraint violation....:   0.0000000000000000e+00    0.0000000000000000e+00\n",
      "Variable bound violation:   0.0000000000000000e+00    0.0000000000000000e+00\n",
      "Complementarity.........:   0.0000000000000000e+00    0.0000000000000000e+00\n",
      "Overall NLP error.......:   8.2657167853405950e-15    2.8624469905480510e-07\n",
      "\n",
      "\n",
      "Number of objective function evaluations             = 20\n",
      "Number of objective gradient evaluations             = 14\n",
      "Number of equality constraint evaluations            = 0\n",
      "Number of inequality constraint evaluations          = 0\n",
      "Number of equality constraint Jacobian evaluations   = 0\n",
      "Number of inequality constraint Jacobian evaluations = 0\n",
      "Number of Lagrangian Hessian evaluations             = 13\n",
      "Total seconds in IPOPT                               = 107.083\n",
      "\n",
      "EXIT: Optimal Solution Found.\n"
     ]
    }
   ],
   "source": [
    "model = Model(Ipopt.Optimizer)\n",
    "@variables(model, begin\n",
    "    θx[1:nX]\n",
    "    θd[1:nD]\n",
    "end)\n",
    "\n",
    "u = @NLexpression(model,\n",
    "    [tt in 1:n_tracts, jj in 1:n_firms_intract[tt]],\n",
    "    sum(θx[ix] * X[tt][jj,ix] for ix in 1:nX) + sum(θd[id] * D[tt][jj,id] for id in 1:nD))\n",
    "\n",
    "\n",
    "expu = @NLexpression(model,\n",
    "    [tt in 1:n_tracts, jj in 1:n_firms_intract[tt]],\n",
    "    exp(u[tt,jj]))\n",
    "\n",
    "mktdenom = @NLexpression(model,\n",
    "    [tt in 1:n_tracts],\n",
    "    1+ sum(expu[tt,jj] for jj in 1:n_firms_intract[tt]))\n",
    "\n",
    "\n",
    "mktq = @NLexpression(model,\n",
    "    [tt in 1:n_tracts, jj in 1:n_firms_intract[tt]],\n",
    "    M[tt] * expu[tt,jj] / mktdenom[tt])\n",
    "\n",
    "firmq = @NLexpression(model,\n",
    "    [jj in 1:n_firms],\n",
    "    sum(mktq[tt,findall(x->x == jj, j_indexer[tt])[1]] for tt in t_indexer[jj]))\n",
    "\n",
    "@NLobjective(model, Min, sum((firmq[jj] - q_obs[jj])^2 for jj in 1:n_firms))\n",
    "\n",
    "optimize!(model)\n"
   ]
  },
  {
   "cell_type": "code",
   "execution_count": 10,
   "metadata": {},
   "outputs": [
    {
     "data": {
      "text/plain": [
       "2-element Vector{Float64}:\n",
       " -0.13496910913853621\n",
       " -0.34371765735650206"
      ]
     },
     "metadata": {},
     "output_type": "display_data"
    }
   ],
   "source": [
    "value.(θx)"
   ]
  },
  {
   "cell_type": "code",
   "execution_count": 11,
   "metadata": {},
   "outputs": [
    {
     "data": {
      "text/plain": [
       "2-element Vector{Float64}:\n",
       " -130.83756902942645\n",
       "  576.9122622345478"
      ]
     },
     "metadata": {},
     "output_type": "display_data"
    }
   ],
   "source": [
    "value.(θd)"
   ]
  },
  {
   "cell_type": "code",
   "execution_count": 12,
   "metadata": {},
   "outputs": [],
   "source": [
    "value.(firmq)"
   ]
  },
  {
   "cell_type": "code",
   "execution_count": null,
   "metadata": {},
   "outputs": [],
   "source": []
  }
 ],
 "metadata": {
  "kernelspec": {
   "display_name": "Julia 1.6.1",
   "language": "julia",
   "name": "julia-1.6"
  },
  "language_info": {
   "file_extension": ".jl",
   "mimetype": "application/julia",
   "name": "julia",
   "version": "1.6.1"
  },
  "orig_nbformat": 4
 },
 "nbformat": 4,
 "nbformat_minor": 2
}
