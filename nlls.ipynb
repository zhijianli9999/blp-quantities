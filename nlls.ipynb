{
 "cells": [
  {
   "cell_type": "code",
   "execution_count": 71,
   "metadata": {},
   "outputs": [],
   "source": [
    "using DataFrames, DataFramesMeta, Optim, Revise, Serialization, DebuggingUtilities, LinearAlgebra, Statistics\n",
    "using JuMP, Ipopt"
   ]
  },
  {
   "cell_type": "code",
   "execution_count": 11,
   "metadata": {},
   "outputs": [],
   "source": [
    "string(@__DIR__) in LOAD_PATH || push!(LOAD_PATH, @__DIR__)\n",
    "using BLPmodule; const m = BLPmodule;"
   ]
  },
  {
   "cell_type": "code",
   "execution_count": 12,
   "metadata": {},
   "outputs": [],
   "source": [
    "test1state = true\n",
    "if test1state \n",
    "    dirpath = \"/export/storage_adgandhi/MiscLi/factract/analysis\"\n",
    "else\n",
    "    dirpath = \"jls\"\n",
    "end;\n",
    "ec = deserialize(\"$dirpath/ec.jls\");"
   ]
  },
  {
   "cell_type": "markdown",
   "metadata": {},
   "source": [
    "---\n",
    "### jump"
   ]
  },
  {
   "cell_type": "code",
   "execution_count": 69,
   "metadata": {},
   "outputs": [],
   "source": [
    "# create some indices \n",
    "# t_indexer[jj] is the vector of markets (i.e. their indices) served by facility jj\n",
    "t_indexer = [[] for _ in 1:length(ec.firms)]\n",
    "for tt in eachindex(ec.tracts)\n",
    "    for ind in ec.tracts[tt].inds\n",
    "        push!(t_indexer[ind], tt)\n",
    "    end\n",
    "end\n",
    "\n",
    "# positionin[jj,tt] is firm jj's position in tract tt's vectors (e.g. the vector of market shares in tt)\n",
    "positionin = Matrix(undef, n_firms, n_tracts)\n",
    "for jj in 1:n_firms\n",
    "    for tt in t_indexer[jj]\n",
    "        positionin[jj,tt] = findall(x->x == jj, j_indexer[tt])[1]\n",
    "    end\n",
    "end"
   ]
  },
  {
   "cell_type": "code",
   "execution_count": 108,
   "metadata": {},
   "outputs": [],
   "source": [
    "n_firms = length(ec.firms);\n",
    "n_firms_intract = [t.n_firms for t in ec.tracts]\n",
    "n_tracts = length(ec.tracts);\n",
    "nX = 2\n",
    "nD = 1\n",
    "X = [t.X[:,1:nX] for t in ec.tracts]\n",
    "D = [t.D[:,1:nD] for t in ec.tracts]\n",
    "j_indexer = [t.inds for t in ec.tracts]\n",
    "M = [t.M for t in ec.tracts]\n",
    "q_obs = ec.q_obs;"
   ]
  },
  {
   "cell_type": "code",
   "execution_count": 109,
   "metadata": {},
   "outputs": [
    {
     "name": "stdout",
     "output_type": "stream",
     "text": [
      "This is Ipopt version 3.14.4, running with linear solver MUMPS 5.4.1.\n",
      "\n",
      "Number of nonzeros in equality constraint Jacobian...:        0\n",
      "Number of nonzeros in inequality constraint Jacobian.:        0\n",
      "Number of nonzeros in Lagrangian Hessian.............:        6\n",
      "\n",
      "Total number of variables............................:        3\n",
      "                     variables with only lower bounds:        0\n",
      "                variables with lower and upper bounds:        0\n",
      "                     variables with only upper bounds:        0\n",
      "Total number of equality constraints.................:        0\n",
      "Total number of inequality constraints...............:        0\n",
      "        inequality constraints with only lower bounds:        0\n",
      "   inequality constraints with lower and upper bounds:        0\n",
      "        inequality constraints with only upper bounds:        0\n",
      "\n",
      "iter    objective    inf_pr   inf_du lg(mu)  ||d||  lg(rg) alpha_du alpha_pr  ls\n",
      "   0  4.4612031e+08 0.00e+00 1.00e+02  -1.0 0.00e+00    -  0.00e+00 0.00e+00   0\n",
      "   1  4.4067264e+08 0.00e+00 1.01e+02  -1.0 1.01e-02   4.0 1.00e+00 1.00e+00f  1\n",
      "   2  4.2326772e+08 0.00e+00 1.05e+02  -1.0 3.16e-02   3.5 1.00e+00 1.00e+00f  1\n",
      "   3  3.6042205e+08 0.00e+00 1.16e+02  -1.0 1.06e-01   3.0 1.00e+00 1.00e+00f  1\n",
      "   4  1.2176270e+08 0.00e+00 9.02e+01  -1.0 3.97e-01   2.6 1.00e+00 1.00e+00f  1\n",
      "   5  6.6433659e+06 0.00e+00 9.73e+00  -1.0 3.11e+00    -  1.00e+00 1.00e+00f  1\n",
      "   6  2.7070196e+06 0.00e+00 2.78e+00  -1.0 1.73e+00    -  1.00e+00 1.00e+00f  1\n",
      "   7  1.9310607e+06 0.00e+00 7.06e-01  -1.0 3.33e+00    -  1.00e+00 1.00e+00f  1\n",
      "   8  1.6840879e+06 0.00e+00 3.99e-01  -1.7 6.69e+00    -  1.00e+00 1.00e+00f  1\n",
      "   9  1.5495970e+06 0.00e+00 3.36e-01  -1.7 7.25e+00    -  1.00e+00 1.00e+00f  1\n",
      "iter    objective    inf_pr   inf_du lg(mu)  ||d||  lg(rg) alpha_du alpha_pr  ls\n",
      "  10  1.4764321e+06 0.00e+00 2.02e-01  -1.7 6.46e+00    -  1.00e+00 1.00e+00f  1\n",
      "  11  1.4407094e+06 0.00e+00 1.39e-01  -1.7 6.35e+00    -  1.00e+00 1.00e+00f  1\n",
      "  12  1.4272489e+06 0.00e+00 6.26e-02  -2.5 4.86e+00    -  1.00e+00 1.00e+00f  1\n",
      "  13  1.4243151e+06 0.00e+00 1.90e-02  -2.5 2.98e+00    -  1.00e+00 1.00e+00f  1\n",
      "  14  1.4241044e+06 0.00e+00 1.69e-03  -3.8 9.31e-01    -  1.00e+00 1.00e+00f  1\n",
      "  15  1.4241028e+06 0.00e+00 1.43e-05  -3.8 8.68e-02    -  1.00e+00 1.00e+00f  1\n",
      "  16  1.4241028e+06 0.00e+00 9.59e-10  -8.6 7.10e-04    -  1.00e+00 1.00e+00f  1\n",
      "\n",
      "Number of Iterations....: 16\n",
      "\n",
      "                                   (scaled)                 (unscaled)\n",
      "Objective...............:   2.6942973786887220e-01    1.4241027687004267e+06\n",
      "Dual infeasibility......:   9.5944091392934021e-10    5.0712385081865810e-03\n",
      "Constraint violation....:   0.0000000000000000e+00    0.0000000000000000e+00\n",
      "Variable bound violation:   0.0000000000000000e+00    0.0000000000000000e+00\n",
      "Complementarity.........:   0.0000000000000000e+00    0.0000000000000000e+00\n",
      "Overall NLP error.......:   9.5944091392934021e-10    5.0712385081865810e-03\n",
      "\n",
      "\n",
      "Number of objective function evaluations             = 17\n",
      "Number of objective gradient evaluations             = 17\n",
      "Number of equality constraint evaluations            = 0\n",
      "Number of inequality constraint evaluations          = 0\n",
      "Number of equality constraint Jacobian evaluations   = 0\n",
      "Number of inequality constraint Jacobian evaluations = 0\n",
      "Number of Lagrangian Hessian evaluations             = 16\n",
      "Total seconds in IPOPT                               = 6.298\n",
      "\n",
      "EXIT: Optimal Solution Found.\n"
     ]
    }
   ],
   "source": [
    "model = Model(Ipopt.Optimizer)\n",
    "@variables(model, begin\n",
    "    θx[1:nX]\n",
    "    θd[1:nD]\n",
    "end)\n",
    "\n",
    "u = @NLexpression(model,\n",
    "    [tt in 1:n_tracts, jj in j_indexer[tt]],\n",
    "    sum(θx[ix] * X[tt][positionin[jj,tt],ix] for ix in 1:nX) + sum(θd[id] * D[tt][positionin[jj,tt],id] for id in 1:nD))\n",
    "\n",
    "expu = @NLexpression(model,\n",
    "    [tt in 1:n_tracts, jj in j_indexer[tt]],\n",
    "    exp(u[tt,jj]))\n",
    "\n",
    "denom = @NLexpression(model,\n",
    "    [tt in 1:n_tracts],\n",
    "    1+ sum(expu[tt,jj] for jj in j_indexer[tt]))\n",
    "\n",
    "share = @NLexpression(model,\n",
    "    [tt in 1:n_tracts, jj in j_indexer[tt]],\n",
    "    expu[tt,jj] / denom[tt])\n",
    "\n",
    "mktq = @NLexpression(model,\n",
    "    [tt in 1:n_tracts, jj in j_indexer[tt]],\n",
    "    M[tt] * share[tt,jj])\n",
    "\n",
    "firmq = @NLexpression(model,\n",
    "    [jj in 1:n_firms],\n",
    "    sum(mktq[tt, jj] for tt in t_indexer[jj]))\n",
    "\n",
    "@NLobjective(model, Min, sum((firmq[jj] - q_obs[jj])^2 for jj in 1:n_firms))\n",
    "\n",
    "optimize!(model)\n"
   ]
  },
  {
   "cell_type": "code",
   "execution_count": 110,
   "metadata": {},
   "outputs": [
    {
     "data": {
      "text/plain": [
       "2-element Vector{Float64}:\n",
       " -0.4476982868894854\n",
       " -0.19014636125654918"
      ]
     },
     "metadata": {},
     "output_type": "display_data"
    }
   ],
   "source": [
    "value.(θx)"
   ]
  },
  {
   "cell_type": "code",
   "execution_count": 111,
   "metadata": {},
   "outputs": [
    {
     "data": {
      "text/plain": [
       "1-element Vector{Float64}:\n",
       " -43.78729907909843"
      ]
     },
     "metadata": {},
     "output_type": "display_data"
    }
   ],
   "source": [
    "value.(θd)"
   ]
  },
  {
   "cell_type": "code",
   "execution_count": 112,
   "metadata": {},
   "outputs": [
    {
     "data": {
      "text/plain": [
       "JuMP.Containers.SparseAxisArray{Float64, 2, Tuple{Int64, Int64}} with 55472 entries:\n",
       "  [1037, 337]  =  3.91075e-5\n",
       "  [1134, 151]  =  0.103185\n",
       "  [1214, 329]  =  0.000156175\n",
       "  [1243, 12 ]  =  0.0035972\n",
       "  [1332, 208]  =  0.00286307\n",
       "  [1410, 164]  =  0.000989789\n",
       "  [1674, 383]  =  5.52232e-5\n",
       "  [1778, 391]  =  0.000474961\n",
       "               ⋮\n",
       "  [2291, 38 ]  =  0.00406708\n",
       "  [2355, 40 ]  =  0.00056669\n",
       "  [308, 163 ]  =  4.03684e-5\n",
       "  [457, 232 ]  =  0.000473442\n",
       "  [498, 222 ]  =  0.00600919\n",
       "  [620, 295 ]  =  0.00348861\n",
       "  [734, 375 ]  =  0.00194472"
      ]
     },
     "metadata": {},
     "output_type": "display_data"
    }
   ],
   "source": [
    "q_preds = value.(firmq);\n",
    "share_preds = value.(share);\n",
    "# index with share_preds[tt,jj]"
   ]
  },
  {
   "cell_type": "code",
   "execution_count": 116,
   "metadata": {},
   "outputs": [],
   "source": [
    "θD1 = value.(θd);\n",
    "# θD1, θD2 = value.(θd);"
   ]
  },
  {
   "cell_type": "code",
   "execution_count": 117,
   "metadata": {},
   "outputs": [
    {
     "data": {
      "text/plain": [
       "410-element Vector{Float64}:\n",
       "  0.8809502220429122\n",
       "  0.845402291137059\n",
       "  0.8288421368700702\n",
       "  0.5616987130547682\n",
       "  0.8917171872500751\n",
       "  0.46951478346557163\n",
       "  1.134575477035751\n",
       "  1.0414943759429935\n",
       "  0.8260159016430056\n",
       "  1.1190469548121327\n",
       "  ⋮\n",
       "  0.6612041576108612\n",
       "  1.2727885167223525\n",
       "  1.3982544722444579\n",
       " 10.335507327156156\n",
       "  1.1557192850242373\n",
       "  8.967496340864116\n",
       "  0.7360138536748763\n",
       "  1.1357190036318712\n",
       "  0.820450319280087"
      ]
     },
     "metadata": {},
     "output_type": "display_data"
    }
   ],
   "source": [
    "ηDj = [sum([share_preds[tt,jj]*M[tt]*(1-share_preds[tt,jj])*(θD2*D[tt][positionin[jj,tt],1])*D[tt][positionin[jj,tt],1] for tt in t_indexer[jj]]) / q_preds[jj] for jj in 1:n_firms]"
   ]
  },
  {
   "cell_type": "code",
   "execution_count": null,
   "metadata": {},
   "outputs": [
    {
     "data": {
      "text/plain": [
       "410-element Vector{Float64}:\n",
       "  0.8809502220429122\n",
       "  0.845402291137059\n",
       "  0.8288421368700702\n",
       "  0.5616987130547682\n",
       "  0.8917171872500751\n",
       "  0.46951478346557163\n",
       "  1.134575477035751\n",
       "  1.0414943759429935\n",
       "  0.8260159016430056\n",
       "  1.1190469548121327\n",
       "  ⋮\n",
       "  0.6612041576108612\n",
       "  1.2727885167223525\n",
       "  1.3982544722444579\n",
       " 10.335507327156156\n",
       "  1.1557192850242373\n",
       "  8.967496340864116\n",
       "  0.7360138536748763\n",
       "  1.1357190036318712\n",
       "  0.820450319280087"
      ]
     },
     "metadata": {},
     "output_type": "display_data"
    }
   ],
   "source": [
    "ηDj = [sum([share_preds[tt,jj]*M[tt]*(1-share_preds[tt,jj])*(θD2*D[tt][positionin[jj,tt],1])*D[tt][positionin[jj,tt],1] for tt in t_indexer[jj]]) / q_preds[jj] for jj in 1:n_firms]"
   ]
  },
  {
   "cell_type": "code",
   "execution_count": 118,
   "metadata": {},
   "outputs": [
    {
     "data": {
      "text/plain": [
       "0.9727332061959705"
      ]
     },
     "metadata": {},
     "output_type": "display_data"
    }
   ],
   "source": [
    "mean(ηDj)"
   ]
  },
  {
   "cell_type": "code",
   "execution_count": null,
   "metadata": {},
   "outputs": [],
   "source": []
  }
 ],
 "metadata": {
  "kernelspec": {
   "display_name": "Julia 1.6.1",
   "language": "julia",
   "name": "julia-1.6"
  },
  "language_info": {
   "file_extension": ".jl",
   "mimetype": "application/julia",
   "name": "julia",
   "version": "1.6.1"
  },
  "orig_nbformat": 4
 },
 "nbformat": 4,
 "nbformat_minor": 2
}
