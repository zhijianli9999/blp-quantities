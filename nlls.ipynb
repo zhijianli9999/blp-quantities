{
 "cells": [
  {
   "cell_type": "code",
   "execution_count": 1,
   "metadata": {},
   "outputs": [],
   "source": [
    "using DataFrames, DataFramesMeta, Optim, Revise, Serialization, DebuggingUtilities, LinearAlgebra\n",
    "using JuMP, Ipopt"
   ]
  },
  {
   "cell_type": "code",
   "execution_count": 2,
   "metadata": {},
   "outputs": [],
   "source": [
    "string(@__DIR__) in LOAD_PATH || push!(LOAD_PATH, @__DIR__)\n",
    "using BLPmodule; const m = BLPmodule;"
   ]
  },
  {
   "cell_type": "code",
   "execution_count": 3,
   "metadata": {},
   "outputs": [],
   "source": [
    "ec = deserialize(\"jls/ec_nlls.jls\");\n",
    "n_firms = length(ec.firms);\n",
    "q_obs = ec.q_obs;"
   ]
  },
  {
   "cell_type": "markdown",
   "metadata": {},
   "source": [
    "---\n",
    "### jump"
   ]
  },
  {
   "cell_type": "code",
   "execution_count": 206,
   "metadata": {},
   "outputs": [],
   "source": [
    "t_indexer = [[] for _ in 1:length(ec.firms)]\n",
    "for tt in eachindex(ec.tracts)\n",
    "    for ind in ec.tracts[tt].inds\n",
    "        push!(t_indexer[ind], tt)\n",
    "    end\n",
    "end"
   ]
  },
  {
   "cell_type": "code",
   "execution_count": null,
   "metadata": {},
   "outputs": [],
   "source": [
    "nX = 1\n",
    "nD = 1\n",
    "model = Model(Ipopt.Optimizer)\n",
    "θX = @variable(model, [ii=1:nX])\n",
    "θD = @variable(model, [ii=1:nD])\n",
    "\n"
   ]
  },
  {
   "cell_type": "code",
   "execution_count": 285,
   "metadata": {},
   "outputs": [
    {
     "data": {
      "text/plain": [
       "nlls (generic function with 4 methods)"
      ]
     },
     "execution_count": 285,
     "metadata": {},
     "output_type": "execute_result"
    }
   ],
   "source": [
    "function nlls(n_firms::Int, tracts::Vector, q_obs, t_indexer)\n",
    "\n",
    "    model = Model(Ipopt.Optimizer)\n",
    "    @variable(model, θ[1:2])\n",
    "\n",
    "\n",
    "    n_tracts = length(tracts)\n",
    "    nJ = [t.n_firms for t in tracts]\n",
    "    M_vec = [tracts[t].M for t in eachindex(tracts)]\n",
    "    X_vec = [[hcat(tracts[t].X[j, :], tracts[t].D[j, :]) for j in eachindex(tracts[t].firms)] for t in eachindex(tracts)]\n",
    "\n",
    "    # function util_expr(model, theta, Xt, nJ)\n",
    "    #     return @NLexpression(model, exp.([dot(Xt[jj,:], θ) for jj in 1:nJ]))\n",
    "    # end\n",
    "\n",
    "    # util_expr_vec = [util_expr(model, θ, X_vec[t], nJ[t]) for t in eachindex(tracts)]\n",
    "    # denom_expr_vec = [@NLexpression(model, [j = 1:nJ[t]], 1+sum(util_expr_vec[t])) for t in eachindex(tracts)]\n",
    "    # q_expr_vec = [@NLexpression(model, [j = 1:nJ[t]], util_expr_vec[t]./denom_expr_vec[t] .* M_vec[t]) for t in eachindex(tracts)]\n",
    "\n",
    "    # u = @NLexpression(model, [jj=1:n_firms, tt=1:n_tracts], dot(Xt[jj,tt], θ) for jj in 1:nJ[tt])\n",
    "\n",
    "    # u = @expression(model, [tt=1:n_tracts, jj = 1:nJ[tt]], X_vec[tt][jj] * θ)\n",
    "    # @showln u[1,2]\n",
    "    expu1 = @NLexpression(model, [tt=1:n_tracts, jj = 1:nJ[tt]], exp(X_vec[tt][jj][1] * θ[1]))\n",
    "\n",
    "\n",
    "    q_mat = @variable(model, [t in 1:n_tracts, j in 1:n_firms])\n",
    "\n",
    "    for t in 1:n_tracts\n",
    "        q_mat[t, tracts[t].inds] = @NLexpression(model, [t = tracts[t].inds], 1.)\n",
    "    end\n",
    "\n",
    "    q_vec = @NLexpression(model, [j = 1:n_firms], sum(q_mat[j,which_t[j]]))\n",
    "    @NLobjective(model, Min, reduce(+, (q_obs .- q_vec).^2))\n",
    "\n",
    "    optimize!(model)\n",
    "\n",
    "    return\n",
    "end\n",
    "    "
   ]
  },
  {
   "cell_type": "code",
   "execution_count": null,
   "metadata": {},
   "outputs": [],
   "source": []
  },
  {
   "cell_type": "code",
   "execution_count": 286,
   "metadata": {},
   "outputs": [
    {
     "ename": "LoadError",
     "evalue": "MethodError: \u001b[0mCannot `convert` an object of type \u001b[92mNonlinearExpression\u001b[39m\u001b[0m to an object of type \u001b[91mVariableRef\u001b[39m\n\u001b[0mClosest candidates are:\n\u001b[0m  convert(::Type{T}, \u001b[91m::T\u001b[39m) where T at essentials.jl:205\n\u001b[0m  VariableRef(::Any, \u001b[91m::Any\u001b[39m) at /users/facsupport/zhli/.julia/packages/JuMP/Z1pVn/src/variables.jl:203",
     "output_type": "error",
     "traceback": [
      "MethodError: \u001b[0mCannot `convert` an object of type \u001b[92mNonlinearExpression\u001b[39m\u001b[0m to an object of type \u001b[91mVariableRef\u001b[39m\n\u001b[0mClosest candidates are:\n\u001b[0m  convert(::Type{T}, \u001b[91m::T\u001b[39m) where T at essentials.jl:205\n\u001b[0m  VariableRef(::Any, \u001b[91m::Any\u001b[39m) at /users/facsupport/zhli/.julia/packages/JuMP/Z1pVn/src/variables.jl:203",
      "",
      "Stacktrace:",
      "  [1] setindex!",
      "    @ ./array.jl:841 [inlined]",
      "  [2] macro expansion",
      "    @ ./multidimensional.jl:903 [inlined]",
      "  [3] macro expansion",
      "    @ ./cartesian.jl:64 [inlined]",
      "  [4] _unsafe_setindex!(::IndexLinear, ::Matrix{VariableRef}, ::JuMP.Containers.DenseAxisArray{NonlinearExpression, 1, Tuple{Vector{Int64}}, Tuple{JuMP.Containers._AxisLookup{Dict{Int64, Int64}}}}, ::Int64, ::Vector{Int64})",
      "    @ Base ./multidimensional.jl:898",
      "  [5] _setindex!",
      "    @ ./multidimensional.jl:887 [inlined]",
      "  [6] setindex!",
      "    @ ./abstractarray.jl:1267 [inlined]",
      "  [7] nlls(n_firms::Int64, tracts::Vector{BLPmodule.Tract}, q_obs::Vector{Float64}, t_indexer::Vector{Vector{Any}})",
      "    @ Main ./In[285]:30",
      "  [8] top-level scope",
      "    @ In[286]:1",
      "  [9] eval",
      "    @ ./boot.jl:360 [inlined]",
      " [10] include_string(mapexpr::typeof(REPL.softscope), mod::Module, code::String, filename::String)",
      "    @ Base ./loading.jl:1094"
     ]
    }
   ],
   "source": [
    "nlls(n_firms, ec.tracts, q_obs, t_indexer)"
   ]
  },
  {
   "cell_type": "code",
   "execution_count": null,
   "metadata": {},
   "outputs": [],
   "source": []
  },
  {
   "cell_type": "code",
   "execution_count": null,
   "metadata": {},
   "outputs": [],
   "source": []
  },
  {
   "cell_type": "code",
   "execution_count": 93,
   "metadata": {},
   "outputs": [
    {
     "data": {
      "text/plain": [
       "A JuMP Model\n",
       "Feasibility problem with:\n",
       "Variables: 0\n",
       "Model mode: AUTOMATIC\n",
       "CachingOptimizer state: EMPTY_OPTIMIZER\n",
       "Solver name: Ipopt"
      ]
     },
     "execution_count": 93,
     "metadata": {},
     "output_type": "execute_result"
    }
   ],
   "source": [
    "model = Model(Ipopt.Optimizer)\n"
   ]
  },
  {
   "cell_type": "code",
   "execution_count": 111,
   "metadata": {},
   "outputs": [
    {
     "ename": "LoadError",
     "evalue": "UndefVarError: n_tracts not defined",
     "output_type": "error",
     "traceback": [
      "UndefVarError: n_tracts not defined",
      "",
      "Stacktrace:",
      " [1] macro expansion",
      "   @ ~/.julia/packages/JuMP/Z1pVn/src/macros.jl:138 [inlined]",
      " [2] top-level scope",
      "   @ In[111]:1",
      " [3] eval",
      "   @ ./boot.jl:360 [inlined]",
      " [4] include_string(mapexpr::typeof(REPL.softscope), mod::Module, code::String, filename::String)",
      "   @ Base ./loading.jl:1094"
     ]
    }
   ],
   "source": [
    "@variable(model, u[i = 1:n_tracts, j = 1:n_firms])"
   ]
  },
  {
   "cell_type": "code",
   "execution_count": 110,
   "metadata": {},
   "outputs": [],
   "source": [
    "unregister(model, :u)\n"
   ]
  },
  {
   "cell_type": "markdown",
   "metadata": {},
   "source": [
    "---"
   ]
  },
  {
   "cell_type": "markdown",
   "metadata": {},
   "source": [
    "### optim"
   ]
  },
  {
   "cell_type": "code",
   "execution_count": 120,
   "metadata": {},
   "outputs": [],
   "source": [
    "# closure \n",
    "function closure_nlls(θ2)\n",
    "    ec = deserialize(\"jls/ec_nlls.jls\");\n",
    "    return m.nlls_obj(θ2, n_firms, ec.tracts, q_obs)\n",
    "end;"
   ]
  },
  {
   "cell_type": "code",
   "execution_count": 132,
   "metadata": {},
   "outputs": [
    {
     "data": {
      "text/plain": [
       "4-element Vector{Float64}:\n",
       " 1.0\n",
       " 1.0\n",
       " 1.0\n",
       " 1.0"
      ]
     },
     "execution_count": 132,
     "metadata": {},
     "output_type": "execute_result"
    }
   ],
   "source": [
    "init_θ = ones(4)"
   ]
  },
  {
   "cell_type": "code",
   "execution_count": 133,
   "metadata": {},
   "outputs": [
    {
     "name": "stdout",
     "output_type": "stream",
     "text": [
      "[1.0][1.0, 1.0, 1.0]\n"
     ]
    },
    {
     "data": {
      "text/plain": [
       "5-element Vector{Float64}:\n",
       " 1790.9103193676451\n",
       " 1490.1837794631292\n",
       "  214.6526910438062\n",
       "  617.8090816559302\n",
       " 1365.6500703525512"
      ]
     },
     "execution_count": 133,
     "metadata": {},
     "output_type": "execute_result"
    }
   ],
   "source": [
    "q_pred = m.pred_q(init_θ, n_firms, ec.tracts);\n",
    "q_pred[1:5]"
   ]
  },
  {
   "cell_type": "code",
   "execution_count": 134,
   "metadata": {},
   "outputs": [
    {
     "name": "stdout",
     "output_type": "stream",
     "text": [
      "[1.0][1.0, 1.0, 1.0]\n"
     ]
    },
    {
     "data": {
      "text/plain": [
       "4.0142834009239566e8"
      ]
     },
     "execution_count": 134,
     "metadata": {},
     "output_type": "execute_result"
    }
   ],
   "source": [
    "obj_init = m.nlls_obj(init_θ, n_firms, ec.tracts, q_obs)"
   ]
  },
  {
   "cell_type": "code",
   "execution_count": 135,
   "metadata": {},
   "outputs": [
    {
     "name": "stdout",
     "output_type": "stream",
     "text": [
      "[1.0000060554544523, 1.0][1.0, 1.0]\n",
      "[0.9999939445455476, 1.0][1.0, 1.0]\n",
      "[1.0, 1.0000060554544523][1.0, 1.0]\n",
      "[1.0, 0.9999939445455476][1.0, 1.0]\n",
      "[1.0, 1.0][1.0000060554544523, 1.0]\n",
      "[1.0, 1.0][0.9999939445455476, 1.0]\n",
      "[1.0, 1.0][1.0, 1.0000060554544523]\n",
      "[1.0, 1.0][1.0, 0.9999939445455476]\n",
      "[1.0, 1.0][1.0, 1.0]\n",
      "[-2.5228189706905308e8, -7.616584151922531e7][4769.870075784511, -2997.3069616205266]\n",
      "[-2.5228495245062855e8, -7.616584151922531e7][4769.870075784511, -2997.3069616205266]\n",
      "[-2.5228342475984082e8, -7.616538030044116e7][4769.870075784511, -2997.3069616205266]\n",
      "[-2.5228342475984082e8, -7.616630273800947e7][4769.870075784511, -2997.3069616205266]\n",
      "[-2.5228342475984082e8, -7.616584151922531e7][4769.898959515499, -2997.3069616205266]\n",
      "[-2.5228342475984082e8, -7.616584151922531e7][4769.841192053523, -2997.3069616205266]\n",
      "[-2.5228342475984082e8, -7.616584151922531e7][4769.870075784511, -2997.2888115647406]\n",
      "[-2.5228342475984082e8, -7.616584151922531e7][4769.870075784511, -2997.3251116763126]\n",
      "[-2.5228342475984082e8, -7.616584151922531e7][4769.870075784511, -2997.3069616205266]\n"
     ]
    },
    {
     "data": {
      "text/plain": [
       " * Status: success\n",
       "\n",
       " * Candidate solution\n",
       "    Final objective value:     5.306161e+06\n",
       "\n",
       " * Found with\n",
       "    Algorithm:     L-BFGS\n",
       "\n",
       " * Convergence measures\n",
       "    |x - x'|               = 2.52e+08 ≰ 0.0e+00\n",
       "    |x - x'|/|x'|          = 1.00e+00 ≰ 0.0e+00\n",
       "    |f(x) - f(x')|         = 4.60e+08 ≰ 0.0e+00\n",
       "    |f(x) - f(x')|/|f(x')| = 8.68e+01 ≰ 0.0e+00\n",
       "    |g(x)|                 = 0.00e+00 ≤ 1.0e-08\n",
       "\n",
       " * Work counters\n",
       "    Seconds run:   1  (vs limit Inf)\n",
       "    Iterations:    1\n",
       "    f(x) calls:    2\n",
       "    ∇f(x) calls:   2\n"
      ]
     },
     "execution_count": 135,
     "metadata": {},
     "output_type": "execute_result"
    }
   ],
   "source": [
    "res = optimize(closure_nlls, init_θ, LBFGS())"
   ]
  },
  {
   "cell_type": "code",
   "execution_count": 136,
   "metadata": {},
   "outputs": [
    {
     "data": {
      "text/plain": [
       "4-element Vector{Float64}:\n",
       "    -2.5228342475984082e8\n",
       "    -7.616584151922531e7\n",
       "  4769.870075784511\n",
       " -2997.3069616205266"
      ]
     },
     "execution_count": 136,
     "metadata": {},
     "output_type": "execute_result"
    }
   ],
   "source": [
    "min = Optim.minimizer(res)"
   ]
  },
  {
   "cell_type": "code",
   "execution_count": 137,
   "metadata": {},
   "outputs": [
    {
     "name": "stdout",
     "output_type": "stream",
     "text": [
      "[-2.5228342475984082e8][-7.616584151922531e7, 4769.870075784511, -2997.3069616205266]\n"
     ]
    }
   ],
   "source": [
    "q_pred = m.pred_q(min, n_firms, ec.tracts);"
   ]
  },
  {
   "cell_type": "code",
   "execution_count": 138,
   "metadata": {},
   "outputs": [
    {
     "name": "stdout",
     "output_type": "stream",
     "text": [
      "[0.0, 0.0, 0.0, 0.0, 0.0, 0.0, 0.0, 0.0, 0.0, 0.0, 0.0, 0.0, 0.0, 0.0, 0.0, 0.0, 0.0, 0.0, 0.0, 0.0, 0.0, 0.0, 0.0, 0.0, 0.0, 0.0, 0.0, 0.0, 0.0, 0.0]\n",
      "[80.0, 81.0, 54.0, 55.0, 121.0, 147.0, 158.0, 99.0, 139.0, 45.0, 91.0, 147.0, 86.0, 135.0, 151.0, 122.0, 129.0, 105.0, 85.0, 92.0, 219.0, 225.0, 113.0, 91.0, 69.0, 44.0, 115.0, 87.0, 78.0, 114.0]\n"
     ]
    }
   ],
   "source": [
    "println(q_pred[1:30])\n",
    "println(q_obs[1:30])"
   ]
  },
  {
   "cell_type": "code",
   "execution_count": null,
   "metadata": {},
   "outputs": [],
   "source": []
  }
 ],
 "metadata": {
  "kernelspec": {
   "display_name": "Julia 1.6.1",
   "language": "julia",
   "name": "julia-1.6"
  },
  "language_info": {
   "file_extension": ".jl",
   "mimetype": "application/julia",
   "name": "julia",
   "version": "1.6.1"
  },
  "orig_nbformat": 4
 },
 "nbformat": 4,
 "nbformat_minor": 2
}
