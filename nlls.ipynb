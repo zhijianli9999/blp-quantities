{
 "cells": [
  {
   "cell_type": "code",
   "execution_count": 1,
   "metadata": {},
   "outputs": [],
   "source": [
    "using DataFrames, DataFramesMeta, Optim, Revise, Serialization, DebuggingUtilities, LinearAlgebra, Statistics\n",
    "using JuMP, Ipopt"
   ]
  },
  {
   "cell_type": "code",
   "execution_count": 2,
   "metadata": {},
   "outputs": [],
   "source": [
    "string(@__DIR__) in LOAD_PATH || push!(LOAD_PATH, @__DIR__)\n",
    "using BLPmodule; const m = BLPmodule;"
   ]
  },
  {
   "cell_type": "code",
   "execution_count": 3,
   "metadata": {},
   "outputs": [],
   "source": [
    "test1state = true\n",
    "if test1state \n",
    "    dirpath = \"/export/storage_adgandhi/MiscLi/factract/analysis\"\n",
    "else\n",
    "    dirpath = \"jls\"\n",
    "end;\n",
    "ec = deserialize(\"$dirpath/ec.jls\");"
   ]
  },
  {
   "cell_type": "markdown",
   "metadata": {},
   "source": [
    "---\n",
    "### jump"
   ]
  },
  {
   "cell_type": "code",
   "execution_count": 7,
   "metadata": {},
   "outputs": [],
   "source": [
    "q_obs = ec.q_obs;\n",
    "tracts = ec.tracts;\n",
    "n_firms = length(ec.firms);\n",
    "X = [t.X[:,1:2] for t in tracts];\n",
    "D = [t.D[:,1:2] for t in tracts];"
   ]
  },
  {
   "cell_type": "code",
   "execution_count": 24,
   "metadata": {},
   "outputs": [],
   "source": [
    "j_indexer, t_indexer, positionin = m.create_indices(tracts, n_firms);"
   ]
  },
  {
   "cell_type": "code",
   "execution_count": 20,
   "metadata": {},
   "outputs": [
    {
     "name": "stdout",
     "output_type": "stream",
     "text": [
      "This is Ipopt version 3.14.4, running with linear solver MUMPS 5.4.1.\n",
      "\n",
      "Number of nonzeros in equality constraint Jacobian...:        0\n",
      "Number of nonzeros in inequality constraint Jacobian.:        0\n",
      "Number of nonzeros in Lagrangian Hessian.............:       10\n",
      "\n",
      "Total number of variables............................:        4\n",
      "                     variables with only lower bounds:        0\n",
      "                variables with lower and upper bounds:        0\n",
      "                     variables with only upper bounds:        0\n",
      "Total number of equality constraints.................:        0\n",
      "Total number of inequality constraints...............:        0\n",
      "        inequality constraints with only lower bounds:        0\n",
      "   inequality constraints with lower and upper bounds:        0\n",
      "        inequality constraints with only upper bounds:        0\n",
      "\n",
      "iter    objective    inf_pr   inf_du lg(mu)  ||d||  lg(rg) alpha_du alpha_pr  ls\n",
      "   0  5.1337460e+08 0.00e+00 2.98e+02  -1.0 0.00e+00    -  0.00e+00 0.00e+00   0\n",
      "   1  5.0421815e+08 0.00e+00 3.04e+02  -1.0 3.03e-04   6.0 1.00e+00 1.00e+00f  1\n",
      "   2  4.7405028e+08 0.00e+00 3.18e+02  -1.0 9.65e-04   5.5 1.00e+00 1.00e+00f  1\n",
      "   3  3.7803787e+08 0.00e+00 2.72e+02  -1.0 3.13e-03   5.0 1.00e+00 1.00e+00f  1\n",
      "   4  2.8991346e+08 0.00e+00 1.67e+02  -1.0 4.06e-03   4.6 1.00e+00 1.00e+00f  1\n",
      "   5  9.0314577e+07 0.00e+00 5.87e+02  -1.0 1.54e+00    -  1.00e+00 1.00e+00f  1\n",
      "   6  3.6828750e+07 0.00e+00 4.04e+02  -1.0 6.01e+00    -  1.00e+00 1.25e-01f  4\n",
      "   7  6.8631500e+06 0.00e+00 9.89e+01  -1.0 4.62e-02    -  1.00e+00 1.00e+00f  1\n",
      "   8  2.7543198e+06 0.00e+00 2.90e+01  -1.0 1.91e-01    -  1.00e+00 1.00e+00f  1\n",
      "   9  1.7521688e+06 0.00e+00 1.18e+01  -1.0 2.93e-01    -  1.00e+00 1.00e+00f  1\n",
      "iter    objective    inf_pr   inf_du lg(mu)  ||d||  lg(rg) alpha_du alpha_pr  ls\n",
      "  10  1.4376509e+06 0.00e+00 4.53e+00  -1.0 1.35e-01    -  1.00e+00 1.00e+00f  1\n",
      "  11  1.3626467e+06 0.00e+00 1.27e+00  -1.0 4.25e-02    -  1.00e+00 1.00e+00f  1\n",
      "  12  1.3491332e+06 0.00e+00 3.91e-01  -1.0 3.58e-02    -  1.00e+00 1.00e+00f  1\n",
      "  13  1.3470702e+06 0.00e+00 9.37e-02  -1.7 3.11e-02    -  1.00e+00 1.00e+00f  1\n",
      "  14  1.3469469e+06 0.00e+00 6.97e-03  -2.5 8.62e-03    -  1.00e+00 1.00e+00f  1\n",
      "  15  1.3469461e+06 0.00e+00 4.83e-05  -3.8 7.36e-04    -  1.00e+00 1.00e+00f  1\n",
      "  16  1.3469461e+06 0.00e+00 2.12e-09  -5.7 4.78e-06    -  1.00e+00 1.00e+00f  1\n",
      "\n",
      "Number of Iterations....: 16\n",
      "\n",
      "                                   (scaled)                 (unscaled)\n",
      "Objective...............:   1.3469461441348765e-02    1.3469461441348766e+06\n",
      "Dual infeasibility......:   2.1181041013915093e-09    2.1181041013915092e-01\n",
      "Constraint violation....:   0.0000000000000000e+00    0.0000000000000000e+00\n",
      "Variable bound violation:   0.0000000000000000e+00    0.0000000000000000e+00\n",
      "Complementarity.........:   0.0000000000000000e+00    0.0000000000000000e+00\n",
      "Overall NLP error.......:   2.1181041013915093e-09    2.1181041013915092e-01\n",
      "\n",
      "\n",
      "Number of objective function evaluations             = 24\n",
      "Number of objective gradient evaluations             = 17\n",
      "Number of equality constraint evaluations            = 0\n",
      "Number of inequality constraint evaluations          = 0\n",
      "Number of equality constraint Jacobian evaluations   = 0\n",
      "Number of inequality constraint Jacobian evaluations = 0\n",
      "Number of Lagrangian Hessian evaluations             = 16\n",
      "Total seconds in IPOPT                               = 8.999\n",
      "\n",
      "EXIT: Optimal Solution Found.\n"
     ]
    }
   ],
   "source": [
    "θx, θd, share, mktq, firmq = m.run_nlls(X, D, tracts, n_firms, q_obs);"
   ]
  },
  {
   "cell_type": "code",
   "execution_count": 27,
   "metadata": {},
   "outputs": [],
   "source": [
    "ηDj = m.compute_elasticity(D, θd, share, mktq, firmq, t_indexer, positionin, n_firms);\n",
    "mean(ηDj)"
   ]
  },
  {
   "cell_type": "code",
   "execution_count": 41,
   "metadata": {},
   "outputs": [],
   "source": [
    "X_dc = [t.X[:,1] for t in tracts];\n",
    "X_rn = [t.X[:,2] for t in tracts];"
   ]
  },
  {
   "cell_type": "code",
   "execution_count": 47,
   "metadata": {},
   "outputs": [
    {
     "data": {
      "text/plain": [
       "-1.3835694956144031"
      ]
     },
     "metadata": {},
     "output_type": "display_data"
    }
   ],
   "source": [
    "η_dc = m.compute_elasticity(X_dc, θx[1], share, mktq, t_indexer, positionin, n_firms);\n",
    "mean(η_dc)"
   ]
  },
  {
   "cell_type": "code",
   "execution_count": 48,
   "metadata": {},
   "outputs": [
    {
     "data": {
      "text/plain": [
       "-0.07759582564315447"
      ]
     },
     "metadata": {},
     "output_type": "display_data"
    }
   ],
   "source": [
    "η_rn = m.compute_elasticity(X_rn, θx[2], share, mktq, t_indexer, positionin, n_firms);\n",
    "mean(η_rn)"
   ]
  },
  {
   "cell_type": "code",
   "execution_count": null,
   "metadata": {},
   "outputs": [],
   "source": []
  }
 ],
 "metadata": {
  "kernelspec": {
   "display_name": "Julia 1.6.1",
   "language": "julia",
   "name": "julia-1.6"
  },
  "language_info": {
   "file_extension": ".jl",
   "mimetype": "application/julia",
   "name": "julia",
   "version": "1.6.1"
  },
  "orig_nbformat": 4
 },
 "nbformat": 4,
 "nbformat_minor": 2
}
