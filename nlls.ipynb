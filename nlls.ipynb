{
 "cells": [
  {
   "cell_type": "code",
   "execution_count": 35,
   "metadata": {},
   "outputs": [],
   "source": [
    "using DataFrames, DataFramesMeta, Optim, Revise, Serialization, DebuggingUtilities"
   ]
  },
  {
   "cell_type": "code",
   "execution_count": 36,
   "metadata": {},
   "outputs": [],
   "source": [
    "string(@__DIR__) in LOAD_PATH || push!(LOAD_PATH, @__DIR__)\n",
    "using BLPmodule; const m = BLPmodule;"
   ]
  },
  {
   "cell_type": "code",
   "execution_count": 37,
   "metadata": {},
   "outputs": [],
   "source": [
    "ec = deserialize(\"jls/ec_nlls.jls\");\n",
    "n_firms = length(ec.firms);\n",
    "tracts = ec.tracts;\n",
    "q_obs = ec.q_obs;\n",
    "t = tracts[1];\n",
    "init_θ = zeros(4);"
   ]
  },
  {
   "cell_type": "code",
   "execution_count": 38,
   "metadata": {},
   "outputs": [],
   "source": [
    "q_pred = m.pred_q(init_θ, n_firms, tracts);"
   ]
  },
  {
   "cell_type": "code",
   "execution_count": 39,
   "metadata": {},
   "outputs": [
    {
     "data": {
      "text/plain": [
       "4.0932280912022963e6"
      ]
     },
     "execution_count": 39,
     "metadata": {},
     "output_type": "execute_result"
    }
   ],
   "source": [
    "obj_init = m.nlls_obj(init_θ, n_firms, tracts, q_obs)"
   ]
  },
  {
   "cell_type": "code",
   "execution_count": 40,
   "metadata": {},
   "outputs": [],
   "source": [
    "# closure \n",
    "function closure_nlls(θ2)\n",
    "    return m.nlls_obj(θ2,n_firms, tracts, q_obs)\n",
    "end;"
   ]
  },
  {
   "cell_type": "code",
   "execution_count": 41,
   "metadata": {},
   "outputs": [
    {
     "data": {
      "text/plain": [
       " * Status: failure (line search failed)\n",
       "\n",
       " * Candidate solution\n",
       "    Final objective value:     3.434896e+06\n",
       "\n",
       " * Found with\n",
       "    Algorithm:     L-BFGS\n",
       "\n",
       " * Convergence measures\n",
       "    |x - x'|               = 0.00e+00 ≤ 0.0e+00\n",
       "    |x - x'|/|x'|          = 0.00e+00 ≤ 0.0e+00\n",
       "    |f(x) - f(x')|         = 9.99e+03 ≰ 0.0e+00\n",
       "    |f(x) - f(x')|/|f(x')| = 2.91e-03 ≰ 0.0e+00\n",
       "    |g(x)|                 = 8.70e+08 ≰ 1.0e-08\n",
       "\n",
       " * Work counters\n",
       "    Seconds run:   2  (vs limit Inf)\n",
       "    Iterations:    6\n",
       "    f(x) calls:    126\n",
       "    ∇f(x) calls:   126\n"
      ]
     },
     "execution_count": 41,
     "metadata": {},
     "output_type": "execute_result"
    }
   ],
   "source": [
    "res = optimize(closure_nlls, init_θ, LBFGS())"
   ]
  },
  {
   "cell_type": "code",
   "execution_count": 42,
   "metadata": {},
   "outputs": [
    {
     "data": {
      "text/plain": [
       "4-element Vector{Float64}:\n",
       " -0.062102514319312456\n",
       " -0.13756239297490783\n",
       "  0.08760568486132772\n",
       "  0.019383548734535332"
      ]
     },
     "execution_count": 42,
     "metadata": {},
     "output_type": "execute_result"
    }
   ],
   "source": [
    "Optim.minimizer(res)"
   ]
  },
  {
   "cell_type": "code",
   "execution_count": 43,
   "metadata": {},
   "outputs": [],
   "source": [
    "# sum(t.M for t in tracts)\n",
    "# sum(j.q_obs for j in ec.firms)"
   ]
  },
  {
   "cell_type": "code",
   "execution_count": null,
   "metadata": {},
   "outputs": [],
   "source": [
    "for t in tracts[1:100]\n",
    "    @showln t."
   ]
  }
 ],
 "metadata": {
  "kernelspec": {
   "display_name": "Julia 1.6.1",
   "language": "julia",
   "name": "julia-1.6"
  },
  "language_info": {
   "file_extension": ".jl",
   "mimetype": "application/julia",
   "name": "julia",
   "version": "1.6.1"
  },
  "orig_nbformat": 4
 },
 "nbformat": 4,
 "nbformat_minor": 2
}
