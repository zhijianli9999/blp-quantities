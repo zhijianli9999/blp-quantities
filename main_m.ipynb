{
 "cells": [
  {
   "cell_type": "code",
   "execution_count": 1,
   "metadata": {},
   "outputs": [],
   "source": [
    "using DataFrames, DataFramesMeta, LinearAlgebra, Distributions, Optim, Revise, Plots, CSV, Serialization"
   ]
  },
  {
   "cell_type": "code",
   "execution_count": 2,
   "metadata": {},
   "outputs": [],
   "source": [
    "const datadir = \"/export/storage_adgandhi/MiscLi/factract\";"
   ]
  },
  {
   "cell_type": "code",
   "execution_count": 18,
   "metadata": {},
   "outputs": [],
   "source": [
    "string(@__DIR__) in LOAD_PATH || push!(LOAD_PATH, @__DIR__)\n",
    "using BLPmodule; const m = BLPmodule;"
   ]
  },
  {
   "cell_type": "markdown",
   "metadata": {},
   "source": [
    "## data"
   ]
  },
  {
   "cell_type": "code",
   "execution_count": 4,
   "metadata": {},
   "outputs": [],
   "source": [
    "test1state = true\n",
    "if test1state \n",
    "    data = DataFrame(CSV.File(\"$datadir/analysis/factract_FL.csv\"));\n",
    "else\n",
    "    data = DataFrame(CSV.File(\"$datadir/analysis/factract.csv\"));\n",
    "end;"
   ]
  },
  {
   "cell_type": "code",
   "execution_count": 5,
   "metadata": {},
   "outputs": [],
   "source": [
    "# data[data.tractid .== unique(data.tractid)[1], Cols(r\"id\", \"restot\", \"pop65plus_int\", \"pop65_j\", \"fracpop_inmkt\", \"mktpop\")];"
   ]
  },
  {
   "cell_type": "code",
   "execution_count": 6,
   "metadata": {},
   "outputs": [
    {
     "data": {
      "text/html": [
       "<div class=\"data-frame\"><p>3 rows × 8 columns</p><table class=\"data-frame\"><thead><tr><th></th><th>t</th><th>j</th><th>q</th><th>M</th><th>d</th><th>d2</th><th>x1</th><th>x2</th></tr><tr><th></th><th title=\"Int64\">Int64</th><th title=\"String7\">String7</th><th title=\"Int64\">Int64</th><th title=\"Float64\">Float64</th><th title=\"Float64\">Float64</th><th title=\"Float64\">Float64</th><th title=\"Float64\">Float64</th><th title=\"Float64\">Float64</th></tr></thead><tbody><tr><th>1</th><td>12069030105</td><td>105001</td><td>80</td><td>194.1</td><td>0.085943</td><td>0.00738619</td><td>4.269</td><td>0.285</td></tr><tr><th>2</th><td>12069030203</td><td>105001</td><td>80</td><td>583.0</td><td>0.0539458</td><td>0.00291015</td><td>4.269</td><td>0.285</td></tr><tr><th>3</th><td>12069030204</td><td>105001</td><td>80</td><td>178.4</td><td>0.0128454</td><td>0.000165004</td><td>4.269</td><td>0.285</td></tr></tbody></table></div>"
      ],
      "text/latex": [
       "\\begin{tabular}{r|cccccccc}\n",
       "\t& t & j & q & M & d & d2 & x1 & x2\\\\\n",
       "\t\\hline\n",
       "\t& Int64 & String7 & Int64 & Float64 & Float64 & Float64 & Float64 & Float64\\\\\n",
       "\t\\hline\n",
       "\t1 & 12069030105 & 105001 & 80 & 194.1 & 0.085943 & 0.00738619 & 4.269 & 0.285 \\\\\n",
       "\t2 & 12069030203 & 105001 & 80 & 583.0 & 0.0539458 & 0.00291015 & 4.269 & 0.285 \\\\\n",
       "\t3 & 12069030204 & 105001 & 80 & 178.4 & 0.0128454 & 0.000165004 & 4.269 & 0.285 \\\\\n",
       "\\end{tabular}\n"
      ],
      "text/plain": [
       "\u001b[1m3×8 DataFrame\u001b[0m\n",
       "\u001b[1m Row \u001b[0m│\u001b[1m t           \u001b[0m\u001b[1m j       \u001b[0m\u001b[1m q     \u001b[0m\u001b[1m M       \u001b[0m\u001b[1m d         \u001b[0m\u001b[1m d2          \u001b[0m\u001b[1m x1      \u001b[0m\u001b[1m \u001b[0m ⋯\n",
       "\u001b[1m     \u001b[0m│\u001b[90m Int64       \u001b[0m\u001b[90m String7 \u001b[0m\u001b[90m Int64 \u001b[0m\u001b[90m Float64 \u001b[0m\u001b[90m Float64   \u001b[0m\u001b[90m Float64     \u001b[0m\u001b[90m Float64 \u001b[0m\u001b[90m \u001b[0m ⋯\n",
       "─────┼──────────────────────────────────────────────────────────────────────────\n",
       "   1 │ 12069030105  105001      80    194.1  0.085943   0.00738619     4.269   ⋯\n",
       "   2 │ 12069030203  105001      80    583.0  0.0539458  0.00291015     4.269\n",
       "   3 │ 12069030204  105001      80    178.4  0.0128454  0.000165004    4.269\n",
       "\u001b[36m                                                                1 column omitted\u001b[0m"
      ]
     },
     "metadata": {},
     "output_type": "display_data"
    }
   ],
   "source": [
    "# This is the big dataframe with every fac-tract combination within 10km\n",
    "# println(names(data))\n",
    "df = @select(data, \n",
    "    :t = :tractid, \n",
    "    :j = :facid, \n",
    "    :q = :restot,\n",
    "    :M = :mktpop,\n",
    "    :d = :dist ./ 100, \n",
    "    :d2 = (:dist ./ 100) .^ 2,\n",
    "    :x1 = :dchrppd,\n",
    "    :x2 = :rnhrppd\n",
    ");\n",
    "sort!(df, :j)\n",
    "first(df, 3)"
   ]
  },
  {
   "cell_type": "code",
   "execution_count": 7,
   "metadata": {},
   "outputs": [
    {
     "data": {
      "text/html": [
       "<div class=\"data-frame\"><p>3 rows × 5 columns</p><table class=\"data-frame\"><thead><tr><th></th><th>j</th><th>q</th><th>x1</th><th>x2</th><th>totalM</th></tr><tr><th></th><th title=\"String7\">String7</th><th title=\"Int64\">Int64</th><th title=\"Float64\">Float64</th><th title=\"Float64\">Float64</th><th title=\"Float64\">Float64</th></tr></thead><tbody><tr><th>1</th><td>105001</td><td>80</td><td>4.269</td><td>0.285</td><td>4428.1</td></tr><tr><th>2</th><td>105005</td><td>81</td><td>4.327</td><td>0.839</td><td>14278.2</td></tr><tr><th>3</th><td>105009</td><td>54</td><td>3.948</td><td>0.405</td><td>7710.4</td></tr></tbody></table></div>"
      ],
      "text/latex": [
       "\\begin{tabular}{r|ccccc}\n",
       "\t& j & q & x1 & x2 & totalM\\\\\n",
       "\t\\hline\n",
       "\t& String7 & Int64 & Float64 & Float64 & Float64\\\\\n",
       "\t\\hline\n",
       "\t1 & 105001 & 80 & 4.269 & 0.285 & 4428.1 \\\\\n",
       "\t2 & 105005 & 81 & 4.327 & 0.839 & 14278.2 \\\\\n",
       "\t3 & 105009 & 54 & 3.948 & 0.405 & 7710.4 \\\\\n",
       "\\end{tabular}\n"
      ],
      "text/plain": [
       "\u001b[1m3×5 DataFrame\u001b[0m\n",
       "\u001b[1m Row \u001b[0m│\u001b[1m j       \u001b[0m\u001b[1m q     \u001b[0m\u001b[1m x1      \u001b[0m\u001b[1m x2      \u001b[0m\u001b[1m totalM  \u001b[0m\n",
       "\u001b[1m     \u001b[0m│\u001b[90m String7 \u001b[0m\u001b[90m Int64 \u001b[0m\u001b[90m Float64 \u001b[0m\u001b[90m Float64 \u001b[0m\u001b[90m Float64 \u001b[0m\n",
       "─────┼───────────────────────────────────────────\n",
       "   1 │ 105001      80    4.269    0.285   4428.1\n",
       "   2 │ 105005      81    4.327    0.839  14278.2\n",
       "   3 │ 105009      54    3.948    0.405   7710.4"
      ]
     },
     "metadata": {},
     "output_type": "display_data"
    }
   ],
   "source": [
    "# make a dataframe at the facility level\n",
    "dfj = @combine(groupby(df, :j), \n",
    "    :j = first(:j), \n",
    "    :q = first(:q), \n",
    "    :x1 = first(:x1), \n",
    "    :x2 = first(:x2),\n",
    "    :totalM = sum(:M)\n",
    ")\n",
    "sort!(dfj, :j)\n",
    "first(dfj, 3)"
   ]
  },
  {
   "cell_type": "markdown",
   "metadata": {},
   "source": [
    "---"
   ]
  },
  {
   "cell_type": "code",
   "execution_count": 8,
   "metadata": {},
   "outputs": [],
   "source": [
    "# Data\n",
    "D = hcat(df.d, df.d2); #distances\n",
    "X = hcat(df.x1, df.x2);\n",
    "\n",
    "T = df.t; #tract IDs\n",
    "J = df.j; #facility IDs\n",
    "M = df.M; #tract populations\n",
    "q = dfj.q; #one quantity per facility"
   ]
  },
  {
   "cell_type": "code",
   "execution_count": 9,
   "metadata": {},
   "outputs": [],
   "source": [
    "# Parameters\n",
    "nI = 300; #number of random coefs to draw\n",
    "K = 2; #number of non-linear (distance) characteristics \n",
    "ζ = rand(Normal(0,1), K, nI); #RC\n",
    "# disutility of distance\n",
    "β = [-0.5, -1];"
   ]
  },
  {
   "cell_type": "code",
   "execution_count": 17,
   "metadata": {},
   "outputs": [
    {
     "name": "stdout",
     "output_type": "stream",
     "text": [
      "iterations: 349\n",
      "dist: 9.843108550455781e-10\n",
      " 79.466349 seconds (91.25 M allocations: 126.679 GiB, 6.39% gc time)\n"
     ]
    }
   ],
   "source": [
    "@time deltas = m.compute_deltas(q, D, M, ζ, β, J, T);"
   ]
  },
  {
   "cell_type": "code",
   "execution_count": null,
   "metadata": {},
   "outputs": [],
   "source": []
  },
  {
   "cell_type": "code",
   "execution_count": 11,
   "metadata": {},
   "outputs": [
    {
     "data": {
      "text/plain": [
       "394-element Vector{Float64}:\n",
       "  79.99999999999999\n",
       "  81.00000000000004\n",
       "  53.99999999999997\n",
       "  55.000000000000014\n",
       " 121.00000000000006\n",
       " 146.99999999999994\n",
       " 158.00000000000006\n",
       "  99.00000000000003\n",
       " 138.99999999999997\n",
       "  44.999999999999964\n",
       "   ⋮\n",
       " 144.00000000000006\n",
       "  93.00000000000001\n",
       " 129.99999999999997\n",
       "  59.00000000000003\n",
       "  76.00000000000003\n",
       "  52.00000000000004\n",
       " 250.9999999999998\n",
       "  85.99999999999996\n",
       "  92.00000000000004"
      ]
     },
     "metadata": {},
     "output_type": "display_data"
    }
   ],
   "source": [
    "impliedq = m.compute_quantities(deltas, D, M, ζ, β, J, T)"
   ]
  },
  {
   "cell_type": "code",
   "execution_count": 12,
   "metadata": {},
   "outputs": [
    {
     "data": {
      "text/plain": [
       "true"
      ]
     },
     "metadata": {},
     "output_type": "display_data"
    }
   ],
   "source": [
    "# check convergence\n",
    "all(isapprox(q, impliedq))"
   ]
  },
  {
   "cell_type": "code",
   "execution_count": 13,
   "metadata": {},
   "outputs": [],
   "source": [
    "serialize(\"deltas.jls\", deltas)\n",
    "serialize(\"df.jls\", df)\n",
    "serialize(\"dfj.jls\", dfj)\n",
    "serialize(\"zeta.jls\", ζ)\n",
    "#continued in ./gmm.ipynb\n",
    ";"
   ]
  },
  {
   "cell_type": "code",
   "execution_count": null,
   "metadata": {},
   "outputs": [],
   "source": []
  },
  {
   "cell_type": "markdown",
   "metadata": {},
   "source": []
  }
 ],
 "metadata": {
  "kernelspec": {
   "display_name": "Julia 1.6.1",
   "language": "julia",
   "name": "julia-1.6"
  },
  "language_info": {
   "file_extension": ".jl",
   "mimetype": "application/julia",
   "name": "julia",
   "version": "1.6.1"
  },
  "orig_nbformat": 4,
  "vscode": {
   "interpreter": {
    "hash": "31f2aee4e71d21fbe5cf8b01ff0e069b9275f58929596ceb00d14d90e3e16cd6"
   }
  }
 },
 "nbformat": 4,
 "nbformat_minor": 2
}
