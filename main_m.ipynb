{
 "cells": [
  {
   "cell_type": "code",
   "execution_count": 1,
   "metadata": {},
   "outputs": [],
   "source": [
    "using DataFrames, DataFramesMeta, LinearAlgebra, Distributions, Optim, Revise, Plots, CSV, Serialization"
   ]
  },
  {
   "cell_type": "code",
   "execution_count": 2,
   "metadata": {},
   "outputs": [],
   "source": [
    "const datadir = \"/export/storage_adgandhi/MiscLi/factract\";"
   ]
  },
  {
   "cell_type": "code",
   "execution_count": 3,
   "metadata": {},
   "outputs": [],
   "source": [
    "string(@__DIR__) in LOAD_PATH || push!(LOAD_PATH, @__DIR__)\n",
    "using BLPmodule; const m = BLPmodule;"
   ]
  },
  {
   "cell_type": "markdown",
   "metadata": {},
   "source": [
    "## data"
   ]
  },
  {
   "cell_type": "code",
   "execution_count": 4,
   "metadata": {},
   "outputs": [],
   "source": [
    "test1state = true\n",
    "if test1state \n",
    "    data = DataFrame(CSV.File(\"$datadir/analysis/factract_FL.csv\"));\n",
    "else\n",
    "    data = DataFrame(CSV.File(\"$datadir/analysis/factract.csv\"));\n",
    "end;"
   ]
  },
  {
   "cell_type": "code",
   "execution_count": 5,
   "metadata": {},
   "outputs": [],
   "source": [
    "# data[data.tractid .== unique(data.tractid)[1], Cols(r\"id\", \"restot\", \"pop65plus_int\", \"pop65_j\", \"fracpop_inmkt\", \"mktpop\")];"
   ]
  },
  {
   "cell_type": "code",
   "execution_count": 6,
   "metadata": {},
   "outputs": [
    {
     "data": {
      "text/html": [
       "<div class=\"data-frame\"><p>3 rows × 8 columns</p><table class=\"data-frame\"><thead><tr><th></th><th>t</th><th>j</th><th>q</th><th>M</th><th>d</th><th>d2</th><th>x1</th><th>x2</th></tr><tr><th></th><th title=\"Int64\">Int64</th><th title=\"String7\">String7</th><th title=\"Int64\">Int64</th><th title=\"Float64\">Float64</th><th title=\"Float64\">Float64</th><th title=\"Float64\">Float64</th><th title=\"Float64\">Float64</th><th title=\"Float64\">Float64</th></tr></thead><tbody><tr><th>1</th><td>12069030105</td><td>105001</td><td>80</td><td>194.1</td><td>0.085943</td><td>0.00738619</td><td>4.269</td><td>0.285</td></tr><tr><th>2</th><td>12069030203</td><td>105001</td><td>80</td><td>583.0</td><td>0.0539458</td><td>0.00291015</td><td>4.269</td><td>0.285</td></tr><tr><th>3</th><td>12069030204</td><td>105001</td><td>80</td><td>178.4</td><td>0.0128454</td><td>0.000165004</td><td>4.269</td><td>0.285</td></tr></tbody></table></div>"
      ],
      "text/latex": [
       "\\begin{tabular}{r|cccccccc}\n",
       "\t& t & j & q & M & d & d2 & x1 & x2\\\\\n",
       "\t\\hline\n",
       "\t& Int64 & String7 & Int64 & Float64 & Float64 & Float64 & Float64 & Float64\\\\\n",
       "\t\\hline\n",
       "\t1 & 12069030105 & 105001 & 80 & 194.1 & 0.085943 & 0.00738619 & 4.269 & 0.285 \\\\\n",
       "\t2 & 12069030203 & 105001 & 80 & 583.0 & 0.0539458 & 0.00291015 & 4.269 & 0.285 \\\\\n",
       "\t3 & 12069030204 & 105001 & 80 & 178.4 & 0.0128454 & 0.000165004 & 4.269 & 0.285 \\\\\n",
       "\\end{tabular}\n"
      ],
      "text/plain": [
       "\u001b[1m3×8 DataFrame\u001b[0m\n",
       "\u001b[1m Row \u001b[0m│\u001b[1m t           \u001b[0m\u001b[1m j       \u001b[0m\u001b[1m q     \u001b[0m\u001b[1m M       \u001b[0m\u001b[1m d         \u001b[0m\u001b[1m d2          \u001b[0m\u001b[1m x1      \u001b[0m\u001b[1m \u001b[0m ⋯\n",
       "\u001b[1m     \u001b[0m│\u001b[90m Int64       \u001b[0m\u001b[90m String7 \u001b[0m\u001b[90m Int64 \u001b[0m\u001b[90m Float64 \u001b[0m\u001b[90m Float64   \u001b[0m\u001b[90m Float64     \u001b[0m\u001b[90m Float64 \u001b[0m\u001b[90m \u001b[0m ⋯\n",
       "─────┼──────────────────────────────────────────────────────────────────────────\n",
       "   1 │ 12069030105  105001      80    194.1  0.085943   0.00738619     4.269   ⋯\n",
       "   2 │ 12069030203  105001      80    583.0  0.0539458  0.00291015     4.269\n",
       "   3 │ 12069030204  105001      80    178.4  0.0128454  0.000165004    4.269\n",
       "\u001b[36m                                                                1 column omitted\u001b[0m"
      ]
     },
     "metadata": {},
     "output_type": "display_data"
    }
   ],
   "source": [
    "# This is the big dataframe with every fac-tract combination within 10km\n",
    "# println(names(data))\n",
    "df = @select(data, \n",
    "    :t = :tractid, \n",
    "    :j = :facid, \n",
    "    :q = :restot,\n",
    "    :M = :mktpop,\n",
    "    :d = :dist ./ 100, \n",
    "    :d2 = (:dist ./ 100) .^ 2,\n",
    "    :x1 = :dchrppd,\n",
    "    :x2 = :rnhrppd\n",
    ");\n",
    "sort!(df, :j)\n",
    "first(df, 3)"
   ]
  },
  {
   "cell_type": "code",
   "execution_count": 7,
   "metadata": {},
   "outputs": [
    {
     "data": {
      "text/html": [
       "<div class=\"data-frame\"><p>3 rows × 5 columns</p><table class=\"data-frame\"><thead><tr><th></th><th>j</th><th>q</th><th>x1</th><th>x2</th><th>totalM</th></tr><tr><th></th><th title=\"String7\">String7</th><th title=\"Int64\">Int64</th><th title=\"Float64\">Float64</th><th title=\"Float64\">Float64</th><th title=\"Float64\">Float64</th></tr></thead><tbody><tr><th>1</th><td>105001</td><td>80</td><td>4.269</td><td>0.285</td><td>4428.1</td></tr><tr><th>2</th><td>105005</td><td>81</td><td>4.327</td><td>0.839</td><td>14278.2</td></tr><tr><th>3</th><td>105009</td><td>54</td><td>3.948</td><td>0.405</td><td>7710.4</td></tr></tbody></table></div>"
      ],
      "text/latex": [
       "\\begin{tabular}{r|ccccc}\n",
       "\t& j & q & x1 & x2 & totalM\\\\\n",
       "\t\\hline\n",
       "\t& String7 & Int64 & Float64 & Float64 & Float64\\\\\n",
       "\t\\hline\n",
       "\t1 & 105001 & 80 & 4.269 & 0.285 & 4428.1 \\\\\n",
       "\t2 & 105005 & 81 & 4.327 & 0.839 & 14278.2 \\\\\n",
       "\t3 & 105009 & 54 & 3.948 & 0.405 & 7710.4 \\\\\n",
       "\\end{tabular}\n"
      ],
      "text/plain": [
       "\u001b[1m3×5 DataFrame\u001b[0m\n",
       "\u001b[1m Row \u001b[0m│\u001b[1m j       \u001b[0m\u001b[1m q     \u001b[0m\u001b[1m x1      \u001b[0m\u001b[1m x2      \u001b[0m\u001b[1m totalM  \u001b[0m\n",
       "\u001b[1m     \u001b[0m│\u001b[90m String7 \u001b[0m\u001b[90m Int64 \u001b[0m\u001b[90m Float64 \u001b[0m\u001b[90m Float64 \u001b[0m\u001b[90m Float64 \u001b[0m\n",
       "─────┼───────────────────────────────────────────\n",
       "   1 │ 105001      80    4.269    0.285   4428.1\n",
       "   2 │ 105005      81    4.327    0.839  14278.2\n",
       "   3 │ 105009      54    3.948    0.405   7710.4"
      ]
     },
     "metadata": {},
     "output_type": "display_data"
    }
   ],
   "source": [
    "# make a dataframe at the facility level\n",
    "dfj = @combine(groupby(df, :j), \n",
    "    :j = first(:j), \n",
    "    :q = first(:q), \n",
    "    :x1 = first(:x1), \n",
    "    :x2 = first(:x2),\n",
    "    :totalM = sum(:M)\n",
    ")\n",
    "sort!(dfj, :j)\n",
    "first(dfj, 3)"
   ]
  },
  {
   "cell_type": "markdown",
   "metadata": {},
   "source": [
    "---"
   ]
  },
  {
   "cell_type": "code",
   "execution_count": 15,
   "metadata": {},
   "outputs": [],
   "source": [
    "nI = 100; #number of random coefs to draw\n",
    "K = 2; #number of X (distance) characteristics \n",
    "D = hcat(df.d, df.d2);\n",
    "X = hcat(df.x1, df.x2);\n",
    "\n",
    "ζ = rand(Normal(0,1), K, nI); #RC\n",
    "\n",
    "# disutility of distance\n",
    "β = [-0.5, -1];\n",
    "T = df.t;\n",
    "T_set = unique(T)\n",
    "J = df.j;\n",
    "J_set = unique(J);\n",
    "q = dfj.q; #one per facility\n",
    "M = df.M;"
   ]
  },
  {
   "cell_type": "code",
   "execution_count": 16,
   "metadata": {},
   "outputs": [],
   "source": [
    "using BLPmodule; const m = BLPmodule;"
   ]
  },
  {
   "cell_type": "code",
   "execution_count": 22,
   "metadata": {},
   "outputs": [
    {
     "data": {
      "text/plain": [
       "394-element Vector{Float64}:\n",
       " -3.911959299091234\n",
       " -5.064892392521669\n",
       " -4.819856859211641\n",
       " -4.710411577243193\n",
       " -4.180080761210304\n",
       " -0.10236261505165167\n",
       " -3.48678276642618\n",
       " -3.5827049034108613\n",
       " -2.863070610111901\n",
       " -5.301823768149701\n",
       "  ⋮\n",
       " -3.4996620669818777\n",
       " -3.1935651808396583\n",
       " -3.378678382647972\n",
       " -0.5174151200787867\n",
       " -0.7759905114065155\n",
       " -4.374358116633607\n",
       " -3.8483235045133215\n",
       " -3.9405503096011945\n",
       " -4.024411871632947"
      ]
     },
     "metadata": {},
     "output_type": "display_data"
    }
   ],
   "source": [
    "deltas = m.compute_deltas(q, D, M, ζ, β, J, J_set, T, T_set);"
   ]
  },
  {
   "cell_type": "code",
   "execution_count": 30,
   "metadata": {},
   "outputs": [],
   "source": [
    "# just describing the deltas\n",
    "# describe(DataFrame(deltas = deltas), :mean, :min, :q25, :median, :q75, :max)"
   ]
  },
  {
   "cell_type": "code",
   "execution_count": 31,
   "metadata": {},
   "outputs": [
    {
     "data": {
      "text/plain": [
       "394-element Vector{Float64}:\n",
       "  79.99999999999999\n",
       "  81.00000000000003\n",
       "  54.0\n",
       "  54.99999999999999\n",
       " 121.00000000000009\n",
       " 146.99999999999997\n",
       " 158.00000000000006\n",
       "  98.99999999999996\n",
       " 138.99999999999994\n",
       "  44.99999999999997\n",
       "   ⋮\n",
       " 144.0\n",
       "  93.00000000000007\n",
       " 129.99999999999997\n",
       "  59.00000000000003\n",
       "  76.0\n",
       "  51.99999999999998\n",
       " 250.99999999999994\n",
       "  85.99999999999997\n",
       "  92.00000000000004"
      ]
     },
     "metadata": {},
     "output_type": "display_data"
    }
   ],
   "source": [
    "impliedq = m.q(deltas, D, M, ζ, β, J, J_set, T, T_set)"
   ]
  },
  {
   "cell_type": "code",
   "execution_count": 32,
   "metadata": {},
   "outputs": [
    {
     "data": {
      "text/plain": [
       "true"
      ]
     },
     "metadata": {},
     "output_type": "display_data"
    }
   ],
   "source": [
    "all(isapprox(dfj.q, impliedq))"
   ]
  },
  {
   "cell_type": "code",
   "execution_count": 183,
   "metadata": {},
   "outputs": [
    {
     "data": {
      "text/html": [
       "<div class=\"data-frame\"><p>3 rows × 7 columns</p><table class=\"data-frame\"><thead><tr><th></th><th>variable</th><th>mean</th><th>min</th><th>q25</th><th>median</th><th>q75</th><th>max</th></tr><tr><th></th><th title=\"Symbol\">Symbol</th><th title=\"Float64\">Float64</th><th title=\"Real\">Real</th><th title=\"Float64\">Float64</th><th title=\"Float64\">Float64</th><th title=\"Float64\">Float64</th><th title=\"Real\">Real</th></tr></thead><tbody><tr><th>1</th><td>d</td><td>0.061227</td><td>0.000182547</td><td>0.0419854</td><td>0.0639865</td><td>0.0824626</td><td>0.0999968</td></tr><tr><th>2</th><td>q</td><td>113.566</td><td>20</td><td>92.0</td><td>109.0</td><td>118.0</td><td>276</td></tr><tr><th>3</th><td>M</td><td>99.2366</td><td>0.2</td><td>52.3</td><td>79.4</td><td>124.1</td><td>3030.5</td></tr></tbody></table></div>"
      ],
      "text/latex": [
       "\\begin{tabular}{r|ccccccc}\n",
       "\t& variable & mean & min & q25 & median & q75 & max\\\\\n",
       "\t\\hline\n",
       "\t& Symbol & Float64 & Real & Float64 & Float64 & Float64 & Real\\\\\n",
       "\t\\hline\n",
       "\t1 & d & 0.061227 & 0.000182547 & 0.0419854 & 0.0639865 & 0.0824626 & 0.0999968 \\\\\n",
       "\t2 & q & 113.566 & 20 & 92.0 & 109.0 & 118.0 & 276 \\\\\n",
       "\t3 & M & 99.2366 & 0.2 & 52.3 & 79.4 & 124.1 & 3030.5 \\\\\n",
       "\\end{tabular}\n"
      ],
      "text/plain": [
       "\u001b[1m3×7 DataFrame\u001b[0m\n",
       "\u001b[1m Row \u001b[0m│\u001b[1m variable \u001b[0m\u001b[1m mean       \u001b[0m\u001b[1m min          \u001b[0m\u001b[1m q25        \u001b[0m\u001b[1m median      \u001b[0m\u001b[1m q75       \u001b[0m ⋯\n",
       "\u001b[1m     \u001b[0m│\u001b[90m Symbol   \u001b[0m\u001b[90m Float64    \u001b[0m\u001b[90m Real         \u001b[0m\u001b[90m Float64    \u001b[0m\u001b[90m Float64     \u001b[0m\u001b[90m Float64   \u001b[0m ⋯\n",
       "─────┼──────────────────────────────────────────────────────────────────────────\n",
       "   1 │ d           0.061227   0.000182547   0.0419854    0.0639865    0.082462 ⋯\n",
       "   2 │ q         113.566     20            92.0        109.0        118.0\n",
       "   3 │ M          99.2366     0.2          52.3         79.4        124.1\n",
       "\u001b[36m                                                               2 columns omitted\u001b[0m"
      ]
     },
     "metadata": {},
     "output_type": "display_data"
    }
   ],
   "source": [
    "describe(df, :mean, :min, :q25, :median, :q75, :max, cols = [:d, :q, :M])"
   ]
  },
  {
   "cell_type": "code",
   "execution_count": 190,
   "metadata": {},
   "outputs": [
    {
     "data": {
      "text/html": [
       "<div class=\"data-frame\"><p>1 rows × 5 columns</p><table class=\"data-frame\"><thead><tr><th></th><th>j</th><th>q</th><th>x1</th><th>x2</th><th>totalM</th></tr><tr><th></th><th title=\"String7\">String7</th><th title=\"Int64\">Int64</th><th title=\"Float64\">Float64</th><th title=\"Float64\">Float64</th><th title=\"Float64\">Float64</th></tr></thead><tbody><tr><th>1</th><td>105140</td><td>225</td><td>4.008</td><td>0.454</td><td>4601.4</td></tr></tbody></table></div>"
      ],
      "text/latex": [
       "\\begin{tabular}{r|ccccc}\n",
       "\t& j & q & x1 & x2 & totalM\\\\\n",
       "\t\\hline\n",
       "\t& String7 & Int64 & Float64 & Float64 & Float64\\\\\n",
       "\t\\hline\n",
       "\t1 & 105140 & 225 & 4.008 & 0.454 & 4601.4 \\\\\n",
       "\\end{tabular}\n"
      ],
      "text/plain": [
       "\u001b[1m1×5 DataFrame\u001b[0m\n",
       "\u001b[1m Row \u001b[0m│\u001b[1m j       \u001b[0m\u001b[1m q     \u001b[0m\u001b[1m x1      \u001b[0m\u001b[1m x2      \u001b[0m\u001b[1m totalM  \u001b[0m\n",
       "\u001b[1m     \u001b[0m│\u001b[90m String7 \u001b[0m\u001b[90m Int64 \u001b[0m\u001b[90m Float64 \u001b[0m\u001b[90m Float64 \u001b[0m\u001b[90m Float64 \u001b[0m\n",
       "─────┼───────────────────────────────────────────\n",
       "   1 │ 105140     225    4.008    0.454   4601.4"
      ]
     },
     "metadata": {},
     "output_type": "display_data"
    }
   ],
   "source": [
    "dfj[dfj.j.==problem_j,:]"
   ]
  },
  {
   "cell_type": "code",
   "execution_count": null,
   "metadata": {},
   "outputs": [
    {
     "data": {
      "text/html": [
       "<div class=\"data-frame\"><p>3 rows × 7 columns</p><table class=\"data-frame\"><thead><tr><th></th><th>variable</th><th>mean</th><th>min</th><th>q25</th><th>median</th><th>q75</th><th>max</th></tr><tr><th></th><th title=\"Symbol\">Symbol</th><th title=\"Float64\">Float64</th><th title=\"Real\">Real</th><th title=\"Float64\">Float64</th><th title=\"Float64\">Float64</th><th title=\"Float64\">Float64</th><th title=\"Real\">Real</th></tr></thead><tbody><tr><th>1</th><td>d</td><td>0.0623871</td><td>0.00509142</td><td>0.0428195</td><td>0.069729</td><td>0.0851876</td><td>0.0997734</td></tr><tr><th>2</th><td>q</td><td>225.0</td><td>225</td><td>225.0</td><td>225.0</td><td>225.0</td><td>225</td></tr><tr><th>3</th><td>M</td><td>50.5648</td><td>1.4</td><td>29.95</td><td>48.4</td><td>66.0</td><td>117.2</td></tr></tbody></table></div>"
      ],
      "text/latex": [
       "\\begin{tabular}{r|ccccccc}\n",
       "\t& variable & mean & min & q25 & median & q75 & max\\\\\n",
       "\t\\hline\n",
       "\t& Symbol & Float64 & Real & Float64 & Float64 & Float64 & Real\\\\\n",
       "\t\\hline\n",
       "\t1 & d & 0.0623871 & 0.00509142 & 0.0428195 & 0.069729 & 0.0851876 & 0.0997734 \\\\\n",
       "\t2 & q & 225.0 & 225 & 225.0 & 225.0 & 225.0 & 225 \\\\\n",
       "\t3 & M & 50.5648 & 1.4 & 29.95 & 48.4 & 66.0 & 117.2 \\\\\n",
       "\\end{tabular}\n"
      ],
      "text/plain": [
       "\u001b[1m3×7 DataFrame\u001b[0m\n",
       "\u001b[1m Row \u001b[0m│\u001b[1m variable \u001b[0m\u001b[1m mean        \u001b[0m\u001b[1m min          \u001b[0m\u001b[1m q25         \u001b[0m\u001b[1m median     \u001b[0m\u001b[1m q75      \u001b[0m ⋯\n",
       "\u001b[1m     \u001b[0m│\u001b[90m Symbol   \u001b[0m\u001b[90m Float64     \u001b[0m\u001b[90m Real         \u001b[0m\u001b[90m Float64     \u001b[0m\u001b[90m Float64    \u001b[0m\u001b[90m Float64  \u001b[0m ⋯\n",
       "─────┼──────────────────────────────────────────────────────────────────────────\n",
       "   1 │ d           0.0623871    0.00509142    0.0428195    0.069729    0.08518 ⋯\n",
       "   2 │ q         225.0        225           225.0        225.0       225.0\n",
       "   3 │ M          50.5648       1.4          29.95        48.4        66.0\n",
       "\u001b[36m                                                               2 columns omitted\u001b[0m"
      ]
     },
     "metadata": {},
     "output_type": "display_data"
    }
   ],
   "source": [
    "describe(df[J.==problem_j, :], :mean, :min, :q25, :median, :q75, :max, cols = [:d, :q, :M])"
   ]
  },
  {
   "cell_type": "code",
   "execution_count": 138,
   "metadata": {},
   "outputs": [
    {
     "data": {
      "text/html": [
       "<div class=\"data-frame\"><p>3 rows × 5 columns</p><table class=\"data-frame\"><thead><tr><th></th><th>variable</th><th>mean</th><th>median</th><th>min</th><th>max</th></tr><tr><th></th><th title=\"Symbol\">Symbol</th><th title=\"Float64\">Float64</th><th title=\"Float64\">Float64</th><th title=\"Real\">Real</th><th title=\"Real\">Real</th></tr></thead><tbody><tr><th>1</th><td>d</td><td>0.115343</td><td>0.118155</td><td>0.000182547</td><td>0.199999</td></tr><tr><th>2</th><td>q</td><td>113.293</td><td>109.0</td><td>20</td><td>276</td></tr><tr><th>3</th><td>M</td><td>104.066</td><td>82.6</td><td>0.2</td><td>3030.5</td></tr></tbody></table></div>"
      ],
      "text/latex": [
       "\\begin{tabular}{r|ccccc}\n",
       "\t& variable & mean & median & min & max\\\\\n",
       "\t\\hline\n",
       "\t& Symbol & Float64 & Float64 & Real & Real\\\\\n",
       "\t\\hline\n",
       "\t1 & d & 0.115343 & 0.118155 & 0.000182547 & 0.199999 \\\\\n",
       "\t2 & q & 113.293 & 109.0 & 20 & 276 \\\\\n",
       "\t3 & M & 104.066 & 82.6 & 0.2 & 3030.5 \\\\\n",
       "\\end{tabular}\n"
      ],
      "text/plain": [
       "\u001b[1m3×5 DataFrame\u001b[0m\n",
       "\u001b[1m Row \u001b[0m│\u001b[1m variable \u001b[0m\u001b[1m mean       \u001b[0m\u001b[1m median     \u001b[0m\u001b[1m min          \u001b[0m\u001b[1m max         \u001b[0m\n",
       "\u001b[1m     \u001b[0m│\u001b[90m Symbol   \u001b[0m\u001b[90m Float64    \u001b[0m\u001b[90m Float64    \u001b[0m\u001b[90m Real         \u001b[0m\u001b[90m Real        \u001b[0m\n",
       "─────┼─────────────────────────────────────────────────────────────\n",
       "   1 │ d           0.115343    0.118155   0.000182547     0.199999\n",
       "   2 │ q         113.293     109.0       20             276\n",
       "   3 │ M         104.066      82.6        0.2          3030.5"
      ]
     },
     "metadata": {},
     "output_type": "display_data"
    }
   ],
   "source": [
    "describe(df, :mean, :median, :min, :max, cols = [:d, :q, :M])"
   ]
  },
  {
   "cell_type": "code",
   "execution_count": null,
   "metadata": {},
   "outputs": [],
   "source": []
  },
  {
   "cell_type": "code",
   "execution_count": 28,
   "metadata": {},
   "outputs": [],
   "source": [
    "println(mean(isapprox.(impliedq[.!nanind], dfj.q[.!nanind])))\n",
    "println(mean(abs.(impliedq[.!nanind] .- dfj.q[.!nanind])))"
   ]
  },
  {
   "cell_type": "code",
   "execution_count": 201,
   "metadata": {},
   "outputs": [
    {
     "data": {
      "text/html": [
       "<div class=\"data-frame\"><p>1 rows × 7 columns</p><table class=\"data-frame\"><thead><tr><th></th><th>variable</th><th>mean</th><th>min</th><th>median</th><th>max</th><th>nmissing</th><th>eltype</th></tr><tr><th></th><th title=\"Symbol\">Symbol</th><th title=\"Float64\">Float64</th><th title=\"Float64\">Float64</th><th title=\"Float64\">Float64</th><th title=\"Float64\">Float64</th><th title=\"Int64\">Int64</th><th title=\"DataType\">DataType</th></tr></thead><tbody><tr><th>1</th><td>diff</td><td>17.2455</td><td>0.0</td><td>8.52651e-14</td><td>191.399</td><td>0</td><td>Float64</td></tr></tbody></table></div>"
      ],
      "text/latex": [
       "\\begin{tabular}{r|ccccccc}\n",
       "\t& variable & mean & min & median & max & nmissing & eltype\\\\\n",
       "\t\\hline\n",
       "\t& Symbol & Float64 & Float64 & Float64 & Float64 & Int64 & DataType\\\\\n",
       "\t\\hline\n",
       "\t1 & diff & 17.2455 & 0.0 & 8.52651e-14 & 191.399 & 0 & Float64 \\\\\n",
       "\\end{tabular}\n"
      ],
      "text/plain": [
       "\u001b[1m1×7 DataFrame\u001b[0m\n",
       "\u001b[1m Row \u001b[0m│\u001b[1m variable \u001b[0m\u001b[1m mean    \u001b[0m\u001b[1m min     \u001b[0m\u001b[1m median      \u001b[0m\u001b[1m max     \u001b[0m\u001b[1m nmissing \u001b[0m\u001b[1m eltype   \u001b[0m\n",
       "\u001b[1m     \u001b[0m│\u001b[90m Symbol   \u001b[0m\u001b[90m Float64 \u001b[0m\u001b[90m Float64 \u001b[0m\u001b[90m Float64     \u001b[0m\u001b[90m Float64 \u001b[0m\u001b[90m Int64    \u001b[0m\u001b[90m DataType \u001b[0m\n",
       "─────┼──────────────────────────────────────────────────────────────────────\n",
       "   1 │ diff      17.2455      0.0  8.52651e-14  191.399         0  Float64"
      ]
     },
     "metadata": {},
     "output_type": "display_data"
    }
   ],
   "source": [
    "describe(DataFrame(diff = (abs.(impliedq[.!nanind] .- dfj.q[.!nanind]))))"
   ]
  },
  {
   "cell_type": "code",
   "execution_count": null,
   "metadata": {},
   "outputs": [],
   "source": []
  },
  {
   "cell_type": "code",
   "execution_count": 94,
   "metadata": {},
   "outputs": [],
   "source": [
    "serialize(\"deltas.jls\", deltas)\n",
    "serialize(\"df.jls\", df)\n",
    "serialize(\"dfj.jls\", dfj)\n",
    "#continued in ./gmm.ipynb"
   ]
  },
  {
   "cell_type": "code",
   "execution_count": null,
   "metadata": {},
   "outputs": [],
   "source": []
  }
 ],
 "metadata": {
  "kernelspec": {
   "display_name": "Julia 1.6.1",
   "language": "julia",
   "name": "julia-1.6"
  },
  "language_info": {
   "file_extension": ".jl",
   "mimetype": "application/julia",
   "name": "julia",
   "version": "1.6.1"
  },
  "orig_nbformat": 4,
  "vscode": {
   "interpreter": {
    "hash": "31f2aee4e71d21fbe5cf8b01ff0e069b9275f58929596ceb00d14d90e3e16cd6"
   }
  }
 },
 "nbformat": 4,
 "nbformat_minor": 2
}
