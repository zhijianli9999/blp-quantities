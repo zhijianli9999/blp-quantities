{
 "cells": [
  {
   "cell_type": "code",
   "execution_count": 1,
   "metadata": {},
   "outputs": [],
   "source": [
    "using DataFrames, DataFramesMeta, Revise, Serialization"
   ]
  },
  {
   "cell_type": "code",
   "execution_count": 2,
   "metadata": {},
   "outputs": [],
   "source": [
    "const datadir = \"/export/storage_adgandhi/MiscLi/factract\";"
   ]
  },
  {
   "cell_type": "code",
   "execution_count": 20,
   "metadata": {},
   "outputs": [],
   "source": [
    "string(@__DIR__) in LOAD_PATH || push!(LOAD_PATH, @__DIR__)\n",
    "using BLPmodule; const m = BLPmodule;"
   ]
  },
  {
   "cell_type": "code",
   "execution_count": 4,
   "metadata": {},
   "outputs": [],
   "source": [
    "df = deserialize(\"df.jls\");"
   ]
  },
  {
   "cell_type": "code",
   "execution_count": 6,
   "metadata": {},
   "outputs": [],
   "source": [
    "J_IDs = convert(Vector, df.j)\n",
    "T_IDs = df.t;"
   ]
  },
  {
   "cell_type": "code",
   "execution_count": 7,
   "metadata": {},
   "outputs": [],
   "source": [
    "X = Matrix{Float64}(df[!, [:x1, :x2]])\n",
    "D = Matrix{Float64}(df[!, [:d, :d2]])\n",
    "Q = df.q\n",
    "M = df.M;"
   ]
  },
  {
   "cell_type": "code",
   "execution_count": 21,
   "metadata": {},
   "outputs": [
    {
     "ename": "MethodError",
     "evalue": "MethodError: no method matching Firm(::Int64, ::Vector{Int64}, ::Matrix{Float64}, ::Matrix{Float64}, ::Float64)",
     "output_type": "error",
     "traceback": [
      "MethodError: no method matching Firm(::Int64, ::Vector{Int64}, ::Matrix{Float64}, ::Matrix{Float64}, ::Float64)\n",
      "\n",
      "Stacktrace:\n",
      " [1] top-level scope\n",
      "   @ ~/blp-quantities/scratch_structs.ipynb:2"
     ]
    }
   ],
   "source": [
    "# fte = m.Firm(quantity= 1, tracts = [1,2], X = X, D = D, δ = 1.)\n",
    "fte = Firm(1,  [1,2], X,  D,  1.)"
   ]
  },
  {
   "cell_type": "code",
   "execution_count": 10,
   "metadata": {},
   "outputs": [
    {
     "name": "stdout",
     "output_type": "stream",
     "text": [
      "Vector{"
     ]
    },
    {
     "name": "stdout",
     "output_type": "stream",
     "text": [
      "String7}"
     ]
    },
    {
     "name": "stdout",
     "output_type": "stream",
     "text": [
      "\n",
      "Vector{Int64}\n",
      "Matrix{Float64}\n",
      "Matrix{Float64}\n",
      "Vector{Int64}\n",
      "Vector{Float64}\n"
     ]
    }
   ],
   "source": [
    "for it in (    J_IDs,\n",
    "    T_IDs,\n",
    "    X,\n",
    "    D,\n",
    "    Q,\n",
    "    M)\n",
    "    println(typeof(it))\n",
    "end"
   ]
  },
  {
   "cell_type": "code",
   "execution_count": 12,
   "metadata": {},
   "outputs": [
    {
     "data": {
      "text/plain": [
       "true"
      ]
     },
     "metadata": {},
     "output_type": "display_data"
    }
   ],
   "source": [
    "J_IDs isa Vector"
   ]
  },
  {
   "cell_type": "code",
   "execution_count": 17,
   "metadata": {},
   "outputs": [
    {
     "ename": "MethodError",
     "evalue": "MethodError: no method matching make_Economy(::Vector{String7}, ::Vector{Int64}, ::Matrix{Float64}, ::Matrix{Float64}, ::Vector{Int64}, ::Vector{Float64})",
     "output_type": "error",
     "traceback": [
      "MethodError: no method matching make_Economy(::Vector{String7}, ::Vector{Int64}, ::Matrix{Float64}, ::Matrix{Float64}, ::Vector{Int64}, ::Vector{Float64})\n",
      "\n",
      "Stacktrace:\n",
      " [1] top-level scope\n",
      "   @ ~/blp-quantities/scratch_structs.ipynb:1"
     ]
    }
   ],
   "source": [
    "ec = make_Economy(\n",
    "    J_IDs,\n",
    "    T_IDs,\n",
    "    X,\n",
    "    D,\n",
    "    Q,\n",
    "    M\n",
    "    )"
   ]
  },
  {
   "cell_type": "code",
   "execution_count": 25,
   "metadata": {},
   "outputs": [
    {
     "name": "stdout",
     "output_type": "stream",
     "text": [
      "PooledArrays.PooledVector{String7, UInt32, Vector{UInt32}}\n"
     ]
    }
   ],
   "source": [
    "println(typeof(J_IDs))"
   ]
  },
  {
   "cell_type": "code",
   "execution_count": null,
   "metadata": {},
   "outputs": [],
   "source": [
    "println(typeof(T_IDs))\n",
    "println(typeof(X))\n",
    "println(typeof(D))\n",
    "println(typeof(Q))\n",
    "println(typeof(M))"
   ]
  },
  {
   "cell_type": "code",
   "execution_count": null,
   "metadata": {},
   "outputs": [],
   "source": []
  }
 ],
 "metadata": {
  "kernelspec": {
   "display_name": "Julia 1.6.1",
   "language": "julia",
   "name": "julia-1.6"
  },
  "language_info": {
   "file_extension": ".jl",
   "mimetype": "application/julia",
   "name": "julia",
   "version": "1.6.1"
  },
  "orig_nbformat": 4,
  "vscode": {
   "interpreter": {
    "hash": "8f874cb96a7fdce6260903239cd4ccff59f9cd40f07ae8042efeb94d5942b24b"
   }
  }
 },
 "nbformat": 4,
 "nbformat_minor": 2
}
