{
 "cells": [
  {
   "cell_type": "code",
   "execution_count": 1,
   "metadata": {},
   "outputs": [],
   "source": [
    "using DataFrames, Revise, Serialization, Parameters"
   ]
  },
  {
   "cell_type": "code",
   "execution_count": 2,
   "metadata": {},
   "outputs": [],
   "source": [
    "# using DebuggingUtilities, ProfileSVG"
   ]
  },
  {
   "cell_type": "code",
   "execution_count": 3,
   "metadata": {},
   "outputs": [],
   "source": [
    "# const datadir = \"/export/storage_adgandhi/MiscLi/factract\";"
   ]
  },
  {
   "cell_type": "code",
   "execution_count": 4,
   "metadata": {},
   "outputs": [],
   "source": [
    "string(@__DIR__) in LOAD_PATH || push!(LOAD_PATH, @__DIR__)\n",
    "using BLPmodule; const m = BLPmodule;"
   ]
  },
  {
   "cell_type": "code",
   "execution_count": 5,
   "metadata": {},
   "outputs": [],
   "source": [
    "df = deserialize(\"df.jls\");"
   ]
  },
  {
   "cell_type": "code",
   "execution_count": 6,
   "metadata": {},
   "outputs": [],
   "source": [
    "firm_IDs_long = df.j\n",
    "tract_IDs_long = df.t;\n",
    "X = Matrix{Float64}(df[!, [:x1, :x2]])\n",
    "D = Matrix{Float64}(df[!, [:d, :d2]])\n",
    "Q = df.q\n",
    "M = df.M;"
   ]
  },
  {
   "cell_type": "code",
   "execution_count": 7,
   "metadata": {},
   "outputs": [],
   "source": [
    "pars = m.set_Pars(K = 2, nI = 100, β = [-1., -2.]);"
   ]
  },
  {
   "cell_type": "code",
   "execution_count": 8,
   "metadata": {},
   "outputs": [
    {
     "name": "stdout",
     "output_type": "stream",
     "text": [
      "Economy with 394 firms and 3110 tracts.\n"
     ]
    }
   ],
   "source": [
    "ec = m.make_Economy(\n",
    "    firm_IDs_long,\n",
    "    tract_IDs_long,\n",
    "    X,\n",
    "    D,\n",
    "    Q,\n",
    "    M,\n",
    "    pars\n",
    "    );\n",
    "serialize(\"ec.jls\", ec)"
   ]
  },
  {
   "cell_type": "code",
   "execution_count": 15,
   "metadata": {},
   "outputs": [
    {
     "name": "stdout",
     "output_type": "stream",
     "text": [
      "dist = 2.0226379143397852\n",
      "counter = 2\n",
      "(in /users/facsupport/zhli/blp-quantities/BLPmodule/solve_s.jl:80)\n",
      "  1.211834 seconds (12.98 M allocations: 1.508 GiB, 31.35% gc time, 1.78% compilation time)\n"
     ]
    },
    {
     "name": "stdout",
     "output_type": "stream",
     "text": [
      "dist = 9.806069825479824e-6\n",
      "counter = 215\n",
      "(in /users/facsupport/zhli/blp-quantities/BLPmodule/solve_s.jl:80)\n",
      " 96.635485 seconds (1.39 G allocations: 161.991 GiB, 23.39% gc time)\n"
     ]
    },
    {
     "data": {
      "text/plain": [
       "394×1 Matrix{Float64}:\n",
       " -3.8452687628916116\n",
       " -4.989972215990723\n",
       " -4.747603799864409\n",
       " -4.641937960209068\n",
       " -4.10538801990488\n",
       " -0.006294418676866919\n",
       " -3.406558983027918\n",
       " -3.5085299199722075\n",
       " -2.7961919966037376\n",
       " -5.223756627453453\n",
       "  ⋮\n",
       " -3.4302117954546354\n",
       " -3.124354210970127\n",
       " -3.3150621230210344\n",
       " -0.4743176408204559\n",
       " -0.6619937116747557\n",
       " -4.309687723434749\n",
       " -3.7751315100705685\n",
       " -3.8650347642046494\n",
       " -3.947474392958067"
      ]
     },
     "metadata": {},
     "output_type": "display_data"
    }
   ],
   "source": [
    "ec = deserialize(\"ec.jls\");\n",
    "@time m.compute_deltas(ec,max_iter=1)\n",
    "@time m.compute_deltas(ec,max_iter=1000)\n",
    "# ProfileSVG.view(yflip = true)"
   ]
  },
  {
   "cell_type": "code",
   "execution_count": 16,
   "metadata": {},
   "outputs": [
    {
     "data": {
      "text/plain": [
       "394×1 Matrix{Float64}:\n",
       "  80.00000000000003\n",
       "  80.99999999911618\n",
       "  53.999999999999964\n",
       "  55.0\n",
       " 120.99999999999996\n",
       " 147.0\n",
       " 158.0\n",
       "  99.00000000000001\n",
       " 138.99999999999994\n",
       "  44.99999999999939\n",
       "   ⋮\n",
       " 144.0\n",
       "  93.00000000000001\n",
       " 129.99999999999997\n",
       "  59.0\n",
       "  76.0\n",
       "  51.999999999999986\n",
       " 250.9999999999234\n",
       "  86.00000000000001\n",
       "  92.00000000000001"
      ]
     },
     "metadata": {},
     "output_type": "display_data"
    }
   ],
   "source": [
    "sum(ec.q_mat, dims=2)"
   ]
  },
  {
   "cell_type": "code",
   "execution_count": null,
   "metadata": {},
   "outputs": [],
   "source": []
  }
 ],
 "metadata": {
  "kernelspec": {
   "display_name": "Julia 1.6.1",
   "language": "julia",
   "name": "julia-1.6"
  },
  "language_info": {
   "file_extension": ".jl",
   "mimetype": "application/julia",
   "name": "julia",
   "version": "1.6.1"
  },
  "orig_nbformat": 4,
  "vscode": {
   "interpreter": {
    "hash": "8f874cb96a7fdce6260903239cd4ccff59f9cd40f07ae8042efeb94d5942b24b"
   }
  }
 },
 "nbformat": 4,
 "nbformat_minor": 2
}
