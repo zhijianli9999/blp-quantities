{
 "cells": [
  {
   "cell_type": "code",
   "execution_count": 1,
   "metadata": {},
   "outputs": [],
   "source": [
    "using DataFrames, Revise, Serialization, LinearAlgebra, Statistics"
   ]
  },
  {
   "cell_type": "code",
   "execution_count": 2,
   "metadata": {},
   "outputs": [],
   "source": [
    "const datadir = \"/export/storage_adgandhi/MiscLi/factract\";"
   ]
  },
  {
   "cell_type": "code",
   "execution_count": 3,
   "metadata": {},
   "outputs": [],
   "source": [
    "string(@__DIR__) in LOAD_PATH || push!(LOAD_PATH, @__DIR__)\n",
    "using BLPmodule; const m = BLPmodule;"
   ]
  },
  {
   "cell_type": "code",
   "execution_count": 4,
   "metadata": {},
   "outputs": [],
   "source": [
    "df = deserialize(\"df.jls\");"
   ]
  },
  {
   "cell_type": "code",
   "execution_count": 16,
   "metadata": {},
   "outputs": [],
   "source": [
    "firm_IDs_long = df.j\n",
    "tract_IDs_long = df.t;\n",
    "X = Matrix{Float64}(df[!, [:x1, :x2]])\n",
    "D = Matrix{Float64}(df[!, [:d, :d2]])\n",
    "Q = df.q\n",
    "M = df.M;"
   ]
  },
  {
   "cell_type": "code",
   "execution_count": 17,
   "metadata": {},
   "outputs": [],
   "source": [
    "pars = m.set_Pars(2, 100);"
   ]
  },
  {
   "cell_type": "code",
   "execution_count": 18,
   "metadata": {},
   "outputs": [],
   "source": []
  },
  {
   "cell_type": "code",
   "execution_count": 22,
   "metadata": {},
   "outputs": [
    {
     "name": "stdout",
     "output_type": "stream",
     "text": [
      "Economy with 394 firms and 3110 tracts.\n"
     ]
    },
    {
     "data": {
      "text/plain": [
       "BLPmodule.Economy\n",
       "  firms: Array{BLPmodule.Firm}((394,))\n",
       "  tracts: Array{BLPmodule.Tract}((3110,))\n",
       "  pars: BLPmodule.EconomyPars\n"
      ]
     },
     "metadata": {},
     "output_type": "display_data"
    }
   ],
   "source": [
    "ec = m.make_Economy(\n",
    "    firm_IDs_long,\n",
    "    tract_IDs_long,\n",
    "    X,\n",
    "    D,\n",
    "    Q,\n",
    "    M,\n",
    "    pars\n",
    "    )"
   ]
  },
  {
   "cell_type": "code",
   "execution_count": 24,
   "metadata": {},
   "outputs": [
    {
     "data": {
      "text/plain": [
       "BLPmodule.Tract\n",
       "  ID: Int64 12086000804\n",
       "  M: Float64 103.3\n",
       "  firms: Array{BLPmodule.Firm}((11,))\n",
       "  D: Array{Float64}((11, 2)) [0.08806180282463318 0.007754881116724572; 0.0931176327059425 0.008670893520758814; … ; 0.07573973489556987 0.005736507442051205; 0.01606006427953019 0.00025792566466264154]\n",
       "  shares: Array{Float64}((21345,)) [1.0, 1.0, 1.0, 1.0, 1.0, 1.0, 1.0, 1.0, 1.0, 1.0  …  1.0, 1.0, 1.0, 1.0, 1.0, 1.0, 1.0, 1.0, 1.0, 1.0]\n",
       "  quantities: Array{Float64}((21345,)) [1.0, 1.0, 1.0, 1.0, 1.0, 1.0, 1.0, 1.0, 1.0, 1.0  …  1.0, 1.0, 1.0, 1.0, 1.0, 1.0, 1.0, 1.0, 1.0, 1.0]\n",
       "  n_firms: Int64 21345\n",
       "  exp_utils: Array{Float64}((100, 21346)) [1.0 1.0 … 1.0 1.0; 1.0 1.0 … 1.0 1.0; … ; 1.0 1.0 … 1.0 1.0; 1.0 1.0 … 1.0 1.0]\n"
      ]
     },
     "metadata": {},
     "output_type": "display_data"
    }
   ],
   "source": [
    "samplet = ec.tracts[22]"
   ]
  },
  {
   "cell_type": "code",
   "execution_count": 25,
   "metadata": {},
   "outputs": [
    {
     "ename": "MethodError",
     "evalue": "MethodError: no method matching compute_deltas(::BLPmodule.Economy)\nClosest candidates are:\n  compute_deltas(::Any, !Matched::Any, !Matched::Any, !Matched::Any, !Matched::Any, !Matched::Any, !Matched::Any; initial_δ, max_iter, tol) at /users/facsupport/zhli/blp-quantities/BLPmodule/solve_m.jl:50",
     "output_type": "error",
     "traceback": [
      "MethodError: no method matching compute_deltas(::BLPmodule.Economy)\n",
      "Closest candidates are:\n",
      "  compute_deltas(::Any, !Matched::Any, !Matched::Any, !Matched::Any, !Matched::Any, !Matched::Any, !Matched::Any; initial_δ, max_iter, tol) at /users/facsupport/zhli/blp-quantities/BLPmodule/solve_m.jl:50\n",
      "\n",
      "Stacktrace:\n",
      " [1] top-level scope\n",
      "   @ ~/blp-quantities/scratch_structs.ipynb:1"
     ]
    }
   ],
   "source": [
    "m.compute_deltas(\n",
    "    ec\n",
    ")"
   ]
  },
  {
   "cell_type": "code",
   "execution_count": null,
   "metadata": {},
   "outputs": [],
   "source": []
  },
  {
   "cell_type": "code",
   "execution_count": 11,
   "metadata": {},
   "outputs": [],
   "source": [
    "# names(df)"
   ]
  },
  {
   "cell_type": "code",
   "execution_count": 12,
   "metadata": {},
   "outputs": [],
   "source": [
    "# using DataFramesMeta\n",
    "# @subset(df, :t.==12069030203)"
   ]
  },
  {
   "cell_type": "code",
   "execution_count": 13,
   "metadata": {},
   "outputs": [],
   "source": [
    "# coef = (pars.v .* pars.σ) .+ pars.β #K by nI\n",
    "# u_j = [dot(D_tj, coef[:, i]) .+ 4.4 for i in 1:nI];\n",
    "# u = samplet.utils\n",
    "# ((pars.v .* pars.σ) .+ pars.β) \n"
   ]
  },
  {
   "cell_type": "code",
   "execution_count": 14,
   "metadata": {},
   "outputs": [],
   "source": []
  }
 ],
 "metadata": {
  "kernelspec": {
   "display_name": "Julia 1.6.1",
   "language": "julia",
   "name": "julia-1.6"
  },
  "language_info": {
   "file_extension": ".jl",
   "mimetype": "application/julia",
   "name": "julia",
   "version": "1.6.1"
  },
  "orig_nbformat": 4,
  "vscode": {
   "interpreter": {
    "hash": "8f874cb96a7fdce6260903239cd4ccff59f9cd40f07ae8042efeb94d5942b24b"
   }
  }
 },
 "nbformat": 4,
 "nbformat_minor": 2
}
