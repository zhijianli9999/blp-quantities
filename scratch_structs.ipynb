{
 "cells": [
  {
   "cell_type": "code",
   "execution_count": 1,
   "metadata": {},
   "outputs": [],
   "source": [
    "using DataFrames, Serialization, Revise"
   ]
  },
  {
   "cell_type": "code",
   "execution_count": 2,
   "metadata": {},
   "outputs": [],
   "source": [
    "# using DebuggingUtilities, ProfileSVG\n",
    "# using Revise\n",
    "# const datadir = \"/export/storage_adgandhi/MiscLi/factract\";"
   ]
  },
  {
   "cell_type": "code",
   "execution_count": 3,
   "metadata": {},
   "outputs": [],
   "source": [
    "string(@__DIR__) in LOAD_PATH || push!(LOAD_PATH, @__DIR__)\n",
    "using BLPmodule; const m = BLPmodule;"
   ]
  },
  {
   "cell_type": "markdown",
   "metadata": {},
   "source": [
    "---"
   ]
  },
  {
   "cell_type": "code",
   "execution_count": 4,
   "metadata": {},
   "outputs": [],
   "source": [
    "df = deserialize(\"df.jls\");\n",
    "firm_IDs_long = df.j\n",
    "tract_IDs_long = df.t;\n",
    "X = Matrix{Float64}(df[!, [:x1, :x2]])\n",
    "D = Matrix{Float64}(df[!, [:d, :d2]])\n",
    "Q = df.q\n",
    "M = df.M;"
   ]
  },
  {
   "cell_type": "code",
   "execution_count": 5,
   "metadata": {},
   "outputs": [],
   "source": [
    "pars = m.set_Pars(K = 2, nI = 100, β = [-1., -2.]);"
   ]
  },
  {
   "cell_type": "markdown",
   "metadata": {},
   "source": [
    "---"
   ]
  },
  {
   "cell_type": "code",
   "execution_count": 6,
   "metadata": {},
   "outputs": [
    {
     "name": "stdout",
     "output_type": "stream",
     "text": [
      "Economy with 394 firms and 3110 tracts.\n"
     ]
    }
   ],
   "source": [
    "ec = m.make_Economy(\n",
    "    firm_IDs_long,\n",
    "    tract_IDs_long,\n",
    "    X,\n",
    "    D,\n",
    "    Q,\n",
    "    M,\n",
    "    pars\n",
    "    );\n",
    "serialize(\"ec.jls\", ec)"
   ]
  },
  {
   "cell_type": "markdown",
   "metadata": {},
   "source": [
    "---"
   ]
  },
  {
   "cell_type": "code",
   "execution_count": 7,
   "metadata": {},
   "outputs": [
    {
     "name": "stdout",
     "output_type": "stream",
     "text": [
      "dist = 2.023427477130037\n",
      "counter = 2\n",
      "(in /mnt/staff/zhli/blp-quantities/BLPmodule/solve_s.jl:82)\n",
      "  3.340883 seconds (7.53 M allocations: 586.255 MiB, 10.10% gc time, 95.72% compilation time)\n"
     ]
    }
   ],
   "source": [
    "ec = deserialize(\"ec.jls\");\n",
    "it = 1\n",
    "@time m.compute_deltas(ec,max_iter=it);"
   ]
  },
  {
   "cell_type": "code",
   "execution_count": 8,
   "metadata": {},
   "outputs": [
    {
     "name": "stdout",
     "output_type": "stream",
     "text": [
      "dist = 9.971042476131231e-7\n",
      "counter = 276\n",
      "(in /mnt/staff/zhli/blp-quantities/BLPmodule/solve_s.jl:82)\n",
      " 16.036776 seconds (18.04 M allocations: 19.749 GiB, 6.31% gc time)\n"
     ]
    }
   ],
   "source": [
    "ec = deserialize(\"ec.jls\");\n",
    "it = 1000\n",
    "@time deltas = m.compute_deltas(ec,max_iter=it);"
   ]
  },
  {
   "cell_type": "code",
   "execution_count": 11,
   "metadata": {},
   "outputs": [],
   "source": [
    "# z = zeros(3,3)\n",
    "# @time z[[1,2],3] .= [4,5];\n",
    "\n",
    "# @time z[[1,2],3] = [5,6];\n",
    "# ones(2,1)"
   ]
  },
  {
   "cell_type": "code",
   "execution_count": 12,
   "metadata": {},
   "outputs": [],
   "source": []
  },
  {
   "cell_type": "code",
   "execution_count": 13,
   "metadata": {},
   "outputs": [],
   "source": [
    "# δ_mat  = repeat(ones(size(ec.δs)), outer = [1,ec.pars.nI]);\n",
    "# nlcoefs = ec.pars.nlcoefs\n",
    "# t = ec.tracts[1];\n",
    "# t.utils .= t.abδ .+ δ_mat[t.inds, :]\n",
    "# exputils = exp.(t.utils);"
   ]
  },
  {
   "cell_type": "code",
   "execution_count": 14,
   "metadata": {},
   "outputs": [],
   "source": []
  },
  {
   "cell_type": "code",
   "execution_count": 15,
   "metadata": {},
   "outputs": [],
   "source": [
    "# @showln size(exputils)\n",
    "# @showln size(t.shares)\n",
    "# @showln size(mean(exputils ./ (1 .+ sum(exputils, dims=1)), dims=2))\n"
   ]
  },
  {
   "cell_type": "code",
   "execution_count": 16,
   "metadata": {},
   "outputs": [],
   "source": []
  },
  {
   "cell_type": "code",
   "execution_count": 17,
   "metadata": {},
   "outputs": [],
   "source": [
    "# ec = deserialize(\"ec.jls\");\n",
    "# it = 1000\n",
    "# @time m.compute_deltas(ec,max_iter=it);"
   ]
  },
  {
   "cell_type": "code",
   "execution_count": 18,
   "metadata": {},
   "outputs": [],
   "source": [
    "# uvals = (ec.tracts[1].exp_utils)\n",
    "# using StaticArrays\n",
    "# size(uvals)\n",
    "# mu = MMatrix{100,3, Float64, 300}(uvals)\n",
    "# u = uvals;\n",
    "# @time log.(u);\n",
    "# @time log.(mu);"
   ]
  },
  {
   "cell_type": "code",
   "execution_count": 19,
   "metadata": {},
   "outputs": [],
   "source": [
    "# initial_δ = ones(size(ec.δs))\n",
    "# δ_  = initial_δ\n",
    "# δ_mat  = repeat(δ_, outer = [1,ec.pars.nI])\n",
    "# size(δ_mat)"
   ]
  },
  {
   "cell_type": "code",
   "execution_count": 20,
   "metadata": {},
   "outputs": [],
   "source": []
  }
 ],
 "metadata": {
  "kernelspec": {
   "display_name": "Julia 1.6.1",
   "language": "julia",
   "name": "julia-1.6"
  },
  "language_info": {
   "file_extension": ".jl",
   "mimetype": "application/julia",
   "name": "julia",
   "version": "1.6.1"
  },
  "orig_nbformat": 4,
  "vscode": {
   "interpreter": {
    "hash": "8f874cb96a7fdce6260903239cd4ccff59f9cd40f07ae8042efeb94d5942b24b"
   }
  }
 },
 "nbformat": 4,
 "nbformat_minor": 2
}
