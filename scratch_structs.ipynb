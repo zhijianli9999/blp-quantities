{
 "cells": [
  {
   "cell_type": "code",
   "execution_count": 1,
   "metadata": {},
   "outputs": [],
   "source": [
    "using Parameters, DataFrames, DataFramesMeta, LinearAlgebra, Distributions, Optim, Revise, Plots"
   ]
  },
  {
   "cell_type": "code",
   "execution_count": 4,
   "metadata": {},
   "outputs": [
    {
     "data": {
      "text/plain": [
       "BLPmodule"
      ]
     },
     "metadata": {},
     "output_type": "display_data"
    }
   ],
   "source": [
    "string(@__DIR__) in LOAD_PATH || push!(LOAD_PATH, @__DIR__)\n",
    "using BLPmodule\n",
    "const mod = BLPmodule"
   ]
  },
  {
   "cell_type": "code",
   "execution_count": 6,
   "metadata": {},
   "outputs": [
    {
     "data": {
      "text/plain": [
       "BLPmodule.Firm\n",
       "  markets: Array{Int64}((2,)) [1, 2]\n",
       "  loc: Array{Number}((1,)) Number[0.4]\n",
       "  agg_q: Int64 12\n"
      ]
     },
     "metadata": {},
     "output_type": "display_data"
    }
   ],
   "source": [
    "mod.Firm([1,2], [0.4], 12)"
   ]
  },
  {
   "cell_type": "code",
   "execution_count": 3,
   "metadata": {},
   "outputs": [],
   "source": [
    "J = 2;                  # Number of firms\n",
    "K = 1;                  # Product characteristics\n",
    "nT = 5;                 # Number of markets\n",
    "# β = [1, -1];            # Preferences\n",
    "β = -1.;            # Preferences\n",
    "varζ = 3;               # Variance of the random taste\n",
    "rangeB = [100, 1000];       # consumers per market (e.g. census block)\n",
    "# varX = 2;               # Variance of X\n",
    "varξ = 1;               # Variance of xi"
   ]
  }
 ],
 "metadata": {
  "kernelspec": {
   "display_name": "Julia 1.6.1",
   "language": "julia",
   "name": "julia-1.6"
  },
  "language_info": {
   "file_extension": ".jl",
   "mimetype": "application/julia",
   "name": "julia",
   "version": "1.6.1"
  },
  "orig_nbformat": 4,
  "vscode": {
   "interpreter": {
    "hash": "8f874cb96a7fdce6260903239cd4ccff59f9cd40f07ae8042efeb94d5942b24b"
   }
  }
 },
 "nbformat": 4,
 "nbformat_minor": 2
}
