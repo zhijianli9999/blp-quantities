{
 "cells": [
  {
   "cell_type": "code",
   "execution_count": 101,
   "metadata": {},
   "outputs": [],
   "source": [
    "using DataFrames, DataFramesMeta, LinearAlgebra, Distributions, Optim, Revise, Plots, CSV, Serialization"
   ]
  },
  {
   "cell_type": "code",
   "execution_count": 102,
   "metadata": {},
   "outputs": [],
   "source": [
    "const datadir = \"/export/storage_adgandhi/MiscLi/factract\";"
   ]
  },
  {
   "cell_type": "code",
   "execution_count": 104,
   "metadata": {},
   "outputs": [],
   "source": [
    "string(@__DIR__) in LOAD_PATH || push!(LOAD_PATH, @__DIR__)\n",
    "using BLPmodule;\n",
    "const m = BLPmodule;"
   ]
  },
  {
   "cell_type": "markdown",
   "metadata": {},
   "source": [
    "## data"
   ]
  },
  {
   "cell_type": "code",
   "execution_count": 105,
   "metadata": {},
   "outputs": [],
   "source": [
    "test1state = true\n",
    "if test1state \n",
    "    data = DataFrame(CSV.File(\"$datadir/analysis/factract_FL.csv\"));\n",
    "else\n",
    "    data = DataFrame(CSV.File(\"$datadir/analysis/factract.csv\"));\n",
    "end;"
   ]
  },
  {
   "cell_type": "code",
   "execution_count": 106,
   "metadata": {},
   "outputs": [
    {
     "data": {
      "text/plain": [
       "22-element Vector{String}:\n",
       " \"facid\"\n",
       " \"tractid\"\n",
       " \"dist\"\n",
       " \"nfacs\"\n",
       " \"county\"\n",
       " \"occpct\"\n",
       " \"totbeds\"\n",
       " \"dchrppd\"\n",
       " \"rnhrppd\"\n",
       " \"avg_dailycensus\"\n",
       " ⋮\n",
       " \"state\"\n",
       " \"cz\"\n",
       " \"pop65plus_int\"\n",
       " \"poptot_int\"\n",
       " \"nres_mcare\"\n",
       " \"pop65_j\"\n",
       " \"fracpop_inmkt\"\n",
       " \"mktpop_j\"\n",
       " \"mktshare_j\""
      ]
     },
     "metadata": {},
     "output_type": "display_data"
    }
   ],
   "source": [
    "names(data)"
   ]
  },
  {
   "cell_type": "code",
   "execution_count": 107,
   "metadata": {},
   "outputs": [
    {
     "data": {
      "text/html": [
       "<div class=\"data-frame\"><p>6 rows × 9 columns</p><table class=\"data-frame\"><thead><tr><th></th><th>t</th><th>pop</th><th>j</th><th>q</th><th>s</th><th>d</th><th>d2</th><th>x1</th><th>x2</th></tr><tr><th></th><th title=\"Int64\">Int64</th><th title=\"Int64\">Int64</th><th title=\"String7\">String7</th><th title=\"Int64\">Int64</th><th title=\"Float64\">Float64</th><th title=\"Float64\">Float64</th><th title=\"Float64\">Float64</th><th title=\"Float64\">Float64</th><th title=\"Float64\">Float64</th></tr></thead><tbody><tr><th>1</th><td>12069031000</td><td>2453</td><td>105001</td><td>80</td><td>0.0166521</td><td>12.584</td><td>158.357</td><td>4.269</td><td>0.285</td></tr><tr><th>2</th><td>12069030306</td><td>1853</td><td>105001</td><td>80</td><td>0.0166521</td><td>7.82126</td><td>61.1721</td><td>4.269</td><td>0.285</td></tr><tr><th>3</th><td>12069030207</td><td>1538</td><td>105001</td><td>80</td><td>0.0166521</td><td>4.29014</td><td>18.4053</td><td>4.269</td><td>0.285</td></tr><tr><th>4</th><td>12069030912</td><td>1513</td><td>105001</td><td>80</td><td>0.0166521</td><td>5.08819</td><td>25.8897</td><td>4.269</td><td>0.285</td></tr><tr><th>5</th><td>12069030410</td><td>1075</td><td>105001</td><td>80</td><td>0.0166521</td><td>18.8484</td><td>355.263</td><td>4.269</td><td>0.285</td></tr><tr><th>6</th><td>12069030805</td><td>874</td><td>105001</td><td>80</td><td>0.0166521</td><td>11.4688</td><td>131.533</td><td>4.269</td><td>0.285</td></tr></tbody></table></div>"
      ],
      "text/latex": [
       "\\begin{tabular}{r|ccccccccc}\n",
       "\t& t & pop & j & q & s & d & d2 & x1 & x2\\\\\n",
       "\t\\hline\n",
       "\t& Int64 & Int64 & String7 & Int64 & Float64 & Float64 & Float64 & Float64 & Float64\\\\\n",
       "\t\\hline\n",
       "\t1 & 12069031000 & 2453 & 105001 & 80 & 0.0166521 & 12.584 & 158.357 & 4.269 & 0.285 \\\\\n",
       "\t2 & 12069030306 & 1853 & 105001 & 80 & 0.0166521 & 7.82126 & 61.1721 & 4.269 & 0.285 \\\\\n",
       "\t3 & 12069030207 & 1538 & 105001 & 80 & 0.0166521 & 4.29014 & 18.4053 & 4.269 & 0.285 \\\\\n",
       "\t4 & 12069030912 & 1513 & 105001 & 80 & 0.0166521 & 5.08819 & 25.8897 & 4.269 & 0.285 \\\\\n",
       "\t5 & 12069030410 & 1075 & 105001 & 80 & 0.0166521 & 18.8484 & 355.263 & 4.269 & 0.285 \\\\\n",
       "\t6 & 12069030805 & 874 & 105001 & 80 & 0.0166521 & 11.4688 & 131.533 & 4.269 & 0.285 \\\\\n",
       "\\end{tabular}\n"
      ],
      "text/plain": [
       "\u001b[1m6×9 DataFrame\u001b[0m\n",
       "\u001b[1m Row \u001b[0m│\u001b[1m t           \u001b[0m\u001b[1m pop   \u001b[0m\u001b[1m j       \u001b[0m\u001b[1m q     \u001b[0m\u001b[1m s         \u001b[0m\u001b[1m d        \u001b[0m\u001b[1m d2       \u001b[0m\u001b[1m x1  \u001b[0m ⋯\n",
       "\u001b[1m     \u001b[0m│\u001b[90m Int64       \u001b[0m\u001b[90m Int64 \u001b[0m\u001b[90m String7 \u001b[0m\u001b[90m Int64 \u001b[0m\u001b[90m Float64   \u001b[0m\u001b[90m Float64  \u001b[0m\u001b[90m Float64  \u001b[0m\u001b[90m Floa\u001b[0m ⋯\n",
       "─────┼──────────────────────────────────────────────────────────────────────────\n",
       "   1 │ 12069031000   2453  105001      80  0.0166521  12.584    158.357     4. ⋯\n",
       "   2 │ 12069030306   1853  105001      80  0.0166521   7.82126   61.1721    4.\n",
       "   3 │ 12069030207   1538  105001      80  0.0166521   4.29014   18.4053    4.\n",
       "   4 │ 12069030912   1513  105001      80  0.0166521   5.08819   25.8897    4.\n",
       "   5 │ 12069030410   1075  105001      80  0.0166521  18.8484   355.263     4. ⋯\n",
       "   6 │ 12069030805    874  105001      80  0.0166521  11.4688   131.533     4.\n",
       "\u001b[36m                                                               2 columns omitted\u001b[0m"
      ]
     },
     "metadata": {},
     "output_type": "display_data"
    }
   ],
   "source": [
    "df = @select(data, \n",
    "    :t = :tractid, \n",
    "    :pop = :pop65plus_int,\n",
    "    :j = :facid, \n",
    "    :q = :restot,\n",
    "    :s = :mktshare_j,\n",
    "    :d = :dist, \n",
    "    :d2 = :dist .^ 2,\n",
    "    :x1 = :dchrppd,\n",
    "    :x2 = :rnhrppd\n",
    ");\n",
    "first(df, 6)"
   ]
  },
  {
   "cell_type": "code",
   "execution_count": 108,
   "metadata": {},
   "outputs": [],
   "source": [
    "gdf = groupby(df, :j);"
   ]
  },
  {
   "cell_type": "code",
   "execution_count": 110,
   "metadata": {},
   "outputs": [
    {
     "data": {
      "text/plain": [
       "9-element Vector{String}:\n",
       " \"t\"\n",
       " \"pop\"\n",
       " \"j\"\n",
       " \"q\"\n",
       " \"s\"\n",
       " \"d\"\n",
       " \"d2\"\n",
       " \"x1\"\n",
       " \"x2\""
      ]
     },
     "metadata": {},
     "output_type": "display_data"
    }
   ],
   "source": [
    "names(df)"
   ]
  },
  {
   "cell_type": "code",
   "execution_count": 119,
   "metadata": {},
   "outputs": [
    {
     "data": {
      "text/html": [
       "<div class=\"data-frame\"><p>5 rows × 9 columns</p><table class=\"data-frame\"><thead><tr><th></th><th>t</th><th>pop</th><th>j</th><th>q</th><th>s</th><th>d</th><th>d2</th><th>x1</th><th>x2</th></tr><tr><th></th><th title=\"Int64\">Int64</th><th title=\"Int64\">Int64</th><th title=\"String7\">String7</th><th title=\"Int64\">Int64</th><th title=\"Float64\">Float64</th><th title=\"Float64\">Float64</th><th title=\"Float64\">Float64</th><th title=\"Float64\">Float64</th><th title=\"Float64\">Float64</th></tr></thead><tbody><tr><th>1</th><td>12069031000</td><td>2453</td><td>105001</td><td>80</td><td>0.0166521</td><td>12.584</td><td>158.357</td><td>4.269</td><td>0.285</td></tr><tr><th>2</th><td>12069030306</td><td>1853</td><td>105001</td><td>80</td><td>0.0166521</td><td>7.82126</td><td>61.1721</td><td>4.269</td><td>0.285</td></tr><tr><th>3</th><td>12069030207</td><td>1538</td><td>105001</td><td>80</td><td>0.0166521</td><td>4.29014</td><td>18.4053</td><td>4.269</td><td>0.285</td></tr><tr><th>4</th><td>12069030912</td><td>1513</td><td>105001</td><td>80</td><td>0.0166521</td><td>5.08819</td><td>25.8897</td><td>4.269</td><td>0.285</td></tr><tr><th>5</th><td>12069030410</td><td>1075</td><td>105001</td><td>80</td><td>0.0166521</td><td>18.8484</td><td>355.263</td><td>4.269</td><td>0.285</td></tr></tbody></table></div>"
      ],
      "text/latex": [
       "\\begin{tabular}{r|ccccccccc}\n",
       "\t& t & pop & j & q & s & d & d2 & x1 & x2\\\\\n",
       "\t\\hline\n",
       "\t& Int64 & Int64 & String7 & Int64 & Float64 & Float64 & Float64 & Float64 & Float64\\\\\n",
       "\t\\hline\n",
       "\t1 & 12069031000 & 2453 & 105001 & 80 & 0.0166521 & 12.584 & 158.357 & 4.269 & 0.285 \\\\\n",
       "\t2 & 12069030306 & 1853 & 105001 & 80 & 0.0166521 & 7.82126 & 61.1721 & 4.269 & 0.285 \\\\\n",
       "\t3 & 12069030207 & 1538 & 105001 & 80 & 0.0166521 & 4.29014 & 18.4053 & 4.269 & 0.285 \\\\\n",
       "\t4 & 12069030912 & 1513 & 105001 & 80 & 0.0166521 & 5.08819 & 25.8897 & 4.269 & 0.285 \\\\\n",
       "\t5 & 12069030410 & 1075 & 105001 & 80 & 0.0166521 & 18.8484 & 355.263 & 4.269 & 0.285 \\\\\n",
       "\\end{tabular}\n"
      ],
      "text/plain": [
       "\u001b[1m5×9 DataFrame\u001b[0m\n",
       "\u001b[1m Row \u001b[0m│\u001b[1m t           \u001b[0m\u001b[1m pop   \u001b[0m\u001b[1m j       \u001b[0m\u001b[1m q     \u001b[0m\u001b[1m s         \u001b[0m\u001b[1m d        \u001b[0m\u001b[1m d2       \u001b[0m\u001b[1m x1  \u001b[0m ⋯\n",
       "\u001b[1m     \u001b[0m│\u001b[90m Int64       \u001b[0m\u001b[90m Int64 \u001b[0m\u001b[90m String7 \u001b[0m\u001b[90m Int64 \u001b[0m\u001b[90m Float64   \u001b[0m\u001b[90m Float64  \u001b[0m\u001b[90m Float64  \u001b[0m\u001b[90m Floa\u001b[0m ⋯\n",
       "─────┼──────────────────────────────────────────────────────────────────────────\n",
       "   1 │ 12069031000   2453  105001      80  0.0166521  12.584    158.357     4. ⋯\n",
       "   2 │ 12069030306   1853  105001      80  0.0166521   7.82126   61.1721    4.\n",
       "   3 │ 12069030207   1538  105001      80  0.0166521   4.29014   18.4053    4.\n",
       "   4 │ 12069030912   1513  105001      80  0.0166521   5.08819   25.8897    4.\n",
       "   5 │ 12069030410   1075  105001      80  0.0166521  18.8484   355.263     4. ⋯\n",
       "\u001b[36m                                                               2 columns omitted\u001b[0m"
      ]
     },
     "metadata": {},
     "output_type": "display_data"
    }
   ],
   "source": [
    "# cols = Not(Cols(r\"x\", r\"d\"));\n",
    "df[1:5,:]"
   ]
  },
  {
   "cell_type": "code",
   "execution_count": null,
   "metadata": {},
   "outputs": [],
   "source": []
  },
  {
   "cell_type": "markdown",
   "metadata": {},
   "source": [
    "---\n",
    "### facility-level data"
   ]
  },
  {
   "cell_type": "code",
   "execution_count": 120,
   "metadata": {},
   "outputs": [
    {
     "data": {
      "text/html": [
       "<div class=\"data-frame\"><p>3 rows × 7 columns</p><table class=\"data-frame\"><thead><tr><th></th><th>j</th><th>q</th><th>s</th><th>auxd</th><th>x1</th><th>x2</th><th>auxd2</th></tr><tr><th></th><th title=\"String7\">String7</th><th title=\"Int64\">Int64</th><th title=\"Float64\">Float64</th><th title=\"Float64\">Float64</th><th title=\"Float64\">Float64</th><th title=\"Float64\">Float64</th><th title=\"Float64\">Float64</th></tr></thead><tbody><tr><th>1</th><td>105001</td><td>80</td><td>0.0166521</td><td>2.40807</td><td>4.269</td><td>0.285</td><td>5.7988</td></tr><tr><th>2</th><td>105005</td><td>81</td><td>0.00252011</td><td>2.44936</td><td>4.327</td><td>0.839</td><td>5.99935</td></tr><tr><th>3</th><td>105009</td><td>54</td><td>0.00223139</td><td>2.53129</td><td>3.948</td><td>0.405</td><td>6.40744</td></tr></tbody></table></div>"
      ],
      "text/latex": [
       "\\begin{tabular}{r|ccccccc}\n",
       "\t& j & q & s & auxd & x1 & x2 & auxd2\\\\\n",
       "\t\\hline\n",
       "\t& String7 & Int64 & Float64 & Float64 & Float64 & Float64 & Float64\\\\\n",
       "\t\\hline\n",
       "\t1 & 105001 & 80 & 0.0166521 & 2.40807 & 4.269 & 0.285 & 5.7988 \\\\\n",
       "\t2 & 105005 & 81 & 0.00252011 & 2.44936 & 4.327 & 0.839 & 5.99935 \\\\\n",
       "\t3 & 105009 & 54 & 0.00223139 & 2.53129 & 3.948 & 0.405 & 6.40744 \\\\\n",
       "\\end{tabular}\n"
      ],
      "text/plain": [
       "\u001b[1m3×7 DataFrame\u001b[0m\n",
       "\u001b[1m Row \u001b[0m│\u001b[1m j       \u001b[0m\u001b[1m q     \u001b[0m\u001b[1m s          \u001b[0m\u001b[1m auxd    \u001b[0m\u001b[1m x1      \u001b[0m\u001b[1m x2      \u001b[0m\u001b[1m auxd2   \u001b[0m\n",
       "\u001b[1m     \u001b[0m│\u001b[90m String7 \u001b[0m\u001b[90m Int64 \u001b[0m\u001b[90m Float64    \u001b[0m\u001b[90m Float64 \u001b[0m\u001b[90m Float64 \u001b[0m\u001b[90m Float64 \u001b[0m\u001b[90m Float64 \u001b[0m\n",
       "─────┼────────────────────────────────────────────────────────────────\n",
       "   1 │ 105001      80  0.0166521   2.40807    4.269    0.285  5.7988\n",
       "   2 │ 105005      81  0.00252011  2.44936    4.327    0.839  5.99935\n",
       "   3 │ 105009      54  0.00223139  2.53129    3.948    0.405  6.40744"
      ]
     },
     "metadata": {},
     "output_type": "display_data"
    }
   ],
   "source": [
    "dfj = @combine(groupby(df, :j), \n",
    "    :j = first(:j), \n",
    "    :q = first(:q), \n",
    "    :s = first(:s), \n",
    "    :auxd =  log(mean(:d)),\n",
    "    :x1 = first(:x1), \n",
    "    :x2 = first(:x2)\n",
    ")\n",
    "@transform!(dfj, :auxd2 = :auxd.^2)\n",
    "\n",
    "first(dfj, 3)"
   ]
  },
  {
   "cell_type": "markdown",
   "metadata": {},
   "source": [
    "### non-BLP, shares and quantity (works)"
   ]
  },
  {
   "cell_type": "code",
   "execution_count": 84,
   "metadata": {},
   "outputs": [
    {
     "data": {
      "text/plain": [
       "0"
      ]
     },
     "metadata": {},
     "output_type": "display_data"
    }
   ],
   "source": [
    "sum(isnan.(dfj.q))"
   ]
  },
  {
   "cell_type": "code",
   "execution_count": 85,
   "metadata": {},
   "outputs": [
    {
     "name": "stdout",
     "output_type": "stream",
     "text": [
      "iterations:2\n"
     ]
    },
    {
     "data": {
      "text/plain": [
       "true"
      ]
     },
     "metadata": {},
     "output_type": "display_data"
    }
   ],
   "source": [
    "deltas = m.loop(dfj.s)\n",
    "impliedshares = m.simple_shares(deltas)\n",
    "all(isapprox.(impliedshares, dfj.s))"
   ]
  },
  {
   "cell_type": "code",
   "execution_count": 86,
   "metadata": {},
   "outputs": [
    {
     "name": "stdout",
     "output_type": "stream",
     "text": [
      "iterations:2\n"
     ]
    },
    {
     "data": {
      "text/plain": [
       "true"
      ]
     },
     "metadata": {},
     "output_type": "display_data"
    }
   ],
   "source": [
    "deltas = m.loop(dfj.q)\n",
    "impliedshares = m.simple_shares(deltas)\n",
    "all(isapprox.(impliedshares, dfj.q))"
   ]
  },
  {
   "cell_type": "markdown",
   "metadata": {},
   "source": [
    "---\n",
    "BLP  \n",
    "What's the X?  \n",
    "Some NaNs, but those that converge do converge."
   ]
  },
  {
   "cell_type": "code",
   "execution_count": 87,
   "metadata": {},
   "outputs": [],
   "source": [
    "nI = 1000; #number of random coefs to draw\n",
    "K = 2; #number of X (distance) characteristics \n",
    "X = hcat(dfj.auxd, dfj.auxd2);\n",
    "Z = hcat(dfj.x1, dfj.x2);\n",
    "ζ = rand(Normal(0,1), K, nI);\n",
    "# disutility of distance\n",
    "β = [-1., -2];"
   ]
  },
  {
   "cell_type": "markdown",
   "metadata": {},
   "source": [
    "BLP with shares of j's own market\n"
   ]
  },
  {
   "cell_type": "code",
   "execution_count": 91,
   "metadata": {},
   "outputs": [
    {
     "name": "stdout",
     "output_type": "stream",
     "text": [
      "iterations: 2\n",
      "dist: 7.105427357601002e-15\n",
      "deltas:[-31.955695855170653, -35.062493295409034, -37.66829460903063, -33.07961670817093, -36.29011582729175]\n",
      "s_:    [0.01665209599999998, 0.0025201065000000065, 0.0022313865000000046, 0.003315309800000012, 0.004353771000000013]\n",
      "nancount: 0 out of 410\n"
     ]
    },
    {
     "data": {
      "text/plain": [
       "true"
      ]
     },
     "metadata": {},
     "output_type": "display_data"
    }
   ],
   "source": [
    "deltas = m.loop(dfj.s, X , ζ, β, verbose = true)\n",
    "\n",
    "nanind = findall(isnan.(deltas))\n",
    "println(\"nancount: \", sum(isnan.(deltas)), \" out of \", nrow(dfj))\n",
    "# println(mean(dfj[nanind, :auxd]))\n",
    "nmind = .!isnan.(deltas);\n",
    "impliedshares = m.shares(deltas[nmind], X[nmind, :], ζ, β)\n",
    "all(isapprox.(impliedshares, dfj.s[nmind]))\n"
   ]
  },
  {
   "cell_type": "markdown",
   "metadata": {},
   "source": [
    "BLP with facility level quantities"
   ]
  },
  {
   "cell_type": "code",
   "execution_count": 93,
   "metadata": {},
   "outputs": [
    {
     "name": "stdout",
     "output_type": "stream",
     "text": [
      "iterations: 2\n",
      "dist: 7.105427357601002e-15\n",
      "deltas:[-23.478450035904014, -24.68459002428954, -27.574178424629416, -23.363079317224575, -26.05761236882739]\n",
      "s_:    [79.9999999999999, 80.99999999999993, 54.000000000000206, 55.00000000000009, 120.99999999999996]\n",
      "nancount: 0 out of 410\n"
     ]
    },
    {
     "data": {
      "text/plain": [
       "true"
      ]
     },
     "metadata": {},
     "output_type": "display_data"
    }
   ],
   "source": [
    "deltas = m.loop(dfj.q, X , ζ, β, verbose = true)\n",
    "nancount =  sum(isnan.(deltas))\n",
    "println(\"nancount: \", nancount, \" out of \", nrow(dfj))\n",
    "if nancount>0\n",
    "    nanind = findall(isnan.(deltas))\n",
    "    println(mean(dfj[nanind, :auxd]))\n",
    "end\n",
    "nmind = .!isnan.(deltas);\n",
    "impliedq = m.shares(deltas[nmind], X[nmind, :], ζ, β)\n",
    "all(isapprox.(impliedq, dfj.q[nmind]))"
   ]
  },
  {
   "cell_type": "code",
   "execution_count": 94,
   "metadata": {},
   "outputs": [],
   "source": [
    "serialize(\"deltas.jls\", deltas)\n",
    "serialize(\"dfj.jls\", dfj)\n",
    "#continued in ./gmm.ipynb"
   ]
  },
  {
   "cell_type": "code",
   "execution_count": null,
   "metadata": {},
   "outputs": [],
   "source": []
  }
 ],
 "metadata": {
  "kernelspec": {
   "display_name": "Julia 1.6.1",
   "language": "julia",
   "name": "julia-1.6"
  },
  "language_info": {
   "file_extension": ".jl",
   "mimetype": "application/julia",
   "name": "julia",
   "version": "1.6.1"
  },
  "orig_nbformat": 4,
  "vscode": {
   "interpreter": {
    "hash": "31f2aee4e71d21fbe5cf8b01ff0e069b9275f58929596ceb00d14d90e3e16cd6"
   }
  }
 },
 "nbformat": 4,
 "nbformat_minor": 2
}
