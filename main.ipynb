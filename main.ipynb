{
 "cells": [
  {
   "cell_type": "code",
   "execution_count": 1,
   "metadata": {},
   "outputs": [],
   "source": [
    "using DataFrames, DataFramesMeta, LinearAlgebra, Distributions, Optim, Revise, Plots, CSV"
   ]
  },
  {
   "cell_type": "code",
   "execution_count": 2,
   "metadata": {},
   "outputs": [],
   "source": [
    "const datadir = \"/export/storage_adgandhi/MiscLi/factract\";"
   ]
  },
  {
   "cell_type": "code",
   "execution_count": 3,
   "metadata": {},
   "outputs": [],
   "source": [
    "string(@__DIR__) in LOAD_PATH || push!(LOAD_PATH, @__DIR__)\n",
    "using BLPmodule;\n",
    "const m = BLPmodule;"
   ]
  },
  {
   "cell_type": "markdown",
   "metadata": {},
   "source": [
    "## data"
   ]
  },
  {
   "cell_type": "code",
   "execution_count": 4,
   "metadata": {},
   "outputs": [],
   "source": [
    "data = DataFrame(CSV.File(\"$datadir/analysis/factract_FL.csv\"));"
   ]
  },
  {
   "cell_type": "code",
   "execution_count": 5,
   "metadata": {},
   "outputs": [
    {
     "data": {
      "text/plain": [
       "18-element Vector{String}:\n",
       " \"facid\"\n",
       " \"tractid\"\n",
       " \"dist\"\n",
       " \"nfacs\"\n",
       " \"county\"\n",
       " \"paymcare\"\n",
       " \"occpct\"\n",
       " \"totbeds\"\n",
       " \"dchrppd\"\n",
       " \"rnhrppd\"\n",
       " \"avg_dailycensus\"\n",
       " \"lat\"\n",
       " \"lon\"\n",
       " \"restot\"\n",
       " \"state\"\n",
       " \"cz\"\n",
       " \"pop65plus_int\"\n",
       " \"poptot_int\""
      ]
     },
     "metadata": {},
     "output_type": "display_data"
    }
   ],
   "source": [
    "names(data)"
   ]
  },
  {
   "cell_type": "code",
   "execution_count": 6,
   "metadata": {},
   "outputs": [
    {
     "data": {
      "text/html": [
       "<div class=\"data-frame\"><p>6 rows × 8 columns</p><table class=\"data-frame\"><thead><tr><th></th><th>t</th><th>pop</th><th>j</th><th>q</th><th>d</th><th>d2</th><th>x1</th><th>x2</th></tr><tr><th></th><th title=\"Int64\">Int64</th><th title=\"Int64\">Int64</th><th title=\"String7\">String7</th><th title=\"Float64\">Float64</th><th title=\"Float64\">Float64</th><th title=\"Float64\">Float64</th><th title=\"Float64\">Float64</th><th title=\"Float64\">Float64</th></tr></thead><tbody><tr><th>1</th><td>12001000200</td><td>149</td><td>105193</td><td>142.73</td><td>5.29689</td><td>28.057</td><td>3.823</td><td>0.183</td></tr><tr><th>2</th><td>12001000200</td><td>149</td><td>105460</td><td>110.89</td><td>7.97425</td><td>63.5887</td><td>4.274</td><td>0.373</td></tr><tr><th>3</th><td>12001000200</td><td>149</td><td>105664</td><td>109.3</td><td>5.15333</td><td>26.5569</td><td>3.717</td><td>0.112</td></tr><tr><th>4</th><td>12001000200</td><td>149</td><td>106046</td><td>115.94</td><td>5.89566</td><td>34.7589</td><td>4.375</td><td>0.234</td></tr><tr><th>5</th><td>12001000200</td><td>149</td><td>105571</td><td>112.13</td><td>7.20214</td><td>51.8708</td><td>3.668</td><td>0.233</td></tr><tr><th>6</th><td>12001000301</td><td>278</td><td>105460</td><td>110.89</td><td>8.08636</td><td>65.3891</td><td>4.274</td><td>0.373</td></tr></tbody></table></div>"
      ],
      "text/latex": [
       "\\begin{tabular}{r|cccccccc}\n",
       "\t& t & pop & j & q & d & d2 & x1 & x2\\\\\n",
       "\t\\hline\n",
       "\t& Int64 & Int64 & String7 & Float64 & Float64 & Float64 & Float64 & Float64\\\\\n",
       "\t\\hline\n",
       "\t1 & 12001000200 & 149 & 105193 & 142.73 & 5.29689 & 28.057 & 3.823 & 0.183 \\\\\n",
       "\t2 & 12001000200 & 149 & 105460 & 110.89 & 7.97425 & 63.5887 & 4.274 & 0.373 \\\\\n",
       "\t3 & 12001000200 & 149 & 105664 & 109.3 & 5.15333 & 26.5569 & 3.717 & 0.112 \\\\\n",
       "\t4 & 12001000200 & 149 & 106046 & 115.94 & 5.89566 & 34.7589 & 4.375 & 0.234 \\\\\n",
       "\t5 & 12001000200 & 149 & 105571 & 112.13 & 7.20214 & 51.8708 & 3.668 & 0.233 \\\\\n",
       "\t6 & 12001000301 & 278 & 105460 & 110.89 & 8.08636 & 65.3891 & 4.274 & 0.373 \\\\\n",
       "\\end{tabular}\n"
      ],
      "text/plain": [
       "\u001b[1m6×8 DataFrame\u001b[0m\n",
       "\u001b[1m Row \u001b[0m│\u001b[1m t           \u001b[0m\u001b[1m pop   \u001b[0m\u001b[1m j       \u001b[0m\u001b[1m q       \u001b[0m\u001b[1m d       \u001b[0m\u001b[1m d2      \u001b[0m\u001b[1m x1      \u001b[0m\u001b[1m x2    \u001b[0m ⋯\n",
       "\u001b[1m     \u001b[0m│\u001b[90m Int64       \u001b[0m\u001b[90m Int64 \u001b[0m\u001b[90m String7 \u001b[0m\u001b[90m Float64 \u001b[0m\u001b[90m Float64 \u001b[0m\u001b[90m Float64 \u001b[0m\u001b[90m Float64 \u001b[0m\u001b[90m Float6\u001b[0m ⋯\n",
       "─────┼──────────────────────────────────────────────────────────────────────────\n",
       "   1 │ 12001000200    149  105193    142.73  5.29689  28.057     3.823    0.18 ⋯\n",
       "   2 │ 12001000200    149  105460    110.89  7.97425  63.5887    4.274    0.37\n",
       "   3 │ 12001000200    149  105664    109.3   5.15333  26.5569    3.717    0.11\n",
       "   4 │ 12001000200    149  106046    115.94  5.89566  34.7589    4.375    0.23\n",
       "   5 │ 12001000200    149  105571    112.13  7.20214  51.8708    3.668    0.23 ⋯\n",
       "   6 │ 12001000301    278  105460    110.89  8.08636  65.3891    4.274    0.37\n",
       "\u001b[36m                                                                1 column omitted\u001b[0m"
      ]
     },
     "metadata": {},
     "output_type": "display_data"
    }
   ],
   "source": [
    "df = @select(data, \n",
    "    :t = :tractid, \n",
    "    :pop = :pop65plus_int,\n",
    "    :j = :facid, \n",
    "    :q = :avg_dailycensus,\n",
    "    :d = :dist, \n",
    "    :d2 = :dist .^ 2,\n",
    "    :x1 = :dchrppd,\n",
    "    :x2 = :rnhrppd\n",
    ");\n",
    "first(df, 6)"
   ]
  },
  {
   "cell_type": "code",
   "execution_count": 7,
   "metadata": {},
   "outputs": [],
   "source": [
    "gdf = groupby(df, :j);"
   ]
  },
  {
   "cell_type": "code",
   "execution_count": 8,
   "metadata": {},
   "outputs": [],
   "source": [
    "pop_scale_factor = 0.1\n",
    "df = @transform(gdf, :msize_j = sum(:pop) * pop_scale_factor)\n",
    "@transform!(df, :s = :q ./ :msize_j);"
   ]
  },
  {
   "cell_type": "code",
   "execution_count": 9,
   "metadata": {},
   "outputs": [
    {
     "data": {
      "text/plain": [
       "10-element Vector{String}:\n",
       " \"t\"\n",
       " \"pop\"\n",
       " \"j\"\n",
       " \"q\"\n",
       " \"d\"\n",
       " \"d2\"\n",
       " \"x1\"\n",
       " \"x2\"\n",
       " \"msize_j\"\n",
       " \"s\""
      ]
     },
     "metadata": {},
     "output_type": "display_data"
    }
   ],
   "source": [
    "names(df)"
   ]
  },
  {
   "cell_type": "code",
   "execution_count": 10,
   "metadata": {},
   "outputs": [],
   "source": [
    "cols = Not(Cols(r\"x\", r\"d\"));"
   ]
  },
  {
   "cell_type": "code",
   "execution_count": 11,
   "metadata": {},
   "outputs": [
    {
     "data": {
      "text/html": [
       "<div class=\"data-frame\"><p>10 rows × 6 columns</p><table class=\"data-frame\"><thead><tr><th></th><th>t</th><th>pop</th><th>j</th><th>q</th><th>msize_j</th><th>s</th></tr><tr><th></th><th title=\"Int64\">Int64</th><th title=\"Int64\">Int64</th><th title=\"String7\">String7</th><th title=\"Float64\">Float64</th><th title=\"Float64\">Float64</th><th title=\"Float64\">Float64</th></tr></thead><tbody><tr><th>1</th><td>12069030105</td><td>1941</td><td>105001</td><td>86.16</td><td>2311.1</td><td>0.0372809</td></tr><tr><th>2</th><td>12069030203</td><td>2915</td><td>105001</td><td>86.16</td><td>2311.1</td><td>0.0372809</td></tr><tr><th>3</th><td>12069030204</td><td>892</td><td>105001</td><td>86.16</td><td>2311.1</td><td>0.0372809</td></tr><tr><th>4</th><td>12069030206</td><td>739</td><td>105001</td><td>86.16</td><td>2311.1</td><td>0.0372809</td></tr><tr><th>5</th><td>12069030207</td><td>1538</td><td>105001</td><td>86.16</td><td>2311.1</td><td>0.0372809</td></tr><tr><th>6</th><td>12069030208</td><td>816</td><td>105001</td><td>86.16</td><td>2311.1</td><td>0.0372809</td></tr><tr><th>7</th><td>12069030209</td><td>1056</td><td>105001</td><td>86.16</td><td>2311.1</td><td>0.0372809</td></tr><tr><th>8</th><td>12069030306</td><td>1853</td><td>105001</td><td>86.16</td><td>2311.1</td><td>0.0372809</td></tr><tr><th>9</th><td>12069030307</td><td>1553</td><td>105001</td><td>86.16</td><td>2311.1</td><td>0.0372809</td></tr><tr><th>10</th><td>12069030308</td><td>1413</td><td>105001</td><td>86.16</td><td>2311.1</td><td>0.0372809</td></tr></tbody></table></div>"
      ],
      "text/latex": [
       "\\begin{tabular}{r|cccccc}\n",
       "\t& t & pop & j & q & msize\\_j & s\\\\\n",
       "\t\\hline\n",
       "\t& Int64 & Int64 & String7 & Float64 & Float64 & Float64\\\\\n",
       "\t\\hline\n",
       "\t1 & 12069030105 & 1941 & 105001 & 86.16 & 2311.1 & 0.0372809 \\\\\n",
       "\t2 & 12069030203 & 2915 & 105001 & 86.16 & 2311.1 & 0.0372809 \\\\\n",
       "\t3 & 12069030204 & 892 & 105001 & 86.16 & 2311.1 & 0.0372809 \\\\\n",
       "\t4 & 12069030206 & 739 & 105001 & 86.16 & 2311.1 & 0.0372809 \\\\\n",
       "\t5 & 12069030207 & 1538 & 105001 & 86.16 & 2311.1 & 0.0372809 \\\\\n",
       "\t6 & 12069030208 & 816 & 105001 & 86.16 & 2311.1 & 0.0372809 \\\\\n",
       "\t7 & 12069030209 & 1056 & 105001 & 86.16 & 2311.1 & 0.0372809 \\\\\n",
       "\t8 & 12069030306 & 1853 & 105001 & 86.16 & 2311.1 & 0.0372809 \\\\\n",
       "\t9 & 12069030307 & 1553 & 105001 & 86.16 & 2311.1 & 0.0372809 \\\\\n",
       "\t10 & 12069030308 & 1413 & 105001 & 86.16 & 2311.1 & 0.0372809 \\\\\n",
       "\\end{tabular}\n"
      ],
      "text/plain": [
       "\u001b[1m10×6 DataFrame\u001b[0m\n",
       "\u001b[1m Row \u001b[0m│\u001b[1m t           \u001b[0m\u001b[1m pop   \u001b[0m\u001b[1m j       \u001b[0m\u001b[1m q       \u001b[0m\u001b[1m msize_j \u001b[0m\u001b[1m s         \u001b[0m\n",
       "\u001b[1m     \u001b[0m│\u001b[90m Int64       \u001b[0m\u001b[90m Int64 \u001b[0m\u001b[90m String7 \u001b[0m\u001b[90m Float64 \u001b[0m\u001b[90m Float64 \u001b[0m\u001b[90m Float64   \u001b[0m\n",
       "─────┼──────────────────────────────────────────────────────────\n",
       "   1 │ 12069030105   1941  105001     86.16   2311.1  0.0372809\n",
       "   2 │ 12069030203   2915  105001     86.16   2311.1  0.0372809\n",
       "   3 │ 12069030204    892  105001     86.16   2311.1  0.0372809\n",
       "   4 │ 12069030206    739  105001     86.16   2311.1  0.0372809\n",
       "   5 │ 12069030207   1538  105001     86.16   2311.1  0.0372809\n",
       "   6 │ 12069030208    816  105001     86.16   2311.1  0.0372809\n",
       "   7 │ 12069030209   1056  105001     86.16   2311.1  0.0372809\n",
       "   8 │ 12069030306   1853  105001     86.16   2311.1  0.0372809\n",
       "   9 │ 12069030307   1553  105001     86.16   2311.1  0.0372809\n",
       "  10 │ 12069030308   1413  105001     86.16   2311.1  0.0372809"
      ]
     },
     "metadata": {},
     "output_type": "display_data"
    }
   ],
   "source": [
    "sort(df, [:j])[1:10, cols]"
   ]
  },
  {
   "cell_type": "markdown",
   "metadata": {},
   "source": [
    "## 1. flow-level\n",
    "### 1.a. non-BLP\n",
    "#### 1.a.i. quantities (works)"
   ]
  },
  {
   "cell_type": "code",
   "execution_count": 12,
   "metadata": {},
   "outputs": [
    {
     "name": "stdout",
     "output_type": "stream",
     "text": [
      "iterations:2\n"
     ]
    },
    {
     "name": "stdout",
     "output_type": "stream",
     "text": [
      "[142.73000000000002, 110.89000000000001, 109.30000000000001, 115.93999999999998, 112.13000000000004, 110.89000000000001]\n"
     ]
    },
    {
     "data": {
      "text/plain": [
       "true"
      ]
     },
     "metadata": {},
     "output_type": "display_data"
    }
   ],
   "source": [
    "# works\n",
    "deltas = m.loop(df.q);\n",
    "impliedshares = m.simple_shares(deltas)\n",
    "println(impliedshares[1:6])\n",
    "all(isapprox.(impliedshares, df.q))"
   ]
  },
  {
   "cell_type": "markdown",
   "metadata": {},
   "source": [
    "#### 1.a.ii. shares (works)"
   ]
  },
  {
   "cell_type": "code",
   "execution_count": 13,
   "metadata": {},
   "outputs": [
    {
     "name": "stdout",
     "output_type": "stream",
     "text": [
      "iterations:2\n",
      "[0.08282845868152275, 0.05527365167979264, 0.050639362490733864, 0.05967368366874259, 0.05589173561957931, 0.05527365167979264]\n"
     ]
    },
    {
     "data": {
      "text/plain": [
       "true"
      ]
     },
     "metadata": {},
     "output_type": "display_data"
    }
   ],
   "source": [
    "deltas = m.loop(df.s);\n",
    "impliedshares = m.simple_shares(deltas)\n",
    "println(impliedshares[1:6])\n",
    "all(isapprox.(impliedshares, df.s))"
   ]
  },
  {
   "cell_type": "markdown",
   "metadata": {},
   "source": [
    "### 1.b.i. BLP"
   ]
  },
  {
   "cell_type": "code",
   "execution_count": 14,
   "metadata": {},
   "outputs": [],
   "source": [
    "X = hcat(df.x1, df.x2);\n",
    "nI = 1000 #number of consumer shocks to draw\n",
    "K = 2 #number of characteristics\n",
    "ζ = rand(Normal(0,1), K, nI);\n",
    "β = [-1., -2];\n"
   ]
  },
  {
   "cell_type": "code",
   "execution_count": 15,
   "metadata": {},
   "outputs": [
    {
     "name": "stdout",
     "output_type": "stream",
     "text": [
      "iterations:2\n"
     ]
    },
    {
     "name": "stdout",
     "output_type": "stream",
     "text": [
      "[0.08282845868152278, 0.05527365167979258, 0.05063936249073385, 0.059673683668742566, 0.055891735619579226, 0.05527365167979258]\n"
     ]
    },
    {
     "data": {
      "text/plain": [
       "true"
      ]
     },
     "metadata": {},
     "output_type": "display_data"
    }
   ],
   "source": [
    "#works\n",
    "deltas = m.loop(df.s, X, ζ, β);\n",
    "impliedshares = m.shares(deltas, X, ζ, β);\n",
    "println(impliedshares[1:6])\n",
    "all(isapprox.(df.s, impliedshares))"
   ]
  },
  {
   "cell_type": "markdown",
   "metadata": {},
   "source": [
    "---\n",
    "## 2. facility-level data"
   ]
  },
  {
   "cell_type": "code",
   "execution_count": 38,
   "metadata": {},
   "outputs": [
    {
     "data": {
      "text/html": [
       "<div class=\"data-frame\"><p>3 rows × 7 columns</p><table class=\"data-frame\"><thead><tr><th></th><th>j</th><th>q</th><th>s</th><th>auxd</th><th>auxd2</th><th>x1</th><th>x2</th></tr><tr><th></th><th title=\"String7\">String7</th><th title=\"Float64\">Float64</th><th title=\"Float64\">Float64</th><th title=\"Float64\">Float64</th><th title=\"Float64\">Float64</th><th title=\"Float64\">Float64</th><th title=\"Float64\">Float64</th></tr></thead><tbody><tr><th>1</th><td>105193</td><td>142.73</td><td>0.0828285</td><td>5.31776</td><td>28.2786</td><td>3.823</td><td>0.183</td></tr><tr><th>2</th><td>105460</td><td>110.89</td><td>0.0552737</td><td>5.80543</td><td>33.703</td><td>4.274</td><td>0.373</td></tr><tr><th>3</th><td>105664</td><td>109.3</td><td>0.0506394</td><td>5.12819</td><td>26.2983</td><td>3.717</td><td>0.112</td></tr></tbody></table></div>"
      ],
      "text/latex": [
       "\\begin{tabular}{r|ccccccc}\n",
       "\t& j & q & s & auxd & auxd2 & x1 & x2\\\\\n",
       "\t\\hline\n",
       "\t& String7 & Float64 & Float64 & Float64 & Float64 & Float64 & Float64\\\\\n",
       "\t\\hline\n",
       "\t1 & 105193 & 142.73 & 0.0828285 & 5.31776 & 28.2786 & 3.823 & 0.183 \\\\\n",
       "\t2 & 105460 & 110.89 & 0.0552737 & 5.80543 & 33.703 & 4.274 & 0.373 \\\\\n",
       "\t3 & 105664 & 109.3 & 0.0506394 & 5.12819 & 26.2983 & 3.717 & 0.112 \\\\\n",
       "\\end{tabular}\n"
      ],
      "text/plain": [
       "\u001b[1m3×7 DataFrame\u001b[0m\n",
       "\u001b[1m Row \u001b[0m│\u001b[1m j       \u001b[0m\u001b[1m q       \u001b[0m\u001b[1m s         \u001b[0m\u001b[1m auxd    \u001b[0m\u001b[1m auxd2   \u001b[0m\u001b[1m x1      \u001b[0m\u001b[1m x2      \u001b[0m\n",
       "\u001b[1m     \u001b[0m│\u001b[90m String7 \u001b[0m\u001b[90m Float64 \u001b[0m\u001b[90m Float64   \u001b[0m\u001b[90m Float64 \u001b[0m\u001b[90m Float64 \u001b[0m\u001b[90m Float64 \u001b[0m\u001b[90m Float64 \u001b[0m\n",
       "─────┼─────────────────────────────────────────────────────────────────\n",
       "   1 │ 105193    142.73  0.0828285  5.31776  28.2786    3.823    0.183\n",
       "   2 │ 105460    110.89  0.0552737  5.80543  33.703     4.274    0.373\n",
       "   3 │ 105664    109.3   0.0506394  5.12819  26.2983    3.717    0.112"
      ]
     },
     "metadata": {},
     "output_type": "display_data"
    }
   ],
   "source": [
    "dfj = @combine(groupby(df, :j), :j = first(:j), :q = first(:q), :s = first(:s), :auxd =  mean(:d),  :auxd2 = mean(:d)^2, :x1 = first(:x1), :x2 = first(:x2))\n",
    "first(dfj, 3)"
   ]
  },
  {
   "cell_type": "markdown",
   "metadata": {},
   "source": [
    "### non-BLP, shares and quantity (works)"
   ]
  },
  {
   "cell_type": "code",
   "execution_count": 39,
   "metadata": {},
   "outputs": [
    {
     "name": "stdout",
     "output_type": "stream",
     "text": [
      "iterations:2\n"
     ]
    },
    {
     "data": {
      "text/plain": [
       "true"
      ]
     },
     "metadata": {},
     "output_type": "display_data"
    }
   ],
   "source": [
    "deltas = m.loop(dfj.s)\n",
    "impliedshares = m.simple_shares(deltas)\n",
    "all(isapprox.(impliedshares, dfj.s))"
   ]
  },
  {
   "cell_type": "code",
   "execution_count": 40,
   "metadata": {},
   "outputs": [
    {
     "name": "stdout",
     "output_type": "stream",
     "text": [
      "iterations:2\n"
     ]
    },
    {
     "data": {
      "text/plain": [
       "true"
      ]
     },
     "metadata": {},
     "output_type": "display_data"
    }
   ],
   "source": [
    "deltas = m.loop(dfj.q)\n",
    "impliedshares = m.simple_shares(deltas)\n",
    "all(isapprox.(impliedshares, dfj.q))"
   ]
  },
  {
   "cell_type": "markdown",
   "metadata": {},
   "source": [
    "---\n",
    "BLP  \n",
    "What's the X?  \n",
    "Lots of NaN, but those that converge do converge."
   ]
  },
  {
   "cell_type": "code",
   "execution_count": 47,
   "metadata": {},
   "outputs": [],
   "source": [
    "X = hcat(dfj.auxd, dfj.auxd2);\n",
    "Z = hcat(dfj.x1, dfj.x2);\n",
    "ζ = rand(Normal(0,1), K, nI);\n",
    "# disutility of distance\n",
    "β = [-1., -2];"
   ]
  },
  {
   "cell_type": "markdown",
   "metadata": {},
   "source": [
    "BLP with shares of j's own market\n"
   ]
  },
  {
   "cell_type": "code",
   "execution_count": 48,
   "metadata": {},
   "outputs": [
    {
     "name": "stdout",
     "output_type": "stream",
     "text": [
      "iterations:2\n",
      "nancount: 0 out of 394\n"
     ]
    },
    {
     "data": {
      "text/plain": [
       "true"
      ]
     },
     "metadata": {},
     "output_type": "display_data"
    }
   ],
   "source": [
    "deltas = m.loop(dfj.s, X , ζ, β)\n",
    "nanind = findall(isnan.(deltas))\n",
    "println(\"nancount: \", sum(isnan.(deltas)), \" out of \", nrow(dfj))\n",
    "# println(mean(dfj[nanind, :auxd]))\n",
    "nmind = .!isnan.(deltas);\n",
    "impliedshares = m.shares(deltas[nmind], X[nmind, :], ζ, β)\n",
    "all(isapprox.(impliedshares, dfj.s[nmind]))\n"
   ]
  },
  {
   "cell_type": "markdown",
   "metadata": {},
   "source": [
    "BLP with facility level quantities"
   ]
  },
  {
   "cell_type": "code",
   "execution_count": 49,
   "metadata": {},
   "outputs": [
    {
     "name": "stdout",
     "output_type": "stream",
     "text": [
      "iterations:2\n",
      "nancount: 0 out of 394\n",
      "NaN\n"
     ]
    },
    {
     "data": {
      "text/plain": [
       "true"
      ]
     },
     "metadata": {},
     "output_type": "display_data"
    }
   ],
   "source": [
    "deltas = m.loop(dfj.q, X , ζ, β)\n",
    "println(\"nancount: \", sum(isnan.(deltas)), \" out of \", nrow(dfj))\n",
    "nanind = findall(isnan.(deltas))\n",
    "println(mean(dfj[nanind, :auxd]))\n",
    "nmind = .!isnan.(deltas);\n",
    "impliedq = m.shares(deltas[nmind], X[nmind, :], ζ, β)\n",
    "all(isapprox.(impliedq, dfj.q[nmind]))"
   ]
  },
  {
   "cell_type": "code",
   "execution_count": 50,
   "metadata": {},
   "outputs": [],
   "source": []
  },
  {
   "cell_type": "code",
   "execution_count": 51,
   "metadata": {},
   "outputs": [
    {
     "name": "stdout",
     "output_type": "stream",
     "text": [
      "iterations:2\n",
      "β: [-1.0, -2.0]\n",
      "b: [3.0968756883230526, -6.092948093486484]\n"
     ]
    },
    {
     "data": {
      "text/plain": [
       "3.6245296260867255e-11"
      ]
     },
     "metadata": {},
     "output_type": "display_data"
    }
   ],
   "source": [
    "m.gmm(β, dfj.s, X, Z, ζ)\n"
   ]
  },
  {
   "cell_type": "code",
   "execution_count": 52,
   "metadata": {},
   "outputs": [
    {
     "data": {
      "text/plain": [
       "2-element Vector{Float64}:\n",
       "  3.166515328924106\n",
       " -5.883207931994491"
      ]
     },
     "metadata": {},
     "output_type": "display_data"
    }
   ],
   "source": [
    "inv(X' * X )*( X'  * deltas)"
   ]
  },
  {
   "cell_type": "code",
   "execution_count": null,
   "metadata": {},
   "outputs": [],
   "source": []
  },
  {
   "cell_type": "code",
   "execution_count": null,
   "metadata": {},
   "outputs": [],
   "source": []
  },
  {
   "cell_type": "code",
   "execution_count": null,
   "metadata": {},
   "outputs": [],
   "source": []
  },
  {
   "cell_type": "markdown",
   "metadata": {},
   "source": [
    "---\n"
   ]
  },
  {
   "cell_type": "code",
   "execution_count": 22,
   "metadata": {},
   "outputs": [],
   "source": []
  },
  {
   "cell_type": "code",
   "execution_count": 23,
   "metadata": {},
   "outputs": [],
   "source": []
  },
  {
   "cell_type": "code",
   "execution_count": 24,
   "metadata": {},
   "outputs": [],
   "source": []
  },
  {
   "cell_type": "code",
   "execution_count": 25,
   "metadata": {},
   "outputs": [],
   "source": []
  }
 ],
 "metadata": {
  "kernelspec": {
   "display_name": "Julia 1.6.1",
   "language": "julia",
   "name": "julia-1.6"
  },
  "language_info": {
   "file_extension": ".jl",
   "mimetype": "application/julia",
   "name": "julia",
   "version": "1.6.1"
  },
  "orig_nbformat": 4,
  "vscode": {
   "interpreter": {
    "hash": "31f2aee4e71d21fbe5cf8b01ff0e069b9275f58929596ceb00d14d90e3e16cd6"
   }
  }
 },
 "nbformat": 4,
 "nbformat_minor": 2
}
