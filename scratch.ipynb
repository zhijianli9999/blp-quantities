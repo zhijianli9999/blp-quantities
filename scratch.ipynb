{
 "cells": [
  {
   "cell_type": "code",
   "execution_count": 1,
   "metadata": {},
   "outputs": [],
   "source": [
    "using DataFrames, DataFramesMeta, Revise, CSV, Serialization"
   ]
  },
  {
   "cell_type": "code",
   "execution_count": 2,
   "metadata": {},
   "outputs": [],
   "source": [
    "const datadir = \"/export/storage_adgandhi/MiscLi/factract\";\n",
    "\n",
    "# test mode\n",
    "test1state = false\n",
    "if test1state \n",
    "    data = DataFrame(CSV.File(\"$datadir/analysis/factract_FL.csv\"));\n",
    "    dirpath = \"/export/storage_adgandhi/MiscLi/factract/analysis\"\n",
    "else\n",
    "    data = DataFrame(CSV.File(\"$datadir/analysis/factract.csv\"));\n",
    "    dirpath = \"jls\"\n",
    "end;"
   ]
  },
  {
   "cell_type": "code",
   "execution_count": 3,
   "metadata": {},
   "outputs": [
    {
     "name": "stdout",
     "output_type": "stream",
     "text": [
      "[\"facid\", \"year\", \"county\", \"occpct\", \"totbeds\", \"dchrppd\", \"rnhrppd\", \"avg_dailycensus\", \"lat\", \"lon\", \"restot\", \"state\", \"cz\", \"tractid\", \"dist\", \"pop65plus_int\", \"poptot_int\", \"pop65_j\", \"fracpop_inmkt\", \"mktpop\", \"nres_mcare\", \"nres_mcaid\", \"nbr_dchrppd\", \"nbr_rnhrppd\", \"tractyear\"]\n"
     ]
    }
   ],
   "source": [
    "println(names(data))"
   ]
  },
  {
   "cell_type": "code",
   "execution_count": 11,
   "metadata": {},
   "outputs": [],
   "source": [
    "df = @select(data, \n",
    "    :t = :tractyear, \n",
    "    :tract = :tractid, \n",
    "    :year = :year, \n",
    "    :state = :state, \n",
    "    :j = :facid, \n",
    "    :q = :restot,\n",
    "    :avg_dailycensus,\n",
    "    :nres_mcare,\n",
    "    :nres_mcaid,\n",
    "    :M = :mktpop,\n",
    "    :d = :dist, \n",
    "    :d2 = :dist .^ 2,\n",
    "    :x1 = :dchrppd,\n",
    "    :x2 = :rnhrppd,\n",
    "    :z1 = :nbr_dchrppd,\n",
    "    :z2 = :nbr_rnhrppd,\n",
    ");\n",
    "\n"
   ]
  },
  {
   "cell_type": "code",
   "execution_count": 12,
   "metadata": {},
   "outputs": [
    {
     "data": {
      "text/html": [
       "<div class=\"data-frame\"><p>842,990 rows × 16 columns (omitted printing of 8 columns)</p><table class=\"data-frame\"><thead><tr><th></th><th>t</th><th>tract</th><th>year</th><th>state</th><th>j</th><th>q</th><th>avg_dailycensus</th><th>nres_mcare</th></tr><tr><th></th><th title=\"Int64\">Int64</th><th title=\"Int64\">Int64</th><th title=\"Int64\">Int64</th><th title=\"String3\">String3</th><th title=\"String7\">String7</th><th title=\"Int64\">Int64</th><th title=\"Union{Missing, Float64}\">Float64?</th><th title=\"Union{Missing, Float64}\">Float64?</th></tr></thead><tbody><tr><th>1</th><td>474</td><td>1003010901</td><td>2008</td><td>FL</td><td>105751</td><td>113</td><td><em>missing</em></td><td>32.0016</td></tr><tr><th>2</th><td>475</td><td>1003010901</td><td>2009</td><td>FL</td><td>105751</td><td>111</td><td><em>missing</em></td><td>29.0043</td></tr><tr><th>3</th><td>501</td><td>1003010904</td><td>2010</td><td>FL</td><td>105751</td><td>116</td><td><em>missing</em></td><td>38.9992</td></tr><tr><th>4</th><td>502</td><td>1003010904</td><td>2011</td><td>FL</td><td>105751</td><td>110</td><td>114.35</td><td>27.005</td></tr><tr><th>5</th><td>503</td><td>1003010904</td><td>2012</td><td>FL</td><td>105751</td><td>111</td><td>114.58</td><td>22.9992</td></tr><tr><th>6</th><td>504</td><td>1003010904</td><td>2013</td><td>FL</td><td>105751</td><td>108</td><td>113.57</td><td>28.0044</td></tr><tr><th>7</th><td>505</td><td>1003010904</td><td>2014</td><td>FL</td><td>105751</td><td>111</td><td>113.49</td><td>29.0043</td></tr><tr><th>8</th><td>506</td><td>1003010904</td><td>2015</td><td>FL</td><td>105751</td><td>111</td><td>114.88</td><td>29.0043</td></tr><tr><th>9</th><td>507</td><td>1003010904</td><td>2016</td><td>FL</td><td>105751</td><td>116</td><td>107.64</td><td>24.998</td></tr><tr><th>10</th><td>508</td><td>1003010904</td><td>2017</td><td>FL</td><td>105751</td><td>115</td><td>115.62</td><td>23.0</td></tr><tr><th>11</th><td>798</td><td>1003011600</td><td>2008</td><td>FL</td><td>105751</td><td>113</td><td><em>missing</em></td><td>32.0016</td></tr><tr><th>12</th><td>798</td><td>1003011600</td><td>2008</td><td>FL</td><td>105935</td><td>111</td><td><em>missing</em></td><td>20.0022</td></tr><tr><th>13</th><td>799</td><td>1003011600</td><td>2009</td><td>FL</td><td>105751</td><td>111</td><td><em>missing</em></td><td>29.0043</td></tr><tr><th>14</th><td>799</td><td>1003011600</td><td>2009</td><td>FL</td><td>105935</td><td>116</td><td><em>missing</em></td><td>22.0052</td></tr><tr><th>15</th><td>800</td><td>1003011601</td><td>2010</td><td>FL</td><td>105751</td><td>116</td><td><em>missing</em></td><td>38.9992</td></tr><tr><th>16</th><td>801</td><td>1003011601</td><td>2011</td><td>FL</td><td>105751</td><td>110</td><td>114.35</td><td>27.005</td></tr><tr><th>17</th><td>802</td><td>1003011601</td><td>2012</td><td>FL</td><td>105751</td><td>111</td><td>114.58</td><td>22.9992</td></tr><tr><th>18</th><td>803</td><td>1003011601</td><td>2013</td><td>FL</td><td>105751</td><td>108</td><td>113.57</td><td>28.0044</td></tr><tr><th>19</th><td>804</td><td>1003011601</td><td>2014</td><td>FL</td><td>105751</td><td>111</td><td>113.49</td><td>29.0043</td></tr><tr><th>20</th><td>805</td><td>1003011601</td><td>2015</td><td>FL</td><td>105751</td><td>111</td><td>114.88</td><td>29.0043</td></tr><tr><th>21</th><td>806</td><td>1003011601</td><td>2016</td><td>FL</td><td>105751</td><td>116</td><td>107.64</td><td>24.998</td></tr><tr><th>22</th><td>807</td><td>1003011601</td><td>2017</td><td>FL</td><td>105751</td><td>115</td><td>115.62</td><td>23.0</td></tr><tr><th>23</th><td>808</td><td>1003011602</td><td>2010</td><td>FL</td><td>105267</td><td>116</td><td><em>missing</em></td><td>25.9956</td></tr><tr><th>24</th><td>808</td><td>1003011602</td><td>2010</td><td>FL</td><td>105359</td><td>189</td><td><em>missing</em></td><td>16.0083</td></tr><tr><th>&vellip;</th><td>&vellip;</td><td>&vellip;</td><td>&vellip;</td><td>&vellip;</td><td>&vellip;</td><td>&vellip;</td><td>&vellip;</td><td>&vellip;</td></tr></tbody></table></div>"
      ],
      "text/latex": [
       "\\begin{tabular}{r|ccccccccc}\n",
       "\t& t & tract & year & state & j & q & avg\\_dailycensus & nres\\_mcare & \\\\\n",
       "\t\\hline\n",
       "\t& Int64 & Int64 & Int64 & String3 & String7 & Int64 & Float64? & Float64? & \\\\\n",
       "\t\\hline\n",
       "\t1 & 474 & 1003010901 & 2008 & FL & 105751 & 113 & \\emph{missing} & 32.0016 & $\\dots$ \\\\\n",
       "\t2 & 475 & 1003010901 & 2009 & FL & 105751 & 111 & \\emph{missing} & 29.0043 & $\\dots$ \\\\\n",
       "\t3 & 501 & 1003010904 & 2010 & FL & 105751 & 116 & \\emph{missing} & 38.9992 & $\\dots$ \\\\\n",
       "\t4 & 502 & 1003010904 & 2011 & FL & 105751 & 110 & 114.35 & 27.005 & $\\dots$ \\\\\n",
       "\t5 & 503 & 1003010904 & 2012 & FL & 105751 & 111 & 114.58 & 22.9992 & $\\dots$ \\\\\n",
       "\t6 & 504 & 1003010904 & 2013 & FL & 105751 & 108 & 113.57 & 28.0044 & $\\dots$ \\\\\n",
       "\t7 & 505 & 1003010904 & 2014 & FL & 105751 & 111 & 113.49 & 29.0043 & $\\dots$ \\\\\n",
       "\t8 & 506 & 1003010904 & 2015 & FL & 105751 & 111 & 114.88 & 29.0043 & $\\dots$ \\\\\n",
       "\t9 & 507 & 1003010904 & 2016 & FL & 105751 & 116 & 107.64 & 24.998 & $\\dots$ \\\\\n",
       "\t10 & 508 & 1003010904 & 2017 & FL & 105751 & 115 & 115.62 & 23.0 & $\\dots$ \\\\\n",
       "\t11 & 798 & 1003011600 & 2008 & FL & 105751 & 113 & \\emph{missing} & 32.0016 & $\\dots$ \\\\\n",
       "\t12 & 798 & 1003011600 & 2008 & FL & 105935 & 111 & \\emph{missing} & 20.0022 & $\\dots$ \\\\\n",
       "\t13 & 799 & 1003011600 & 2009 & FL & 105751 & 111 & \\emph{missing} & 29.0043 & $\\dots$ \\\\\n",
       "\t14 & 799 & 1003011600 & 2009 & FL & 105935 & 116 & \\emph{missing} & 22.0052 & $\\dots$ \\\\\n",
       "\t15 & 800 & 1003011601 & 2010 & FL & 105751 & 116 & \\emph{missing} & 38.9992 & $\\dots$ \\\\\n",
       "\t16 & 801 & 1003011601 & 2011 & FL & 105751 & 110 & 114.35 & 27.005 & $\\dots$ \\\\\n",
       "\t17 & 802 & 1003011601 & 2012 & FL & 105751 & 111 & 114.58 & 22.9992 & $\\dots$ \\\\\n",
       "\t18 & 803 & 1003011601 & 2013 & FL & 105751 & 108 & 113.57 & 28.0044 & $\\dots$ \\\\\n",
       "\t19 & 804 & 1003011601 & 2014 & FL & 105751 & 111 & 113.49 & 29.0043 & $\\dots$ \\\\\n",
       "\t20 & 805 & 1003011601 & 2015 & FL & 105751 & 111 & 114.88 & 29.0043 & $\\dots$ \\\\\n",
       "\t21 & 806 & 1003011601 & 2016 & FL & 105751 & 116 & 107.64 & 24.998 & $\\dots$ \\\\\n",
       "\t22 & 807 & 1003011601 & 2017 & FL & 105751 & 115 & 115.62 & 23.0 & $\\dots$ \\\\\n",
       "\t23 & 808 & 1003011602 & 2010 & FL & 105267 & 116 & \\emph{missing} & 25.9956 & $\\dots$ \\\\\n",
       "\t24 & 808 & 1003011602 & 2010 & FL & 105359 & 189 & \\emph{missing} & 16.0083 & $\\dots$ \\\\\n",
       "\t$\\dots$ & $\\dots$ & $\\dots$ & $\\dots$ & $\\dots$ & $\\dots$ & $\\dots$ & $\\dots$ & $\\dots$ &  \\\\\n",
       "\\end{tabular}\n"
      ],
      "text/plain": [
       "\u001b[1m842990×16 DataFrame\u001b[0m\n",
       "\u001b[1m    Row \u001b[0m│\u001b[1m t      \u001b[0m\u001b[1m tract       \u001b[0m\u001b[1m year  \u001b[0m\u001b[1m state   \u001b[0m\u001b[1m j       \u001b[0m\u001b[1m q     \u001b[0m\u001b[1m avg_dailycensus\u001b[0m ⋯\n",
       "\u001b[1m        \u001b[0m│\u001b[90m Int64  \u001b[0m\u001b[90m Int64       \u001b[0m\u001b[90m Int64 \u001b[0m\u001b[90m String3 \u001b[0m\u001b[90m String7 \u001b[0m\u001b[90m Int64 \u001b[0m\u001b[90m Float64?       \u001b[0m ⋯\n",
       "────────┼───────────────────────────────────────────────────────────────────────\n",
       "      1 │    474   1003010901   2008  FL       105751     113 \u001b[90m      missing   \u001b[0m ⋯\n",
       "      2 │    475   1003010901   2009  FL       105751     111 \u001b[90m      missing\u001b[0m\n",
       "      3 │    501   1003010904   2010  FL       105751     116 \u001b[90m      missing\u001b[0m\n",
       "      4 │    502   1003010904   2011  FL       105751     110           114.35\n",
       "      5 │    503   1003010904   2012  FL       105751     111           114.58 ⋯\n",
       "      6 │    504   1003010904   2013  FL       105751     108           113.57\n",
       "      7 │    505   1003010904   2014  FL       105751     111           113.49\n",
       "      8 │    506   1003010904   2015  FL       105751     111           114.88\n",
       "   ⋮    │   ⋮          ⋮         ⋮       ⋮        ⋮       ⋮           ⋮        ⋱\n",
       " 842984 │ 401625  13275961100   2011  FL       10A421      54            47.78 ⋯\n",
       " 842985 │ 401626  13275961100   2012  FL       10A421      49            51.07\n",
       " 842986 │ 401627  13275961100   2013  FL       10A421      54            52.47\n",
       " 842987 │ 401628  13275961100   2014  FL       10A421      52            47.76\n",
       " 842988 │ 401629  13275961100   2015  FL       10A421      48            48.07 ⋯\n",
       " 842989 │ 401630  13275961100   2016  FL       10A421      51            46.4\n",
       " 842990 │ 401631  13275961100   2017  FL       10A421      56            53.92\n",
       "\u001b[36m                                               9 columns and 842975 rows omitted\u001b[0m"
      ]
     },
     "metadata": {},
     "output_type": "display_data"
    }
   ],
   "source": [
    "@subset!(df, :state.==\"FL\", :year.>2007)"
   ]
  },
  {
   "cell_type": "code",
   "execution_count": 6,
   "metadata": {},
   "outputs": [],
   "source": []
  }
 ],
 "metadata": {
  "kernelspec": {
   "display_name": "Julia 1.6.1",
   "language": "julia",
   "name": "julia-1.6"
  },
  "language_info": {
   "file_extension": ".jl",
   "mimetype": "application/julia",
   "name": "julia",
   "version": "1.6.1"
  },
  "orig_nbformat": 4,
  "vscode": {
   "interpreter": {
    "hash": "8f874cb96a7fdce6260903239cd4ccff59f9cd40f07ae8042efeb94d5942b24b"
   }
  }
 },
 "nbformat": 4,
 "nbformat_minor": 2
}
