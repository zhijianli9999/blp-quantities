{
 "cells": [
  {
   "cell_type": "code",
   "execution_count": 1,
   "metadata": {},
   "outputs": [],
   "source": [
    "using DataFrames, Optim, Revise, Serialization, DebuggingUtilities, CSV, Statistics\n",
    "\n",
    "const datadir = \"/export/storage_adgandhi/MiscLi/factract\";\n",
    "string(@__DIR__) in LOAD_PATH || push!(LOAD_PATH, @__DIR__);\n",
    "using BLPmodule; const m = BLPmodule;\n",
    "\n"
   ]
  },
  {
   "cell_type": "code",
   "execution_count": 3,
   "metadata": {},
   "outputs": [
    {
     "name": "stdout",
     "output_type": "stream",
     "text": [
      "Summary Stats:\n",
      "Length:         57413\n",
      "Missing Count:  0\n",
      "Mean:           0.978005\n",
      "Minimum:        0.156313\n",
      "1st Quartile:   0.830679\n",
      "Median:         0.951347\n",
      "3rd Quartile:   1.088636\n",
      "Maximum:        1.989135\n",
      "Type:           Float64\n"
     ]
    }
   ],
   "source": [
    "el_mcare_le = DataFrame(CSV.File(\"$datadir/analysis/elasticities1_1_3_1.csv\")).elast;\n",
    "describe(el_mcare_le)"
   ]
  },
  {
   "cell_type": "code",
   "execution_count": 4,
   "metadata": {},
   "outputs": [
    {
     "name": "stdout",
     "output_type": "stream",
     "text": [
      "Summary Stats:\n",
      "Length:         59686\n",
      "Missing Count:  0\n",
      "Mean:           0.777006\n",
      "Minimum:        0.117389\n",
      "1st Quartile:   0.655967\n",
      "Median:         0.756875\n",
      "3rd Quartile:   0.869407\n",
      "Maximum:        1.604588\n",
      "Type:           Float64\n"
     ]
    }
   ],
   "source": [
    "el_nonmcaid_le = DataFrame(CSV.File(\"$datadir/analysis/elasticities2_1_3_1.csv\")).elast;\n",
    "describe(el_nonmcaid_le)"
   ]
  },
  {
   "cell_type": "code",
   "execution_count": null,
   "metadata": {},
   "outputs": [],
   "source": []
  },
  {
   "cell_type": "code",
   "execution_count": null,
   "metadata": {},
   "outputs": [],
   "source": []
  },
  {
   "cell_type": "code",
   "execution_count": null,
   "metadata": {},
   "outputs": [
    {
     "name": "stdout",
     "output_type": "stream",
     "text": [
      "Summary Stats:\n",
      "Length:         8644\n",
      "Missing Count:  0\n",
      "Mean:           1.292651\n",
      "Minimum:        1.226969\n",
      "1st Quartile:   1.292355\n",
      "Median:         1.293559\n",
      "3rd Quartile:   1.294066\n",
      "Maximum:        1.294399\n",
      "Type:           Float64\n"
     ]
    }
   ],
   "source": [
    "el_loglag = DataFrame(CSV.File(\"$datadir/analysis/elasticities1_4_3_1.csv\")).elast;\n",
    "describe(el_loglag)"
   ]
  },
  {
   "cell_type": "code",
   "execution_count": 9,
   "metadata": {},
   "outputs": [
    {
     "name": "stdout",
     "output_type": "stream",
     "text": [
      "Summary Stats:\n",
      "Length:         8644\n",
      "Missing Count:  0\n",
      "Mean:           0.719747\n",
      "Minimum:        0.683176\n",
      "1st Quartile:   0.719583\n",
      "Median:         0.720253\n",
      "3rd Quartile:   0.720535\n",
      "Maximum:        0.720721\n",
      "Type:           Float64\n"
     ]
    }
   ],
   "source": [
    "el_log = DataFrame(CSV.File(\"$datadir/analysis/elasticities1_3_3_1.csv\")).elast;\n",
    "describe(el_log)"
   ]
  },
  {
   "cell_type": "code",
   "execution_count": null,
   "metadata": {},
   "outputs": [],
   "source": []
  }
 ],
 "metadata": {
  "kernelspec": {
   "display_name": "Julia 1.6.1",
   "language": "julia",
   "name": "julia-1.6"
  },
  "language_info": {
   "file_extension": ".jl",
   "mimetype": "application/julia",
   "name": "julia",
   "version": "1.6.1"
  },
  "orig_nbformat": 4,
  "vscode": {
   "interpreter": {
    "hash": "8f874cb96a7fdce6260903239cd4ccff59f9cd40f07ae8042efeb94d5942b24b"
   }
  }
 },
 "nbformat": 4,
 "nbformat_minor": 2
}
