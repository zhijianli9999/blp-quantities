{
 "cells": [
  {
   "cell_type": "code",
   "execution_count": 1,
   "metadata": {},
   "outputs": [],
   "source": [
    "using DataFrames, DataFramesMeta, Revise, CSV, Serialization"
   ]
  },
  {
   "cell_type": "code",
   "execution_count": 10,
   "metadata": {},
   "outputs": [],
   "source": [
    "const datadir = \"/export/storage_adgandhi/MiscLi/factract\";\n",
    "\n",
    "# test mode\n",
    "test1state = true\n",
    "if test1state \n",
    "    data = DataFrame(CSV.File(\"$datadir/analysis/factract_FL.csv\"));\n",
    "    dirpath = \"/export/storage_adgandhi/MiscLi/factract/analysis\"\n",
    "else\n",
    "    data = DataFrame(CSV.File(\"$datadir/analysis/factract.csv\"));\n",
    "    dirpath = \"jls\"\n",
    "end;"
   ]
  },
  {
   "cell_type": "code",
   "execution_count": 11,
   "metadata": {},
   "outputs": [
    {
     "name": "stdout",
     "output_type": "stream",
     "text": [
      "[\"facid\", \"tractid\", \"dist\", \"nfacs\", \"county\", \"occpct\", \"totbeds\", \"dchrppd\", \"rnhrppd\", \"avg_dailycensus\", \"lat\", \"lon\", \"restot\", \"state\", \"cz\", \"pop65plus_int\", \"poptot_int\", \"pop65_j\", \"fracpop_inmkt\", \"mktpop\", \"nres_mcare\", \"nres_mcaid\", \"nbr_dchrppd\", \"nbr_rnhrppd\"]\n"
     ]
    }
   ],
   "source": [
    "println(names(data))"
   ]
  },
  {
   "cell_type": "code",
   "execution_count": 13,
   "metadata": {},
   "outputs": [
    {
     "data": {
      "text/html": [
       "<div class=\"data-frame\"><p>10 rows × 3 columns</p><table class=\"data-frame\"><thead><tr><th></th><th>nres_mcare</th><th>nres_mcaid</th><th>restot</th></tr><tr><th></th><th title=\"Float64\">Float64</th><th title=\"Float64\">Float64</th><th title=\"Int64\">Int64</th></tr></thead><tbody><tr><th>1</th><td>14.9968</td><td>46.9976</td><td>104</td></tr><tr><th>2</th><td>42.0036</td><td>49.996</td><td>116</td></tr><tr><th>3</th><td>34.9999</td><td>49.9983</td><td>109</td></tr><tr><th>4</th><td>14.007</td><td>98.0055</td><td>145</td></tr><tr><th>5</th><td>10.0011</td><td>77.9997</td><td>111</td></tr><tr><th>6</th><td>14.9968</td><td>46.9976</td><td>104</td></tr><tr><th>7</th><td>14.007</td><td>98.0055</td><td>145</td></tr><tr><th>8</th><td>10.0011</td><td>77.9997</td><td>111</td></tr><tr><th>9</th><td>34.9999</td><td>49.9983</td><td>109</td></tr><tr><th>10</th><td>42.0036</td><td>49.996</td><td>116</td></tr></tbody></table></div>"
      ],
      "text/latex": [
       "\\begin{tabular}{r|ccc}\n",
       "\t& nres\\_mcare & nres\\_mcaid & restot\\\\\n",
       "\t\\hline\n",
       "\t& Float64 & Float64 & Int64\\\\\n",
       "\t\\hline\n",
       "\t1 & 14.9968 & 46.9976 & 104 \\\\\n",
       "\t2 & 42.0036 & 49.996 & 116 \\\\\n",
       "\t3 & 34.9999 & 49.9983 & 109 \\\\\n",
       "\t4 & 14.007 & 98.0055 & 145 \\\\\n",
       "\t5 & 10.0011 & 77.9997 & 111 \\\\\n",
       "\t6 & 14.9968 & 46.9976 & 104 \\\\\n",
       "\t7 & 14.007 & 98.0055 & 145 \\\\\n",
       "\t8 & 10.0011 & 77.9997 & 111 \\\\\n",
       "\t9 & 34.9999 & 49.9983 & 109 \\\\\n",
       "\t10 & 42.0036 & 49.996 & 116 \\\\\n",
       "\\end{tabular}\n"
      ],
      "text/plain": [
       "\u001b[1m10×3 DataFrame\u001b[0m\n",
       "\u001b[1m Row \u001b[0m│\u001b[1m nres_mcare \u001b[0m\u001b[1m nres_mcaid \u001b[0m\u001b[1m restot \u001b[0m\n",
       "\u001b[1m     \u001b[0m│\u001b[90m Float64    \u001b[0m\u001b[90m Float64    \u001b[0m\u001b[90m Int64  \u001b[0m\n",
       "─────┼────────────────────────────────\n",
       "   1 │    14.9968     46.9976     104\n",
       "   2 │    42.0036     49.996      116\n",
       "   3 │    34.9999     49.9983     109\n",
       "   4 │    14.007      98.0055     145\n",
       "   5 │    10.0011     77.9997     111\n",
       "   6 │    14.9968     46.9976     104\n",
       "   7 │    14.007      98.0055     145\n",
       "   8 │    10.0011     77.9997     111\n",
       "   9 │    34.9999     49.9983     109\n",
       "  10 │    42.0036     49.996      116"
      ]
     },
     "execution_count": 13,
     "metadata": {},
     "output_type": "execute_result"
    }
   ],
   "source": [
    "data[1:10,[:nres_mcare, :nres_mcaid, :restot]]"
   ]
  },
  {
   "cell_type": "code",
   "execution_count": null,
   "metadata": {},
   "outputs": [],
   "source": []
  },
  {
   "cell_type": "code",
   "execution_count": null,
   "metadata": {},
   "outputs": [],
   "source": [
    "\n",
    "# Get dataframe made in make_df.jl\n",
    "savepath = (\"$dirpath/df.jls\");"
   ]
  },
  {
   "cell_type": "code",
   "execution_count": null,
   "metadata": {},
   "outputs": [],
   "source": []
  }
 ],
 "metadata": {
  "kernelspec": {
   "display_name": "Julia 1.6.1",
   "language": "julia",
   "name": "julia-1.6"
  },
  "language_info": {
   "file_extension": ".jl",
   "mimetype": "application/julia",
   "name": "julia",
   "version": "1.6.1"
  },
  "orig_nbformat": 4,
  "vscode": {
   "interpreter": {
    "hash": "8f874cb96a7fdce6260903239cd4ccff59f9cd40f07ae8042efeb94d5942b24b"
   }
  }
 },
 "nbformat": 4,
 "nbformat_minor": 2
}
