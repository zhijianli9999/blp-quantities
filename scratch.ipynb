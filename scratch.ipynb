{
 "cells": [
  {
   "cell_type": "code",
   "execution_count": 1,
   "metadata": {},
   "outputs": [],
   "source": [
    "using DataFrames, DataFramesMeta, Revise, CSV, Serialization"
   ]
  },
  {
   "cell_type": "code",
   "execution_count": 2,
   "metadata": {},
   "outputs": [
    {
     "name": "stderr",
     "output_type": "stream",
     "text": [
      "┌ Info: Precompiling BLPmodule [top-level]\n",
      "└ @ Base loading.jl:1317\n"
     ]
    }
   ],
   "source": [
    "string(@__DIR__) in LOAD_PATH || push!(LOAD_PATH, @__DIR__)\n",
    "using BLPmodule; const m = BLPmodule;\n"
   ]
  },
  {
   "cell_type": "code",
   "execution_count": 3,
   "metadata": {},
   "outputs": [],
   "source": [
    "const datadir = \"/export/storage_adgandhi/MiscLi/factract\";\n",
    "\n",
    "# test mode\n",
    "test1state = false\n",
    "if test1state \n",
    "    data = DataFrame(CSV.File(\"$datadir/analysis/factract_FL.csv\"));\n",
    "    dirpath = \"/export/storage_adgandhi/MiscLi/factract/analysis\"\n",
    "else\n",
    "    data = DataFrame(CSV.File(\"$datadir/analysis/factract.csv\"));\n",
    "    dirpath = \"jls\"\n",
    "end;"
   ]
  },
  {
   "cell_type": "code",
   "execution_count": 4,
   "metadata": {},
   "outputs": [
    {
     "name": "stdout",
     "output_type": "stream",
     "text": [
      "[\"facid\", \"year\", \"county\", \"occpct\", \"totbeds\", \"dchrppd\", \"rnhrppd\", \"avg_dailycensus\", \"lat\", \"lon\", \"restot\", \"state\", \"cz\", \"tractid\", \"dist\", \"pop65plus_int\", \"poptot_int\", \"pop65_j\", \"fracpop_inmkt\", \"mktpop\", \"nres_mcare\", \"nres_mcaid\", \"nbr_dchrppd\", \"nbr_rnhrppd\", \"tractyear\"]\n"
     ]
    }
   ],
   "source": [
    "println(names(data))"
   ]
  },
  {
   "cell_type": "code",
   "execution_count": 5,
   "metadata": {},
   "outputs": [],
   "source": [
    "df = @select(data, \n",
    "    :t = :tractyear, \n",
    "    :tract = :tractid, \n",
    "    :year = :year, \n",
    "    :state = :state, \n",
    "    :j = :facid, \n",
    "    :q = :restot,\n",
    "    :avg_dailycensus,\n",
    "    :nres_mcare,\n",
    "    :nres_mcaid,\n",
    "    :M = :mktpop,\n",
    "    :d = :dist, \n",
    "    :d2 = :dist .^ 2,\n",
    "    :x1 = :dchrppd,\n",
    "    :x2 = :rnhrppd,\n",
    "    :z1 = :nbr_dchrppd,\n",
    "    :z2 = :nbr_rnhrppd,\n",
    ");\n",
    "\n"
   ]
  },
  {
   "cell_type": "code",
   "execution_count": null,
   "metadata": {},
   "outputs": [],
   "source": [
    "@subset!(df, :state.==\"FL\", :year.>2007);"
   ]
  },
  {
   "cell_type": "code",
   "execution_count": null,
   "metadata": {},
   "outputs": [],
   "source": [
    "\n",
    "firm_IDs_long = df.j;\n",
    "tract_IDs_long = df.t;\n",
    "X = Matrix(df[!, [:x1, :x2]])\n",
    "Z = Matrix(df[!, [:z1, :z2]])\n",
    "D = Matrix(df[!, [:d, :d2]])\n",
    "Q = df.q\n",
    "M = df.M;\n",
    "nJ = length(unique(firm_IDs_long));\n",
    "\n",
    "# economy for NLLS \n",
    "ec = m.make_Economy(\n",
    "    firm_IDs_long,\n",
    "    tract_IDs_long,\n",
    "    X, Z, D, Q, M, 1\n",
    "    );\n",
    "\n"
   ]
  },
  {
   "cell_type": "code",
   "execution_count": null,
   "metadata": {},
   "outputs": [],
   "source": [
    "q_obs = ec.q_obs;\n",
    "tracts = ec.tracts;\n",
    "n_firms = length(ec.firms);\n",
    "X = [t.X[:,1:2] for t in tracts];\n",
    "D = [t.D[:,1:2] for t in tracts];\n",
    "j_indexer, t_indexer, positionin = m.create_indices(tracts, n_firms);\n"
   ]
  },
  {
   "cell_type": "code",
   "execution_count": null,
   "metadata": {},
   "outputs": [],
   "source": [
    "θx, θd, share, mktq, firmq = m.run_nlls(X, D, tracts, n_firms, q_obs);"
   ]
  },
  {
   "cell_type": "code",
   "execution_count": null,
   "metadata": {},
   "outputs": [],
   "source": []
  }
 ],
 "metadata": {
  "kernelspec": {
   "display_name": "Julia 1.6.1",
   "language": "julia",
   "name": "julia-1.6"
  },
  "language_info": {
   "file_extension": ".jl",
   "mimetype": "application/julia",
   "name": "julia",
   "version": "1.6.1"
  },
  "orig_nbformat": 4,
  "vscode": {
   "interpreter": {
    "hash": "8f874cb96a7fdce6260903239cd4ccff59f9cd40f07ae8042efeb94d5942b24b"
   }
  }
 },
 "nbformat": 4,
 "nbformat_minor": 2
}
