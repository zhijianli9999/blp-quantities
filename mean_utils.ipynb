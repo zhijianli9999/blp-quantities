{
 "cells": [
  {
   "cell_type": "code",
   "execution_count": 12,
   "metadata": {},
   "outputs": [],
   "source": [
    "using DataFrames, LinearAlgebra, Distributions, Revise, Serialization, DebuggingUtilities"
   ]
  },
  {
   "cell_type": "code",
   "execution_count": 2,
   "metadata": {},
   "outputs": [],
   "source": [
    "string(@__DIR__) in LOAD_PATH || push!(LOAD_PATH, @__DIR__)\n",
    "using BLPmodule; const m = BLPmodule;"
   ]
  },
  {
   "cell_type": "code",
   "execution_count": 15,
   "metadata": {},
   "outputs": [],
   "source": [
    "# Get data\n",
    "df = deserialize(\"jls/df.jls\");\n",
    "dropmissing!(df);"
   ]
  },
  {
   "cell_type": "markdown",
   "metadata": {},
   "source": [
    "---\n",
    "#### Make economy and parameters for BLP"
   ]
  },
  {
   "cell_type": "code",
   "execution_count": 16,
   "metadata": {},
   "outputs": [],
   "source": [
    "firm_IDs_long = df.j;\n",
    "tract_IDs_long = df.t;\n",
    "X = Matrix(df[!, [:x1, :x2, :z1, :z2]])\n",
    "D = Matrix(df[!, [:d, :d2]])\n",
    "Q = df.q\n",
    "M = df.M;\n",
    "nJ = length(unique(firm_IDs_long));\n",
    "nI = 200;"
   ]
  },
  {
   "cell_type": "code",
   "execution_count": 17,
   "metadata": {},
   "outputs": [],
   "source": [
    "σ = ones(size(D)[2]);\n",
    "pars = m.set_Pars(K = 2, nI = nI, δs=ones(nJ,1));\n",
    "serialize(\"jls/pars.jls\", pars)"
   ]
  },
  {
   "cell_type": "code",
   "execution_count": 18,
   "metadata": {},
   "outputs": [
    {
     "name": "stdout",
     "output_type": "stream",
     "text": [
      "Economy with 417 firms and 4138 tracts.\n"
     ]
    }
   ],
   "source": [
    "ec = m.make_Economy(\n",
    "    firm_IDs_long,\n",
    "    tract_IDs_long,\n",
    "    X,\n",
    "    D,\n",
    "    Q,\n",
    "    M,\n",
    "    nI\n",
    "    );\n",
    "\n",
    "serialize(\"jls/ec.jls\", ec)\n",
    "# serialize(\"/export/storage_adgandhi/MiscLi/factract/analysis/ec.jls\", ec)"
   ]
  },
  {
   "cell_type": "markdown",
   "metadata": {},
   "source": [
    "---"
   ]
  },
  {
   "cell_type": "markdown",
   "metadata": {},
   "source": [
    "### Make economy for NLLS"
   ]
  },
  {
   "cell_type": "code",
   "execution_count": 19,
   "metadata": {},
   "outputs": [
    {
     "name": "stdout",
     "output_type": "stream",
     "text": [
      "Economy with 417 firms and 4138 tracts.\n"
     ]
    }
   ],
   "source": [
    "firm_IDs_long = df.j;\n",
    "tract_IDs_long = df.t;\n",
    "X = Matrix(df[!, [:x1, :x2]])\n",
    "D = Matrix(df[!, [:d, :d2]])\n",
    "Q = df.q\n",
    "M = df.M;\n",
    "nJ = length(unique(firm_IDs_long));\n",
    "nI = 1;\n",
    "\n",
    "ec = m.make_Economy(\n",
    "    firm_IDs_long,\n",
    "    tract_IDs_long,\n",
    "    X,\n",
    "    D,\n",
    "    Q,\n",
    "    M,\n",
    "    nI\n",
    "    );\n",
    "\n",
    "serialize(\"jls/ec_nlls.jls\", ec)"
   ]
  },
  {
   "cell_type": "markdown",
   "metadata": {},
   "source": [
    "---"
   ]
  },
  {
   "cell_type": "markdown",
   "metadata": {},
   "source": [
    "## Computation"
   ]
  },
  {
   "cell_type": "code",
   "execution_count": 8,
   "metadata": {},
   "outputs": [
    {
     "data": {
      "text/plain": [
       "32"
      ]
     },
     "metadata": {},
     "output_type": "display_data"
    }
   ],
   "source": [
    "Threads.nthreads()"
   ]
  },
  {
   "cell_type": "code",
   "execution_count": 20,
   "metadata": {},
   "outputs": [
    {
     "name": "stdout",
     "output_type": "stream",
     "text": [
      "dist = NaN, iterations = 593\n"
     ]
    }
   ],
   "source": [
    "ec = deserialize(\"jls/ec.jls\");\n",
    "pars = deserialize(\"jls/pars.jls\");\n",
    "deltas, q_iter = m.compute_deltas(ec, pars, σ,max_iter=1000, verbose=true);\n",
    "# serialize(\"jls/deltas.jls\", deltas);"
   ]
  },
  {
   "cell_type": "code",
   "execution_count": 21,
   "metadata": {},
   "outputs": [
    {
     "name": "stdout",
     "output_type": "stream",
     "text": [
      "sum(t.shares) = 0.12069666240899499\n",
      "(in /mnt/staff/zhli/blp-quantities/mean_utils.ipynb:2)\n",
      "sum(t.shares) = 0.17652217173427082\n",
      "(in /mnt/staff/zhli/blp-quantities/mean_utils.ipynb:2)\n",
      "sum(t.shares) = 0.315498274559035\n",
      "(in /mnt/staff/zhli/blp-quantities/mean_utils.ipynb:2)\n",
      "sum(t.shares) = 0.27895347196774467\n",
      "(in /mnt/staff/zhli/blp-quantities/mean_utils.ipynb:2)\n",
      "sum(t.shares) = 0.28506394696532134\n",
      "(in /mnt/staff/zhli/blp-quantities/mean_utils.ipynb:2)\n",
      "sum(t.shares) = 0.1807881159052969\n",
      "(in /mnt/staff/zhli/blp-quantities/mean_utils.ipynb:2)\n",
      "sum(t.shares) = 0.17576982260358553\n",
      "(in /mnt/staff/zhli/blp-quantities/mean_utils.ipynb:2)\n",
      "sum(t.shares) = 0.17585142894077663\n",
      "(in /mnt/staff/zhli/blp-quantities/mean_utils.ipynb:2)\n",
      "sum(t.shares) = 0.1755174340783869\n",
      "(in /mnt/staff/zhli/blp-quantities/mean_utils.ipynb:2)\n",
      "sum(t.shares) = 0.18643770299567702\n",
      "(in /mnt/staff/zhli/blp-quantities/mean_utils.ipynb:2)\n",
      "sum(t.shares) = 0.17529189712442544\n",
      "(in /mnt/staff/zhli/blp-quantities/mean_utils.ipynb:2)\n",
      "sum(t.shares) = 0.1837457567015378\n",
      "(in /mnt/staff/zhli/blp-quantities/mean_utils.ipynb:2)\n",
      "sum(t.shares) = 0.18419812318615955\n",
      "(in /mnt/staff/zhli/blp-quantities/mean_utils.ipynb:2)\n",
      "sum(t.shares) = 0.18374362774542533\n",
      "(in /mnt/staff/zhli/blp-quantities/mean_utils.ipynb:2)\n",
      "sum(t.shares) = 0.18367209845666507\n",
      "(in /mnt/staff/zhli/blp-quantities/mean_utils.ipynb:2)\n",
      "sum(t.shares) = 0.1837285683621871\n",
      "(in /mnt/staff/zhli/blp-quantities/mean_utils.ipynb:2)\n",
      "sum(t.shares) = 0.19782330401154263\n",
      "(in /mnt/staff/zhli/blp-quantities/mean_utils.ipynb:2)\n",
      "sum(t.shares) = 0.1843042979414028\n",
      "(in /mnt/staff/zhli/blp-quantities/mean_utils.ipynb:2)\n",
      "sum(t.shares) = 0.18552317459688103\n",
      "(in /mnt/staff/zhli/blp-quantities/mean_utils.ipynb:2)\n",
      "sum(t.shares) = 0.18606141226764786\n",
      "(in /mnt/staff/zhli/blp-quantities/mean_utils.ipynb:2)\n",
      "sum(t.shares) = 0.21633300479228845\n",
      "(in /mnt/staff/zhli/blp-quantities/mean_utils.ipynb:2)\n",
      "sum(t.shares) = 0.18463177675670098\n",
      "(in /mnt/staff/zhli/blp-quantities/mean_utils.ipynb:2)\n",
      "sum(t.shares) = 0.18527024652992058\n",
      "(in /mnt/staff/zhli/blp-quantities/mean_utils.ipynb:2)\n",
      "sum(t.shares) = 0.1977402001307638\n",
      "(in /mnt/staff/zhli/blp-quantities/mean_utils.ipynb:2)\n",
      "sum(t.shares) = 0.19737286255892256\n",
      "(in /mnt/staff/zhli/blp-quantities/mean_utils.ipynb:2)\n",
      "sum(t.shares) = 0.1975530927422274\n",
      "(in /mnt/staff/zhli/blp-quantities/mean_utils.ipynb:2)\n",
      "sum(t.shares) = 0.18434119127339044\n",
      "(in /mnt/staff/zhli/blp-quantities/mean_utils.ipynb:2)\n",
      "sum(t.shares) = 0.19697132036658985\n",
      "(in /mnt/staff/zhli/blp-quantities/mean_utils.ipynb:2)\n",
      "sum(t.shares) = 0.19712498126010794\n",
      "(in /mnt/staff/zhli/blp-quantities/mean_utils.ipynb:2)\n",
      "sum(t.shares) = 0.18400451001870624\n",
      "(in /mnt/staff/zhli/blp-quantities/mean_utils.ipynb:2)\n",
      "sum(t.shares) = 0.17532855534793015\n",
      "(in /mnt/staff/zhli/blp-quantities/mean_utils.ipynb:2)\n",
      "sum(t.shares) = 0.2063736439026993\n",
      "(in /mnt/staff/zhli/blp-quantities/mean_utils.ipynb:2)\n",
      "sum(t.shares) = 0.20637801539468195\n",
      "(in /mnt/staff/zhli/blp-quantities/mean_utils.ipynb:2)\n",
      "sum(t.shares) = 0.17534349315760284\n",
      "(in /mnt/staff/zhli/blp-quantities/mean_utils.ipynb:2)\n",
      "sum(t.shares) = 0.20648386124744597\n",
      "(in /mnt/staff/zhli/blp-quantities/mean_utils.ipynb:2)\n",
      "sum(t.shares) = 0.2598750452058832\n",
      "(in /mnt/staff/zhli/blp-quantities/mean_utils.ipynb:2)\n",
      "sum(t.shares) = 0.2004878348429502\n",
      "(in /mnt/staff/zhli/blp-quantities/mean_utils.ipynb:2)\n",
      "sum(t.shares) = 0.20069324702158794\n",
      "(in /mnt/staff/zhli/blp-quantities/mean_utils.ipynb:2)\n",
      "sum(t.shares) = 0.21981774560269118\n",
      "(in /mnt/staff/zhli/blp-quantities/mean_utils.ipynb:2)\n",
      "sum(t.shares) = 0.21097977190575365\n",
      "(in /mnt/staff/zhli/blp-quantities/mean_utils.ipynb:2)\n",
      "sum(t.shares) = 0.19040034742341508\n",
      "(in /mnt/staff/zhli/blp-quantities/mean_utils.ipynb:2)\n",
      "sum(t.shares) = 0.21886177465258672\n",
      "(in /mnt/staff/zhli/blp-quantities/mean_utils.ipynb:2)\n",
      "sum(t.shares) = 0.20212057675599845\n",
      "(in /mnt/staff/zhli/blp-quantities/mean_utils.ipynb:2)\n",
      "sum(t.shares) = 0.2076847454258823\n",
      "(in /mnt/staff/zhli/blp-quantities/mean_utils.ipynb:2)\n",
      "sum(t.shares) = 0.2295775103705754\n",
      "(in /mnt/staff/zhli/blp-quantities/mean_utils.ipynb:2)\n",
      "sum(t.shares) = 0.20505102012043855\n",
      "(in /mnt/staff/zhli/blp-quantities/mean_utils.ipynb:2)\n",
      "sum(t.shares) = 0.17628871636700003\n",
      "(in /mnt/staff/zhli/blp-quantities/mean_utils.ipynb:2)\n",
      "sum(t.shares) = 0.24531397065006477\n",
      "(in /mnt/staff/zhli/blp-quantities/mean_utils.ipynb:2)\n",
      "sum(t.shares) = 0.26552324622187745\n",
      "(in /mnt/staff/zhli/blp-quantities/mean_utils.ipynb:2)\n",
      "sum(t.shares) = 0.32861597328627196\n",
      "(in /mnt/staff/zhli/blp-quantities/mean_utils.ipynb:2)\n",
      "sum(t.shares) = 0.32838402097305436\n",
      "(in /mnt/staff/zhli/blp-quantities/mean_utils.ipynb:2)\n",
      "sum(t.shares) = 0.32843293137976115\n",
      "(in /mnt/staff/zhli/blp-quantities/mean_utils.ipynb:2)\n",
      "sum(t.shares) = 0.30685399547494496\n",
      "(in /mnt/staff/zhli/blp-quantities/mean_utils.ipynb:2)\n",
      "sum(t.shares) = 0.33396061006146177\n",
      "(in /mnt/staff/zhli/blp-quantities/mean_utils.ipynb:2)\n",
      "sum(t.shares) = 0.3284529232740564\n",
      "(in /mnt/staff/zhli/blp-quantities/mean_utils.ipynb:2)\n",
      "sum(t.shares) = 0.2954614321204187\n",
      "(in /mnt/staff/zhli/blp-quantities/mean_utils.ipynb:2)\n",
      "sum(t.shares) = 0.31740636453610516\n",
      "(in /mnt/staff/zhli/blp-quantities/mean_utils.ipynb:2)\n",
      "sum(t.shares) = 0.34737296452873917\n",
      "(in /mnt/staff/zhli/blp-quantities/mean_utils.ipynb:2)\n",
      "sum(t.shares) = 0.34718345534783385\n",
      "(in /mnt/staff/zhli/blp-quantities/mean_utils.ipynb:2)\n",
      "sum(t.shares) = 0.34084535022641504\n",
      "(in /mnt/staff/zhli/blp-quantities/mean_utils.ipynb:2)\n",
      "sum(t.shares) = 0.3538521893999414\n",
      "(in /mnt/staff/zhli/blp-quantities/mean_utils.ipynb:2)\n",
      "sum(t.shares) = 0.2887233643398362\n",
      "(in /mnt/staff/zhli/blp-quantities/mean_utils.ipynb:2)\n",
      "sum(t.shares) = 0.2745429300132653\n",
      "(in /mnt/staff/zhli/blp-quantities/mean_utils.ipynb:2)\n",
      "sum(t.shares) = 0.3538588192331207\n",
      "(in /mnt/staff/zhli/blp-quantities/mean_utils.ipynb:2)\n",
      "sum(t.shares) = 0.3614591597711477\n",
      "(in /mnt/staff/zhli/blp-quantities/mean_utils.ipynb:2)\n",
      "sum(t.shares) = 0.3538959110916194\n",
      "(in /mnt/staff/zhli/blp-quantities/mean_utils.ipynb:2)\n",
      "sum(t.shares) = 0.2308159457528293\n",
      "(in /mnt/staff/zhli/blp-quantities/mean_utils.ipynb:2)\n",
      "sum(t.shares) = 0.17933099675609376\n",
      "(in /mnt/staff/zhli/blp-quantities/mean_utils.ipynb:2)\n",
      "sum(t.shares) = 0.22361498769608917\n",
      "(in /mnt/staff/zhli/blp-quantities/mean_utils.ipynb:2)\n",
      "sum(t.shares) = 0.22656431072594538\n",
      "(in /mnt/staff/zhli/blp-quantities/mean_utils.ipynb:2)\n",
      "sum(t.shares) = 0.22662033540948956\n",
      "(in /mnt/staff/zhli/blp-quantities/mean_utils.ipynb:2)\n",
      "sum(t.shares) = 0.23058704834304772\n",
      "(in /mnt/staff/zhli/blp-quantities/mean_utils.ipynb:2)\n",
      "sum(t.shares) = 0.22821301552666154\n",
      "(in /mnt/staff/zhli/blp-quantities/mean_utils.ipynb:2)\n",
      "sum(t.shares) = 0.2277498719533359\n",
      "(in /mnt/staff/zhli/blp-quantities/mean_utils.ipynb:2)\n",
      "sum(t.shares) = 0.23059473739800795\n",
      "(in /mnt/staff/zhli/blp-quantities/mean_utils.ipynb:2)\n",
      "sum(t.shares) = 0.22336282680814218\n",
      "(in /mnt/staff/zhli/blp-quantities/mean_utils.ipynb:2)\n",
      "sum(t.shares) = 0.2202954197964232\n",
      "(in /mnt/staff/zhli/blp-quantities/mean_utils.ipynb:2)\n",
      "sum(t.shares) = 0.22316472964802064\n",
      "(in /mnt/staff/zhli/blp-quantities/mean_utils.ipynb:2)\n",
      "sum(t.shares) = 0.22725827313778627\n",
      "(in /mnt/staff/zhli/blp-quantities/mean_utils.ipynb:2)\n",
      "sum(t.shares) = 0.22716308643281535\n",
      "(in /mnt/staff/zhli/blp-quantities/mean_utils.ipynb:2)\n",
      "sum(t.shares) = 0.22711282120288362\n",
      "(in /mnt/staff/zhli/blp-quantities/mean_utils.ipynb:2)\n",
      "sum(t.shares) = 0.22388975288413307\n",
      "(in /mnt/staff/zhli/blp-quantities/mean_utils.ipynb:2)\n",
      "sum(t.shares) = 0.2271114427777608\n",
      "(in /mnt/staff/zhli/blp-quantities/mean_utils.ipynb:2)\n",
      "sum(t.shares) = 0.23457740533590277\n",
      "(in /mnt/staff/zhli/blp-quantities/mean_utils.ipynb:2)\n",
      "sum(t.shares) = 0.1858376144731442\n",
      "(in /mnt/staff/zhli/blp-quantities/mean_utils.ipynb:2)\n",
      "sum(t.shares) = 0.22399596860520155\n",
      "(in /mnt/staff/zhli/blp-quantities/mean_utils.ipynb:2)\n",
      "sum(t.shares) = 0.22683614001381705\n",
      "(in /mnt/staff/zhli/blp-quantities/mean_utils.ipynb:2)\n",
      "sum(t.shares) = 0.2280720292599097\n",
      "(in /mnt/staff/zhli/blp-quantities/mean_utils.ipynb:2)\n",
      "sum(t.shares) = 0.2268785999776475\n",
      "(in /mnt/staff/zhli/blp-quantities/mean_utils.ipynb:2)\n",
      "sum(t.shares) = 0.22673494156116608\n",
      "(in /mnt/staff/zhli/blp-quantities/mean_utils.ipynb:2)\n",
      "sum(t.shares) = 0.22665799269848655\n",
      "(in /mnt/staff/zhli/blp-quantities/mean_utils.ipynb:2)\n",
      "sum(t.shares) = 0.2241700399390864\n",
      "(in /mnt/staff/zhli/blp-quantities/mean_utils.ipynb:2)\n",
      "sum(t.shares) = 0.22404086090472444\n",
      "(in /mnt/staff/zhli/blp-quantities/mean_utils.ipynb:2)\n",
      "sum(t.shares) = 0.21439099346453452\n",
      "(in /mnt/staff/zhli/blp-quantities/mean_utils.ipynb:2)\n",
      "sum(t.shares) = 0.22218667520433913\n",
      "(in /mnt/staff/zhli/blp-quantities/mean_utils.ipynb:2)\n",
      "sum(t.shares) = 0.2241050027181008\n",
      "(in /mnt/staff/zhli/blp-quantities/mean_utils.ipynb:2)\n",
      "sum(t.shares) = 0.18257728573814586\n",
      "(in /mnt/staff/zhli/blp-quantities/mean_utils.ipynb:2)\n",
      "sum(t.shares) = 0.21012190713711634\n",
      "(in /mnt/staff/zhli/blp-quantities/mean_utils.ipynb:2)\n",
      "sum(t.shares) = 0.19329632986573914\n",
      "(in /mnt/staff/zhli/blp-quantities/mean_utils.ipynb:2)\n",
      "sum(t.shares) = 0.2121825820312606\n",
      "(in /mnt/staff/zhli/blp-quantities/mean_utils.ipynb:2)\n"
     ]
    }
   ],
   "source": [
    "for t in ec.tracts[1:100]\n",
    "    @showln sum(t.shares)\n",
    "end"
   ]
  },
  {
   "cell_type": "code",
   "execution_count": 13,
   "metadata": {},
   "outputs": [],
   "source": [
    "using BenchmarkTools"
   ]
  },
  {
   "cell_type": "code",
   "execution_count": 73,
   "metadata": {},
   "outputs": [
    {
     "name": "stdout",
     "output_type": "stream",
     "text": [
      "  0.274327 seconds (519.15 k allocations: 61.624 MiB, 29.17% compilation time)\n"
     ]
    }
   ],
   "source": [
    "ec = deserialize(\"jls/ec.jls\");\n",
    "pars = deserialize(\"jls/pars.jls\");\n",
    "it = 1\n",
    "@time m.compute_deltas(ec, pars, σ, max_iter=it, verbose=false);"
   ]
  },
  {
   "cell_type": "code",
   "execution_count": 74,
   "metadata": {},
   "outputs": [
    {
     "name": "stdout",
     "output_type": "stream",
     "text": [
      "  0.076545 seconds (900.14 k allocations: 101.865 MiB)\n"
     ]
    }
   ],
   "source": [
    "ec = deserialize(\"jls/ec.jls\");\n",
    "pars = deserialize(\"jls/pars.jls\");\n",
    "it = 10\n",
    "@time m.compute_deltas(ec, pars, σ, max_iter=it, verbose=false);"
   ]
  },
  {
   "cell_type": "code",
   "execution_count": 75,
   "metadata": {},
   "outputs": [
    {
     "name": "stdout",
     "output_type": "stream",
     "text": [
      "  1.515471 seconds (22.36 M allocations: 1.873 GiB, 5.73% gc time)\n"
     ]
    }
   ],
   "source": [
    "ec = deserialize(\"jls/ec.jls\");\n",
    "pars = deserialize(\"jls/pars.jls\");\n",
    "it = 1000\n",
    "@time m.compute_deltas(ec, pars, σ, max_iter=it, verbose=false);"
   ]
  },
  {
   "cell_type": "code",
   "execution_count": 17,
   "metadata": {},
   "outputs": [
    {
     "data": {
      "text/plain": [
       "16"
      ]
     },
     "metadata": {},
     "output_type": "display_data"
    }
   ],
   "source": [
    "Threads.nthreads()"
   ]
  },
  {
   "cell_type": "code",
   "execution_count": 18,
   "metadata": {},
   "outputs": [],
   "source": [
    "# # this was the line that the memory profiler said was creating the vast majority of allocations\n",
    "# # ...which doesn't make sense because it's not even in the inner loop\n",
    "# # ...and it's the inner loop that's driving the allocations and times (according to benchmarks)\n",
    "# @time for t in ec.tracts\n",
    "#     t.abδ .= t.D * pars.nlcoefs\n",
    "# end"
   ]
  },
  {
   "cell_type": "markdown",
   "metadata": {},
   "source": [
    "___\n",
    "continued in `gmm.ipynb`"
   ]
  },
  {
   "cell_type": "code",
   "execution_count": 19,
   "metadata": {},
   "outputs": [],
   "source": []
  }
 ],
 "metadata": {
  "kernelspec": {
   "display_name": "Julia 1.6.1",
   "language": "julia",
   "name": "julia-1.6"
  },
  "language_info": {
   "file_extension": ".jl",
   "mimetype": "application/julia",
   "name": "julia",
   "version": "1.6.1"
  },
  "orig_nbformat": 4
 },
 "nbformat": 4,
 "nbformat_minor": 2
}
