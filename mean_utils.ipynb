{
 "cells": [
  {
   "cell_type": "code",
   "execution_count": 1,
   "metadata": {},
   "outputs": [],
   "source": [
    "using DataFrames, LinearAlgebra, Distributions, Revise, Serialization"
   ]
  },
  {
   "cell_type": "code",
   "execution_count": 2,
   "metadata": {},
   "outputs": [
    {
     "name": "stderr",
     "output_type": "stream",
     "text": [
      "┌ Info: Precompiling BLPmodule [top-level]\n",
      "└ @ Base loading.jl:1317\n"
     ]
    }
   ],
   "source": [
    "string(@__DIR__) in LOAD_PATH || push!(LOAD_PATH, @__DIR__)\n",
    "using BLPmodule; const m = BLPmodule;"
   ]
  },
  {
   "cell_type": "code",
   "execution_count": 3,
   "metadata": {},
   "outputs": [],
   "source": [
    "# TODO: add σ to every call of compute_deltas"
   ]
  },
  {
   "cell_type": "markdown",
   "metadata": {},
   "source": [
    "---\n",
    "#### Mean utilities"
   ]
  },
  {
   "cell_type": "code",
   "execution_count": 4,
   "metadata": {},
   "outputs": [],
   "source": [
    "df = deserialize(\"jls/df.jls\");\n",
    "firm_IDs_long = df.j;\n",
    "tract_IDs_long = df.t;\n",
    "X = Matrix{Float64}(df[!, [:x1, :x2]])\n",
    "D = Matrix{Float64}(df[!, [:d, :d2]])\n",
    "Q = df.q\n",
    "M = df.M;\n",
    "nJ = length(unique(firm_IDs_long));\n",
    "nI = 100;"
   ]
  },
  {
   "cell_type": "code",
   "execution_count": 22,
   "metadata": {},
   "outputs": [],
   "source": [
    "σ = ones(2)\n",
    "pars = m.set_Pars(K = 2, nI = nI, δs=ones(nJ,1));\n",
    "serialize(\"jls/pars.jls\", pars)"
   ]
  },
  {
   "cell_type": "markdown",
   "metadata": {},
   "source": [
    "---"
   ]
  },
  {
   "cell_type": "code",
   "execution_count": 24,
   "metadata": {},
   "outputs": [
    {
     "name": "stdout",
     "output_type": "stream",
     "text": [
      "Economy with 394 firms and 3110 tracts.\n"
     ]
    }
   ],
   "source": [
    "ec = m.make_Economy(\n",
    "    firm_IDs_long,\n",
    "    tract_IDs_long,\n",
    "    X,\n",
    "    D,\n",
    "    Q,\n",
    "    M,\n",
    "    nI\n",
    "    );\n"
   ]
  },
  {
   "cell_type": "code",
   "execution_count": 25,
   "metadata": {},
   "outputs": [],
   "source": [
    "serialize(\"jls/ec.jls\", ec)"
   ]
  },
  {
   "cell_type": "markdown",
   "metadata": {},
   "source": [
    "---"
   ]
  },
  {
   "cell_type": "code",
   "execution_count": 7,
   "metadata": {},
   "outputs": [
    {
     "data": {
      "text/plain": [
       "16"
      ]
     },
     "execution_count": 7,
     "metadata": {},
     "output_type": "execute_result"
    }
   ],
   "source": [
    "Threads.nthreads()"
   ]
  },
  {
   "cell_type": "code",
   "execution_count": 10,
   "metadata": {},
   "outputs": [
    {
     "data": {
      "text/plain": [
       "2-element Vector{Float64}:\n",
       " 1.0\n",
       " 1.0"
      ]
     },
     "execution_count": 10,
     "metadata": {},
     "output_type": "execute_result"
    }
   ],
   "source": [
    "σ = ones(2);"
   ]
  },
  {
   "cell_type": "code",
   "execution_count": 11,
   "metadata": {},
   "outputs": [
    {
     "name": "stdout",
     "output_type": "stream",
     "text": [
      "dist = 9.672361458434864e-7, iterations = 276\n"
     ]
    }
   ],
   "source": [
    "ec = deserialize(\"jls/ec.jls\");\n",
    "pars = deserialize(\"jls/pars.jls\");\n",
    "deltas, q_iter = m.compute_deltas(ec, pars, σ,max_iter=1000, verbose=true);\n",
    "# serialize(\"jls/deltas.jls\", deltas);"
   ]
  },
  {
   "cell_type": "code",
   "execution_count": 12,
   "metadata": {},
   "outputs": [],
   "source": [
    "using BenchmarkTools"
   ]
  },
  {
   "cell_type": "code",
   "execution_count": 19,
   "metadata": {},
   "outputs": [
    {
     "name": "stdout",
     "output_type": "stream",
     "text": [
      "  0.014284 seconds (84.28 k allocations: 70.733 MiB)\n"
     ]
    },
    {
     "data": {
      "text/plain": [
       "([-3.2583435674716226; -4.049455917060103; … ; -2.6695319632056913; -2.978603171037032], [425.02011354845587; 595.0509200412007; … ; 448.8966485977807; 484.16710838265783])"
      ]
     },
     "execution_count": 19,
     "metadata": {},
     "output_type": "execute_result"
    }
   ],
   "source": [
    "ec = deserialize(\"jls/ec.jls\");\n",
    "pars = deserialize(\"jls/pars.jls\");\n",
    "it = 1\n",
    "@time m.compute_deltas(ec, pars, σ, max_iter=it, verbose=false)"
   ]
  },
  {
   "cell_type": "code",
   "execution_count": 20,
   "metadata": {},
   "outputs": [
    {
     "name": "stdout",
     "output_type": "stream",
     "text": [
      "  0.053707 seconds (449.03 k allocations: 270.217 MiB)\n"
     ]
    },
    {
     "data": {
      "text/plain": [
       "([-3.9123195137815956; -5.06557178480748; … ; -3.9409845626170785; -4.025023884975683], [80.00000074786205; 80.9999946257318; … ; 86.00010108254946; 92.00006007946708])"
      ]
     },
     "execution_count": 20,
     "metadata": {},
     "output_type": "execute_result"
    }
   ],
   "source": [
    "ec = deserialize(\"jls/ec.jls\");\n",
    "pars = deserialize(\"jls/pars.jls\");\n",
    "it = 10\n",
    "@time m.compute_deltas(ec, pars, σ, max_iter=it, verbose=false)"
   ]
  },
  {
   "cell_type": "code",
   "execution_count": 27,
   "metadata": {},
   "outputs": [
    {
     "name": "stdout",
     "output_type": "stream",
     "text": [
      "  2.824389 seconds (11.19 M allocations: 6.000 GiB, 43.44% gc time)\n"
     ]
    },
    {
     "data": {
      "text/plain": [
       "([-3.9122188427217397; -5.0655245711271455; … ; -3.9408047510837516; -4.024905795553984], [80.0; 80.99999999990256; … ; 86.0; 92.00000000000003])"
      ]
     },
     "execution_count": 27,
     "metadata": {},
     "output_type": "execute_result"
    }
   ],
   "source": [
    "ec = deserialize(\"jls/ec.jls\");\n",
    "pars = deserialize(\"jls/pars.jls\");\n",
    "it = 1000\n",
    "@time m.compute_deltas(ec, pars, σ, max_iter=it, verbose=false)"
   ]
  },
  {
   "cell_type": "code",
   "execution_count": null,
   "metadata": {},
   "outputs": [],
   "source": [
    "# # this was the line that the memory profiler said was creating the vast majority of allocations\n",
    "# # ...which doesn't make sense because it's not even in the inner loop\n",
    "# # ...and it's the inner loop that's driving the allocations and times (according to benchmarks)\n",
    "# @time for t in ec.tracts\n",
    "#     t.abδ .= t.D * pars.nlcoefs\n",
    "# end"
   ]
  },
  {
   "cell_type": "markdown",
   "metadata": {},
   "source": [
    "___\n",
    "continued in `gmm.ipynb`"
   ]
  },
  {
   "cell_type": "code",
   "execution_count": null,
   "metadata": {},
   "outputs": [],
   "source": []
  }
 ],
 "metadata": {
  "kernelspec": {
   "display_name": "Julia 1.6.1",
   "language": "julia",
   "name": "julia-1.6"
  },
  "language_info": {
   "file_extension": ".jl",
   "mimetype": "application/julia",
   "name": "julia",
   "version": "1.6.1"
  },
  "orig_nbformat": 4
 },
 "nbformat": 4,
 "nbformat_minor": 2
}
