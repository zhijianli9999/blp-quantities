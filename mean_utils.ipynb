{
 "cells": [
  {
   "cell_type": "code",
   "execution_count": 2,
   "metadata": {},
   "outputs": [],
   "source": [
    "using DataFrames, LinearAlgebra, Distributions, Revise, Serialization, DebuggingUtilities"
   ]
  },
  {
   "cell_type": "code",
   "execution_count": 3,
   "metadata": {},
   "outputs": [],
   "source": [
    "const datadir = \"/export/storage_adgandhi/MiscLi/factract\";\n",
    "string(@__DIR__) in LOAD_PATH || push!(LOAD_PATH, @__DIR__)\n",
    "using BLPmodule; const m = BLPmodule;"
   ]
  },
  {
   "cell_type": "markdown",
   "metadata": {},
   "source": [
    "---"
   ]
  },
  {
   "cell_type": "markdown",
   "metadata": {},
   "source": [
    "## Computation"
   ]
  },
  {
   "cell_type": "code",
   "execution_count": 4,
   "metadata": {},
   "outputs": [
    {
     "data": {
      "text/plain": [
       "32"
      ]
     },
     "metadata": {},
     "output_type": "display_data"
    }
   ],
   "source": [
    "Threads.nthreads()"
   ]
  },
  {
   "cell_type": "code",
   "execution_count": 5,
   "metadata": {},
   "outputs": [],
   "source": [
    "testmodes = [\"\", \"_FL\", \"_FL17\"]\n",
    "testmode = testmodes[3]################# EDIT THIS ##################\n",
    "config_tag = \"111\"\n",
    "pars = deserialize(\"$datadir/analysis/pars$config_tag$testmode.jls\");\n",
    "ec = deserialize(\"$datadir/analysis/ec$config_tag$testmode.jls\");"
   ]
  },
  {
   "cell_type": "code",
   "execution_count": 6,
   "metadata": {},
   "outputs": [],
   "source": [
    "nD = size(ec.tracts[1].D)[2]\n",
    "σ = ones(nD); #initialize non-linear coef"
   ]
  },
  {
   "cell_type": "code",
   "execution_count": 30,
   "metadata": {},
   "outputs": [
    {
     "name": "stdout",
     "output_type": "stream",
     "text": [
      "dist = 9.771774789868459e-5, iterations = 304\n"
     ]
    }
   ],
   "source": [
    "pars = deserialize(\"$datadir/analysis/pars$config_tag$testmode.jls\");\n",
    "ec = deserialize(\"$datadir/analysis/ec$config_tag$testmode.jls\");\n",
    "\n",
    "deltas, q_iter = m.compute_deltas(ec, pars, σ, max_iter=1000, verbose=true, tol = 1e-4);\n"
   ]
  },
  {
   "cell_type": "code",
   "execution_count": 22,
   "metadata": {},
   "outputs": [
    {
     "data": {
      "text/plain": [
       "0.2983009625485831"
      ]
     },
     "metadata": {},
     "output_type": "display_data"
    }
   ],
   "source": [
    "m.mean_inside_share(ec)"
   ]
  },
  {
   "cell_type": "code",
   "execution_count": 11,
   "metadata": {},
   "outputs": [],
   "source": [
    "using BenchmarkTools"
   ]
  },
  {
   "cell_type": "code",
   "execution_count": 24,
   "metadata": {},
   "outputs": [
    {
     "name": "stdout",
     "output_type": "stream",
     "text": [
      "  0.148549 seconds (187.94 k allocations: 388.520 MiB)\n"
     ]
    }
   ],
   "source": [
    "pars = deserialize(\"$datadir/analysis/pars$config_tag$testmode.jls\");\n",
    "ec = deserialize(\"$datadir/analysis/ec$config_tag$testmode.jls\");\n",
    "\n",
    "it = 1\n",
    "@time m.compute_deltas(ec, pars, σ, max_iter=it, verbose=false);"
   ]
  },
  {
   "cell_type": "code",
   "execution_count": 25,
   "metadata": {},
   "outputs": [
    {
     "name": "stdout",
     "output_type": "stream",
     "text": [
      "  0.771618 seconds (649.23 k allocations: 456.010 MiB, 76.38% gc time)\n"
     ]
    }
   ],
   "source": [
    "pars = deserialize(\"$datadir/analysis/pars$config_tag$testmode.jls\");\n",
    "ec = deserialize(\"$datadir/analysis/ec$config_tag$testmode.jls\");\n",
    "\n",
    "it = 10\n",
    "@time m.compute_deltas(ec, pars, σ, max_iter=it, verbose=false);"
   ]
  },
  {
   "cell_type": "code",
   "execution_count": 25,
   "metadata": {},
   "outputs": [
    {
     "name": "stdout",
     "output_type": "stream",
     "text": [
      "  4.324013 seconds (21.44 M allocations: 2.841 GiB, 2.01% gc time, 16.88% compilation time)\n"
     ]
    }
   ],
   "source": [
    "pars = deserialize(\"$datadir/analysis/pars$config_tag$testmode.jls\");\n",
    "ec = deserialize(\"$datadir/analysis/ec$config_tag$testmode.jls\");\n",
    "\n",
    "it = 1000\n",
    "@time m.compute_deltas(ec, pars, σ, max_iter=it, verbose=false);"
   ]
  },
  {
   "cell_type": "markdown",
   "metadata": {},
   "source": [
    "___\n",
    "continued in `gmm.ipynb`"
   ]
  },
  {
   "cell_type": "code",
   "execution_count": null,
   "metadata": {},
   "outputs": [],
   "source": [
    "# testing"
   ]
  },
  {
   "cell_type": "code",
   "execution_count": 26,
   "metadata": {},
   "outputs": [],
   "source": [
    "n_firms = length(ec.firms)\n",
    "j_indexer, t_indexer, positionin = m.create_indices(ec.tracts, n_firms);\n",
    "share = [tt.shares for tt in ec.tracts]\n",
    "mktq = [tt.q for tt in ec.tracts]\n",
    "X_dc = [t.X[:,[1]] for t in ec.tracts];\n"
   ]
  },
  {
   "cell_type": "code",
   "execution_count": 42,
   "metadata": {},
   "outputs": [],
   "source": [
    "η_dc = m.compute_elasticity(X_dc, 1., share, mktq, t_indexer, positionin, n_firms);"
   ]
  },
  {
   "cell_type": "code",
   "execution_count": 11,
   "metadata": {},
   "outputs": [
    {
     "data": {
      "text/plain": [
       "421"
      ]
     },
     "metadata": {},
     "output_type": "display_data"
    }
   ],
   "source": [
    "n_firms"
   ]
  },
  {
   "cell_type": "code",
   "execution_count": 13,
   "metadata": {},
   "outputs": [
    {
     "data": {
      "text/plain": [
       "10-element Vector{Int64}:\n",
       "   1\n",
       "  60\n",
       "  72\n",
       "  76\n",
       "  90\n",
       " 275\n",
       " 368\n",
       " 398\n",
       " 404\n",
       " 410"
      ]
     },
     "metadata": {},
     "output_type": "display_data"
    }
   ],
   "source": [
    "j_indexer[12]"
   ]
  },
  {
   "cell_type": "code",
   "execution_count": 34,
   "metadata": {},
   "outputs": [
    {
     "data": {
      "text/plain": [
       "310-element Vector{Int64}:\n",
       "  611\n",
       "  612\n",
       "  613\n",
       "  618\n",
       "  647\n",
       "  648\n",
       "  649\n",
       "  650\n",
       "  651\n",
       "  652\n",
       "    ⋮\n",
       " 1823\n",
       " 1824\n",
       " 1825\n",
       " 1826\n",
       " 1827\n",
       " 1828\n",
       " 1829\n",
       " 1830\n",
       " 1831"
      ]
     },
     "metadata": {},
     "output_type": "display_data"
    }
   ],
   "source": [
    "t_indexer[12]"
   ]
  },
  {
   "cell_type": "code",
   "execution_count": 39,
   "metadata": {},
   "outputs": [
    {
     "data": {
      "text/plain": [
       "310-element Vector{Matrix{Float64}}:\n",
       " [0.1781505983598531; 0.29768592276121975; … ; 0.0014458767128792817; 0.05929284513772435]\n",
       " [0.2681498637755776; 0.04484675330218255; … ; 0.0007938043689239894; 0.11733868439385343]\n",
       " [0.02544748625117383; 0.03744174999176627; … ; 0.013696051124753585; 0.02579290012134431]\n",
       " [0.03461333379603348; 0.04097940481631487; … ; 0.011267292632608181; 0.0209212244439876]\n",
       " [0.0151187973333018; 0.07252489705155911; … ; 0.0028376424671551766; 0.1354106922074412]\n",
       " [0.006054583990878407; 0.021247062227076226; … ; 0.0021874480763594004; 0.05310532744958765]\n",
       " [0.000766656391162099; 0.0027704973164145038; … ; 0.003512750824801319; 0.013089560922855658]\n",
       " [0.003909744745121288; 0.015290321455764458; … ; 0.0011094511861786847; 0.03533522422581457]\n",
       " [0.0018584441888977623; 0.005229681322769517; … ; 0.0007069476663110365; 0.011198012650422407]\n",
       " [0.03662173824167526; 0.1124005353788572; … ; 0.012881872455682283; 0.13443825280851507]\n",
       " ⋮\n",
       " [2.9041435032027487; 0.5736084142744541; … ; 0.0006662985519004557; 0.6124161988775007]\n",
       " [0.11183069569351413; 0.19795460922928074; … ; 0.000607607230036421; 0.2726521077351275]\n",
       " [3.6014206264969375; 0.6022942742942345; … ; 0.0012054513065763255; 0.6945269031702163]\n",
       " [0.020988157872781806; 0.05545373070208721; … ; 0.0005062205650671365; 0.08571079071830177]\n",
       " [0.10172055088697203; 0.1187157854587592; … ; 0.00648079196736778; 0.17778201249749764]\n",
       " [0.016022104240382605; 0.03383801799372074; … ; 0.0010775647309641376; 0.05413619437459204]\n",
       " [5.689467894070093; 0.5359433294055495; … ; 0.03782216945427553; 0.7447413267020625]\n",
       " [7.451919700584148; 1.0480454532725718; … ; 0.004932330689878521; 1.3170298015971083]\n",
       " [3.196696203623638; 0.6796924400340743; … ; 0.0006806890478716531; 0.7309091664211407]"
      ]
     },
     "metadata": {},
     "output_type": "display_data"
    }
   ],
   "source": [
    "mktq[t_indexer[12]]"
   ]
  },
  {
   "cell_type": "code",
   "execution_count": 17,
   "metadata": {},
   "outputs": [
    {
     "data": {
      "text/plain": [
       "(421, 4257)"
      ]
     },
     "metadata": {},
     "output_type": "display_data"
    }
   ],
   "source": [
    "size(positionin)"
   ]
  },
  {
   "cell_type": "code",
   "execution_count": null,
   "metadata": {},
   "outputs": [],
   "source": []
  }
 ],
 "metadata": {
  "kernelspec": {
   "display_name": "Julia 1.6.1",
   "language": "julia",
   "name": "julia-1.6"
  },
  "language_info": {
   "file_extension": ".jl",
   "mimetype": "application/julia",
   "name": "julia",
   "version": "1.6.1"
  },
  "orig_nbformat": 4
 },
 "nbformat": 4,
 "nbformat_minor": 2
}
