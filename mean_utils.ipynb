{
 "cells": [
  {
   "cell_type": "code",
   "execution_count": 1,
   "metadata": {},
   "outputs": [],
   "source": [
    "using DataFrames, LinearAlgebra, Distributions, Revise, Serialization, DebuggingUtilities"
   ]
  },
  {
   "cell_type": "code",
   "execution_count": 2,
   "metadata": {},
   "outputs": [],
   "source": [
    "const datadir = \"/export/storage_adgandhi/MiscLi/factract\";\n",
    "string(@__DIR__) in LOAD_PATH || push!(LOAD_PATH, @__DIR__)\n",
    "using BLPmodule; const m = BLPmodule;"
   ]
  },
  {
   "cell_type": "markdown",
   "metadata": {},
   "source": [
    "---"
   ]
  },
  {
   "cell_type": "markdown",
   "metadata": {},
   "source": [
    "## Computation"
   ]
  },
  {
   "cell_type": "code",
   "execution_count": 35,
   "metadata": {},
   "outputs": [
    {
     "data": {
      "text/plain": [
       "32"
      ]
     },
     "metadata": {},
     "output_type": "display_data"
    }
   ],
   "source": [
    "Threads.nthreads()"
   ]
  },
  {
   "cell_type": "code",
   "execution_count": 37,
   "metadata": {},
   "outputs": [],
   "source": [
    "testmodes = [\"\", \"_FL\", \"_FL17\"]\n",
    "testmode = testmodes[3]################# EDIT THIS ##################\n",
    "qconfig_tag = 2\n",
    "nD = 1 #number of non-linear variables\n",
    "d_ind = [1]\n",
    "ec_init = deserialize(\"$datadir/analysis/ec$qconfig_tag$testmode.jls\");\n",
    "pars_init = m.set_Pars(K = nD, nJ=length(ec_init.firms));\n",
    "σ = ones(nD); #initialize non-linear coef"
   ]
  },
  {
   "cell_type": "code",
   "execution_count": 30,
   "metadata": {},
   "outputs": [
    {
     "name": "stdout",
     "output_type": "stream",
     "text": [
      "dist = 9.840389900972468e-5, iterations = 345\n"
     ]
    }
   ],
   "source": [
    "pars = deepcopy(pars_init);\n",
    "ec = deepcopy(ec_init)\n",
    "\n",
    "deltas, q_iter = m.compute_deltas(ec, pars, σ, d_ind = d_ind, max_iter=1000, verbose=true, tol = 1e-4);"
   ]
  },
  {
   "cell_type": "code",
   "execution_count": 26,
   "metadata": {},
   "outputs": [
    {
     "data": {
      "text/plain": [
       "0.2984910877916341"
      ]
     },
     "metadata": {},
     "output_type": "display_data"
    }
   ],
   "source": [
    "m.mean_inside_share(ec)"
   ]
  },
  {
   "cell_type": "code",
   "execution_count": 13,
   "metadata": {},
   "outputs": [],
   "source": [
    "using BenchmarkTools"
   ]
  },
  {
   "cell_type": "code",
   "execution_count": 17,
   "metadata": {},
   "outputs": [
    {
     "name": "stdout",
     "output_type": "stream",
     "text": [
      "  0.628987 seconds (243.29 k allocations: 390.666 MiB, 73.39% gc time)\n"
     ]
    }
   ],
   "source": [
    "pars = deepcopy(pars_init);\n",
    "ec = deepcopy(ec_init)\n",
    "\n",
    "it = 1\n",
    "@time m.compute_deltas(ec, pars, σ, max_iter=it, verbose=false);"
   ]
  },
  {
   "cell_type": "code",
   "execution_count": 18,
   "metadata": {},
   "outputs": [
    {
     "name": "stdout",
     "output_type": "stream",
     "text": [
      "  0.258809 seconds (704.54 k allocations: 458.154 MiB, 26.57% gc time)\n"
     ]
    }
   ],
   "source": [
    "pars = deepcopy(pars_init);\n",
    "ec = deepcopy(ec_init)\n",
    "\n",
    "it = 10\n",
    "@time m.compute_deltas(ec, pars, σ, max_iter=it, verbose=false);"
   ]
  },
  {
   "cell_type": "code",
   "execution_count": 19,
   "metadata": {},
   "outputs": [
    {
     "name": "stdout",
     "output_type": "stream",
     "text": [
      "  2.041892 seconds (14.54 M allocations: 2.425 GiB)\n"
     ]
    }
   ],
   "source": [
    "pars = deepcopy(pars_init);\n",
    "ec = deepcopy(ec_init)\n",
    "\n",
    "it = 1000\n",
    "@time m.compute_deltas(ec, pars, σ, max_iter=it, verbose=false);"
   ]
  },
  {
   "cell_type": "markdown",
   "metadata": {},
   "source": [
    "___\n",
    "continued in `gmm.ipynb`"
   ]
  },
  {
   "cell_type": "code",
   "execution_count": null,
   "metadata": {},
   "outputs": [],
   "source": [
    "# testing"
   ]
  },
  {
   "cell_type": "code",
   "execution_count": null,
   "metadata": {},
   "outputs": [],
   "source": []
  }
 ],
 "metadata": {
  "kernelspec": {
   "display_name": "Julia 1.6.1",
   "language": "julia",
   "name": "julia-1.6"
  },
  "language_info": {
   "file_extension": ".jl",
   "mimetype": "application/julia",
   "name": "julia",
   "version": "1.6.1"
  },
  "orig_nbformat": 4
 },
 "nbformat": 4,
 "nbformat_minor": 2
}
