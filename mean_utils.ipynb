{
 "cells": [
  {
   "cell_type": "code",
   "execution_count": 1,
   "metadata": {},
   "outputs": [],
   "source": [
    "using DataFrames, LinearAlgebra, Revise, Serialization"
   ]
  },
  {
   "cell_type": "code",
   "execution_count": 41,
   "metadata": {},
   "outputs": [],
   "source": [
    "string(@__DIR__) in LOAD_PATH || push!(LOAD_PATH, @__DIR__)\n",
    "using BLPmodule; const m = BLPmodule;"
   ]
  },
  {
   "cell_type": "markdown",
   "metadata": {},
   "source": [
    "---\n",
    "#### Mean utilities"
   ]
  },
  {
   "cell_type": "code",
   "execution_count": 52,
   "metadata": {},
   "outputs": [],
   "source": [
    "df = deserialize(\"jls/df.jls\");\n",
    "firm_IDs_long = df.j;\n",
    "tract_IDs_long = df.t;\n",
    "X = Matrix(df[!, [:x1, :x2]])\n",
    "D = Matrix(df[!, [:d, :d2]])\n",
    "Q = df.q\n",
    "M = df.M;\n",
    "nJ = length(unique(firm_IDs_long));\n",
    "nI = 100;"
   ]
  },
  {
   "cell_type": "code",
   "execution_count": 53,
   "metadata": {},
   "outputs": [],
   "source": [
    "σ = ones(2)\n",
    "pars = m.set_Pars(K = 2, nI = nI, δs=ones(nJ,1));\n",
    "serialize(\"jls/pars.jls\", pars)"
   ]
  },
  {
   "cell_type": "markdown",
   "metadata": {},
   "source": [
    "---"
   ]
  },
  {
   "cell_type": "code",
   "execution_count": 54,
   "metadata": {},
   "outputs": [
    {
     "name": "stdout",
     "output_type": "stream",
     "text": [
      "Economy with 394 firms and 3110 tracts.\n"
     ]
    }
   ],
   "source": [
    "ec = m.make_Economy(\n",
    "    firm_IDs_long,\n",
    "    tract_IDs_long,\n",
    "    X,\n",
    "    D,\n",
    "    Q,\n",
    "    M,\n",
    "    nI\n",
    "    );\n"
   ]
  },
  {
   "cell_type": "code",
   "execution_count": 55,
   "metadata": {},
   "outputs": [],
   "source": [
    "serialize(\"jls/ec.jls\", ec)"
   ]
  },
  {
   "cell_type": "markdown",
   "metadata": {},
   "source": [
    "---"
   ]
  },
  {
   "cell_type": "code",
   "execution_count": 39,
   "metadata": {},
   "outputs": [
    {
     "data": {
      "text/plain": [
       "16"
      ]
     },
     "metadata": {},
     "output_type": "display_data"
    }
   ],
   "source": [
    "Threads.nthreads()"
   ]
  },
  {
   "cell_type": "code",
   "execution_count": 20,
   "metadata": {},
   "outputs": [],
   "source": [
    "σ = ones(2);"
   ]
  },
  {
   "cell_type": "code",
   "execution_count": 21,
   "metadata": {},
   "outputs": [
    {
     "name": "stdout",
     "output_type": "stream",
     "text": [
      "dist = 9.66707447425108e-7, iterations = 276\n"
     ]
    }
   ],
   "source": [
    "ec = deserialize(\"jls/ec.jls\");\n",
    "pars = deserialize(\"jls/pars.jls\");\n",
    "deltas, q_iter = m.compute_deltas(ec, pars, σ,max_iter=1000, verbose=true);\n",
    "# serialize(\"jls/deltas.jls\", deltas);"
   ]
  },
  {
   "cell_type": "code",
   "execution_count": 11,
   "metadata": {},
   "outputs": [
    {
     "data": {
      "text/plain": [
       "2×1 Matrix{Float64}:\n",
       " 0.01928049695256938\n",
       " 0.025761485944680477"
      ]
     },
     "metadata": {},
     "output_type": "display_data"
    }
   ],
   "source": [
    "ec.tracts[1].shares"
   ]
  },
  {
   "cell_type": "code",
   "execution_count": 12,
   "metadata": {},
   "outputs": [],
   "source": []
  },
  {
   "cell_type": "code",
   "execution_count": 13,
   "metadata": {},
   "outputs": [],
   "source": [
    "using BenchmarkTools"
   ]
  },
  {
   "cell_type": "code",
   "execution_count": 14,
   "metadata": {},
   "outputs": [
    {
     "ename": "TypeError",
     "evalue": "TypeError: in new, expected Vector{Real}, got a value of type Vector{Float64}",
     "output_type": "error",
     "traceback": [
      "TypeError: in new, expected Vector{Real}, got a value of type Vector{Float64}\n",
      "\n",
      "Stacktrace:\n",
      "  [1] deserialize(s::Serializer{IOStream}, t::DataType)\n",
      "    @ Serialization /buildworker/worker/package_linux64/build/usr/share/julia/stdlib/v1.6/Serialization/src/Serialization.jl:1409\n",
      "  [2] handle_deserialize(s::Serializer{IOStream}, b::Int32)\n",
      "    @ Serialization /buildworker/worker/package_linux64/build/usr/share/julia/stdlib/v1.6/Serialization/src/Serialization.jl:846\n",
      "  [3] deserialize_fillarray!(A::Vector{BLPmodule.Firm}, s::Serializer{IOStream})\n",
      "    @ Serialization /buildworker/worker/package_linux64/build/usr/share/julia/stdlib/v1.6/Serialization/src/Serialization.jl:1187\n",
      "  [4] deserialize_array(s::Serializer{IOStream})\n",
      "    @ Serialization /buildworker/worker/package_linux64/build/usr/share/julia/stdlib/v1.6/Serialization/src/Serialization.jl:1179\n",
      "  [5] handle_deserialize(s::Serializer{IOStream}, b::Int32)\n",
      "    @ Serialization /buildworker/worker/package_linux64/build/usr/share/julia/stdlib/v1.6/Serialization/src/Serialization.jl:833\n",
      "  [6] deserialize(s::Serializer{IOStream}, t::DataType)\n",
      "    @ Serialization /buildworker/worker/package_linux64/build/usr/share/julia/stdlib/v1.6/Serialization/src/Serialization.jl:1403\n",
      "  [7] handle_deserialize(s::Serializer{IOStream}, b::Int32)\n",
      "    @ Serialization /buildworker/worker/package_linux64/build/usr/share/julia/stdlib/v1.6/Serialization/src/Serialization.jl:846\n",
      "  [8] deserialize(s::Serializer{IOStream})\n",
      "    @ Serialization /buildworker/worker/package_linux64/build/usr/share/julia/stdlib/v1.6/Serialization/src/Serialization.jl:782\n",
      "  [9] handle_deserialize(s::Serializer{IOStream}, b::Int32)\n",
      "    @ Serialization /buildworker/worker/package_linux64/build/usr/share/julia/stdlib/v1.6/Serialization/src/Serialization.jl:888\n",
      " [10] deserialize\n",
      "    @ /buildworker/worker/package_linux64/build/usr/share/julia/stdlib/v1.6/Serialization/src/Serialization.jl:782 [inlined]\n",
      " [11] deserialize(s::IOStream)\n",
      "    @ Serialization /buildworker/worker/package_linux64/build/usr/share/julia/stdlib/v1.6/Serialization/src/Serialization.jl:769\n",
      " [12] open(f::typeof(deserialize), args::String; kwargs::Base.Iterators.Pairs{Union{}, Union{}, Tuple{}, NamedTuple{(), Tuple{}}})\n",
      "    @ Base ./io.jl:330\n",
      " [13] open\n",
      "    @ ./io.jl:328 [inlined]\n",
      " [14] deserialize(filename::String)\n",
      "    @ Serialization /buildworker/worker/package_linux64/build/usr/share/julia/stdlib/v1.6/Serialization/src/Serialization.jl:779\n",
      " [15] top-level scope\n",
      "    @ ~/blp-quantities/mean_utils.ipynb:1"
     ]
    }
   ],
   "source": [
    "ec = deserialize(\"jls/ec.jls\");\n",
    "pars = deserialize(\"jls/pars.jls\");\n",
    "it = 1\n",
    "@time m.compute_deltas(ec, pars, σ, max_iter=it, verbose=false);"
   ]
  },
  {
   "cell_type": "code",
   "execution_count": 15,
   "metadata": {},
   "outputs": [
    {
     "ename": "TypeError",
     "evalue": "TypeError: in new, expected Vector{Real}, got a value of type Vector{Float64}",
     "output_type": "error",
     "traceback": [
      "TypeError: in new, expected Vector{Real}, got a value of type Vector{Float64}\n",
      "\n",
      "Stacktrace:\n",
      "  [1] deserialize(s::Serializer{IOStream}, t::DataType)\n",
      "    @ Serialization /buildworker/worker/package_linux64/build/usr/share/julia/stdlib/v1.6/Serialization/src/Serialization.jl:1409\n",
      "  [2] handle_deserialize(s::Serializer{IOStream}, b::Int32)\n",
      "    @ Serialization /buildworker/worker/package_linux64/build/usr/share/julia/stdlib/v1.6/Serialization/src/Serialization.jl:846\n",
      "  [3] deserialize_fillarray!(A::Vector{BLPmodule.Firm}, s::Serializer{IOStream})\n",
      "    @ Serialization /buildworker/worker/package_linux64/build/usr/share/julia/stdlib/v1.6/Serialization/src/Serialization.jl:1187\n",
      "  [4] deserialize_array(s::Serializer{IOStream})\n",
      "    @ Serialization /buildworker/worker/package_linux64/build/usr/share/julia/stdlib/v1.6/Serialization/src/Serialization.jl:1179\n",
      "  [5] handle_deserialize(s::Serializer{IOStream}, b::Int32)\n",
      "    @ Serialization /buildworker/worker/package_linux64/build/usr/share/julia/stdlib/v1.6/Serialization/src/Serialization.jl:833\n",
      "  [6] deserialize(s::Serializer{IOStream}, t::DataType)\n",
      "    @ Serialization /buildworker/worker/package_linux64/build/usr/share/julia/stdlib/v1.6/Serialization/src/Serialization.jl:1403\n",
      "  [7] handle_deserialize(s::Serializer{IOStream}, b::Int32)\n",
      "    @ Serialization /buildworker/worker/package_linux64/build/usr/share/julia/stdlib/v1.6/Serialization/src/Serialization.jl:846\n",
      "  [8] deserialize(s::Serializer{IOStream})\n",
      "    @ Serialization /buildworker/worker/package_linux64/build/usr/share/julia/stdlib/v1.6/Serialization/src/Serialization.jl:782\n",
      "  [9] handle_deserialize(s::Serializer{IOStream}, b::Int32)\n",
      "    @ Serialization /buildworker/worker/package_linux64/build/usr/share/julia/stdlib/v1.6/Serialization/src/Serialization.jl:888\n",
      " [10] deserialize\n",
      "    @ /buildworker/worker/package_linux64/build/usr/share/julia/stdlib/v1.6/Serialization/src/Serialization.jl:782 [inlined]\n",
      " [11] deserialize(s::IOStream)\n",
      "    @ Serialization /buildworker/worker/package_linux64/build/usr/share/julia/stdlib/v1.6/Serialization/src/Serialization.jl:769\n",
      " [12] open(f::typeof(deserialize), args::String; kwargs::Base.Iterators.Pairs{Union{}, Union{}, Tuple{}, NamedTuple{(), Tuple{}}})\n",
      "    @ Base ./io.jl:330\n",
      " [13] open\n",
      "    @ ./io.jl:328 [inlined]\n",
      " [14] deserialize(filename::String)\n",
      "    @ Serialization /buildworker/worker/package_linux64/build/usr/share/julia/stdlib/v1.6/Serialization/src/Serialization.jl:779\n",
      " [15] top-level scope\n",
      "    @ ~/blp-quantities/mean_utils.ipynb:1"
     ]
    }
   ],
   "source": [
    "ec = deserialize(\"jls/ec.jls\");\n",
    "pars = deserialize(\"jls/pars.jls\");\n",
    "it = 10\n",
    "@time m.compute_deltas(ec, pars, σ, max_iter=it, verbose=false);"
   ]
  },
  {
   "cell_type": "code",
   "execution_count": 16,
   "metadata": {},
   "outputs": [
    {
     "ename": "TypeError",
     "evalue": "TypeError: in new, expected Vector{Real}, got a value of type Vector{Float64}",
     "output_type": "error",
     "traceback": [
      "TypeError: in new, expected Vector{Real}, got a value of type Vector{Float64}\n",
      "\n",
      "Stacktrace:\n",
      "  [1] deserialize(s::Serializer{IOStream}, t::DataType)\n",
      "    @ Serialization /buildworker/worker/package_linux64/build/usr/share/julia/stdlib/v1.6/Serialization/src/Serialization.jl:1409\n",
      "  [2] handle_deserialize(s::Serializer{IOStream}, b::Int32)\n",
      "    @ Serialization /buildworker/worker/package_linux64/build/usr/share/julia/stdlib/v1.6/Serialization/src/Serialization.jl:846\n",
      "  [3] deserialize_fillarray!(A::Vector{BLPmodule.Firm}, s::Serializer{IOStream})\n",
      "    @ Serialization /buildworker/worker/package_linux64/build/usr/share/julia/stdlib/v1.6/Serialization/src/Serialization.jl:1187\n",
      "  [4] deserialize_array(s::Serializer{IOStream})\n",
      "    @ Serialization /buildworker/worker/package_linux64/build/usr/share/julia/stdlib/v1.6/Serialization/src/Serialization.jl:1179\n",
      "  [5] handle_deserialize(s::Serializer{IOStream}, b::Int32)\n",
      "    @ Serialization /buildworker/worker/package_linux64/build/usr/share/julia/stdlib/v1.6/Serialization/src/Serialization.jl:833\n",
      "  [6] deserialize(s::Serializer{IOStream}, t::DataType)\n",
      "    @ Serialization /buildworker/worker/package_linux64/build/usr/share/julia/stdlib/v1.6/Serialization/src/Serialization.jl:1403\n",
      "  [7] handle_deserialize(s::Serializer{IOStream}, b::Int32)\n",
      "    @ Serialization /buildworker/worker/package_linux64/build/usr/share/julia/stdlib/v1.6/Serialization/src/Serialization.jl:846\n",
      "  [8] deserialize(s::Serializer{IOStream})\n",
      "    @ Serialization /buildworker/worker/package_linux64/build/usr/share/julia/stdlib/v1.6/Serialization/src/Serialization.jl:782\n",
      "  [9] handle_deserialize(s::Serializer{IOStream}, b::Int32)\n",
      "    @ Serialization /buildworker/worker/package_linux64/build/usr/share/julia/stdlib/v1.6/Serialization/src/Serialization.jl:888\n",
      " [10] deserialize\n",
      "    @ /buildworker/worker/package_linux64/build/usr/share/julia/stdlib/v1.6/Serialization/src/Serialization.jl:782 [inlined]\n",
      " [11] deserialize(s::IOStream)\n",
      "    @ Serialization /buildworker/worker/package_linux64/build/usr/share/julia/stdlib/v1.6/Serialization/src/Serialization.jl:769\n",
      " [12] open(f::typeof(deserialize), args::String; kwargs::Base.Iterators.Pairs{Union{}, Union{}, Tuple{}, NamedTuple{(), Tuple{}}})\n",
      "    @ Base ./io.jl:330\n",
      " [13] open\n",
      "    @ ./io.jl:328 [inlined]\n",
      " [14] deserialize(filename::String)\n",
      "    @ Serialization /buildworker/worker/package_linux64/build/usr/share/julia/stdlib/v1.6/Serialization/src/Serialization.jl:779\n",
      " [15] top-level scope\n",
      "    @ ~/blp-quantities/mean_utils.ipynb:1"
     ]
    }
   ],
   "source": [
    "ec = deserialize(\"jls/ec.jls\");\n",
    "pars = deserialize(\"jls/pars.jls\");\n",
    "it = 1000\n",
    "@time m.compute_deltas(ec, pars, σ, max_iter=it, verbose=false);"
   ]
  },
  {
   "cell_type": "code",
   "execution_count": 17,
   "metadata": {},
   "outputs": [
    {
     "data": {
      "text/plain": [
       "16"
      ]
     },
     "metadata": {},
     "output_type": "display_data"
    }
   ],
   "source": [
    "Threads.nthreads()"
   ]
  },
  {
   "cell_type": "code",
   "execution_count": 18,
   "metadata": {},
   "outputs": [],
   "source": [
    "# # this was the line that the memory profiler said was creating the vast majority of allocations\n",
    "# # ...which doesn't make sense because it's not even in the inner loop\n",
    "# # ...and it's the inner loop that's driving the allocations and times (according to benchmarks)\n",
    "# @time for t in ec.tracts\n",
    "#     t.abδ .= t.D * pars.nlcoefs\n",
    "# end"
   ]
  },
  {
   "cell_type": "markdown",
   "metadata": {},
   "source": [
    "___\n",
    "continued in `gmm.ipynb`"
   ]
  },
  {
   "cell_type": "code",
   "execution_count": 19,
   "metadata": {},
   "outputs": [],
   "source": []
  }
 ],
 "metadata": {
  "kernelspec": {
   "display_name": "Julia 1.6.1",
   "language": "julia",
   "name": "julia-1.6"
  },
  "language_info": {
   "file_extension": ".jl",
   "mimetype": "application/julia",
   "name": "julia",
   "version": "1.6.1"
  },
  "orig_nbformat": 4
 },
 "nbformat": 4,
 "nbformat_minor": 2
}
