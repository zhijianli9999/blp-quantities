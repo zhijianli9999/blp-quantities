{
 "cells": [
  {
   "cell_type": "code",
   "execution_count": 1,
   "metadata": {},
   "outputs": [],
   "source": [
    "using DataFrames, LinearAlgebra, Distributions, Revise, Serialization, DebuggingUtilities"
   ]
  },
  {
   "cell_type": "code",
   "execution_count": 2,
   "metadata": {},
   "outputs": [],
   "source": [
    "string(@__DIR__) in LOAD_PATH || push!(LOAD_PATH, @__DIR__)\n",
    "using BLPmodule; const m = BLPmodule;"
   ]
  },
  {
   "cell_type": "markdown",
   "metadata": {},
   "source": [
    "---"
   ]
  },
  {
   "cell_type": "markdown",
   "metadata": {},
   "source": [
    "## Computation"
   ]
  },
  {
   "cell_type": "code",
   "execution_count": 31,
   "metadata": {},
   "outputs": [
    {
     "data": {
      "text/plain": [
       "32"
      ]
     },
     "metadata": {},
     "output_type": "display_data"
    }
   ],
   "source": [
    "Threads.nthreads()"
   ]
  },
  {
   "cell_type": "code",
   "execution_count": 9,
   "metadata": {},
   "outputs": [],
   "source": [
    "test1state = false\n",
    "if test1state \n",
    "    dirpath = \"/export/storage_adgandhi/MiscLi/factract/analysis\"\n",
    "else\n",
    "    dirpath = \"jls\"\n",
    "end;\n",
    "ec = deserialize(\"$dirpath/ec.jls\");"
   ]
  },
  {
   "cell_type": "code",
   "execution_count": 10,
   "metadata": {},
   "outputs": [
    {
     "name": "stdout",
     "output_type": "stream",
     "text": [
      "dist = NaN, iterations = 454\n"
     ]
    }
   ],
   "source": [
    "ec = deserialize(\"$dirpath/ec.jls\");\n",
    "pars = deserialize(\"$dirpath/pars.jls\");\n",
    "deltas, q_iter = m.compute_deltas(ec, pars, σ,max_iter=10000, verbose=true);\n",
    "# serialize(\"jls/deltas.jls\", deltas);"
   ]
  },
  {
   "cell_type": "code",
   "execution_count": 25,
   "metadata": {},
   "outputs": [],
   "source": []
  },
  {
   "cell_type": "code",
   "execution_count": 13,
   "metadata": {},
   "outputs": [],
   "source": [
    "using BenchmarkTools"
   ]
  },
  {
   "cell_type": "code",
   "execution_count": 73,
   "metadata": {},
   "outputs": [
    {
     "name": "stdout",
     "output_type": "stream",
     "text": [
      "  0.274327 seconds (519.15 k allocations: 61.624 MiB, 29.17% compilation time)\n"
     ]
    }
   ],
   "source": [
    "ec = deserialize(\"jls/ec.jls\");\n",
    "pars = deserialize(\"jls/pars.jls\");\n",
    "it = 1\n",
    "@time m.compute_deltas(ec, pars, σ, max_iter=it, verbose=false);"
   ]
  },
  {
   "cell_type": "code",
   "execution_count": 74,
   "metadata": {},
   "outputs": [
    {
     "name": "stdout",
     "output_type": "stream",
     "text": [
      "  0.076545 seconds (900.14 k allocations: 101.865 MiB)\n"
     ]
    }
   ],
   "source": [
    "ec = deserialize(\"jls/ec.jls\");\n",
    "pars = deserialize(\"jls/pars.jls\");\n",
    "it = 10\n",
    "@time m.compute_deltas(ec, pars, σ, max_iter=it, verbose=false);"
   ]
  },
  {
   "cell_type": "code",
   "execution_count": 75,
   "metadata": {},
   "outputs": [
    {
     "name": "stdout",
     "output_type": "stream",
     "text": [
      "  1.515471 seconds (22.36 M allocations: 1.873 GiB, 5.73% gc time)\n"
     ]
    }
   ],
   "source": [
    "ec = deserialize(\"jls/ec.jls\");\n",
    "pars = deserialize(\"jls/pars.jls\");\n",
    "it = 1000\n",
    "@time m.compute_deltas(ec, pars, σ, max_iter=it, verbose=false);"
   ]
  },
  {
   "cell_type": "code",
   "execution_count": 17,
   "metadata": {},
   "outputs": [
    {
     "data": {
      "text/plain": [
       "16"
      ]
     },
     "metadata": {},
     "output_type": "display_data"
    }
   ],
   "source": [
    "Threads.nthreads()"
   ]
  },
  {
   "cell_type": "code",
   "execution_count": 18,
   "metadata": {},
   "outputs": [],
   "source": [
    "# # this was the line that the memory profiler said was creating the vast majority of allocations\n",
    "# # ...which doesn't make sense because it's not even in the inner loop\n",
    "# # ...and it's the inner loop that's driving the allocations and times (according to benchmarks)\n",
    "# @time for t in ec.tracts\n",
    "#     t.abδ .= t.D * pars.nlcoefs\n",
    "# end"
   ]
  },
  {
   "cell_type": "markdown",
   "metadata": {},
   "source": [
    "___\n",
    "continued in `gmm.ipynb`"
   ]
  },
  {
   "cell_type": "code",
   "execution_count": 19,
   "metadata": {},
   "outputs": [],
   "source": []
  }
 ],
 "metadata": {
  "kernelspec": {
   "display_name": "Julia 1.6.1",
   "language": "julia",
   "name": "julia-1.6"
  },
  "language_info": {
   "file_extension": ".jl",
   "mimetype": "application/julia",
   "name": "julia",
   "version": "1.6.1"
  },
  "orig_nbformat": 4
 },
 "nbformat": 4,
 "nbformat_minor": 2
}
