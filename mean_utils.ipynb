{
 "cells": [
  {
   "cell_type": "code",
   "execution_count": 1,
   "metadata": {},
   "outputs": [],
   "source": [
    "using DataFrames, LinearAlgebra, Distributions, Revise, Serialization, DebuggingUtilities"
   ]
  },
  {
   "cell_type": "code",
   "execution_count": 2,
   "metadata": {},
   "outputs": [],
   "source": [
    "const datadir = \"/export/storage_adgandhi/MiscLi/factract\";\n",
    "string(@__DIR__) in LOAD_PATH || push!(LOAD_PATH, @__DIR__)\n",
    "using BLPmodule; const m = BLPmodule;"
   ]
  },
  {
   "cell_type": "markdown",
   "metadata": {},
   "source": [
    "---"
   ]
  },
  {
   "cell_type": "markdown",
   "metadata": {},
   "source": [
    "## Computation"
   ]
  },
  {
   "cell_type": "code",
   "execution_count": 3,
   "metadata": {},
   "outputs": [
    {
     "data": {
      "text/plain": [
       "32"
      ]
     },
     "metadata": {},
     "output_type": "display_data"
    }
   ],
   "source": [
    "Threads.nthreads()"
   ]
  },
  {
   "cell_type": "code",
   "execution_count": 4,
   "metadata": {},
   "outputs": [],
   "source": [
    "testmodes = [\"full\", \"fl\", \"fl17\"]\n",
    "testmode = testmodes[3]################# EDIT THIS ##################\n",
    "\n",
    "pars = deserialize(\"jls/pars.jls\");\n",
    "ec = deserialize(\"$datadir/analysis/ec$testmode.jls\");"
   ]
  },
  {
   "cell_type": "code",
   "execution_count": 5,
   "metadata": {},
   "outputs": [],
   "source": [
    "σ = ones(1); #initialize non-linear coef"
   ]
  },
  {
   "cell_type": "code",
   "execution_count": 6,
   "metadata": {},
   "outputs": [
    {
     "name": "stdout",
     "output_type": "stream",
     "text": [
      "dist = 9.938545773024998e-7, iterations = 177\n"
     ]
    }
   ],
   "source": [
    "pars = deserialize(\"jls/pars.jls\");\n",
    "ec = deserialize(\"$datadir/analysis/ec$testmode.jls\");\n",
    "\n",
    "deltas, q_iter = m.compute_deltas(ec, pars, σ, max_iter=1000, verbose=true, tol = 1e-6);\n",
    "\n"
   ]
  },
  {
   "cell_type": "code",
   "execution_count": null,
   "metadata": {},
   "outputs": [],
   "source": [
    "using BenchmarkTools"
   ]
  },
  {
   "cell_type": "code",
   "execution_count": null,
   "metadata": {},
   "outputs": [],
   "source": [
    "ec = deserialize(\"jls/ec.jls\");\n",
    "pars = deserialize(\"jls/pars.jls\");\n",
    "it = 1\n",
    "@time m.compute_deltas(ec, pars, σ, max_iter=it, verbose=false);"
   ]
  },
  {
   "cell_type": "code",
   "execution_count": null,
   "metadata": {},
   "outputs": [],
   "source": [
    "ec = deserialize(\"jls/ec.jls\");\n",
    "pars = deserialize(\"jls/pars.jls\");\n",
    "it = 10\n",
    "@time m.compute_deltas(ec, pars, σ, max_iter=it, verbose=false);"
   ]
  },
  {
   "cell_type": "code",
   "execution_count": null,
   "metadata": {},
   "outputs": [],
   "source": [
    "ec = deserialize(\"jls/ec.jls\");\n",
    "pars = deserialize(\"jls/pars.jls\");\n",
    "it = 1000\n",
    "@time m.compute_deltas(ec, pars, σ, max_iter=it, verbose=false);"
   ]
  },
  {
   "cell_type": "code",
   "execution_count": null,
   "metadata": {},
   "outputs": [],
   "source": [
    "Threads.nthreads()"
   ]
  },
  {
   "cell_type": "code",
   "execution_count": null,
   "metadata": {},
   "outputs": [],
   "source": [
    "# # this was the line that the memory profiler said was creating the vast majority of allocations\n",
    "# # ...which doesn't make sense because it's not even in the inner loop\n",
    "# # ...and it's the inner loop that's driving the allocations and times (according to benchmarks)\n",
    "# @time for t in ec.tracts\n",
    "#     t.abδ .= t.D * pars.nlcoefs\n",
    "# end"
   ]
  },
  {
   "cell_type": "markdown",
   "metadata": {},
   "source": [
    "___\n",
    "continued in `gmm.ipynb`"
   ]
  },
  {
   "cell_type": "code",
   "execution_count": 21,
   "metadata": {},
   "outputs": [
    {
     "data": {
      "text/plain": [
       "3×3 Matrix{Float64}:\n",
       " 1.0  1.0  1.0\n",
       " 1.0  1.0  1.0\n",
       " 1.0  1.0  1.0"
      ]
     },
     "metadata": {},
     "output_type": "display_data"
    }
   ],
   "source": [
    "a = ones(3,3)"
   ]
  },
  {
   "cell_type": "code",
   "execution_count": 22,
   "metadata": {},
   "outputs": [
    {
     "data": {
      "text/plain": [
       "3×3 Matrix{Float64}:\n",
       " 3.0  3.0  3.0\n",
       " 4.0  4.0  4.0\n",
       " 5.0  5.0  5.0"
      ]
     },
     "metadata": {},
     "output_type": "display_data"
    }
   ],
   "source": [
    "a .+ [2,3,4]"
   ]
  },
  {
   "cell_type": "code",
   "execution_count": null,
   "metadata": {},
   "outputs": [],
   "source": []
  }
 ],
 "metadata": {
  "kernelspec": {
   "display_name": "Julia 1.6.1",
   "language": "julia",
   "name": "julia-1.6"
  },
  "language_info": {
   "file_extension": ".jl",
   "mimetype": "application/julia",
   "name": "julia",
   "version": "1.6.1"
  },
  "orig_nbformat": 4
 },
 "nbformat": 4,
 "nbformat_minor": 2
}
