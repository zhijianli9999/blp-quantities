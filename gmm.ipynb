{
 "cells": [
  {
   "cell_type": "code",
   "execution_count": 1,
   "metadata": {},
   "outputs": [],
   "source": [
    "using DataFrames, DataFramesMeta, LinearAlgebra, Distributions, Optim, Revise, Plots, CSV, Serialization\n",
    "using JuMP, Ipopt\n",
    "string(@__DIR__) in LOAD_PATH || push!(LOAD_PATH, @__DIR__)\n",
    "using BLPmodule; const m = BLPmodule;"
   ]
  },
  {
   "cell_type": "code",
   "execution_count": 38,
   "metadata": {},
   "outputs": [],
   "source": [
    "deltas = deserialize(\"deltas.jls\");\n",
    "dfj_full = deserialize(\"dfj.jls\");"
   ]
  },
  {
   "cell_type": "code",
   "execution_count": 39,
   "metadata": {},
   "outputs": [],
   "source": [
    "# # disutility of distance\n",
    "# β = [-0.5, -1.];\n",
    "K = 2\n",
    "nI = 1000\n",
    "J = nrow(dfj_full)\n",
    "X = hcat(dfj_full.auxd, dfj_full.auxd2);\n",
    "Z = hcat(dfj_full.x1, dfj_full.x2);\n",
    "ζ = rand(Normal(0,1), K, nI);\n",
    "s = dfj_full.s; #using shares or quantities"
   ]
  },
  {
   "cell_type": "code",
   "execution_count": 40,
   "metadata": {},
   "outputs": [],
   "source": [
    "Φ1 = Z' * Z\n",
    "initial_b_guess = [-1., -2.]\n",
    "b_init = optimize(x -> m.gmm(x, s, X, Z, ζ, Φ1), initial_b_guess, LBFGS()).minimizer\n",
    "d_init = m.loop(s, X, ζ, b_init);"
   ]
  },
  {
   "cell_type": "code",
   "execution_count": 41,
   "metadata": {},
   "outputs": [],
   "source": [
    "if any(isnan.(d_init))\n",
    "    nanind = isnan.(d_init)\n",
    "    println(sum(nanind))\n",
    "    dfj = dfj_full[.!nanind,:];\n",
    "    describe(dfj_full[nanind, :], :mean, :median, :min, :max, cols = [:q, :s, :auxd, :x1, :x2])\n",
    "else\n",
    "    dfj = dfj_full\n",
    "end;\n",
    "# redefine in case we have NaN\n",
    "J = nrow(dfj)\n",
    "X = hcat(dfj.auxd, dfj.auxd2);\n",
    "Z = hcat(dfj.x1, dfj.x2);"
   ]
  },
  {
   "cell_type": "code",
   "execution_count": 42,
   "metadata": {},
   "outputs": [
    {
     "name": "stdout",
     "output_type": "stream",
     "text": [
      "0\n"
     ]
    }
   ],
   "source": [
    "Φ1 = Z' * Z\n",
    "b_ = optimize(x -> m.gmm(x, s, X, Z, ζ, Φ1), initial_b_guess, LBFGS()).minimizer\n",
    "d_ = m.loop(s, X, ζ, b_);\n",
    "println(sum(isnan.(d_)))"
   ]
  },
  {
   "cell_type": "code",
   "execution_count": 43,
   "metadata": {},
   "outputs": [
    {
     "data": {
      "text/plain": [
       "2-element Vector{Float64}:\n",
       "  15.406324867159128\n",
       " -13.74538281688001"
      ]
     },
     "metadata": {},
     "output_type": "display_data"
    }
   ],
   "source": [
    "b_forΦ = m.grad(X, Z, Φ1, d_)"
   ]
  },
  {
   "cell_type": "code",
   "execution_count": 44,
   "metadata": {},
   "outputs": [
    {
     "data": {
      "text/plain": [
       "2×2 Matrix{Float64}:\n",
       " 4.38799e-16  5.26679e-17\n",
       " 5.26688e-17  6.32176e-18"
      ]
     },
     "metadata": {},
     "output_type": "display_data"
    }
   ],
   "source": [
    "ξ_ = d_ - X * b_forΦ;\n",
    "Φ = Z' * ξ_ * ξ_' * Z"
   ]
  },
  {
   "cell_type": "code",
   "execution_count": 45,
   "metadata": {},
   "outputs": [
    {
     "data": {
      "text/plain": [
       "2-element Vector{Float64}:\n",
       " -1.0\n",
       " -2.0"
      ]
     },
     "metadata": {},
     "output_type": "display_data"
    }
   ],
   "source": [
    "b = optimize(x -> m.gmm(x, s, X, Z, ζ, Φ), initial_b_guess, LBFGS()).minimizer"
   ]
  },
  {
   "cell_type": "code",
   "execution_count": 46,
   "metadata": {},
   "outputs": [
    {
     "name": "stdout",
     "output_type": "stream",
     "text": [
      "iterations: 2\n",
      "dist: 1.4210854715202004e-14\n",
      "deltas:[-42.37279658055172, -45.80835043555652, -49.07800321381782, -43.36380977101061, -47.51091141515346]\n",
      "s_:    [0.0166520959999999, 0.002520106499999999, 0.0022313865000000046, 0.003315309799999989, 0.004353770999999998]\n"
     ]
    }
   ],
   "source": [
    "δ = m.loop(s, X, ζ, b, verbose = true);"
   ]
  },
  {
   "cell_type": "code",
   "execution_count": 47,
   "metadata": {},
   "outputs": [
    {
     "data": {
      "text/plain": [
       "2-element Vector{Float64}:\n",
       "  15.406324859708548\n",
       " -13.745382811874151"
      ]
     },
     "metadata": {},
     "output_type": "display_data"
    }
   ],
   "source": [
    "β_blp = m.grad(X, Z, Φ, δ)"
   ]
  },
  {
   "cell_type": "code",
   "execution_count": 107,
   "metadata": {},
   "outputs": [],
   "source": []
  },
  {
   "cell_type": "code",
   "execution_count": 108,
   "metadata": {},
   "outputs": [],
   "source": []
  },
  {
   "cell_type": "code",
   "execution_count": 109,
   "metadata": {},
   "outputs": [],
   "source": []
  },
  {
   "cell_type": "code",
   "execution_count": 110,
   "metadata": {},
   "outputs": [],
   "source": [
    "# m.gmm(β, dfj.s, X, Z, ζ)\n",
    "\n",
    "# (X' * X )*( X'  * deltas)\n",
    "# model = Model(Ipopt.Optimizer)\n",
    "# @variable(model, β)\n",
    "# @NLobjective(model, Min, m.gmm(β, dfj.s, X, Z, ζ))\n",
    "\n",
    "# this is messed up\n",
    "# model = Model(Ipopt.Optimizer)\n",
    "# @variable(model, β)\n",
    "# register(model, :g, 1, m.gmm, m.grad, autodiff = true)\n",
    "# @NLobjective(model, Min, (s, X, Z, ζ))\n",
    "# optimize!(model)\n",
    "# solution_summary(model; verbose = true)"
   ]
  },
  {
   "cell_type": "code",
   "execution_count": null,
   "metadata": {},
   "outputs": [],
   "source": []
  },
  {
   "cell_type": "code",
   "execution_count": null,
   "metadata": {},
   "outputs": [],
   "source": []
  },
  {
   "cell_type": "code",
   "execution_count": 50,
   "metadata": {},
   "outputs": [
    {
     "name": "stdout",
     "output_type": "stream",
     "text": [
      "(410, 2)\n",
      "(2, 1000)\n"
     ]
    }
   ],
   "source": [
    "K = 2\n",
    "nI = 1000\n",
    "J = nrow(dfj_full)\n",
    "X = hcat(dfj_full.auxd, dfj_full.auxd2);\n",
    "println(size(X))\n",
    "ζ = rand(Normal(0,1), K, nI);\n",
    "println(size(ζ))\n",
    "s = dfj_full.s; #using shares or quantities"
   ]
  },
  {
   "cell_type": "code",
   "execution_count": 49,
   "metadata": {},
   "outputs": [],
   "source": [
    "δ0 = zeros(1, size(ζ, 2))\n",
    "δ_ = ones(size(s))\n",
    "β = [-0.5, -1.];\n"
   ]
  },
  {
   "cell_type": "code",
   "execution_count": 51,
   "metadata": {},
   "outputs": [
    {
     "name": "stdout",
     "output_type": "stream",
     "text": [
      "(2, 1000)\n"
     ]
    }
   ],
   "source": [
    "println(size(ζ .* β))"
   ]
  },
  {
   "cell_type": "code",
   "execution_count": 56,
   "metadata": {},
   "outputs": [
    {
     "data": {
      "text/plain": [
       "410"
      ]
     },
     "metadata": {},
     "output_type": "display_data"
    }
   ],
   "source": [
    "J"
   ]
  },
  {
   "cell_type": "code",
   "execution_count": 57,
   "metadata": {},
   "outputs": [
    {
     "name": "stdout",
     "output_type": "stream",
     "text": [
      "Dims of ζ: (2, 1000)\n",
      "Dims of ζ .* β: (2, 1000)\n",
      "Dims of X * (ζ .* β): (410, 1000)\n",
      "Dims of δ_ .+ (X * (ζ .* β)): (410, 1000)\n",
      "Dims of u: (411, 1000)\n",
      "Dims of s: (411, 1)\n"
     ]
    }
   ],
   "source": [
    "println(\"Dims of ζ: \", size(ζ))\n",
    "println(\"Dims of ζ .* β: \", size(ζ .* β))\n",
    "println(\"Dims of X * (ζ .* β): \", size(X * (ζ .* β)))\n",
    "println(\"Dims of δ_ .+ (X * (ζ .* β)): \", size(δ_ .+ (X * (ζ .* β))))\n",
    "println(\"Dims of u: \", size(u))\n",
    "println(\"Dims of s: \", size(s))"
   ]
  },
  {
   "cell_type": "code",
   "execution_count": 67,
   "metadata": {},
   "outputs": [
    {
     "data": {
      "text/plain": [
       "2×1000 Matrix{Float64}:\n",
       " 1.28862  -1.0541    0.261135  -0.780647  …  0.491427  -1.4154   -0.711331\n",
       " 1.44669   1.07391  -0.072652   2.04786      0.875245   0.69824   0.501537"
      ]
     },
     "metadata": {},
     "output_type": "display_data"
    }
   ],
   "source": [
    "ζ"
   ]
  },
  {
   "cell_type": "code",
   "execution_count": 68,
   "metadata": {},
   "outputs": [
    {
     "data": {
      "text/plain": [
       "2-element Vector{Float64}:\n",
       " -0.5\n",
       " -1.0"
      ]
     },
     "metadata": {},
     "output_type": "display_data"
    }
   ],
   "source": [
    "β"
   ]
  },
  {
   "cell_type": "code",
   "execution_count": 69,
   "metadata": {},
   "outputs": [
    {
     "data": {
      "text/plain": [
       "2×1000 Matrix{Float64}:\n",
       " -0.64431   0.52705  -0.130567   0.390323  …  -0.245714   0.707699   0.355665\n",
       " -1.44669  -1.07391   0.072652  -2.04786      -0.875245  -0.69824   -0.501537"
      ]
     },
     "metadata": {},
     "output_type": "display_data"
    }
   ],
   "source": [
    "(ζ .* β)"
   ]
  },
  {
   "cell_type": "code",
   "execution_count": 71,
   "metadata": {},
   "outputs": [
    {
     "data": {
      "text/plain": [
       "410×2 Matrix{Float64}:\n",
       " 2.40807  5.7988\n",
       " 2.44936  5.99935\n",
       " 2.53129  6.40744\n",
       " 2.39125  5.71807\n",
       " 2.50817  6.29093\n",
       " 2.44839  5.9946\n",
       " 2.35418  5.54214\n",
       " 2.53556  6.42907\n",
       " 2.11898  4.49007\n",
       " 2.46085  6.0558\n",
       " ⋮        \n",
       " 2.41092  5.81255\n",
       " 2.52271  6.36407\n",
       " 2.50257  6.26287\n",
       " 2.81035  7.89809\n",
       " 2.33969  5.47415\n",
       " 2.73808  7.49709\n",
       " 2.48494  6.17491\n",
       " 2.4118   5.81676\n",
       " 2.36637  5.59969"
      ]
     },
     "metadata": {},
     "output_type": "display_data"
    }
   ],
   "source": [
    "X"
   ]
  },
  {
   "cell_type": "code",
   "execution_count": 70,
   "metadata": {},
   "outputs": [
    {
     "data": {
      "text/plain": [
       "410×1000 Matrix{Float64}:\n",
       "  -9.94059  -4.9582   0.106879   -10.9352   …  -5.66707  -2.34477  -2.05185\n",
       " -10.2573   -5.15181  0.116059   -11.3298      -5.85274  -2.45558  -2.13775\n",
       " -10.9005   -5.54688  0.13501    -12.1335      -6.23006  -2.68254  -2.31328\n",
       "  -9.81295  -4.88036  0.10321    -10.7765      -5.59227  -2.3003   -2.01734\n",
       " -10.717    -5.43394  0.129563   -11.904       -6.1224   -2.61755  -2.26307\n",
       " -10.2498   -5.14721  0.11584    -11.3205   …  -5.84834  -2.45295  -2.13571\n",
       "  -9.53456  -4.71097  0.0952693  -10.4307      -5.42919  -2.2037   -1.94229\n",
       " -10.9345   -5.56785  0.136024   -12.1762      -6.25004  -2.69463  -2.32261\n",
       "  -7.861    -3.70511  0.0495432   -8.36796     -4.45057  -1.63555  -1.49829\n",
       " -10.3464   -5.20637  0.118659   -11.4409      -5.90497  -2.48686  -2.16197\n",
       "   ⋮                                        ⋱                      \n",
       "  -9.96232  -4.97146  0.107506   -10.9623      -5.6798   -2.35235  -2.05773\n",
       " -10.8322   -5.50482  0.132979   -12.0481      -6.18998  -2.65833  -2.29457\n",
       " -10.6728   -5.40675  0.128256   -11.8487      -6.09646  -2.60192  -2.25098\n",
       " -13.2368   -7.00061  0.206871   -15.0773      -7.6033   -3.52588  -2.96164\n",
       "  -9.42687  -4.64559  0.0922209  -10.2971   …  -5.36612  -2.16648  -1.91334\n",
       " -12.6101   -6.60807  0.187175   -14.2843      -7.23458  -3.29704  -2.78623\n",
       " -10.5342   -5.32159  0.124168   -11.6755      -6.01515  -2.55299  -2.21314\n",
       "  -9.96898  -4.97552  0.107698   -10.9706      -5.68371  -2.35467  -2.05953\n",
       "  -9.62567  -4.76635  0.0978585  -10.5437      -5.48255  -2.23525  -1.96682"
      ]
     },
     "metadata": {},
     "output_type": "display_data"
    }
   ],
   "source": [
    "(X * (ζ .* β))"
   ]
  },
  {
   "cell_type": "code",
   "execution_count": 52,
   "metadata": {},
   "outputs": [
    {
     "data": {
      "text/plain": [
       "411×1 Matrix{Float64}:\n",
       "      1.708046652416107e7\n",
       "      3.6253253963017374e7\n",
       "      1.677021585973194e8\n",
       "      1.2616604476584181e7\n",
       "      1.082987851858634e8\n",
       "      3.561218389169406e7\n",
       "      6.521548536488545e6\n",
       "      1.8188305622789317e8\n",
       " 127775.00667313361\n",
       "      4.4807905283273906e7\n",
       "      ⋮\n",
       "      1.4250554490995115e8\n",
       "      9.747243410101286e7\n",
       "      4.493119217174229e10\n",
       "      5.053849636319714e6\n",
       "      9.995867908984142e9\n",
       "      7.006685984517105e7\n",
       "      1.8271381911401536e7\n",
       "      8.092513844217124e6\n",
       "      1.0"
      ]
     },
     "metadata": {},
     "output_type": "display_data"
    }
   ],
   "source": [
    "u = [δ_ .+ (X * (ζ .* β)); δ0]\n",
    "# println(mean(u))\n",
    "e = exp.(u)\n",
    "s = mean(e, dims=2)"
   ]
  },
  {
   "cell_type": "code",
   "execution_count": null,
   "metadata": {},
   "outputs": [],
   "source": []
  }
 ],
 "metadata": {
  "kernelspec": {
   "display_name": "Julia 1.6.1",
   "language": "julia",
   "name": "julia-1.6"
  },
  "language_info": {
   "file_extension": ".jl",
   "mimetype": "application/julia",
   "name": "julia",
   "version": "1.6.1"
  },
  "orig_nbformat": 4,
  "vscode": {
   "interpreter": {
    "hash": "8f874cb96a7fdce6260903239cd4ccff59f9cd40f07ae8042efeb94d5942b24b"
   }
  }
 },
 "nbformat": 4,
 "nbformat_minor": 2
}
