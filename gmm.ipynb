{
 "cells": [
  {
   "cell_type": "code",
   "execution_count": 1,
   "metadata": {},
   "outputs": [],
   "source": [
    "using DataFrames, DataFramesMeta, LinearAlgebra, Distributions, Optim, Revise, Plots, CSV, Serialization\n",
    "using JuMP, Ipopt\n",
    "string(@__DIR__) in LOAD_PATH || push!(LOAD_PATH, @__DIR__)\n",
    "using BLPmodule; const m = BLPmodule;"
   ]
  },
  {
   "cell_type": "code",
   "execution_count": 6,
   "metadata": {},
   "outputs": [],
   "source": [
    "deltas = deserialize(\"deltas.jls\");\n",
    "df = deserialize(\"df.jls\");\n",
    "dfj = deserialize(\"dfj.jls\");"
   ]
  },
  {
   "cell_type": "code",
   "execution_count": 13,
   "metadata": {},
   "outputs": [],
   "source": [
    "# Data\n",
    "# linear characteristics (staffing variables):\n",
    "X1 = hcat(df.x1, df.x2); \n",
    "# non-linear characteristics:\n",
    "D = hcat(df.d, df.d2); \n",
    "X2 = D\n",
    "Z = X1 # TODO: verify this\n",
    "\n",
    "T = df.t; #tract IDs\n",
    "J = df.j; #facility IDs\n",
    "M = df.M; #tract populations\n",
    "q = dfj.q; #one quantity per facility\n",
    "\n",
    "\n",
    "# RC draws\n",
    "nI = 1000; #number of draws\n",
    "K = 2; #number of non-linear characteristics \n",
    "ζ = rand(Normal(0,1), K, nI);\n"
   ]
  },
  {
   "cell_type": "code",
   "execution_count": 11,
   "metadata": {},
   "outputs": [],
   "source": [
    "# # disutility of distance\n",
    "# β = [-0.5, -1];"
   ]
  },
  {
   "cell_type": "markdown",
   "metadata": {},
   "source": [
    "once you find the correct mean utilities for a resonable distnace parameter, use that as the starting point for the fixed point the next time"
   ]
  },
  {
   "cell_type": "code",
   "execution_count": 21,
   "metadata": {},
   "outputs": [
    {
     "name": "stdout",
     "output_type": "stream",
     "text": [
      "iterations: 644\n",
      "dist: 9.938716516444401e-13\n"
     ]
    },
    {
     "name": "stdout",
     "output_type": "stream",
     "text": [
      "iterations: 644\n",
      "dist: 9.938716516444401e-13\n"
     ]
    },
    {
     "name": "stdout",
     "output_type": "stream",
     "text": [
      "iterations: 644\n",
      "dist: 9.920952948050399e-13\n"
     ]
    },
    {
     "name": "stdout",
     "output_type": "stream",
     "text": [
      "iterations: 644\n",
      "dist: 9.938716516444401e-13\n"
     ]
    }
   ],
   "source": [
    "Φ1 = Z' * Z\n",
    "initial_b_guess = [-1., -2.]\n",
    "\n",
    "b_init = optimize(β -> m.gmm(β, q, X1, D, X1, M, ζ, J, T, Φ1), initial_b_guess, LBFGS()).minimizer \n",
    "# b_init := params_2 = res_init_wt.x"
   ]
  },
  {
   "cell_type": "code",
   "execution_count": null,
   "metadata": {},
   "outputs": [],
   "source": [
    "b_init"
   ]
  },
  {
   "cell_type": "code",
   "execution_count": null,
   "metadata": {},
   "outputs": [],
   "source": [
    "\n",
    "# d_init = m.compute_deltas(q, D, M, ζ, b_init, J, T)"
   ]
  },
  {
   "cell_type": "code",
   "execution_count": null,
   "metadata": {},
   "outputs": [],
   "source": [
    "b_ = optimize(β -> m.gmm(β, q, X, Z, ζ, Φ1), initial_b_guess, LBFGS()).minimizer\n",
    "d_ = m.compute_deltas(q, D, M, ζ, b_, J, T)"
   ]
  },
  {
   "cell_type": "code",
   "execution_count": null,
   "metadata": {},
   "outputs": [],
   "source": [
    "b_forΦ = m.grad(X, Z, Φ1, d_)"
   ]
  },
  {
   "cell_type": "code",
   "execution_count": null,
   "metadata": {},
   "outputs": [],
   "source": [
    "ξ_ = d_ - X * b_forΦ;\n",
    "Φ = Z' * ξ_ * ξ_' * Z"
   ]
  },
  {
   "cell_type": "code",
   "execution_count": null,
   "metadata": {},
   "outputs": [],
   "source": [
    "b = optimize(x -> m.gmm(x, s, X, Z, ζ, Φ), initial_b_guess, LBFGS()).minimizer"
   ]
  },
  {
   "cell_type": "code",
   "execution_count": null,
   "metadata": {},
   "outputs": [],
   "source": [
    "δ = m.loop(s, X, ζ, b, verbose = true);"
   ]
  },
  {
   "cell_type": "code",
   "execution_count": null,
   "metadata": {},
   "outputs": [],
   "source": [
    "β_blp = m.grad(X, Z, Φ, δ)"
   ]
  },
  {
   "cell_type": "code",
   "execution_count": null,
   "metadata": {},
   "outputs": [],
   "source": []
  },
  {
   "cell_type": "code",
   "execution_count": null,
   "metadata": {},
   "outputs": [],
   "source": []
  },
  {
   "cell_type": "code",
   "execution_count": null,
   "metadata": {},
   "outputs": [],
   "source": []
  },
  {
   "cell_type": "code",
   "execution_count": null,
   "metadata": {},
   "outputs": [],
   "source": [
    "# m.gmm(β, dfj.s, X, Z, ζ)\n",
    "\n",
    "# (X' * X )*( X'  * deltas)\n",
    "# model = Model(Ipopt.Optimizer)\n",
    "# @variable(model, β)\n",
    "# @NLobjective(model, Min, m.gmm(β, dfj.s, X, Z, ζ))\n",
    "\n",
    "# this is messed up\n",
    "# model = Model(Ipopt.Optimizer)\n",
    "# @variable(model, β)\n",
    "# register(model, :g, 1, m.gmm, m.grad, autodiff = true)\n",
    "# @NLobjective(model, Min, (s, X, Z, ζ))\n",
    "# optimize!(model)\n",
    "# solution_summary(model; verbose = true)"
   ]
  },
  {
   "cell_type": "code",
   "execution_count": null,
   "metadata": {},
   "outputs": [],
   "source": []
  },
  {
   "cell_type": "code",
   "execution_count": null,
   "metadata": {},
   "outputs": [],
   "source": []
  },
  {
   "cell_type": "code",
   "execution_count": null,
   "metadata": {},
   "outputs": [],
   "source": [
    "K = 2\n",
    "nI = 1000\n",
    "J = nrow(dfj)\n",
    "X = hcat(dfj.auxd, dfj.auxd2);\n",
    "println(size(X))\n",
    "ζ = rand(Normal(0,1), K, nI);\n",
    "println(size(ζ))\n",
    "s = dfj.s; #using shares or quantities"
   ]
  },
  {
   "cell_type": "code",
   "execution_count": null,
   "metadata": {},
   "outputs": [],
   "source": [
    "δ0 = zeros(1, size(ζ, 2))\n",
    "δ_ = ones(size(s))\n",
    "β = [-0.5, -1.];\n"
   ]
  },
  {
   "cell_type": "code",
   "execution_count": null,
   "metadata": {},
   "outputs": [],
   "source": [
    "println(size(ζ .* β))"
   ]
  },
  {
   "cell_type": "code",
   "execution_count": null,
   "metadata": {},
   "outputs": [],
   "source": [
    "J"
   ]
  },
  {
   "cell_type": "code",
   "execution_count": null,
   "metadata": {},
   "outputs": [],
   "source": [
    "println(\"Dims of ζ: \", size(ζ))\n",
    "println(\"Dims of ζ .* β: \", size(ζ .* β))\n",
    "println(\"Dims of X * (ζ .* β): \", size(X * (ζ .* β)))\n",
    "println(\"Dims of δ_ .+ (X * (ζ .* β)): \", size(δ_ .+ (X * (ζ .* β))))\n",
    "println(\"Dims of u: \", size(u))\n",
    "println(\"Dims of s: \", size(s))"
   ]
  },
  {
   "cell_type": "code",
   "execution_count": null,
   "metadata": {},
   "outputs": [],
   "source": [
    "ζ"
   ]
  },
  {
   "cell_type": "code",
   "execution_count": null,
   "metadata": {},
   "outputs": [],
   "source": [
    "β"
   ]
  },
  {
   "cell_type": "code",
   "execution_count": null,
   "metadata": {},
   "outputs": [],
   "source": [
    "(ζ .* β)"
   ]
  },
  {
   "cell_type": "code",
   "execution_count": null,
   "metadata": {},
   "outputs": [],
   "source": [
    "X"
   ]
  },
  {
   "cell_type": "code",
   "execution_count": null,
   "metadata": {},
   "outputs": [],
   "source": [
    "(X * (ζ .* β))"
   ]
  },
  {
   "cell_type": "code",
   "execution_count": null,
   "metadata": {},
   "outputs": [],
   "source": [
    "u = [δ_ .+ (X * (ζ .* β)); δ0]\n",
    "# println(mean(u))\n",
    "e = exp.(u)\n",
    "s = mean(e, dims=2)"
   ]
  },
  {
   "cell_type": "code",
   "execution_count": null,
   "metadata": {},
   "outputs": [],
   "source": []
  }
 ],
 "metadata": {
  "kernelspec": {
   "display_name": "Julia 1.6.1",
   "language": "julia",
   "name": "julia-1.6"
  },
  "language_info": {
   "file_extension": ".jl",
   "mimetype": "application/julia",
   "name": "julia",
   "version": "1.6.1"
  },
  "orig_nbformat": 4,
  "vscode": {
   "interpreter": {
    "hash": "8f874cb96a7fdce6260903239cd4ccff59f9cd40f07ae8042efeb94d5942b24b"
   }
  }
 },
 "nbformat": 4,
 "nbformat_minor": 2
}
