{
 "cells": [
  {
   "cell_type": "code",
   "execution_count": 1,
   "metadata": {},
   "outputs": [],
   "source": [
    "using DataFrames, Optim, Revise, Serialization, DebuggingUtilities"
   ]
  },
  {
   "cell_type": "code",
   "execution_count": 2,
   "metadata": {},
   "outputs": [],
   "source": [
    "string(@__DIR__) in LOAD_PATH || push!(LOAD_PATH, @__DIR__);\n",
    "using BLPmodule; const m = BLPmodule;"
   ]
  },
  {
   "cell_type": "code",
   "execution_count": 4,
   "metadata": {},
   "outputs": [],
   "source": [
    "# df = deserialize(\"jls/df.jls\");\n",
    "pars = deserialize(\"jls/pars.jls\");\n",
    "ec = deserialize(\"jls/ec.jls\");\n"
   ]
  },
  {
   "cell_type": "markdown",
   "metadata": {},
   "source": [
    "---"
   ]
  },
  {
   "cell_type": "code",
   "execution_count": 28,
   "metadata": {},
   "outputs": [],
   "source": [
    "# linear characteristics (staffing variables):\n",
    "X1 = vcat(transpose.([ec.firms[i].X for i in eachindex(ec.firms)])...)\n",
    "Z = X1;"
   ]
  },
  {
   "cell_type": "code",
   "execution_count": 29,
   "metadata": {},
   "outputs": [
    {
     "name": "stdout",
     "output_type": "stream",
     "text": [
      "θ2 = "
     ]
    },
    {
     "name": "stdout",
     "output_type": "stream",
     "text": [
      "[10.0, 10.0]\n"
     ]
    },
    {
     "name": "stdout",
     "output_type": "stream",
     "text": [
      "obj = 440.1795554792867"
     ]
    },
    {
     "name": "stdout",
     "output_type": "stream",
     "text": [
      "\n"
     ]
    },
    {
     "data": {
      "text/plain": [
       "440.1795554792867"
      ]
     },
     "metadata": {},
     "output_type": "display_data"
    }
   ],
   "source": [
    "ec = deserialize(\"jls/ec.jls\");\n",
    "pars = deserialize(\"jls/pars.jls\");\n",
    "m.gmm_lm([10.,10.], ec, pars, X1)\n"
   ]
  },
  {
   "cell_type": "code",
   "execution_count": 30,
   "metadata": {},
   "outputs": [
    {
     "name": "stdout",
     "output_type": "stream",
     "text": [
      "grad = [1.1727141430484693, -0.08156502166082444]\n"
     ]
    },
    {
     "data": {
      "text/plain": [
       "2-element Vector{Float64}:\n",
       "  1.1727141430484693\n",
       " -0.08156502166082444"
      ]
     },
     "metadata": {},
     "output_type": "display_data"
    }
   ],
   "source": [
    "ec = deserialize(\"jls/ec.jls\");\n",
    "pars = deserialize(\"jls/pars.jls\");\n",
    "m.gmm_grad_alt([1.,1.], ec, pars, X1)\n"
   ]
  },
  {
   "cell_type": "markdown",
   "metadata": {},
   "source": [
    "---"
   ]
  },
  {
   "cell_type": "code",
   "execution_count": 31,
   "metadata": {},
   "outputs": [
    {
     "data": {
      "text/plain": [
       "g! (generic function with 1 method)"
      ]
     },
     "metadata": {},
     "output_type": "display_data"
    }
   ],
   "source": [
    "function g!(storage::Array, θ2::Array)\n",
    "    storage .= m.gmm_grad_alt(θ2, ec, pars, X1)\n",
    "    return nothing \n",
    "end\n"
   ]
  },
  {
   "cell_type": "code",
   "execution_count": 32,
   "metadata": {},
   "outputs": [
    {
     "name": "stdout",
     "output_type": "stream",
     "text": [
      "grad = [1.1727141430484693, -0.08156502166082444]\n",
      "θ2 = [1.0, 2.0]\n"
     ]
    },
    {
     "name": "stdout",
     "output_type": "stream",
     "text": [
      "obj = 405.12790482567897\n",
      "grad = "
     ]
    },
    {
     "name": "stdout",
     "output_type": "stream",
     "text": [
      "[30.27279956084211, 5.065585240196128]\n",
      "θ2 = [-0.17271414304846933, 2.0815650216608246]\n"
     ]
    },
    {
     "name": "stdout",
     "output_type": "stream",
     "text": [
      "obj = 404.83237428259304\n",
      "grad = "
     ]
    },
    {
     "name": "stdout",
     "output_type": "stream",
     "text": [
      "[-45.29637794153072, 3.468714783853501]\n",
      "θ2 = [-4.863570715242346, 2.407825108304122]\n"
     ]
    },
    {
     "name": "stdout",
     "output_type": "stream",
     "text": [
      "obj = 412.95383713775607\n",
      "grad = "
     ]
    },
    {
     "name": "stdout",
     "output_type": "stream",
     "text": [
      "[-343.84519608015756, -2.664075048716623]\n",
      "θ2 = [-2.032721766753849, 2.210932918361084]\n"
     ]
    },
    {
     "name": "stdout",
     "output_type": "stream",
     "text": [
      "obj = 406.2585545332501\n",
      "grad = "
     ]
    },
    {
     "name": "stdout",
     "output_type": "stream",
     "text": [
      "[-165.15541227632778, 0.9718689955921381]\n",
      "θ2 = [-0.32168426273807227, 2.091926243200894]\n"
     ]
    },
    {
     "name": "stdout",
     "output_type": "stream",
     "text": [
      "obj = 404.86082078079704\n",
      "grad = "
     ]
    },
    {
     "name": "stdout",
     "output_type": "stream",
     "text": [
      "[-54.91267727296075, 3.2667416420438697]\n",
      "θ2 = [0.9906441155781875, 2.001242666059449]\n"
     ]
    },
    {
     "name": "stdout",
     "output_type": "stream",
     "text": [
      "obj = 405.12191894470664\n",
      "grad = "
     ]
    },
    {
     "name": "stdout",
     "output_type": "stream",
     "text": [
      "[29.672373019783738, 5.053086339352182]\n",
      "θ2 = [0.33447992642005764, 2.0465844546301715]\n"
     ]
    },
    {
     "name": "stdout",
     "output_type": "stream",
     "text": [
      "obj = 404.84712398332874\n",
      "grad = "
     ]
    },
    {
     "name": "stdout",
     "output_type": "stream",
     "text": [
      "[-12.57287774353792, 4.158239000937831]\n",
      "θ2 = [0.23557860970239408, 2.0534186626928395]\n"
     ]
    },
    {
     "name": "stdout",
     "output_type": "stream",
     "text": [
      "obj = 404.8307144216106\n",
      "grad = "
     ]
    },
    {
     "name": "stdout",
     "output_type": "stream",
     "text": [
      "[-18.950630799425717, 4.02360496381439]\n",
      "θ2 = [0.2829537893712811, 2.033928365453727]\n"
     ]
    },
    {
     "name": "stdout",
     "output_type": "stream",
     "text": [
      "obj = 404.83745914945854\n",
      "grad = "
     ]
    },
    {
     "name": "stdout",
     "output_type": "stream",
     "text": [
      "[-15.917917617295275, 4.080568980199199]\n",
      "θ2 = [0.2592661995368376, 2.043673514073283]\n"
     ]
    },
    {
     "name": "stdout",
     "output_type": "stream",
     "text": [
      "obj = 404.833904765018\n",
      "grad = "
     ]
    },
    {
     "name": "stdout",
     "output_type": "stream",
     "text": [
      "[-17.43421775280169, 4.052084103322918]\n",
      "θ2 = [0.24742240461961584, 2.0485460883830613]\n"
     ]
    },
    {
     "name": "stdout",
     "output_type": "stream",
     "text": [
      "obj = 404.8322632346958\n"
     ]
    },
    {
     "ename": "InterruptException",
     "evalue": "InterruptException:",
     "output_type": "error",
     "traceback": [
      "InterruptException:\n",
      "\n",
      "Stacktrace:\n",
      "  [1] collect(itr::Base.Generator{Base.OneTo{Int64}, BLPmodule.var\"#86#94\"{Int64, BLPmodule.Tract, Int64}})\n",
      "    @ Base ./array.jl:0\n",
      "  [2] (::BLPmodule.var\"#85#93\"{Matrix{Float64}, BLPmodule.Tract, Int64, Int64})(i::Int64)\n",
      "    @ BLPmodule ~/blp-quantities/BLPmodule/gmm.jl:29\n",
      "  [3] iterate\n",
      "    @ ./generator.jl:47 [inlined]\n",
      "  [4] collect_to!\n",
      "    @ ./array.jl:724 [inlined]\n",
      "  [5] collect_to_with_first!(dest::Vector{Float64}, v1::Float64, itr::Base.Generator{UnitRange{Int64}, BLPmodule.var\"#85#93\"{Matrix{Float64}, BLPmodule.Tract, Int64, Int64}}, st::Int64)\n",
      "    @ Base ./array.jl:702\n",
      "  [6] collect(itr::Base.Generator{UnitRange{Int64}, BLPmodule.var\"#85#93\"{Matrix{Float64}, BLPmodule.Tract, Int64, Int64}})\n",
      "    @ Base ./array.jl:683\n",
      "  [7] compute_Dδ(ec::BLPmodule.Economy, pars::BLPmodule.EconomyPars)\n",
      "    @ BLPmodule ~/blp-quantities/BLPmodule/gmm.jl:57\n",
      "  [8] gmm_grad_alt(θ2::Vector{Float64}, ec::BLPmodule.Economy, pars::BLPmodule.EconomyPars, X::Matrix{Float64})\n",
      "    @ BLPmodule ~/blp-quantities/BLPmodule/gmm.jl:109\n",
      "  [9] g!(storage::Vector{Float64}, θ2::Vector{Float64})\n",
      "    @ Main ~/blp-quantities/gmm.ipynb:2\n",
      " [10] (::NLSolversBase.var\"#fg!#8\"{var\"#17#18\", typeof(g!)})(gx::Vector{Float64}, x::Vector{Float64})\n",
      "    @ NLSolversBase ~/.julia/packages/NLSolversBase/kavn7/src/objective_types/abstract.jl:13\n",
      " [11] value_gradient!!(obj::OnceDifferentiable{Float64, Vector{Float64}, Vector{Float64}}, x::Vector{Float64})\n",
      "    @ NLSolversBase ~/.julia/packages/NLSolversBase/kavn7/src/interface.jl:82\n",
      " [12] value_gradient!(obj::OnceDifferentiable{Float64, Vector{Float64}, Vector{Float64}}, x::Vector{Float64})\n",
      "    @ NLSolversBase ~/.julia/packages/NLSolversBase/kavn7/src/interface.jl:69\n",
      " [13] value_gradient!(obj::Optim.ManifoldObjective{OnceDifferentiable{Float64, Vector{Float64}, Vector{Float64}}}, x::Vector{Float64})\n",
      "    @ Optim ~/.julia/packages/Optim/Zq1jM/src/Manifolds.jl:50\n",
      " [14] (::LineSearches.var\"#ϕdϕ#6\"{Optim.ManifoldObjective{OnceDifferentiable{Float64, Vector{Float64}, Vector{Float64}}}, Vector{Float64}, Vector{Float64}, Vector{Float64}})(α::Float64)\n",
      "    @ LineSearches ~/.julia/packages/LineSearches/G1LRk/src/LineSearches.jl:84\n",
      " [15] bisect!(ϕdϕ::LineSearches.var\"#ϕdϕ#6\"{Optim.ManifoldObjective{OnceDifferentiable{Float64, Vector{Float64}, Vector{Float64}}}, Vector{Float64}, Vector{Float64}, Vector{Float64}}, alphas::Vector{Float64}, values::Vector{Float64}, slopes::Vector{Float64}, ia::Int64, ib::Int64, phi_lim::Float64, display::Int64)\n",
      "    @ LineSearches ~/.julia/packages/LineSearches/G1LRk/src/hagerzhang.jl:502\n",
      " [16] (::LineSearches.HagerZhang{Float64, Base.RefValue{Bool}})(ϕ::Function, ϕdϕ::LineSearches.var\"#ϕdϕ#6\"{Optim.ManifoldObjective{OnceDifferentiable{Float64, Vector{Float64}, Vector{Float64}}}, Vector{Float64}, Vector{Float64}, Vector{Float64}}, c::Float64, phi_0::Float64, dphi_0::Float64)\n",
      "    @ LineSearches ~/.julia/packages/LineSearches/G1LRk/src/hagerzhang.jl:201\n",
      " [17] HagerZhang\n",
      "    @ ~/.julia/packages/LineSearches/G1LRk/src/hagerzhang.jl:101 [inlined]\n",
      " [18] perform_linesearch!(state::Optim.LBFGSState{Vector{Float64}, Vector{Vector{Float64}}, Vector{Vector{Float64}}, Float64, Vector{Float64}}, method::LBFGS{Nothing, LineSearches.InitialStatic{Float64}, LineSearches.HagerZhang{Float64, Base.RefValue{Bool}}, Optim.var\"#19#21\"}, d::Optim.ManifoldObjective{OnceDifferentiable{Float64, Vector{Float64}, Vector{Float64}}})\n",
      "    @ Optim ~/.julia/packages/Optim/Zq1jM/src/utilities/perform_linesearch.jl:59\n",
      " [19] update_state!(d::OnceDifferentiable{Float64, Vector{Float64}, Vector{Float64}}, state::Optim.LBFGSState{Vector{Float64}, Vector{Vector{Float64}}, Vector{Vector{Float64}}, Float64, Vector{Float64}}, method::LBFGS{Nothing, LineSearches.InitialStatic{Float64}, LineSearches.HagerZhang{Float64, Base.RefValue{Bool}}, Optim.var\"#19#21\"})\n",
      "    @ Optim ~/.julia/packages/Optim/Zq1jM/src/multivariate/solvers/first_order/l_bfgs.jl:204\n",
      " [20] optimize(d::OnceDifferentiable{Float64, Vector{Float64}, Vector{Float64}}, initial_x::Vector{Float64}, method::LBFGS{Nothing, LineSearches.InitialStatic{Float64}, LineSearches.HagerZhang{Float64, Base.RefValue{Bool}}, Optim.var\"#19#21\"}, options::Optim.Options{Float64, Nothing}, state::Optim.LBFGSState{Vector{Float64}, Vector{Vector{Float64}}, Vector{Vector{Float64}}, Float64, Vector{Float64}})\n",
      "    @ Optim ~/.julia/packages/Optim/Zq1jM/src/multivariate/optimize/optimize.jl:54\n",
      " [21] optimize\n",
      "    @ ~/.julia/packages/Optim/Zq1jM/src/multivariate/optimize/optimize.jl:36 [inlined]\n",
      " [22] optimize(f::Function, g::Function, initial_x::Vector{Float64}, method::LBFGS{Nothing, LineSearches.InitialStatic{Float64}, LineSearches.HagerZhang{Float64, Base.RefValue{Bool}}, Optim.var\"#19#21\"}, options::Optim.Options{Float64, Nothing}; inplace::Bool, autodiff::Symbol)\n",
      "    @ Optim ~/.julia/packages/Optim/Zq1jM/src/multivariate/optimize/interface.jl:155\n",
      " [23] optimize(f::Function, g::Function, initial_x::Vector{Float64}, method::LBFGS{Nothing, LineSearches.InitialStatic{Float64}, LineSearches.HagerZhang{Float64, Base.RefValue{Bool}}, Optim.var\"#19#21\"}, options::Optim.Options{Float64, Nothing}) (repeats 2 times)\n",
      "    @ Optim ~/.julia/packages/Optim/Zq1jM/src/multivariate/optimize/interface.jl:153\n",
      " [24] top-level scope\n",
      "    @ ~/blp-quantities/gmm.ipynb:4"
     ]
    }
   ],
   "source": [
    "initial_θ2 = [1.,2.]\n",
    "pars = deserialize(\"jls/pars.jls\");\n",
    "ec = deserialize(\"jls/ec.jls\");\n",
    "res = optimize(θ2 -> m.gmm_lm(θ2, ec, pars, X1), g!, initial_θ2, LBFGS())\n"
   ]
  },
  {
   "cell_type": "code",
   "execution_count": null,
   "metadata": {},
   "outputs": [],
   "source": [
    "initial_θ2 = [1.,2.]\n",
    "pars = deserialize(\"jls/pars.jls\");\n",
    "ec = deserialize(\"jls/ec.jls\");\n",
    "res = optimize(θ2 -> m.gmm_lm(θ2, ec, pars, X1), initial_θ2, LBFGS(); autodiff = :forward)\n"
   ]
  },
  {
   "cell_type": "code",
   "execution_count": 34,
   "metadata": {},
   "outputs": [
    {
     "name": "stdout",
     "output_type": "stream",
     "text": [
      "grad = [1.1727141430484693, -0.08156502166082444]\n",
      "θ2 = [1.0, 1.0]\n"
     ]
    },
    {
     "ename": "InterruptException",
     "evalue": "InterruptException:",
     "output_type": "error",
     "traceback": [
      "InterruptException:\n",
      "\n",
      "Stacktrace:\n",
      "  [1] poptask(W::Base.InvasiveLinkedListSynchronized{Task})\n",
      "    @ Base ./task.jl:760\n",
      "  [2] wait\n",
      "    @ ./task.jl:768 [inlined]\n",
      "  [3] wait(c::Base.GenericCondition{Base.Threads.SpinLock})\n",
      "    @ Base ./condition.jl:106\n",
      "  [4] _wait(t::Task)\n",
      "    @ Base ./task.jl:293\n",
      "  [5] wait\n",
      "    @ ./task.jl:320 [inlined]\n",
      "  [6] threading_run(func::Function)\n",
      "    @ Base.Threads ./threadingconstructs.jl:34\n",
      "  [7] macro expansion\n",
      "    @ ./threadingconstructs.jl:93 [inlined]\n",
      "  [8] update_market!\n",
      "    @ ~/blp-quantities/BLPmodule/solve.jl:18 [inlined]\n",
      "  [9] compute_deltas(ec::BLPmodule.Economy, pars::BLPmodule.EconomyPars; initial_δ::Matrix{Float64}, max_iter::Int64, tol::Float64, verbose::Bool)\n",
      "    @ BLPmodule ~/blp-quantities/BLPmodule/solve.jl:55\n",
      " [10] gmm_lm(θ2::Vector{Float64}, ec::BLPmodule.Economy, pars::BLPmodule.EconomyPars, X::Matrix{Float64}, tol::Float64)\n",
      "    @ BLPmodule ~/blp-quantities/BLPmodule/gmm.jl:15\n",
      " [11] gmm_lm\n",
      "    @ ~/blp-quantities/BLPmodule/gmm.jl:11 [inlined]\n",
      " [12] (::var\"#19#20\")(θ2::Vector{Float64})\n",
      "    @ Main ~/blp-quantities/gmm.ipynb:4\n",
      " [13] (::NLSolversBase.var\"#fg!#8\"{var\"#19#20\", typeof(g!)})(gx::Vector{Float64}, x::Vector{Float64})\n",
      "    @ NLSolversBase ~/.julia/packages/NLSolversBase/kavn7/src/objective_types/abstract.jl:14\n",
      " [14] value_gradient!!(obj::OnceDifferentiable{Float64, Vector{Float64}, Vector{Float64}}, x::Vector{Float64})\n",
      "    @ NLSolversBase ~/.julia/packages/NLSolversBase/kavn7/src/interface.jl:82\n",
      " [15] initial_state(method::LBFGS{Nothing, LineSearches.InitialStatic{Float64}, LineSearches.HagerZhang{Float64, Base.RefValue{Bool}}, Optim.var\"#19#21\"}, options::Optim.Options{Float64, Nothing}, d::OnceDifferentiable{Float64, Vector{Float64}, Vector{Float64}}, initial_x::Vector{Float64})\n",
      "    @ Optim ~/.julia/packages/Optim/Zq1jM/src/multivariate/solvers/first_order/l_bfgs.jl:164\n",
      " [16] optimize\n",
      "    @ ~/.julia/packages/Optim/Zq1jM/src/multivariate/optimize/optimize.jl:36 [inlined]\n",
      " [17] optimize(f::Function, g::Function, initial_x::Vector{Float64}, method::LBFGS{Nothing, LineSearches.InitialStatic{Float64}, LineSearches.HagerZhang{Float64, Base.RefValue{Bool}}, Optim.var\"#19#21\"}, options::Optim.Options{Float64, Nothing}; inplace::Bool, autodiff::Symbol)\n",
      "    @ Optim ~/.julia/packages/Optim/Zq1jM/src/multivariate/optimize/interface.jl:155\n",
      " [18] optimize(f::Function, g::Function, initial_x::Vector{Float64}, method::LBFGS{Nothing, LineSearches.InitialStatic{Float64}, LineSearches.HagerZhang{Float64, Base.RefValue{Bool}}, Optim.var\"#19#21\"}, options::Optim.Options{Float64, Nothing}) (repeats 2 times)\n",
      "    @ Optim ~/.julia/packages/Optim/Zq1jM/src/multivariate/optimize/interface.jl:153\n",
      " [19] top-level scope\n",
      "    @ ~/blp-quantities/gmm.ipynb:4"
     ]
    }
   ],
   "source": [
    "initial_θ2 = [1.,1.]\n",
    "ec = deserialize(\"jls/ec.jls\");\n",
    "pars = deserialize(\"jls/pars.jls\");\n",
    "res = optimize(θ2 -> m.gmm_lm(θ2, ec, pars, X1), g!, initial_θ2, LBFGS())"
   ]
  },
  {
   "cell_type": "code",
   "execution_count": 35,
   "metadata": {},
   "outputs": [],
   "source": []
  },
  {
   "cell_type": "code",
   "execution_count": 36,
   "metadata": {},
   "outputs": [
    {
     "name": "stdout",
     "output_type": "stream",
     "text": [
      "[1.0, 2.0]\n",
      "[1.0, 2.0]\n"
     ]
    }
   ],
   "source": [
    "println(Optim.minimizer(res))\n",
    "println(Optim.initial_state(res))"
   ]
  },
  {
   "cell_type": "code",
   "execution_count": 37,
   "metadata": {},
   "outputs": [],
   "source": [
    "\n"
   ]
  },
  {
   "cell_type": "markdown",
   "metadata": {},
   "source": [
    "---"
   ]
  }
 ],
 "metadata": {
  "kernelspec": {
   "display_name": "Julia 1.6.1",
   "language": "julia",
   "name": "julia-1.6"
  },
  "language_info": {
   "file_extension": ".jl",
   "mimetype": "application/julia",
   "name": "julia",
   "version": "1.6.1"
  },
  "orig_nbformat": 4,
  "vscode": {
   "interpreter": {
    "hash": "8f874cb96a7fdce6260903239cd4ccff59f9cd40f07ae8042efeb94d5942b24b"
   }
  }
 },
 "nbformat": 4,
 "nbformat_minor": 2
}
