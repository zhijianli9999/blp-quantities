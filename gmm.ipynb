{
 "cells": [
  {
   "cell_type": "code",
   "execution_count": 1,
   "metadata": {},
   "outputs": [],
   "source": [
    "using DataFrames, Optim, Revise, Serialization"
   ]
  },
  {
   "cell_type": "code",
   "execution_count": 2,
   "metadata": {},
   "outputs": [],
   "source": [
    "string(@__DIR__) in LOAD_PATH || push!(LOAD_PATH, @__DIR__);"
   ]
  },
  {
   "cell_type": "code",
   "execution_count": 3,
   "metadata": {},
   "outputs": [],
   "source": [
    "using BLPmodule; const m = BLPmodule;"
   ]
  },
  {
   "cell_type": "code",
   "execution_count": 4,
   "metadata": {},
   "outputs": [],
   "source": [
    "df = deserialize(\"jls/df.jls\");\n",
    "ec = deserialize(\"jls/ec.jls\");\n",
    "pars = deserialize(\"jls/pars.jls\");\n",
    "deltas = deserialize(\"jls/deltas.jls\");"
   ]
  },
  {
   "cell_type": "markdown",
   "metadata": {},
   "source": [
    "---"
   ]
  },
  {
   "cell_type": "code",
   "execution_count": 5,
   "metadata": {},
   "outputs": [],
   "source": [
    "# linear characteristics (staffing variables):\n",
    "X1 = vcat(transpose.([ec.firms[i].X for i in eachindex(ec.firms)])...)\n",
    "Z = X1;"
   ]
  },
  {
   "cell_type": "code",
   "execution_count": 6,
   "metadata": {},
   "outputs": [],
   "source": [
    "initial_θ2 = [2.,3.]\n",
    "initial_δ = zeros(length(ec.firms), 1);"
   ]
  },
  {
   "cell_type": "code",
   "execution_count": 7,
   "metadata": {},
   "outputs": [
    {
     "name": "stdout",
     "output_type": "stream",
     "text": [
      "θ2 = [10.0, 10.0]\n",
      "(in /mnt/staff/zhli/blp-quantities/BLPmodule/gmm.jl:10)\n"
     ]
    },
    {
     "data": {
      "text/plain": [
       "151.94046796610795"
      ]
     },
     "metadata": {},
     "output_type": "display_data"
    }
   ],
   "source": [
    "ec = deserialize(\"jls/ec.jls\");\n",
    "pars = deserialize(\"jls/pars.jls\");\n",
    "m.gmm_lm([10.,10.], ec, pars, X1)"
   ]
  },
  {
   "cell_type": "code",
   "execution_count": 8,
   "metadata": {},
   "outputs": [
    {
     "data": {
      "text/plain": [
       "2×1 Matrix{Float64}:\n",
       " 69.0354433280927\n",
       "  0.010703836079696348"
      ]
     },
     "metadata": {},
     "output_type": "display_data"
    }
   ],
   "source": [
    "ec = deserialize(\"jls/ec.jls\");\n",
    "pars = deserialize(\"jls/pars.jls\");\n",
    "m.gmm_grad([1.,1.], ec, pars, X1)"
   ]
  },
  {
   "cell_type": "code",
   "execution_count": 9,
   "metadata": {},
   "outputs": [
    {
     "data": {
      "text/plain": [
       "g! (generic function with 1 method)"
      ]
     },
     "metadata": {},
     "output_type": "display_data"
    }
   ],
   "source": [
    "function g!(storage::Array, θ2::Array)\n",
    "    storage[:] = m.gmm_grad(θ2, ec, pars, X1)\n",
    "end"
   ]
  },
  {
   "cell_type": "code",
   "execution_count": 14,
   "metadata": {},
   "outputs": [
    {
     "name": "stdout",
     "output_type": "stream",
     "text": [
      "θ2 = [2.0, 3.0]\n",
      "(in /mnt/staff/zhli/blp-quantities/BLPmodule/gmm.jl:10)\n",
      "θ1 = [-0.6881755068558588; -0.24005032429700912]\n",
      "(in /mnt/staff/zhli/blp-quantities/BLPmodule/gmm.jl:17)\n"
     ]
    },
    {
     "name": "stdout",
     "output_type": "stream",
     "text": [
      "θ2 = [-81.04395216001694, 2.711844816244656]\n",
      "(in /mnt/staff/zhli/blp-quantities/BLPmodule/gmm.jl:10)\n",
      "θ1 = [-1.192982213858955; -0.48267550590964925]\n",
      "(in /mnt/staff/zhli/blp-quantities/BLPmodule/gmm.jl:17)\n"
     ]
    },
    {
     "name": "stdout",
     "output_type": "stream",
     "text": [
      "θ2 = [-39.52197608000847, 2.855922408122328]\n",
      "(in /mnt/staff/zhli/blp-quantities/BLPmodule/gmm.jl:10)\n",
      "θ1 = [-1.2248115956469965; -0.3742043045924084]\n",
      "(in /mnt/staff/zhli/blp-quantities/BLPmodule/gmm.jl:17)\n"
     ]
    },
    {
     "name": "stdout",
     "output_type": "stream",
     "text": [
      "θ2 = [-18.760988040004236, 2.9279612040611642]\n",
      "(in /mnt/staff/zhli/blp-quantities/BLPmodule/gmm.jl:10)\n",
      "θ1 = [-0.9653393841366102; -0.22205202342841868]\n",
      "(in /mnt/staff/zhli/blp-quantities/BLPmodule/gmm.jl:17)\n"
     ]
    },
    {
     "name": "stdout",
     "output_type": "stream",
     "text": [
      "θ2 = [-8.380494020002118, 2.963980602030582]\n",
      "(in /mnt/staff/zhli/blp-quantities/BLPmodule/gmm.jl:10)\n",
      "θ1 = [-0.8599924974447836; -0.20881771880197375]\n",
      "(in /mnt/staff/zhli/blp-quantities/BLPmodule/gmm.jl:17)\n"
     ]
    },
    {
     "name": "stdout",
     "output_type": "stream",
     "text": [
      "θ2 = [-3.190247010001059, 2.981990301015291]\n",
      "(in /mnt/staff/zhli/blp-quantities/BLPmodule/gmm.jl:10)\n",
      "θ1 = [-0.8295781252625641; -0.21122924006474886]\n",
      "(in /mnt/staff/zhli/blp-quantities/BLPmodule/gmm.jl:17)\n"
     ]
    },
    {
     "name": "stdout",
     "output_type": "stream",
     "text": [
      "θ2 = [-0.5951235050005295, 2.9909951505076453]\n",
      "(in /mnt/staff/zhli/blp-quantities/BLPmodule/gmm.jl:10)\n",
      "θ1 = [-0.8207033791926868; -0.21367131140861295]\n",
      "(in /mnt/staff/zhli/blp-quantities/BLPmodule/gmm.jl:17)\n"
     ]
    },
    {
     "name": "stdout",
     "output_type": "stream",
     "text": [
      "θ2 = [0.7024382474997353, 2.9954975752538227]\n",
      "(in /mnt/staff/zhli/blp-quantities/BLPmodule/gmm.jl:10)\n",
      "θ1 = [-0.8179210443870408; -0.21507529186133412]\n",
      "(in /mnt/staff/zhli/blp-quantities/BLPmodule/gmm.jl:17)\n"
     ]
    },
    {
     "name": "stdout",
     "output_type": "stream",
     "text": [
      "θ2 = [1.3512191237498676, 2.9977487876269113]\n",
      "(in /mnt/staff/zhli/blp-quantities/BLPmodule/gmm.jl:10)\n",
      "θ1 = [-0.8169525422036656; -0.21574577331800882]\n",
      "(in /mnt/staff/zhli/blp-quantities/BLPmodule/gmm.jl:17)\n"
     ]
    },
    {
     "name": "stdout",
     "output_type": "stream",
     "text": [
      "θ2 = [1.6756095618749338, 2.998874393813456]\n",
      "(in /mnt/staff/zhli/blp-quantities/BLPmodule/gmm.jl:10)\n",
      "θ1 = [-0.8165777299500776; -0.21599548405098168]\n",
      "(in /mnt/staff/zhli/blp-quantities/BLPmodule/gmm.jl:17)\n"
     ]
    },
    {
     "name": "stdout",
     "output_type": "stream",
     "text": [
      "θ2 = [1.837804780937467, 2.9994371969067277]\n",
      "(in /mnt/staff/zhli/blp-quantities/BLPmodule/gmm.jl:10)\n",
      "θ1 = [-0.8164211398345593; -0.21602495360926155]\n",
      "(in /mnt/staff/zhli/blp-quantities/BLPmodule/gmm.jl:17)\n"
     ]
    },
    {
     "name": "stdout",
     "output_type": "stream",
     "text": [
      "θ2 = [1.9189023904687335, 2.999718598453364]\n",
      "(in /mnt/staff/zhli/blp-quantities/BLPmodule/gmm.jl:10)\n",
      "θ1 = [-0.8163538478099397; -0.21594739625470682]\n",
      "(in /mnt/staff/zhli/blp-quantities/BLPmodule/gmm.jl:17)\n"
     ]
    },
    {
     "name": "stdout",
     "output_type": "stream",
     "text": [
      "θ2 = [1.9594511952343667, 2.999859299226682]\n",
      "(in /mnt/staff/zhli/blp-quantities/BLPmodule/gmm.jl:10)\n",
      "θ1 = [-0.8163260284528862; -0.2158228514374504]\n",
      "(in /mnt/staff/zhli/blp-quantities/BLPmodule/gmm.jl:17)\n"
     ]
    },
    {
     "name": "stdout",
     "output_type": "stream",
     "text": [
      "θ2 = [1.9797255976171835, 2.999929649613341]\n",
      "(in /mnt/staff/zhli/blp-quantities/BLPmodule/gmm.jl:10)\n",
      "θ1 = [-0.8163164092194268; -0.21568186087099017]\n",
      "(in /mnt/staff/zhli/blp-quantities/BLPmodule/gmm.jl:17)\n"
     ]
    },
    {
     "name": "stdout",
     "output_type": "stream",
     "text": [
      "θ2 = [1.9898627988085917, 2.9999648248066704]\n",
      "(in /mnt/staff/zhli/blp-quantities/BLPmodule/gmm.jl:10)\n",
      "θ1 = [-0.8163152715509936; -0.21553936070246849]\n",
      "(in /mnt/staff/zhli/blp-quantities/BLPmodule/gmm.jl:17)\n"
     ]
    },
    {
     "name": "stdout",
     "output_type": "stream",
     "text": [
      "θ2 = [1.9949313994042959, 2.999982412403335]\n",
      "(in /mnt/staff/zhli/blp-quantities/BLPmodule/gmm.jl:10)\n",
      "θ1 = [-0.8163180023379795; -0.21540226794309347]\n",
      "(in /mnt/staff/zhli/blp-quantities/BLPmodule/gmm.jl:17)\n"
     ]
    },
    {
     "name": "stdout",
     "output_type": "stream",
     "text": [
      "θ2 = [1.9974656997021478, 2.999991206201668]\n",
      "(in /mnt/staff/zhli/blp-quantities/BLPmodule/gmm.jl:10)\n",
      "θ1 = [-0.8163223751799265; -0.21527347176100098]\n",
      "(in /mnt/staff/zhli/blp-quantities/BLPmodule/gmm.jl:17)\n"
     ]
    },
    {
     "name": "stdout",
     "output_type": "stream",
     "text": [
      "θ2 = [1.998732849851074, 2.999995603100834]\n",
      "(in /mnt/staff/zhli/blp-quantities/BLPmodule/gmm.jl:10)\n",
      "θ1 = [-0.8163273148522596; -0.21515388682956227]\n",
      "(in /mnt/staff/zhli/blp-quantities/BLPmodule/gmm.jl:17)\n"
     ]
    },
    {
     "name": "stdout",
     "output_type": "stream",
     "text": [
      "θ2 = [1.999366424925537, 2.9999978015504167]\n",
      "(in /mnt/staff/zhli/blp-quantities/BLPmodule/gmm.jl:10)\n",
      "θ1 = [-0.8163323097269273; -0.21504349284288604]\n",
      "(in /mnt/staff/zhli/blp-quantities/BLPmodule/gmm.jl:17)\n"
     ]
    },
    {
     "name": "stdout",
     "output_type": "stream",
     "text": [
      "θ2 = [1.9996832124627686, 2.9999989007752084]\n",
      "(in /mnt/staff/zhli/blp-quantities/BLPmodule/gmm.jl:10)\n",
      "θ1 = [-0.8163371253958949; -0.2149418531479057]\n",
      "(in /mnt/staff/zhli/blp-quantities/BLPmodule/gmm.jl:17)\n"
     ]
    },
    {
     "name": "stdout",
     "output_type": "stream",
     "text": [
      "θ2 = [1.9998416062313842, 2.9999994503876044]\n",
      "(in /mnt/staff/zhli/blp-quantities/BLPmodule/gmm.jl:10)\n",
      "θ1 = [-0.8163416634171541; -0.21484836909234906]\n",
      "(in /mnt/staff/zhli/blp-quantities/BLPmodule/gmm.jl:17)\n"
     ]
    },
    {
     "name": "stdout",
     "output_type": "stream",
     "text": [
      "θ2 = [1.999920803115692, 2.999999725193802]\n",
      "(in /mnt/staff/zhli/blp-quantities/BLPmodule/gmm.jl:10)\n",
      "θ1 = [-0.8163458913129507; -0.21476240166705596]\n",
      "(in /mnt/staff/zhli/blp-quantities/BLPmodule/gmm.jl:17)\n"
     ]
    },
    {
     "name": "stdout",
     "output_type": "stream",
     "text": [
      "θ2 = [1.999960401557846, 2.999999862596901]\n",
      "(in /mnt/staff/zhli/blp-quantities/BLPmodule/gmm.jl:10)\n",
      "θ1 = [-0.816349807873507; -0.21468332722043415]\n",
      "(in /mnt/staff/zhli/blp-quantities/BLPmodule/gmm.jl:17)\n"
     ]
    },
    {
     "name": "stdout",
     "output_type": "stream",
     "text": [
      "θ2 = [1.9999802007789231, 2.9999999312984507]\n",
      "(in /mnt/staff/zhli/blp-quantities/BLPmodule/gmm.jl:10)\n",
      "θ1 = [-0.8163534260225118; -0.21461056086085484]\n",
      "(in /mnt/staff/zhli/blp-quantities/BLPmodule/gmm.jl:17)\n"
     ]
    },
    {
     "name": "stdout",
     "output_type": "stream",
     "text": [
      "θ2 = [1.9999901003894616, 2.9999999656492253]\n",
      "(in /mnt/staff/zhli/blp-quantities/BLPmodule/gmm.jl:10)\n",
      "θ1 = [-0.8163567644254823; -0.21454356434026545]\n",
      "(in /mnt/staff/zhli/blp-quantities/BLPmodule/gmm.jl:17)\n"
     ]
    },
    {
     "name": "stdout",
     "output_type": "stream",
     "text": [
      "θ2 = [1.9999950501947308, 2.9999999828246127]\n",
      "(in /mnt/staff/zhli/blp-quantities/BLPmodule/gmm.jl:10)\n",
      "θ1 = [-0.8163598434449049; -0.21448184673591175]\n",
      "(in /mnt/staff/zhli/blp-quantities/BLPmodule/gmm.jl:17)\n"
     ]
    },
    {
     "name": "stdout",
     "output_type": "stream",
     "text": [
      "θ2 = [1.9999975250973654, 2.9999999914123063]\n",
      "(in /mnt/staff/zhli/blp-quantities/BLPmodule/gmm.jl:10)\n",
      "θ1 = [-0.8163626832489228; -0.2144249620013302]\n",
      "(in /mnt/staff/zhli/blp-quantities/BLPmodule/gmm.jl:17)\n"
     ]
    },
    {
     "name": "stdout",
     "output_type": "stream",
     "text": [
      "θ2 = [1.9999987625486826, 2.999999995706153]\n",
      "(in /mnt/staff/zhli/blp-quantities/BLPmodule/gmm.jl:10)\n",
      "θ1 = [-0.8163653029798648; -0.21437250534445906]\n",
      "(in /mnt/staff/zhli/blp-quantities/BLPmodule/gmm.jl:17)\n"
     ]
    },
    {
     "name": "stdout",
     "output_type": "stream",
     "text": [
      "θ2 = [1.9999993812743413, 2.9999999978530765]\n",
      "(in /mnt/staff/zhli/blp-quantities/BLPmodule/gmm.jl:10)\n",
      "θ1 = [-0.8163677204381941; -0.21432410934670965]\n",
      "(in /mnt/staff/zhli/blp-quantities/BLPmodule/gmm.jl:17)\n"
     ]
    },
    {
     "name": "stdout",
     "output_type": "stream",
     "text": [
      "θ2 = [1.9999996906371706, 2.9999999989265382]\n",
      "(in /mnt/staff/zhli/blp-quantities/BLPmodule/gmm.jl:10)\n",
      "θ1 = [-0.8163699520116889; -0.21427944022669243]\n",
      "(in /mnt/staff/zhli/blp-quantities/BLPmodule/gmm.jl:17)\n"
     ]
    },
    {
     "name": "stdout",
     "output_type": "stream",
     "text": [
      "θ2 = [1.9999998453185854, 2.9999999994632693]\n",
      "(in /mnt/staff/zhli/blp-quantities/BLPmodule/gmm.jl:10)\n",
      "θ1 = [-0.8163720127165309; -0.21423819440696967]\n",
      "(in /mnt/staff/zhli/blp-quantities/BLPmodule/gmm.jl:17)\n"
     ]
    },
    {
     "name": "stdout",
     "output_type": "stream",
     "text": [
      "θ2 = [1.9999999226592926, 2.9999999997316347]\n",
      "(in /mnt/staff/zhli/blp-quantities/BLPmodule/gmm.jl:10)\n",
      "θ1 = [-0.8163739162851449; -0.21420009542764917]\n",
      "(in /mnt/staff/zhli/blp-quantities/BLPmodule/gmm.jl:17)\n"
     ]
    },
    {
     "name": "stdout",
     "output_type": "stream",
     "text": [
      "θ2 = [1.9999999613296464, 2.999999999865817]\n",
      "(in /mnt/staff/zhli/blp-quantities/BLPmodule/gmm.jl:10)\n",
      "θ1 = [-0.8163756752694808; -0.21416489119953475]\n",
      "(in /mnt/staff/zhli/blp-quantities/BLPmodule/gmm.jl:17)\n"
     ]
    },
    {
     "name": "stdout",
     "output_type": "stream",
     "text": [
      "θ2 = [1.9999999806648232, 2.999999999932909]\n",
      "(in /mnt/staff/zhli/blp-quantities/BLPmodule/gmm.jl:10)\n",
      "θ1 = [-0.8163773011451666; -0.21413235156925714]\n",
      "(in /mnt/staff/zhli/blp-quantities/BLPmodule/gmm.jl:17)\n"
     ]
    },
    {
     "name": "stdout",
     "output_type": "stream",
     "text": [
      "θ2 = [1.9999999903324115, 2.9999999999664544]\n",
      "(in /mnt/staff/zhli/blp-quantities/BLPmodule/gmm.jl:10)\n",
      "θ1 = [-0.8163788044101572; -0.21410226616256556]\n",
      "(in /mnt/staff/zhli/blp-quantities/BLPmodule/gmm.jl:17)\n"
     ]
    },
    {
     "name": "stdout",
     "output_type": "stream",
     "text": [
      "θ2 = [1.9999999951662057, 2.999999999983227]\n",
      "(in /mnt/staff/zhli/blp-quantities/BLPmodule/gmm.jl:10)\n",
      "θ1 = [-0.8163801946754757; -0.2140744424722485]\n",
      "(in /mnt/staff/zhli/blp-quantities/BLPmodule/gmm.jl:17)\n"
     ]
    },
    {
     "name": "stdout",
     "output_type": "stream",
     "text": [
      "θ2 = [1.9999999975831029, 2.9999999999916134]\n",
      "(in /mnt/staff/zhli/blp-quantities/BLPmodule/gmm.jl:10)\n",
      "θ1 = [-0.8163814807475054; -0.21404870415986577]\n",
      "(in /mnt/staff/zhli/blp-quantities/BLPmodule/gmm.jl:17)\n"
     ]
    },
    {
     "name": "stdout",
     "output_type": "stream",
     "text": [
      "θ2 = [1.9999999987915515, 2.999999999995807]\n",
      "(in /mnt/staff/zhli/blp-quantities/BLPmodule/gmm.jl:10)\n",
      "θ1 = [-0.8163826707021309; -0.21402488954408405]\n",
      "(in /mnt/staff/zhli/blp-quantities/BLPmodule/gmm.jl:17)\n"
     ]
    },
    {
     "name": "stdout",
     "output_type": "stream",
     "text": [
      "θ2 = [1.9999999993957758, 2.9999999999979035]\n",
      "(in /mnt/staff/zhli/blp-quantities/BLPmodule/gmm.jl:10)\n",
      "θ1 = [-0.8163837719513545; -0.21400285025192745]\n",
      "(in /mnt/staff/zhli/blp-quantities/BLPmodule/gmm.jl:17)\n"
     ]
    },
    {
     "name": "stdout",
     "output_type": "stream",
     "text": [
      "θ2 = [1.9999999996978879, 2.9999999999989515]\n",
      "(in /mnt/staff/zhli/blp-quantities/BLPmodule/gmm.jl:10)\n",
      "θ1 = [-0.8163847913031317; -0.21398245001255667]\n",
      "(in /mnt/staff/zhli/blp-quantities/BLPmodule/gmm.jl:17)\n"
     ]
    },
    {
     "name": "stdout",
     "output_type": "stream",
     "text": [
      "θ2 = [1.999999999848944, 2.999999999999476]\n",
      "(in /mnt/staff/zhli/blp-quantities/BLPmodule/gmm.jl:10)\n",
      "θ1 = [-0.8163857350151413; -0.21396356357601276]\n",
      "(in /mnt/staff/zhli/blp-quantities/BLPmodule/gmm.jl:17)\n"
     ]
    },
    {
     "name": "stdout",
     "output_type": "stream",
     "text": [
      "θ2 = [1.999999999924472, 2.999999999999738]\n",
      "(in /mnt/staff/zhli/blp-quantities/BLPmodule/gmm.jl:10)\n",
      "θ1 = [-0.816386608843171; -0.2139460757418732]\n",
      "(in /mnt/staff/zhli/blp-quantities/BLPmodule/gmm.jl:17)\n"
     ]
    },
    {
     "name": "stdout",
     "output_type": "stream",
     "text": [
      "θ2 = [1.999999999962236, 2.999999999999869]\n",
      "(in /mnt/staff/zhli/blp-quantities/BLPmodule/gmm.jl:10)\n",
      "θ1 = [-0.8163874180847219; -0.21392988048479844]\n",
      "(in /mnt/staff/zhli/blp-quantities/BLPmodule/gmm.jl:17)\n"
     ]
    },
    {
     "name": "stdout",
     "output_type": "stream",
     "text": [
      "θ2 = [1.999999999981118, 2.9999999999999343]\n",
      "(in /mnt/staff/zhli/blp-quantities/BLPmodule/gmm.jl:10)\n",
      "θ1 = [-0.816388167618356; -0.213914880165761]\n",
      "(in /mnt/staff/zhli/blp-quantities/BLPmodule/gmm.jl:17)\n"
     ]
    },
    {
     "name": "stdout",
     "output_type": "stream",
     "text": [
      "θ2 = [1.9999999999905589, 2.999999999999967]\n",
      "(in /mnt/staff/zhli/blp-quantities/BLPmodule/gmm.jl:10)\n",
      "θ1 = [-0.8163888619392854; -0.21390098481924213]\n",
      "(in /mnt/staff/zhli/blp-quantities/BLPmodule/gmm.jl:17)\n"
     ]
    },
    {
     "name": "stdout",
     "output_type": "stream",
     "text": [
      "θ2 = [1.9999999999952796, 2.9999999999999836]\n",
      "(in /mnt/staff/zhli/blp-quantities/BLPmodule/gmm.jl:10)\n",
      "θ1 = [-0.8163895051915822; -0.21388811150797216]\n",
      "(in /mnt/staff/zhli/blp-quantities/BLPmodule/gmm.jl:17)\n"
     ]
    },
    {
     "name": "stdout",
     "output_type": "stream",
     "text": [
      "θ2 = [1.9999999999976397, 2.999999999999992]\n",
      "(in /mnt/staff/zhli/blp-quantities/BLPmodule/gmm.jl:10)\n",
      "θ1 = [-0.8163901011974071; -0.21387618373782835]\n",
      "(in /mnt/staff/zhli/blp-quantities/BLPmodule/gmm.jl:17)\n"
     ]
    },
    {
     "name": "stdout",
     "output_type": "stream",
     "text": [
      "θ2 = [1.9999999999988198, 2.999999999999996]\n",
      "(in /mnt/staff/zhli/blp-quantities/BLPmodule/gmm.jl:10)\n",
      "θ1 = [-0.8163906534835431; -0.21386513092650727]\n",
      "(in /mnt/staff/zhli/blp-quantities/BLPmodule/gmm.jl:17)\n"
     ]
    },
    {
     "name": "stdout",
     "output_type": "stream",
     "text": [
      "θ2 = [1.99999999999941, 2.999999999999998]\n",
      "(in /mnt/staff/zhli/blp-quantities/BLPmodule/gmm.jl:10)\n",
      "θ1 = [-0.8163911653055345; -0.2138548879203127]\n",
      "(in /mnt/staff/zhli/blp-quantities/BLPmodule/gmm.jl:17)\n"
     ]
    },
    {
     "name": "stdout",
     "output_type": "stream",
     "text": [
      "θ2 = [1.999999999999705, 2.999999999999999]\n",
      "(in /mnt/staff/zhli/blp-quantities/BLPmodule/gmm.jl:10)\n",
      "θ1 = [-0.8163916396696695; -0.213845394554113]\n",
      "(in /mnt/staff/zhli/blp-quantities/BLPmodule/gmm.jl:17)\n"
     ]
    },
    {
     "name": "stdout",
     "output_type": "stream",
     "text": [
      "θ2 = [1.9999999999998526, 2.9999999999999996]\n",
      "(in /mnt/staff/zhli/blp-quantities/BLPmodule/gmm.jl:10)\n",
      "θ1 = [-0.8163920793530264; -0.213836595250126]\n",
      "(in /mnt/staff/zhli/blp-quantities/BLPmodule/gmm.jl:17)\n"
     ]
    },
    {
     "name": "stdout",
     "output_type": "stream",
     "text": [
      "θ2 = [1.9999999999999263, 2.9999999999999996]\n",
      "(in /mnt/staff/zhli/blp-quantities/BLPmodule/gmm.jl:10)\n",
      "θ1 = [-0.8163924869217705; -0.21382843865165158]\n",
      "(in /mnt/staff/zhli/blp-quantities/BLPmodule/gmm.jl:17)\n"
     ]
    },
    {
     "name": "stdout",
     "output_type": "stream",
     "text": [
      "θ2 = [1.9999999999999631, 3.0]\n",
      "(in /mnt/staff/zhli/blp-quantities/BLPmodule/gmm.jl:10)\n",
      "θ1 = [-0.8163928647478792; -0.2138208772883583]\n",
      "(in /mnt/staff/zhli/blp-quantities/BLPmodule/gmm.jl:17)\n"
     ]
    },
    {
     "name": "stdout",
     "output_type": "stream",
     "text": [
      "θ2 = [1.9999999999999816, 3.0]\n",
      "(in /mnt/staff/zhli/blp-quantities/BLPmodule/gmm.jl:10)\n",
      "θ1 = [-0.8163932150244406; -0.2138138672700739]\n",
      "(in /mnt/staff/zhli/blp-quantities/BLPmodule/gmm.jl:17)\n"
     ]
    },
    {
     "name": "stdout",
     "output_type": "stream",
     "text": [
      "θ2 = [1.9999999999999907, 3.0]\n",
      "(in /mnt/staff/zhli/blp-quantities/BLPmodule/gmm.jl:10)\n",
      "θ1 = [-0.8163935397796629; -0.21380736800639533]\n",
      "(in /mnt/staff/zhli/blp-quantities/BLPmodule/gmm.jl:17)\n"
     ]
    },
    {
     "name": "stdout",
     "output_type": "stream",
     "text": [
      "θ2 = [1.9999999999999953, 3.0]\n",
      "(in /mnt/staff/zhli/blp-quantities/BLPmodule/gmm.jl:10)\n",
      "θ1 = [-0.8163938408897149; -0.21380134194970501]\n",
      "(in /mnt/staff/zhli/blp-quantities/BLPmodule/gmm.jl:17)\n"
     ]
    },
    {
     "name": "stdout",
     "output_type": "stream",
     "text": [
      "θ2 = [1.9999999999999978, 3.0]\n",
      "(in /mnt/staff/zhli/blp-quantities/BLPmodule/gmm.jl:10)\n",
      "θ1 = [-0.8163941200905049; -0.21379575435943954]\n",
      "(in /mnt/staff/zhli/blp-quantities/BLPmodule/gmm.jl:17)\n"
     ]
    },
    {
     "name": "stdout",
     "output_type": "stream",
     "text": [
      "θ2 = [1.999999999999999, 3.0]\n",
      "(in /mnt/staff/zhli/blp-quantities/BLPmodule/gmm.jl:10)\n",
      "θ1 = [-0.8163943789884929; -0.21379057308568217]\n",
      "(in /mnt/staff/zhli/blp-quantities/BLPmodule/gmm.jl:17)\n"
     ]
    },
    {
     "name": "stdout",
     "output_type": "stream",
     "text": [
      "θ2 = [1.9999999999999993, 3.0]\n",
      "(in /mnt/staff/zhli/blp-quantities/BLPmodule/gmm.jl:10)\n",
      "θ1 = [-0.8163946190706246; -0.21378576837035745]\n",
      "(in /mnt/staff/zhli/blp-quantities/BLPmodule/gmm.jl:17)\n"
     ]
    },
    {
     "name": "stdout",
     "output_type": "stream",
     "text": [
      "θ2 = [1.9999999999999998, 3.0]\n",
      "(in /mnt/staff/zhli/blp-quantities/BLPmodule/gmm.jl:10)\n",
      "θ1 = [-0.8163948417134645; -0.2137813126644581]\n",
      "(in /mnt/staff/zhli/blp-quantities/BLPmodule/gmm.jl:17)\n"
     ]
    },
    {
     "name": "stdout",
     "output_type": "stream",
     "text": [
      "θ2 = [2.0, 3.0]\n",
      "(in /mnt/staff/zhli/blp-quantities/BLPmodule/gmm.jl:10)\n",
      "θ1 = [-0.816395048191596; -0.21377718045991667]\n",
      "(in /mnt/staff/zhli/blp-quantities/BLPmodule/gmm.jl:17)\n"
     ]
    },
    {
     "data": {
      "text/plain": [
       " * Status: success (objective increased between iterations)\n",
       "\n",
       " * Candidate solution\n",
       "    Final objective value:     4.054825e+02\n",
       "\n",
       " * Found with\n",
       "    Algorithm:     L-BFGS\n",
       "\n",
       " * Convergence measures\n",
       "    |x - x'|               = 0.00e+00 ≤ 1.0e-06\n",
       "    |x - x'|/|x'|          = 0.00e+00 ≤ 0.0e+00\n",
       "    |f(x) - f(x')|         = 1.02e+02 ≰ 0.0e+00\n",
       "    |f(x) - f(x')|/|f(x')| = 2.52e-01 ≰ 0.0e+00\n",
       "    |g(x)|                 = 4.52e+01 ≰ 1.0e-08\n",
       "\n",
       " * Work counters\n",
       "    Seconds run:   36  (vs limit Inf)\n",
       "    Iterations:    1\n",
       "    f(x) calls:    61\n",
       "    ∇f(x) calls:   61\n"
      ]
     },
     "metadata": {},
     "output_type": "display_data"
    }
   ],
   "source": [
    "ec = deserialize(\"jls/ec.jls\");\n",
    "pars = deserialize(\"jls/pars.jls\");\n",
    "res = optimize(θ2 -> m.gmm_lm(θ2, ec, pars, X1), g!, initial_θ2, LBFGS(), Optim.Options(f_calls_limit =12, x_tol = 1e-6))"
   ]
  },
  {
   "cell_type": "code",
   "execution_count": null,
   "metadata": {},
   "outputs": [],
   "source": []
  },
  {
   "cell_type": "code",
   "execution_count": 15,
   "metadata": {},
   "outputs": [
    {
     "name": "stdout",
     "output_type": "stream",
     "text": [
      "[2.0, 3.0]\n",
      "[2.0, 3.0]\n"
     ]
    }
   ],
   "source": [
    "println(Optim.minimizer(res))\n",
    "println(Optim.initial_state(res))"
   ]
  },
  {
   "cell_type": "code",
   "execution_count": 52,
   "metadata": {},
   "outputs": [],
   "source": [
    "\n"
   ]
  },
  {
   "cell_type": "markdown",
   "metadata": {},
   "source": [
    "---"
   ]
  }
 ],
 "metadata": {
  "kernelspec": {
   "display_name": "Julia 1.6.1",
   "language": "julia",
   "name": "julia-1.6"
  },
  "language_info": {
   "file_extension": ".jl",
   "mimetype": "application/julia",
   "name": "julia",
   "version": "1.6.1"
  },
  "orig_nbformat": 4,
  "vscode": {
   "interpreter": {
    "hash": "8f874cb96a7fdce6260903239cd4ccff59f9cd40f07ae8042efeb94d5942b24b"
   }
  }
 },
 "nbformat": 4,
 "nbformat_minor": 2
}
