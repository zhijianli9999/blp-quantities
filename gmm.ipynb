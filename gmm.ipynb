{
 "cells": [
  {
   "cell_type": "code",
   "execution_count": 1,
   "metadata": {},
   "outputs": [],
   "source": [
    "using DataFrames, Optim, Revise, Serialization"
   ]
  },
  {
   "cell_type": "code",
   "execution_count": 2,
   "metadata": {},
   "outputs": [],
   "source": [
    "string(@__DIR__) in LOAD_PATH || push!(LOAD_PATH, @__DIR__);"
   ]
  },
  {
   "cell_type": "code",
   "execution_count": 3,
   "metadata": {},
   "outputs": [],
   "source": [
    "using BLPmodule; const m = BLPmodule;"
   ]
  },
  {
   "cell_type": "code",
   "execution_count": 4,
   "metadata": {},
   "outputs": [],
   "source": [
    "df = deserialize(\"jls/df.jls\");\n",
    "pars = deserialize(\"jls/pars.jls\");\n",
    "ec = deserialize(\"jls/ec.jls\");"
   ]
  },
  {
   "cell_type": "markdown",
   "metadata": {},
   "source": [
    "---"
   ]
  },
  {
   "cell_type": "code",
   "execution_count": 5,
   "metadata": {},
   "outputs": [
    {
     "data": {
      "text/plain": [
       "g! (generic function with 1 method)"
      ]
     },
     "metadata": {},
     "output_type": "display_data"
    }
   ],
   "source": [
    "function g!(storage::Array, θ2::Array)\n",
    "    storage[:] = m.gmm_grad(θ2, ec, pars, X1)\n",
    "end"
   ]
  },
  {
   "cell_type": "code",
   "execution_count": 6,
   "metadata": {},
   "outputs": [],
   "source": [
    "# linear characteristics (staffing variables):\n",
    "X1 = vcat(transpose.([ec.firms[i].X for i in eachindex(ec.firms)])...)\n",
    "Z = X1;"
   ]
  },
  {
   "cell_type": "code",
   "execution_count": 7,
   "metadata": {},
   "outputs": [],
   "source": [
    "initial_δ = zeros(length(ec.firms), 1);"
   ]
  },
  {
   "cell_type": "code",
   "execution_count": 22,
   "metadata": {},
   "outputs": [
    {
     "name": "stdout",
     "output_type": "stream",
     "text": [
      "obj = 150.80675378431536\n",
      "(in /users/facsupport/zhli/blp-quantities/BLPmodule/gmm.jl:22)\n",
      "pars.σ = [10.0, 10.0]\n",
      "(in /users/facsupport/zhli/blp-quantities/BLPmodule/gmm.jl:23)\n"
     ]
    },
    {
     "data": {
      "text/plain": [
       "150.80675378431536"
      ]
     },
     "metadata": {},
     "output_type": "display_data"
    }
   ],
   "source": [
    "pars = deserialize(\"jls/pars.jls\");\n",
    "m.gmm_lm([10.,10.], ec, pars, X1)"
   ]
  },
  {
   "cell_type": "code",
   "execution_count": 12,
   "metadata": {},
   "outputs": [
    {
     "name": "stdout",
     "output_type": "stream",
     "text": [
      "obj = 151.19673434313256\n",
      "(in /users/facsupport/zhli/blp-quantities/BLPmodule/gmm.jl:22)\n"
     ]
    },
    {
     "data": {
      "text/plain": [
       "151.19673434313256"
      ]
     },
     "metadata": {},
     "output_type": "display_data"
    }
   ],
   "source": [
    "m.gmm_lm([1.,1.], ec, pars, X1)"
   ]
  },
  {
   "cell_type": "code",
   "execution_count": 23,
   "metadata": {},
   "outputs": [
    {
     "data": {
      "text/plain": [
       "2-element Vector{Float64}:\n",
       " 1.0\n",
       " 1.0"
      ]
     },
     "metadata": {},
     "output_type": "display_data"
    }
   ],
   "source": [
    "pars.σ"
   ]
  },
  {
   "cell_type": "code",
   "execution_count": 20,
   "metadata": {},
   "outputs": [
    {
     "name": "stdout",
     "output_type": "stream",
     "text": [
      "pars.σ[1] = 1.0\n",
      "(in /users/facsupport/zhli/blp-quantities/BLPmodule/gmm.jl:30)\n"
     ]
    },
    {
     "name": "stdout",
     "output_type": "stream",
     "text": [
      "grad = [-121.22994827721004; -4.122342967979769]\n",
      "(in /users/facsupport/zhli/blp-quantities/BLPmodule/gmm.jl:83)\n"
     ]
    },
    {
     "data": {
      "text/plain": [
       "2×1 Matrix{Float64}:\n",
       " -121.22994827721004\n",
       "   -4.122342967979769"
      ]
     },
     "metadata": {},
     "output_type": "display_data"
    }
   ],
   "source": [
    "m.gmm_grad([2.,2.], ec, pars, X1)"
   ]
  },
  {
   "cell_type": "code",
   "execution_count": 16,
   "metadata": {},
   "outputs": [
    {
     "name": "stdout",
     "output_type": "stream",
     "text": [
      "gradj[jj] = [0.0, 0.0]\n",
      "(in /users/facsupport/zhli/blp-quantities/BLPmodule/gmm.jl:110)\n",
      "gradj[jj] = [0.0, 0.0]\n",
      "(in /users/facsupport/zhli/blp-quantities/BLPmodule/gmm.jl:110)\n",
      "gradj[jj] = [0.0, 0.0]\n",
      "(in /users/facsupport/zhli/blp-quantities/BLPmodule/gmm.jl:110)\n",
      "gradj[jj] = [0.0, 0.0]\n",
      "(in /users/facsupport/zhli/blp-quantities/BLPmodule/gmm.jl:110)\n",
      "gradj[jj] = [0.0, 0.0]\n",
      "(in /users/facsupport/zhli/blp-quantities/BLPmodule/gmm.jl:110)\n",
      "gradj[jj] = [0.0, 0.0]\n",
      "(in /users/facsupport/zhli/blp-quantities/BLPmodule/gmm.jl:110)\n",
      "gradj[jj] = [0.0, 0.0]\n",
      "(in /users/facsupport/zhli/blp-quantities/BLPmodule/gmm.jl:110)\n",
      "gradj[jj] = [0.0, 0.0]\n",
      "(in /users/facsupport/zhli/blp-quantities/BLPmodule/gmm.jl:110)\n",
      "gradj[jj] = [0.0, 0.0]\n",
      "(in /users/facsupport/zhli/blp-quantities/BLPmodule/gmm.jl:110)\n",
      "gradj[jj] = [0.0, 0.0]\n",
      "(in /users/facsupport/zhli/blp-quantities/BLPmodule/gmm.jl:110)\n",
      "gradj[jj] = [0.0, 0.0]\n",
      "(in /users/facsupport/zhli/blp-quantities/BLPmodule/gmm.jl:110)\n",
      "gradj[jj] = [0.0, 0.0]\n",
      "(in /users/facsupport/zhli/blp-quantities/BLPmodule/gmm.jl:110)\n",
      "gradj[jj] = [0.0, 0.0]\n",
      "(in /users/facsupport/zhli/blp-quantities/BLPmodule/gmm.jl:110)\n",
      "gradj[jj] = [0.0, 0.0]\n",
      "(in /users/facsupport/zhli/blp-quantities/BLPmodule/gmm.jl:110)\n",
      "gradj[jj] = [0.0, 0.0]\n",
      "(in /users/facsupport/zhli/blp-quantities/BLPmodule/gmm.jl:110)\n",
      "gradj[jj] = [0.0, 0.0]\n",
      "(in /users/facsupport/zhli/blp-quantities/BLPmodule/gmm.jl:110)\n",
      "gradj[jj] = [0.0, 0.0]\n",
      "(in /users/facsupport/zhli/blp-quantities/BLPmodule/gmm.jl:110)\n",
      "gradj[jj] = [0.0, 0.0]\n",
      "(in /users/facsupport/zhli/blp-quantities/BLPmodule/gmm.jl:110)\n",
      "gradj[jj] = [0.0, 0.0]\n",
      "(in /users/facsupport/zhli/blp-quantities/BLPmodule/gmm.jl:110)\n",
      "gradj[jj] = [0.0, 0.0]\n",
      "(in /users/facsupport/zhli/blp-quantities/BLPmodule/gmm.jl:110)\n",
      "gradj[jj] = [0.0, 0.0]\n",
      "(in /users/facsupport/zhli/blp-quantities/BLPmodule/gmm.jl:110)\n",
      "gradj[jj] = [0.0, 0.0]\n",
      "(in /users/facsupport/zhli/blp-quantities/BLPmodule/gmm.jl:110)\n",
      "gradj[jj] = [0.0, 0.0]\n",
      "(in /users/facsupport/zhli/blp-quantities/BLPmodule/gmm.jl:110)\n",
      "gradj[jj] = [0.0, 0.0]\n",
      "(in /users/facsupport/zhli/blp-quantities/BLPmodule/gmm.jl:110)\n",
      "gradj[jj] = [0.0, 0.0]\n",
      "(in /users/facsupport/zhli/blp-quantities/BLPmodule/gmm.jl:110)\n",
      "gradj[jj] = [0.0, 0.0]\n",
      "(in /users/facsupport/zhli/blp-quantities/BLPmodule/gmm.jl:110)\n",
      "gradj[jj] = [0.0, 0.0]\n",
      "(in /users/facsupport/zhli/blp-quantities/BLPmodule/gmm.jl:110)\n",
      "gradj[jj] = [0.0, 0.0]\n",
      "(in /users/facsupport/zhli/blp-quantities/BLPmodule/gmm.jl:110)\n",
      "gradj[jj] = [0.0, 0.0]\n",
      "(in /users/facsupport/zhli/blp-quantities/BLPmodule/gmm.jl:110)\n",
      "gradj[jj] = [0.0, 0.0]\n",
      "(in /users/facsupport/zhli/blp-quantities/BLPmodule/gmm.jl:110)\n",
      "gradj[jj] = [0.0, 0.0]\n",
      "(in /users/facsupport/zhli/blp-quantities/BLPmodule/gmm.jl:110)\n",
      "gradj[jj] = [0.0, 0.0]\n",
      "(in /users/facsupport/zhli/blp-quantities/BLPmodule/gmm.jl:110)\n",
      "gradj[jj] = [0.0, 0.0]\n",
      "(in /users/facsupport/zhli/blp-quantities/BLPmodule/gmm.jl:110)\n",
      "gradj[jj] = [0.0, 0.0]\n",
      "(in /users/facsupport/zhli/blp-quantities/BLPmodule/gmm.jl:110)\n",
      "gradj[jj] = [0.0, 0.0]\n",
      "(in /users/facsupport/zhli/blp-quantities/BLPmodule/gmm.jl:110)\n",
      "gradj[jj] = [0.0, 0.0]\n",
      "(in /users/facsupport/zhli/blp-quantities/BLPmodule/gmm.jl:110)\n",
      "gradj[jj] = [0.0, 0.0]\n",
      "(in /users/facsupport/zhli/blp-quantities/BLPmodule/gmm.jl:110)\n",
      "gradj[jj] = [0.0, 0.0]\n",
      "(in /users/facsupport/zhli/blp-quantities/BLPmodule/gmm.jl:110)\n",
      "gradj[jj] = [0.0, 0.0]\n",
      "(in /users/facsupport/zhli/blp-quantities/BLPmodule/gmm.jl:110)\n",
      "gradj[jj] = [0.0, 0.0]\n",
      "(in /users/facsupport/zhli/blp-quantities/BLPmodule/gmm.jl:110)\n",
      "gradj[jj] = [0.0, 0.0]\n",
      "(in /users/facsupport/zhli/blp-quantities/BLPmodule/gmm.jl:110)\n",
      "gradj[jj] = [0.0, 0.0]\n",
      "(in /users/facsupport/zhli/blp-quantities/BLPmodule/gmm.jl:110)\n",
      "gradj[jj] = [0.0, 0.0]\n",
      "(in /users/facsupport/zhli/blp-quantities/BLPmodule/gmm.jl:110)\n",
      "gradj[jj] = [0.0, 0.0]\n",
      "(in /users/facsupport/zhli/blp-quantities/BLPmodule/gmm.jl:110)\n",
      "gradj[jj] = [0.0, 0.0]\n",
      "(in /users/facsupport/zhli/blp-quantities/BLPmodule/gmm.jl:110)\n",
      "gradj[jj] = [0.0, 0.0]\n",
      "(in /users/facsupport/zhli/blp-quantities/BLPmodule/gmm.jl:110)\n",
      "gradj[jj] = [0.0, 0.0]\n",
      "(in /users/facsupport/zhli/blp-quantities/BLPmodule/gmm.jl:110)\n",
      "gradj[jj] = [0.0, 0.0]\n",
      "(in /users/facsupport/zhli/blp-quantities/BLPmodule/gmm.jl:110)\n",
      "gradj[jj] = [0.0, 0.0]\n",
      "(in /users/facsupport/zhli/blp-quantities/BLPmodule/gmm.jl:110)\n",
      "gradj[jj] = [0.0, 0.0]\n",
      "(in /users/facsupport/zhli/blp-quantities/BLPmodule/gmm.jl:110)\n",
      "gradj[jj] = [0.0, 0.0]\n",
      "(in /users/facsupport/zhli/blp-quantities/BLPmodule/gmm.jl:110)\n",
      "gradj[jj] = [0.0, 0.0]\n",
      "(in /users/facsupport/zhli/blp-quantities/BLPmodule/gmm.jl:110)\n",
      "gradj[jj] = [0.0, 0.0]\n",
      "(in /users/facsupport/zhli/blp-quantities/BLPmodule/gmm.jl:110)\n",
      "gradj[jj] = [0.0, 0.0]\n",
      "(in /users/facsupport/zhli/blp-quantities/BLPmodule/gmm.jl:110)\n",
      "gradj[jj] = [0.0, 0.0]\n",
      "(in /users/facsupport/zhli/blp-quantities/BLPmodule/gmm.jl:110)\n",
      "gradj[jj] = [0.0, 0.0]\n",
      "(in /users/facsupport/zhli/blp-quantities/BLPmodule/gmm.jl:110)\n",
      "gradj[jj] = [0.0, 0.0]\n",
      "(in /users/facsupport/zhli/blp-quantities/BLPmodule/gmm.jl:110)\n",
      "gradj[jj] = [0.0, 0.0]\n",
      "(in /users/facsupport/zhli/blp-quantities/BLPmodule/gmm.jl:110)\n",
      "gradj[jj] = [0.0, 0.0]\n",
      "(in /users/facsupport/zhli/blp-quantities/BLPmodule/gmm.jl:110)\n",
      "gradj[jj] = [0.0, 0.0]\n",
      "(in /users/facsupport/zhli/blp-quantities/BLPmodule/gmm.jl:110)\n",
      "gradj[jj] = [0.0, 0.0]\n",
      "(in /users/facsupport/zhli/blp-quantities/BLPmodule/gmm.jl:110)\n",
      "gradj[jj] = [0.0, 0.0]\n",
      "(in /users/facsupport/zhli/blp-quantities/BLPmodule/gmm.jl:110)\n",
      "gradj[jj] = [0.0, 0.0]\n",
      "(in /users/facsupport/zhli/blp-quantities/BLPmodule/gmm.jl:110)\n",
      "gradj[jj] = [0.0, 0.0]\n",
      "(in /users/facsupport/zhli/blp-quantities/BLPmodule/gmm.jl:110)\n",
      "gradj[jj] = [0.0, 0.0]\n",
      "(in /users/facsupport/zhli/blp-quantities/BLPmodule/gmm.jl:110)\n",
      "gradj[jj] = [0.0, 0.0]\n",
      "(in /users/facsupport/zhli/blp-quantities/BLPmodule/gmm.jl:110)\n",
      "gradj[jj] = [0.0, 0.0]\n",
      "(in /users/facsupport/zhli/blp-quantities/BLPmodule/gmm.jl:110)\n",
      "gradj[jj] = [0.0, 0.0]\n",
      "(in /users/facsupport/zhli/blp-quantities/BLPmodule/gmm.jl:110)\n",
      "gradj[jj] = [0.0, 0.0]\n",
      "(in /users/facsupport/zhli/blp-quantities/BLPmodule/gmm.jl:110)\n",
      "gradj[jj] = [0.0, 0.0]\n",
      "(in /users/facsupport/zhli/blp-quantities/BLPmodule/gmm.jl:110)\n",
      "gradj[jj] = [0.0, 0.0]\n",
      "(in /users/facsupport/zhli/blp-quantities/BLPmodule/gmm.jl:110)\n",
      "gradj[jj] = [0.0, 0.0]\n",
      "(in /users/facsupport/zhli/blp-quantities/BLPmodule/gmm.jl:110)\n",
      "gradj[jj] = [0.0, 0.0]\n",
      "(in /users/facsupport/zhli/blp-quantities/BLPmodule/gmm.jl:110)\n",
      "gradj[jj] = [0.0, 0.0]\n",
      "(in /users/facsupport/zhli/blp-quantities/BLPmodule/gmm.jl:110)\n",
      "gradj[jj] = [0.0, 0.0]\n",
      "(in /users/facsupport/zhli/blp-quantities/BLPmodule/gmm.jl:110)\n",
      "gradj[jj] = [0.0, 0.0]\n",
      "(in /users/facsupport/zhli/blp-quantities/BLPmodule/gmm.jl:110)\n",
      "gradj[jj] = [0.0, 0.0]\n",
      "(in /users/facsupport/zhli/blp-quantities/BLPmodule/gmm.jl:110)\n",
      "gradj[jj] = [0.0, 0.0]\n",
      "(in /users/facsupport/zhli/blp-quantities/BLPmodule/gmm.jl:110)\n",
      "gradj[jj] = [0.0, 0.0]\n",
      "(in /users/facsupport/zhli/blp-quantities/BLPmodule/gmm.jl:110)\n",
      "gradj[jj] = [0.0, 0.0]\n",
      "(in /users/facsupport/zhli/blp-quantities/BLPmodule/gmm.jl:110)\n",
      "gradj[jj] = [0.0, 0.0]\n",
      "(in /users/facsupport/zhli/blp-quantities/BLPmodule/gmm.jl:110)\n",
      "gradj[jj] = [0.0, 0.0]\n",
      "(in /users/facsupport/zhli/blp-quantities/BLPmodule/gmm.jl:110)\n",
      "gradj[jj] = [0.0, 0.0]\n",
      "(in /users/facsupport/zhli/blp-quantities/BLPmodule/gmm.jl:110)\n",
      "gradj[jj] = [0.0, 0.0]\n",
      "(in /users/facsupport/zhli/blp-quantities/BLPmodule/gmm.jl:110)\n",
      "gradj[jj] = [0.0, 0.0]\n",
      "(in /users/facsupport/zhli/blp-quantities/BLPmodule/gmm.jl:110)\n",
      "gradj[jj] = [0.0, 0.0]\n",
      "(in /users/facsupport/zhli/blp-quantities/BLPmodule/gmm.jl:110)\n",
      "gradj[jj] = [0.0, 0.0]\n",
      "(in /users/facsupport/zhli/blp-quantities/BLPmodule/gmm.jl:110)\n",
      "gradj[jj] = [0.0, 0.0]\n",
      "(in /users/facsupport/zhli/blp-quantities/BLPmodule/gmm.jl:110)\n",
      "gradj[jj] = [0.0, 0.0]\n",
      "(in /users/facsupport/zhli/blp-quantities/BLPmodule/gmm.jl:110)\n",
      "gradj[jj] = [0.0, 0.0]\n",
      "(in /users/facsupport/zhli/blp-quantities/BLPmodule/gmm.jl:110)\n",
      "gradj[jj] = [0.0, 0.0]\n",
      "(in /users/facsupport/zhli/blp-quantities/BLPmodule/gmm.jl:110)\n",
      "gradj[jj] = [0.0, 0.0]\n",
      "(in /users/facsupport/zhli/blp-quantities/BLPmodule/gmm.jl:110)\n",
      "gradj[jj] = [0.0, 0.0]\n",
      "(in /users/facsupport/zhli/blp-quantities/BLPmodule/gmm.jl:110)\n",
      "gradj[jj] = [0.0, 0.0]\n",
      "(in /users/facsupport/zhli/blp-quantities/BLPmodule/gmm.jl:110)\n",
      "gradj[jj] = [0.0, 0.0]\n",
      "(in /users/facsupport/zhli/blp-quantities/BLPmodule/gmm.jl:110)\n",
      "gradj[jj] = [0.0, 0.0]\n",
      "(in /users/facsupport/zhli/blp-quantities/BLPmodule/gmm.jl:110)\n",
      "gradj[jj] = [0.0, 0.0]\n",
      "(in /users/facsupport/zhli/blp-quantities/BLPmodule/gmm.jl:110)\n",
      "gradj[jj] = [0.0, 0.0]\n",
      "(in /users/facsupport/zhli/blp-quantities/BLPmodule/gmm.jl:110)\n",
      "gradj[jj] = [0.0, 0.0]\n",
      "(in /users/facsupport/zhli/blp-quantities/BLPmodule/gmm.jl:110)\n",
      "gradj[jj] = [0.0, 0.0]\n",
      "(in /users/facsupport/zhli/blp-quantities/BLPmodule/gmm.jl:110)\n",
      "gradj[jj] = [0.0, 0.0]\n",
      "(in /users/facsupport/zhli/blp-quantities/BLPmodule/gmm.jl:110)\n",
      "gradj[jj] = [0.0, 0.0]\n",
      "(in /users/facsupport/zhli/blp-quantities/BLPmodule/gmm.jl:110)\n",
      "gradj[jj] = [0.0, 0.0]\n",
      "(in /users/facsupport/zhli/blp-quantities/BLPmodule/gmm.jl:110)\n",
      "gradj[jj] = [0.0, 0.0]\n",
      "(in /users/facsupport/zhli/blp-quantities/BLPmodule/gmm.jl:110)\n",
      "gradj[jj] = [0.0, 0.0]\n",
      "(in /users/facsupport/zhli/blp-quantities/BLPmodule/gmm.jl:110)\n",
      "gradj[jj] = [0.0, 0.0]\n",
      "(in /users/facsupport/zhli/blp-quantities/BLPmodule/gmm.jl:110)\n",
      "gradj[jj] = [0.0, 0.0]\n",
      "(in /users/facsupport/zhli/blp-quantities/BLPmodule/gmm.jl:110)\n",
      "gradj[jj] = [0.0, 0.0]\n",
      "(in /users/facsupport/zhli/blp-quantities/BLPmodule/gmm.jl:110)\n",
      "gradj[jj] = [0.0, 0.0]\n",
      "(in /users/facsupport/zhli/blp-quantities/BLPmodule/gmm.jl:110)\n",
      "gradj[jj] = [0.0, 0.0]\n",
      "(in /users/facsupport/zhli/blp-quantities/BLPmodule/gmm.jl:110)\n",
      "gradj[jj] = [0.0, 0.0]\n",
      "(in /users/facsupport/zhli/blp-quantities/BLPmodule/gmm.jl:110)\n",
      "gradj[jj] = [0.0, 0.0]\n",
      "(in /users/facsupport/zhli/blp-quantities/BLPmodule/gmm.jl:110)\n",
      "gradj[jj] = [0.0, 0.0]\n",
      "(in /users/facsupport/zhli/blp-quantities/BLPmodule/gmm.jl:110)\n",
      "gradj[jj] = [0.0, 0.0]\n",
      "(in /users/facsupport/zhli/blp-quantities/BLPmodule/gmm.jl:110)\n",
      "gradj[jj] = [0.0, 0.0]\n",
      "(in /users/facsupport/zhli/blp-quantities/BLPmodule/gmm.jl:110)\n",
      "gradj[jj] = [0.0, 0.0]\n",
      "(in /users/facsupport/zhli/blp-quantities/BLPmodule/gmm.jl:110)\n",
      "gradj[jj] = [0.0, 0.0]\n",
      "(in /users/facsupport/zhli/blp-quantities/BLPmodule/gmm.jl:110)\n",
      "gradj[jj] = [0.0, 0.0]\n",
      "(in /users/facsupport/zhli/blp-quantities/BLPmodule/gmm.jl:"
     ]
    },
    {
     "name": "stdout",
     "output_type": "stream",
     "text": [
      "110)\n",
      "gradj[jj] = [0.0, 0.0]\n",
      "(in /users/facsupport/zhli/blp-quantities/BLPmodule/gmm.jl:110)\n",
      "gradj[jj] = [0.0, 0.0]\n",
      "(in /users/facsupport/zhli/blp-quantities/BLPmodule/gmm.jl:110)\n",
      "gradj[jj] = [0.0, 0.0]\n",
      "(in /users/facsupport/zhli/blp-quantities/BLPmodule/gmm.jl:110)\n",
      "gradj[jj] = [0.0, 0.0]\n",
      "(in /users/facsupport/zhli/blp-quantities/BLPmodule/gmm.jl:110)\n",
      "gradj[jj] = [0.0, 0.0]\n",
      "(in /users/facsupport/zhli/blp-quantities/BLPmodule/gmm.jl:110)\n",
      "gradj[jj] = [0.0, 0.0]\n",
      "(in /users/facsupport/zhli/blp-quantities/BLPmodule/gmm.jl:110)\n",
      "gradj[jj] = [0.0, 0.0]\n",
      "(in /users/facsupport/zhli/blp-quantities/BLPmodule/gmm.jl:110)\n",
      "gradj[jj] = [0.0, 0.0]\n",
      "(in /users/facsupport/zhli/blp-quantities/BLPmodule/gmm.jl:110)\n",
      "gradj[jj] = [0.0, 0.0]\n",
      "(in /users/facsupport/zhli/blp-quantities/BLPmodule/gmm.jl:110)\n",
      "gradj[jj] = [0.0, 0.0]\n",
      "(in /users/facsupport/zhli/blp-quantities/BLPmodule/gmm.jl:110)\n",
      "gradj[jj] = [0.0, 0.0]\n",
      "(in /users/facsupport/zhli/blp-quantities/BLPmodule/gmm.jl:110)\n",
      "gradj[jj] = [0.0, 0.0]\n",
      "(in /users/facsupport/zhli/blp-quantities/BLPmodule/gmm.jl:110)\n",
      "gradj[jj] = [0.0, 0.0]\n",
      "(in /users/facsupport/zhli/blp-quantities/BLPmodule/gmm.jl:110)\n",
      "gradj[jj] = [0.0, 0.0]\n",
      "(in /users/facsupport/zhli/blp-quantities/BLPmodule/gmm.jl:110)\n",
      "gradj[jj] = [0.0, 0.0]\n",
      "(in /users/facsupport/zhli/blp-quantities/BLPmodule/gmm.jl:110)\n",
      "gradj[jj] = [0.0, 0.0]\n",
      "(in /users/facsupport/zhli/blp-quantities/BLPmodule/gmm.jl:110)\n",
      "gradj[jj] = [0.0, 0.0]\n",
      "(in /users/facsupport/zhli/blp-quantities/BLPmodule/gmm.jl:110)\n",
      "gradj[jj] = [0.0, 0.0]\n",
      "(in /users/facsupport/zhli/blp-quantities/BLPmodule/gmm.jl:110)\n",
      "gradj[jj] = [0.0, 0.0]\n",
      "(in /users/facsupport/zhli/blp-quantities/BLPmodule/gmm.jl:110)\n",
      "gradj[jj] = [0.0, 0.0]\n",
      "(in /users/facsupport/zhli/blp-quantities/BLPmodule/gmm.jl:110)\n",
      "gradj[jj] = [0.0, 0.0]\n",
      "(in /users/facsupport/zhli/blp-quantities/BLPmodule/gmm.jl:110)\n",
      "gradj[jj] = [0.0, 0.0]\n",
      "(in /users/facsupport/zhli/blp-quantities/BLPmodule/gmm.jl:110)\n",
      "gradj[jj] = [0.0, 0.0]\n",
      "(in /users/facsupport/zhli/blp-quantities/BLPmodule/gmm.jl:110)\n",
      "gradj[jj] = [0.0, 0.0]\n",
      "(in /users/facsupport/zhli/blp-quantities/BLPmodule/gmm.jl:110)\n",
      "gradj[jj] = [0.0, 0.0]\n",
      "(in /users/facsupport/zhli/blp-quantities/BLPmodule/gmm.jl:110)\n",
      "gradj[jj] = [0.0, 0.0]\n",
      "(in /users/facsupport/zhli/blp-quantities/BLPmodule/gmm.jl:110)\n",
      "gradj[jj] = [0.0, 0.0]\n",
      "(in /users/facsupport/zhli/blp-quantities/BLPmodule/gmm.jl:110)\n",
      "gradj[jj] = [0.0, 0.0]\n",
      "(in /users/facsupport/zhli/blp-quantities/BLPmodule/gmm.jl:110)\n",
      "gradj[jj] = [0.0, 0.0]\n",
      "(in /users/facsupport/zhli/blp-quantities/BLPmodule/gmm.jl:110)\n",
      "gradj[jj] = [0.0, 0.0]\n",
      "(in /users/facsupport/zhli/blp-quantities/BLPmodule/gmm.jl:110)\n",
      "gradj[jj] = [0.0, 0.0]\n",
      "(in /users/facsupport/zhli/blp-quantities/BLPmodule/gmm.jl:110)\n",
      "gradj[jj] = [0.0, 0.0]\n",
      "(in /users/facsupport/zhli/blp-quantities/BLPmodule/gmm.jl:110)\n",
      "gradj[jj] = [0.0, 0.0]\n",
      "(in /users/facsupport/zhli/blp-quantities/BLPmodule/gmm.jl:110)\n",
      "gradj[jj] = [0.0, 0.0]\n",
      "(in /users/facsupport/zhli/blp-quantities/BLPmodule/gmm.jl:110)\n",
      "gradj[jj] = [0.0, 0.0]\n",
      "(in /users/facsupport/zhli/blp-quantities/BLPmodule/gmm.jl:110)\n",
      "gradj[jj] = [0.0, 0.0]\n",
      "(in /users/facsupport/zhli/blp-quantities/BLPmodule/gmm.jl:110)\n",
      "gradj[jj] = [0.0, 0.0]\n",
      "(in /users/facsupport/zhli/blp-quantities/BLPmodule/gmm.jl:110)\n",
      "gradj[jj] = [0.0, 0.0]\n",
      "(in /users/facsupport/zhli/blp-quantities/BLPmodule/gmm.jl:110)\n",
      "gradj[jj] = [0.0, 0.0]\n",
      "(in /users/facsupport/zhli/blp-quantities/BLPmodule/gmm.jl:110)\n",
      "gradj[jj] = [0.0, 0.0]\n",
      "(in /users/facsupport/zhli/blp-quantities/BLPmodule/gmm.jl:110)\n",
      "gradj[jj] = [0.0, 0.0]\n",
      "(in /users/facsupport/zhli/blp-quantities/BLPmodule/gmm.jl:110)\n",
      "gradj[jj] = [0.0, 0.0]\n",
      "(in /users/facsupport/zhli/blp-quantities/BLPmodule/gmm.jl:110)\n",
      "gradj[jj] = [0.0, 0.0]\n",
      "(in /users/facsupport/zhli/blp-quantities/BLPmodule/gmm.jl:110)\n",
      "gradj[jj] = [0.0, 0.0]\n",
      "(in /users/facsupport/zhli/blp-quantities/BLPmodule/gmm.jl:110)\n",
      "gradj[jj] = [0.0, 0.0]\n",
      "(in /users/facsupport/zhli/blp-quantities/BLPmodule/gmm.jl:110)\n",
      "gradj[jj] = [0.0, 0.0]\n",
      "(in /users/facsupport/zhli/blp-quantities/BLPmodule/gmm.jl:110)\n",
      "gradj[jj] = [0.0, 0.0]\n",
      "(in /users/facsupport/zhli/blp-quantities/BLPmodule/gmm.jl:110)\n",
      "gradj[jj] = [0.0, 0.0]\n",
      "(in /users/facsupport/zhli/blp-quantities/BLPmodule/gmm.jl:110)\n",
      "gradj[jj] = [0.0, 0.0]\n",
      "(in /users/facsupport/zhli/blp-quantities/BLPmodule/gmm.jl:110)\n",
      "gradj[jj] = [0.0, 0.0]\n",
      "(in /users/facsupport/zhli/blp-quantities/BLPmodule/gmm.jl:110)\n",
      "gradj[jj] = [0.0, 0.0]\n",
      "(in /users/facsupport/zhli/blp-quantities/BLPmodule/gmm.jl:110)\n",
      "gradj[jj] = [0.0, 0.0]\n",
      "(in /users/facsupport/zhli/blp-quantities/BLPmodule/gmm.jl:110)\n",
      "gradj[jj] = [0.0, 0.0]\n",
      "(in /users/facsupport/zhli/blp-quantities/BLPmodule/gmm.jl:110)\n",
      "gradj[jj] = [0.0, 0.0]\n",
      "(in /users/facsupport/zhli/blp-quantities/BLPmodule/gmm.jl:110)\n",
      "gradj[jj] = [0.0, 0.0]\n",
      "(in /users/facsupport/zhli/blp-quantities/BLPmodule/gmm.jl:110)\n",
      "gradj[jj] = [0.0, 0.0]\n",
      "(in /users/facsupport/zhli/blp-quantities/BLPmodule/gmm.jl:110)\n",
      "gradj[jj] = [0.0, 0.0]\n",
      "(in /users/facsupport/zhli/blp-quantities/BLPmodule/gmm.jl:110)\n",
      "gradj[jj] = [0.0, 0.0]\n",
      "(in /users/facsupport/zhli/blp-quantities/BLPmodule/gmm.jl:110)\n",
      "gradj[jj] = [0.0, 0.0]\n",
      "(in /users/facsupport/zhli/blp-quantities/BLPmodule/gmm.jl:110)\n",
      "gradj[jj] = [0.0, 0.0]\n",
      "(in /users/facsupport/zhli/blp-quantities/BLPmodule/gmm.jl:110)\n",
      "gradj[jj] = [0.0, 0.0]\n",
      "(in /users/facsupport/zhli/blp-quantities/BLPmodule/gmm.jl:110)\n",
      "gradj[jj] = [0.0, 0.0]\n",
      "(in /users/facsupport/zhli/blp-quantities/BLPmodule/gmm.jl:110)\n",
      "gradj[jj] = [0.0, 0.0]\n",
      "(in /users/facsupport/zhli/blp-quantities/BLPmodule/gmm.jl:110)\n",
      "gradj[jj] = [0.0, 0.0]\n",
      "(in /users/facsupport/zhli/blp-quantities/BLPmodule/gmm.jl:110)\n",
      "gradj[jj] = [0.0, 0.0]\n",
      "(in /users/facsupport/zhli/blp-quantities/BLPmodule/gmm.jl:110)\n",
      "gradj[jj] = [0.0, 0.0]\n",
      "(in /users/facsupport/zhli/blp-quantities/BLPmodule/gmm.jl:110)\n",
      "gradj[jj] = [0.0, 0.0]\n",
      "(in /users/facsupport/zhli/blp-quantities/BLPmodule/gmm.jl:110)\n",
      "gradj[jj] = [0.0, 0.0]\n",
      "(in /users/facsupport/zhli/blp-quantities/BLPmodule/gmm.jl:110)\n",
      "gradj[jj] = [0.0, 0.0]\n",
      "(in /users/facsupport/zhli/blp-quantities/BLPmodule/gmm.jl:110)\n",
      "gradj[jj] = [0.0, 0.0]\n",
      "(in /users/facsupport/zhli/blp-quantities/BLPmodule/gmm.jl:110)\n",
      "gradj[jj] = [0.0, 0.0]\n",
      "(in /users/facsupport/zhli/blp-quantities/BLPmodule/gmm.jl:110)\n",
      "gradj[jj] = [0.0, 0.0]\n",
      "(in /users/facsupport/zhli/blp-quantities/BLPmodule/gmm.jl:110)\n",
      "gradj[jj] = [0.0, 0.0]\n",
      "(in /users/facsupport/zhli/blp-quantities/BLPmodule/gmm.jl:110)\n",
      "gradj[jj] = [0.0, 0.0]\n",
      "(in /users/facsupport/zhli/blp-quantities/BLPmodule/gmm.jl:110)\n",
      "gradj[jj] = [0.0, 0.0]\n",
      "(in /users/facsupport/zhli/blp-quantities/BLPmodule/gmm.jl:110)\n",
      "gradj[jj] = [0.0, 0.0]\n",
      "(in /users/facsupport/zhli/blp-quantities/BLPmodule/gmm.jl:110)\n",
      "gradj[jj] = [0.0, 0.0]\n",
      "(in /users/facsupport/zhli/blp-quantities/BLPmodule/gmm.jl:110)\n",
      "gradj[jj] = [0.0, 0.0]\n",
      "(in /users/facsupport/zhli/blp-quantities/BLPmodule/gmm.jl:110)\n",
      "gradj[jj] = [0.0, 0.0]\n",
      "(in /users/facsupport/zhli/blp-quantities/BLPmodule/gmm.jl:110)\n",
      "gradj[jj] = [0.0, 0.0]\n",
      "(in /users/facsupport/zhli/blp-quantities/BLPmodule/gmm.jl:110)\n",
      "gradj[jj] = [0.0, 0.0]\n",
      "(in /users/facsupport/zhli/blp-quantities/BLPmodule/gmm.jl:110)\n",
      "gradj[jj] = [0.0, 0.0]\n",
      "(in /users/facsupport/zhli/blp-quantities/BLPmodule/gmm.jl:110)\n",
      "gradj[jj] = [0.0, 0.0]\n",
      "(in /users/facsupport/zhli/blp-quantities/BLPmodule/gmm.jl:110)\n",
      "gradj[jj] = [0.0, 0.0]\n",
      "(in /users/facsupport/zhli/blp-quantities/BLPmodule/gmm.jl:110)\n",
      "gradj[jj] = [0.0, 0.0]\n",
      "(in /users/facsupport/zhli/blp-quantities/BLPmodule/gmm.jl:110)\n",
      "gradj[jj] = [0.0, 0.0]\n",
      "(in /users/facsupport/zhli/blp-quantities/BLPmodule/gmm.jl:110)\n",
      "gradj[jj] = [0.0, 0.0]\n",
      "(in /users/facsupport/zhli/blp-quantities/BLPmodule/gmm.jl:110)\n",
      "gradj[jj] = [0.0, 0.0]\n",
      "(in /users/facsupport/zhli/blp-quantities/BLPmodule/gmm.jl:110)\n",
      "gradj[jj] = [0.0, 0.0]\n",
      "(in /users/facsupport/zhli/blp-quantities/BLPmodule/gmm.jl:110)\n",
      "gradj[jj] = [0.0, 0.0]\n",
      "(in /users/facsupport/zhli/blp-quantities/BLPmodule/gmm.jl:110)\n",
      "gradj[jj] = [0.0, 0.0]\n",
      "(in /users/facsupport/zhli/blp-quantities/BLPmodule/gmm.jl:110)\n",
      "gradj[jj] = [0.0, 0.0]\n",
      "(in /users/facsupport/zhli/blp-quantities/BLPmodule/gmm.jl:110)\n",
      "gradj[jj] = [0.0, 0.0]\n",
      "(in /users/facsupport/zhli/blp-quantities/BLPmodule/gmm.jl:110)\n",
      "gradj[jj] = [0.0, 0.0]\n",
      "(in /users/facsupport/zhli/blp-quantities/BLPmodule/gmm.jl:110)\n",
      "gradj[jj] = [0.0, 0.0]\n",
      "(in /users/facsupport/zhli/blp-quantities/BLPmodule/gmm.jl:110)\n",
      "gradj[jj] = [0.0, 0.0]\n",
      "(in /users/facsupport/zhli/blp-quantities/BLPmodule/gmm.jl:110)\n",
      "gradj[jj] = [0.0, 0.0]\n",
      "(in /users/facsupport/zhli/blp-quantities/BLPmodule/gmm.jl:110)\n",
      "gradj[jj] = [0.0, 0.0]\n",
      "(in /users/facsupport/zhli/blp-quantities/BLPmodule/gmm.jl:110)\n",
      "gradj[jj] = [0.0, 0.0]\n",
      "(in /users/facsupport/zhli/blp-quantities/BLPmodule/gmm.jl:110)\n",
      "gradj[jj] = [0.0, 0.0]\n",
      "(in /users/facsupport/zhli/blp-quantities/BLPmodule/gmm.jl:110)\n",
      "gradj[jj] = [0.0, 0.0]\n",
      "(in /users/facsupport/zhli/blp-quantities/BLPmodule/gmm.jl:110)\n",
      "gradj[jj] = [0.0, 0.0]\n",
      "(in /users/facsupport/zhli/blp-quantities/BLPmodule/gmm.jl:110)\n",
      "gradj[jj] = [0.0, 0.0]\n",
      "(in /users/facsupport/zhli/blp-quantities/BLPmodule/gmm.jl:110)\n",
      "gradj[jj] = [0.0, 0.0]\n",
      "(in /users/facsupport/zhli/blp-quantities/BLPmodule/gmm.jl:110)\n",
      "gradj[jj] = [0.0, 0.0]\n",
      "(in /users/facsupport/zhli/blp-quantities/BLPmodule/gmm.jl:110)\n",
      "gradj[jj] = [0.0, 0.0]\n",
      "(in /users/facsupport/zhli/blp-quantities/BLPmodule/gmm.jl:110)\n",
      "gradj[jj] = [0.0, 0.0]\n",
      "(in /users/facsupport/zhli/blp-quantities/BLPmodule/gmm.jl:110)\n",
      "gradj[jj] = [0.0, 0.0]\n",
      "(in /users/facsupport/zhli/blp-quantities/BLPmodule/gmm.jl:110)\n",
      "gradj[jj] = [0.0, 0.0]\n",
      "(in /users/facsupport/zhli/blp-quantities/BLPmodule/gmm.jl:110)\n",
      "gradj[jj] = [0.0, 0.0]\n",
      "(in /users/facsupport/zhli/blp-quantities/BLPmodule/gmm.jl:110)\n",
      "gradj[jj] = [0.0, 0.0]\n",
      "(in /users/facsupport/zhli/blp-quantities/BLPmodule/gmm.jl:110)\n",
      "gradj[jj] = [0.0, 0.0]\n",
      "(in /users/facsupport/zhli/blp-quantities/BLPmodule/gmm.jl:110)\n",
      "gradj[jj] = [0.0, 0.0]\n",
      "(in /users/facsupport/zhli/blp-quantities/BLPmodule/gmm.jl:110)\n",
      "gradj[jj] = [0.0, 0.0]\n",
      "(in /users/facsupport/zhli/blp-quantities/BLPmodule/gmm.jl:110)\n",
      "gradj[jj] = [0.0, 0.0]\n",
      "(in /users/facsupport/zhli/blp-quantities/BLPmodule/gmm.jl:110)\n",
      "gradj[jj] = [0.0, 0.0]\n",
      "(in /users/facsupport/zhli/blp-quantities/BLPmodule/gmm.jl:110)\n",
      "gradj[jj] = [0.0, 0.0]\n",
      "(in /users/facsupport/zhli/blp-quantities/BLPmodule/gmm.jl:110)\n",
      "gradj[jj] = [0.0, 0.0]\n",
      "(in /users/facsupport/zhli/blp-quantities/BLPmodule/gmm.jl:"
     ]
    },
    {
     "name": "stdout",
     "output_type": "stream",
     "text": [
      "110)\n",
      "gradj[jj] = [0.0, 0.0]\n",
      "(in /users/facsupport/zhli/blp-quantities/BLPmodule/gmm.jl:110)\n",
      "gradj[jj] = [0.0, 0.0]\n",
      "(in /users/facsupport/zhli/blp-quantities/BLPmodule/gmm.jl:110)\n",
      "gradj[jj] = [0.0, 0.0]\n",
      "(in /users/facsupport/zhli/blp-quantities/BLPmodule/gmm.jl:110)\n",
      "gradj[jj] = [0.0, 0.0]\n",
      "(in /users/facsupport/zhli/blp-quantities/BLPmodule/gmm.jl:110)\n",
      "gradj[jj] = [0.0, 0.0]\n",
      "(in /users/facsupport/zhli/blp-quantities/BLPmodule/gmm.jl:110)\n",
      "gradj[jj] = [0.0, 0.0]\n",
      "(in /users/facsupport/zhli/blp-quantities/BLPmodule/gmm.jl:110)\n",
      "gradj[jj] = [0.0, 0.0]\n",
      "(in /users/facsupport/zhli/blp-quantities/BLPmodule/gmm.jl:110)\n",
      "gradj[jj] = [0.0, 0.0]\n",
      "(in /users/facsupport/zhli/blp-quantities/BLPmodule/gmm.jl:110)\n",
      "gradj[jj] = [0.0, 0.0]\n",
      "(in /users/facsupport/zhli/blp-quantities/BLPmodule/gmm.jl:110)\n",
      "gradj[jj] = [0.0, 0.0]\n",
      "(in /users/facsupport/zhli/blp-quantities/BLPmodule/gmm.jl:110)\n",
      "gradj[jj] = [0.0, 0.0]\n",
      "(in /users/facsupport/zhli/blp-quantities/BLPmodule/gmm.jl:110)\n",
      "gradj[jj] = [0.0, 0.0]\n",
      "(in /users/facsupport/zhli/blp-quantities/BLPmodule/gmm.jl:110)\n",
      "gradj[jj] = [0.0, 0.0]\n",
      "(in /users/facsupport/zhli/blp-quantities/BLPmodule/gmm.jl:110)\n",
      "gradj[jj] = [0.0, 0.0]\n",
      "(in /users/facsupport/zhli/blp-quantities/BLPmodule/gmm.jl:110)\n",
      "gradj[jj] = [0.0, 0.0]\n",
      "(in /users/facsupport/zhli/blp-quantities/BLPmodule/gmm.jl:110)\n",
      "gradj[jj] = [0.0, 0.0]\n",
      "(in /users/facsupport/zhli/blp-quantities/BLPmodule/gmm.jl:110)\n",
      "gradj[jj] = [0.0, 0.0]\n",
      "(in /users/facsupport/zhli/blp-quantities/BLPmodule/gmm.jl:110)\n",
      "gradj[jj] = [0.0, 0.0]\n",
      "(in /users/facsupport/zhli/blp-quantities/BLPmodule/gmm.jl:110)\n",
      "gradj[jj] = [0.0, 0.0]\n",
      "(in /users/facsupport/zhli/blp-quantities/BLPmodule/gmm.jl:110)\n",
      "gradj[jj] = [0.0, 0.0]\n",
      "(in /users/facsupport/zhli/blp-quantities/BLPmodule/gmm.jl:110)\n",
      "gradj[jj] = [0.0, 0.0]\n",
      "(in /users/facsupport/zhli/blp-quantities/BLPmodule/gmm.jl:110)\n",
      "gradj[jj] = [0.0, 0.0]\n",
      "(in /users/facsupport/zhli/blp-quantities/BLPmodule/gmm.jl:110)\n",
      "gradj[jj] = [0.0, 0.0]\n",
      "(in /users/facsupport/zhli/blp-quantities/BLPmodule/gmm.jl:110)\n",
      "gradj[jj] = [0.0, 0.0]\n",
      "(in /users/facsupport/zhli/blp-quantities/BLPmodule/gmm.jl:110)\n",
      "gradj[jj] = [0.0, 0.0]\n",
      "(in /users/facsupport/zhli/blp-quantities/BLPmodule/gmm.jl:110)\n",
      "gradj[jj] = [0.0, 0.0]\n",
      "(in /users/facsupport/zhli/blp-quantities/BLPmodule/gmm.jl:110)\n",
      "gradj[jj] = [0.0, 0.0]\n",
      "(in /users/facsupport/zhli/blp-quantities/BLPmodule/gmm.jl:110)\n",
      "gradj[jj] = [0.0, 0.0]\n",
      "(in /users/facsupport/zhli/blp-quantities/BLPmodule/gmm.jl:110)\n",
      "gradj[jj] = [0.0, 0.0]\n",
      "(in /users/facsupport/zhli/blp-quantities/BLPmodule/gmm.jl:110)\n",
      "gradj[jj] = [0.0, 0.0]\n",
      "(in /users/facsupport/zhli/blp-quantities/BLPmodule/gmm.jl:110)\n",
      "gradj[jj] = [0.0, 0.0]\n",
      "(in /users/facsupport/zhli/blp-quantities/BLPmodule/gmm.jl:110)\n",
      "gradj[jj] = [0.0, 0.0]\n",
      "(in /users/facsupport/zhli/blp-quantities/BLPmodule/gmm.jl:110)\n",
      "gradj[jj] = [0.0, 0.0]\n",
      "(in /users/facsupport/zhli/blp-quantities/BLPmodule/gmm.jl:110)\n",
      "gradj[jj] = [0.0, 0.0]\n",
      "(in /users/facsupport/zhli/blp-quantities/BLPmodule/gmm.jl:110)\n",
      "gradj[jj] = [0.0, 0.0]\n",
      "(in /users/facsupport/zhli/blp-quantities/BLPmodule/gmm.jl:110)\n",
      "gradj[jj] = [0.0, 0.0]\n",
      "(in /users/facsupport/zhli/blp-quantities/BLPmodule/gmm.jl:110)\n",
      "gradj[jj] = [0.0, 0.0]\n",
      "(in /users/facsupport/zhli/blp-quantities/BLPmodule/gmm.jl:110)\n",
      "gradj[jj] = [0.0, 0.0]\n",
      "(in /users/facsupport/zhli/blp-quantities/BLPmodule/gmm.jl:110)\n",
      "gradj[jj] = [0.0, 0.0]\n",
      "(in /users/facsupport/zhli/blp-quantities/BLPmodule/gmm.jl:110)\n",
      "gradj[jj] = [0.0, 0.0]\n",
      "(in /users/facsupport/zhli/blp-quantities/BLPmodule/gmm.jl:110)\n",
      "gradj[jj] = [0.0, 0.0]\n",
      "(in /users/facsupport/zhli/blp-quantities/BLPmodule/gmm.jl:110)\n",
      "gradj[jj] = [0.0, 0.0]\n",
      "(in /users/facsupport/zhli/blp-quantities/BLPmodule/gmm.jl:110)\n",
      "gradj[jj] = [0.0, 0.0]\n",
      "(in /users/facsupport/zhli/blp-quantities/BLPmodule/gmm.jl:110)\n",
      "gradj[jj] = [0.0, 0.0]\n",
      "(in /users/facsupport/zhli/blp-quantities/BLPmodule/gmm.jl:110)\n",
      "gradj[jj] = [0.0, 0.0]\n",
      "(in /users/facsupport/zhli/blp-quantities/BLPmodule/gmm.jl:110)\n",
      "gradj[jj] = [0.0, 0.0]\n",
      "(in /users/facsupport/zhli/blp-quantities/BLPmodule/gmm.jl:110)\n",
      "gradj[jj] = [0.0, 0.0]\n",
      "(in /users/facsupport/zhli/blp-quantities/BLPmodule/gmm.jl:110)\n",
      "gradj[jj] = [0.0, 0.0]\n",
      "(in /users/facsupport/zhli/blp-quantities/BLPmodule/gmm.jl:110)\n",
      "gradj[jj] = [0.0, 0.0]\n",
      "(in /users/facsupport/zhli/blp-quantities/BLPmodule/gmm.jl:110)\n",
      "gradj[jj] = [0.0, 0.0]\n",
      "(in /users/facsupport/zhli/blp-quantities/BLPmodule/gmm.jl:110)\n",
      "gradj[jj] = [0.0, 0.0]\n",
      "(in /users/facsupport/zhli/blp-quantities/BLPmodule/gmm.jl:110)\n",
      "gradj[jj] = [0.0, 0.0]\n",
      "(in /users/facsupport/zhli/blp-quantities/BLPmodule/gmm.jl:110)\n",
      "gradj[jj] = [0.0, 0.0]\n",
      "(in /users/facsupport/zhli/blp-quantities/BLPmodule/gmm.jl:110)\n",
      "gradj[jj] = [0.0, 0.0]\n",
      "(in /users/facsupport/zhli/blp-quantities/BLPmodule/gmm.jl:110)\n",
      "gradj[jj] = [0.0, 0.0]\n",
      "(in /users/facsupport/zhli/blp-quantities/BLPmodule/gmm.jl:110)\n",
      "gradj[jj] = [0.0, 0.0]\n",
      "(in /users/facsupport/zhli/blp-quantities/BLPmodule/gmm.jl:110)\n",
      "gradj[jj] = [0.0, 0.0]\n",
      "(in /users/facsupport/zhli/blp-quantities/BLPmodule/gmm.jl:110)\n",
      "gradj[jj] = [0.0, 0.0]\n",
      "(in /users/facsupport/zhli/blp-quantities/BLPmodule/gmm.jl:110)\n",
      "gradj[jj] = [0.0, 0.0]\n",
      "(in /users/facsupport/zhli/blp-quantities/BLPmodule/gmm.jl:110)\n",
      "gradj[jj] = [0.0, 0.0]\n",
      "(in /users/facsupport/zhli/blp-quantities/BLPmodule/gmm.jl:110)\n",
      "gradj[jj] = [0.0, 0.0]\n",
      "(in /users/facsupport/zhli/blp-quantities/BLPmodule/gmm.jl:110)\n",
      "gradj[jj] = [0.0, 0.0]\n",
      "(in /users/facsupport/zhli/blp-quantities/BLPmodule/gmm.jl:110)\n",
      "gradj[jj] = [0.0, 0.0]\n",
      "(in /users/facsupport/zhli/blp-quantities/BLPmodule/gmm.jl:110)\n",
      "gradj[jj] = [0.0, 0.0]\n",
      "(in /users/facsupport/zhli/blp-quantities/BLPmodule/gmm.jl:110)\n",
      "gradj[jj] = [0.0, 0.0]\n",
      "(in /users/facsupport/zhli/blp-quantities/BLPmodule/gmm.jl:110)\n",
      "gradj[jj] = [0.0, 0.0]\n",
      "(in /users/facsupport/zhli/blp-quantities/BLPmodule/gmm.jl:110)\n",
      "gradj[jj] = [0.0, 0.0]\n",
      "(in /users/facsupport/zhli/blp-quantities/BLPmodule/gmm.jl:110)\n",
      "gradj[jj] = [0.0, 0.0]\n",
      "(in /users/facsupport/zhli/blp-quantities/BLPmodule/gmm.jl:110)\n",
      "gradj[jj] = [0.0, 0.0]\n",
      "(in /users/facsupport/zhli/blp-quantities/BLPmodule/gmm.jl:110)\n",
      "gradj[jj] = [0.0, 0.0]\n",
      "(in /users/facsupport/zhli/blp-quantities/BLPmodule/gmm.jl:110)\n",
      "gradj[jj] = [0.0, 0.0]\n",
      "(in /users/facsupport/zhli/blp-quantities/BLPmodule/gmm.jl:110)\n",
      "gradj[jj] = [0.0, 0.0]\n",
      "(in /users/facsupport/zhli/blp-quantities/BLPmodule/gmm.jl:110)\n",
      "gradj[jj] = [0.0, 0.0]\n",
      "(in /users/facsupport/zhli/blp-quantities/BLPmodule/gmm.jl:110)\n",
      "gradj[jj] = [0.0, 0.0]\n",
      "(in /users/facsupport/zhli/blp-quantities/BLPmodule/gmm.jl:110)\n",
      "gradj[jj] = [0.0, 0.0]\n",
      "(in /users/facsupport/zhli/blp-quantities/BLPmodule/gmm.jl:110)\n",
      "gradj[jj] = [0.0, 0.0]\n",
      "(in /users/facsupport/zhli/blp-quantities/BLPmodule/gmm.jl:110)\n",
      "gradj[jj] = [0.0, 0.0]\n",
      "(in /users/facsupport/zhli/blp-quantities/BLPmodule/gmm.jl:110)\n",
      "gradj[jj] = [0.0, 0.0]\n",
      "(in /users/facsupport/zhli/blp-quantities/BLPmodule/gmm.jl:110)\n",
      "gradj[jj] = [0.0, 0.0]\n",
      "(in /users/facsupport/zhli/blp-quantities/BLPmodule/gmm.jl:110)\n",
      "gradj[jj] = [0.0, 0.0]\n",
      "(in /users/facsupport/zhli/blp-quantities/BLPmodule/gmm.jl:110)\n",
      "gradj[jj] = [0.0, 0.0]\n",
      "(in /users/facsupport/zhli/blp-quantities/BLPmodule/gmm.jl:110)\n",
      "gradj[jj] = [0.0, 0.0]\n",
      "(in /users/facsupport/zhli/blp-quantities/BLPmodule/gmm.jl:110)\n",
      "gradj[jj] = [0.0, 0.0]\n",
      "(in /users/facsupport/zhli/blp-quantities/BLPmodule/gmm.jl:110)\n",
      "gradj[jj] = [0.0, 0.0]\n",
      "(in /users/facsupport/zhli/blp-quantities/BLPmodule/gmm.jl:110)\n",
      "gradj[jj] = [0.0, 0.0]\n",
      "(in /users/facsupport/zhli/blp-quantities/BLPmodule/gmm.jl:110)\n",
      "gradj[jj] = [0.0, 0.0]\n",
      "(in /users/facsupport/zhli/blp-quantities/BLPmodule/gmm.jl:110)\n",
      "gradj[jj] = [0.0, 0.0]\n",
      "(in /users/facsupport/zhli/blp-quantities/BLPmodule/gmm.jl:110)\n",
      "gradj[jj] = [0.0, 0.0]\n",
      "(in /users/facsupport/zhli/blp-quantities/BLPmodule/gmm.jl:110)\n",
      "gradj[jj] = [0.0, 0.0]\n",
      "(in /users/facsupport/zhli/blp-quantities/BLPmodule/gmm.jl:110)\n",
      "gradj[jj] = [0.0, 0.0]\n",
      "(in /users/facsupport/zhli/blp-quantities/BLPmodule/gmm.jl:110)\n",
      "gradj[jj] = [0.0, 0.0]\n",
      "(in /users/facsupport/zhli/blp-quantities/BLPmodule/gmm.jl:110)\n",
      "gradj[jj] = [0.0, 0.0]\n",
      "(in /users/facsupport/zhli/blp-quantities/BLPmodule/gmm.jl:110)\n",
      "gradj[jj] = [0.0, 0.0]\n",
      "(in /users/facsupport/zhli/blp-quantities/BLPmodule/gmm.jl:110)\n",
      "gradj[jj] = [0.0, 0.0]\n",
      "(in /users/facsupport/zhli/blp-quantities/BLPmodule/gmm.jl:110)\n",
      "gradj[jj] = [0.0, 0.0]\n",
      "(in /users/facsupport/zhli/blp-quantities/BLPmodule/gmm.jl:110)\n",
      "gradj[jj] = [0.0, 0.0]\n",
      "(in /users/facsupport/zhli/blp-quantities/BLPmodule/gmm.jl:110)\n",
      "gradj[jj] = [0.0, 0.0]\n",
      "(in /users/facsupport/zhli/blp-quantities/BLPmodule/gmm.jl:110)\n",
      "gradj[jj] = [0.0, 0.0]\n",
      "(in /users/facsupport/zhli/blp-quantities/BLPmodule/gmm.jl:110)\n",
      "gradj[jj] = [0.0, 0.0]\n",
      "(in /users/facsupport/zhli/blp-quantities/BLPmodule/gmm.jl:110)\n",
      "gradj[jj] = [0.0, 0.0]\n",
      "(in /users/facsupport/zhli/blp-quantities/BLPmodule/gmm.jl:110)\n",
      "gradj[jj] = [0.0, 0.0]\n",
      "(in /users/facsupport/zhli/blp-quantities/BLPmodule/gmm.jl:110)\n",
      "gradj[jj] = [0.0, 0.0]\n",
      "(in /users/facsupport/zhli/blp-quantities/BLPmodule/gmm.jl:110)\n",
      "gradj[jj] = [0.0, 0.0]\n",
      "(in /users/facsupport/zhli/blp-quantities/BLPmodule/gmm.jl:110)\n",
      "gradj[jj] = [0.0, 0.0]\n",
      "(in /users/facsupport/zhli/blp-quantities/BLPmodule/gmm.jl:110)\n",
      "gradj[jj] = [0.0, 0.0]\n",
      "(in /users/facsupport/zhli/blp-quantities/BLPmodule/gmm.jl:110)\n",
      "gradj[jj] = [0.0, 0.0]\n",
      "(in /users/facsupport/zhli/blp-quantities/BLPmodule/gmm.jl:110)\n",
      "gradj[jj] = [0.0, 0.0]\n",
      "(in /users/facsupport/zhli/blp-quantities/BLPmodule/gmm.jl:110)\n",
      "gradj[jj] = [0.0, 0.0]\n",
      "(in /users/facsupport/zhli/blp-quantities/BLPmodule/gmm.jl:110)\n",
      "gradj[jj] = [0.0, 0.0]\n",
      "(in /users/facsupport/zhli/blp-quantities/BLPmodule/gmm.jl:110)\n",
      "gradj[jj] = [0.0, 0.0]\n",
      "(in /users/facsupport/zhli/blp-quantities/BLPmodule/gmm.jl:110)\n",
      "gradj[jj] = [0.0, 0.0]\n",
      "(in /users/facsupport/zhli/blp-quantities/BLPmodule/gmm.jl:110)\n",
      "gradj[jj] = [0.0, 0.0]\n",
      "(in /users/facsupport/zhli/blp-quantities/BLPmodule/gmm.jl:110)\n",
      "gradj[jj] = [0.0, 0.0]\n",
      "(in /users/facsupport/zhli/blp-quantities/BLPmodule/gmm.jl:110)\n",
      "gradj[jj] = [0.0, 0.0]\n",
      "(in /users/facsupport/zhli/blp-quantities/BLPmodule/gmm.jl:110)\n",
      "gradj[jj] = [0.0, 0.0]\n",
      "(in /users/facsupport/zhli/blp-quantities/BLPmodule/gmm.jl:110)\n",
      "gradj[jj] = [0.0, 0.0]\n",
      "(in /users/facsupport/zhli/blp-quantities/BLPmodule/gmm.jl:110)\n",
      "gradj[jj] = [0.0, 0.0]\n",
      "(in /users/facsupport/zhli/blp-quantities/BLPmodule/gmm.jl:110)\n",
      "gradj[jj] = [0.0, 0.0]\n",
      "(in /users/facsupport/zhli/blp-quantities/BLPmodule/gmm.jl:"
     ]
    },
    {
     "name": "stdout",
     "output_type": "stream",
     "text": [
      "110)\n",
      "gradj[jj] = [0.0, 0.0]\n",
      "(in /users/facsupport/zhli/blp-quantities/BLPmodule/gmm.jl:110)\n",
      "gradj[jj] = [0.0, 0.0]\n",
      "(in /users/facsupport/zhli/blp-quantities/BLPmodule/gmm.jl:110)\n",
      "gradj[jj] = [0.0, 0.0]\n",
      "(in /users/facsupport/zhli/blp-quantities/BLPmodule/gmm.jl:110)\n",
      "gradj[jj] = [0.0, 0.0]\n",
      "(in /users/facsupport/zhli/blp-quantities/BLPmodule/gmm.jl:110)\n",
      "gradj[jj] = [0.0, 0.0]\n",
      "(in /users/facsupport/zhli/blp-quantities/BLPmodule/gmm.jl:110)\n",
      "gradj[jj] = [0.0, 0.0]\n",
      "(in /users/facsupport/zhli/blp-quantities/BLPmodule/gmm.jl:110)\n",
      "gradj[jj] = [0.0, 0.0]\n",
      "(in /users/facsupport/zhli/blp-quantities/BLPmodule/gmm.jl:110)\n",
      "gradj[jj] = [0.0, 0.0]\n",
      "(in /users/facsupport/zhli/blp-quantities/BLPmodule/gmm.jl:110)\n",
      "gradj[jj] = [0.0, 0.0]\n",
      "(in /users/facsupport/zhli/blp-quantities/BLPmodule/gmm.jl:110)\n",
      "gradj[jj] = [0.0, 0.0]\n",
      "(in /users/facsupport/zhli/blp-quantities/BLPmodule/gmm.jl:110)\n",
      "gradj[jj] = [0.0, 0.0]\n",
      "(in /users/facsupport/zhli/blp-quantities/BLPmodule/gmm.jl:110)\n",
      "gradj[jj] = [0.0, 0.0]\n",
      "(in /users/facsupport/zhli/blp-quantities/BLPmodule/gmm.jl:110)\n",
      "gradj[jj] = [0.0, 0.0]\n",
      "(in /users/facsupport/zhli/blp-quantities/BLPmodule/gmm.jl:110)\n",
      "gradj[jj] = [0.0, 0.0]\n",
      "(in /users/facsupport/zhli/blp-quantities/BLPmodule/gmm.jl:110)\n",
      "gradj[jj] = [0.0, 0.0]\n",
      "(in /users/facsupport/zhli/blp-quantities/BLPmodule/gmm.jl:110)\n",
      "gradj[jj] = [0.0, 0.0]\n",
      "(in /users/facsupport/zhli/blp-quantities/BLPmodule/gmm.jl:110)\n",
      "gradj[jj] = [0.0, 0.0]\n",
      "(in /users/facsupport/zhli/blp-quantities/BLPmodule/gmm.jl:110)\n",
      "gradj[jj] = [0.0, 0.0]\n",
      "(in /users/facsupport/zhli/blp-quantities/BLPmodule/gmm.jl:110)\n",
      "gradj[jj] = [0.0, 0.0]\n",
      "(in /users/facsupport/zhli/blp-quantities/BLPmodule/gmm.jl:110)\n",
      "gradj[jj] = [0.0, 0.0]\n",
      "(in /users/facsupport/zhli/blp-quantities/BLPmodule/gmm.jl:110)\n",
      "gradj[jj] = [0.0, 0.0]\n",
      "(in /users/facsupport/zhli/blp-quantities/BLPmodule/gmm.jl:110)\n",
      "gradj[jj] = [0.0, 0.0]\n",
      "(in /users/facsupport/zhli/blp-quantities/BLPmodule/gmm.jl:110)\n",
      "gradj[jj] = [0.0, 0.0]\n",
      "(in /users/facsupport/zhli/blp-quantities/BLPmodule/gmm.jl:110)\n",
      "gradj[jj] = [0.0, 0.0]\n",
      "(in /users/facsupport/zhli/blp-quantities/BLPmodule/gmm.jl:110)\n",
      "gradj[jj] = [0.0, 0.0]\n",
      "(in /users/facsupport/zhli/blp-quantities/BLPmodule/gmm.jl:110)\n",
      "gradj[jj] = [0.0, 0.0]\n",
      "(in /users/facsupport/zhli/blp-quantities/BLPmodule/gmm.jl:110)\n",
      "gradj[jj] = [0.0, 0.0]\n",
      "(in /users/facsupport/zhli/blp-quantities/BLPmodule/gmm.jl:110)\n",
      "gradj[jj] = [0.0, 0.0]\n",
      "(in /users/facsupport/zhli/blp-quantities/BLPmodule/gmm.jl:110)\n",
      "gradj[jj] = [0.0, 0.0]\n",
      "(in /users/facsupport/zhli/blp-quantities/BLPmodule/gmm.jl:110)\n",
      "gradj[jj] = [0.0, 0.0]\n",
      "(in /users/facsupport/zhli/blp-quantities/BLPmodule/gmm.jl:110)\n",
      "gradj[jj] = [0.0, 0.0]\n",
      "(in /users/facsupport/zhli/blp-quantities/BLPmodule/gmm.jl:110)\n",
      "gradj[jj] = [0.0, 0.0]\n",
      "(in /users/facsupport/zhli/blp-quantities/BLPmodule/gmm.jl:110)\n",
      "gradj[jj] = [0.0, 0.0]\n",
      "(in /users/facsupport/zhli/blp-quantities/BLPmodule/gmm.jl:110)\n",
      "gradj[jj] = [0.0, 0.0]\n",
      "(in /users/facsupport/zhli/blp-quantities/BLPmodule/gmm.jl:110)\n",
      "gradj[jj] = [0.0, 0.0]\n",
      "(in /users/facsupport/zhli/blp-quantities/BLPmodule/gmm.jl:110)\n",
      "gradj[jj] = [0.0, 0.0]\n",
      "(in /users/facsupport/zhli/blp-quantities/BLPmodule/gmm.jl:110)\n",
      "gradj[jj] = [0.0, 0.0]\n",
      "(in /users/facsupport/zhli/blp-quantities/BLPmodule/gmm.jl:110)\n",
      "gradj[jj] = [0.0, 0.0]\n",
      "(in /users/facsupport/zhli/blp-quantities/BLPmodule/gmm.jl:110)\n",
      "gradj[jj] = [0.0, 0.0]\n",
      "(in /users/facsupport/zhli/blp-quantities/BLPmodule/gmm.jl:110)\n",
      "gradj[jj] = [0.0, 0.0]\n",
      "(in /users/facsupport/zhli/blp-quantities/BLPmodule/gmm.jl:110)\n"
     ]
    },
    {
     "data": {
      "text/plain": [
       "2-element Vector{Float64}:\n",
       " 0.0\n",
       " 0.0"
      ]
     },
     "metadata": {},
     "output_type": "display_data"
    }
   ],
   "source": [
    "pars = deserialize(\"jls/pars.jls\");\n",
    "m.gmm_grad_alt([1.,1.], ec, pars, X1)"
   ]
  },
  {
   "cell_type": "code",
   "execution_count": 17,
   "metadata": {},
   "outputs": [
    {
     "name": "stdout",
     "output_type": "stream",
     "text": [
      "δ[1] = 0.0\n",
      "(in /mnt/staff/zhli/blp-quantities/BLPmodule/gmm.jl:79)\n"
     ]
    },
    {
     "name": "stdout",
     "output_type": "stream",
     "text": [
      "grad = [0.0; 0.0]\n",
      "(in /mnt/staff/zhli/blp-quantities/BLPmodule/gmm.jl:84)\n",
      "obj = 150.89460765482497\n",
      "(in /mnt/staff/zhli/blp-quantities/BLPmodule/gmm.jl:22)\n"
     ]
    },
    {
     "data": {
      "text/plain": [
       " * Status: success\n",
       "\n",
       " * Candidate solution\n",
       "    Final objective value:     1.508946e+02\n",
       "\n",
       " * Found with\n",
       "    Algorithm:     L-BFGS\n",
       "\n",
       " * Convergence measures\n",
       "    |x - x'|               = 0.00e+00 ≤ 0.0e+00\n",
       "    |x - x'|/|x'|          = 0.00e+00 ≤ 0.0e+00\n",
       "    |f(x) - f(x')|         = NaN ≰ 0.0e+00\n",
       "    |f(x) - f(x')|/|f(x')| = NaN ≰ 0.0e+00\n",
       "    |g(x)|                 = 0.00e+00 ≤ 1.0e-08\n",
       "\n",
       " * Work counters\n",
       "    Seconds run:   0  (vs limit Inf)\n",
       "    Iterations:    0\n",
       "    f(x) calls:    1\n",
       "    ∇f(x) calls:   1\n"
      ]
     },
     "metadata": {},
     "output_type": "display_data"
    }
   ],
   "source": [
    "initial_θ2 = [10.,20.]\n",
    "pars = deserialize(\"jls/pars.jls\");\n",
    "res = optimize(θ2 -> m.gmm_lm(θ2, ec, pars, X1), g!, initial_θ2, LBFGS())"
   ]
  },
  {
   "cell_type": "code",
   "execution_count": 15,
   "metadata": {},
   "outputs": [
    {
     "name": "stdout",
     "output_type": "stream",
     "text": [
      "θ2 = [1.0, 1.0]\n",
      "(in /mnt/staff/zhli/blp-quantities/BLPmodule/gmm.jl:11)\n",
      "θ1 = [-0.6906467099492097; -0.23862404002686533]\n",
      "(in /mnt/staff/zhli/blp-quantities/BLPmodule/gmm.jl:19)\n",
      "obj = 303.2455807486537\n",
      "(in /mnt/staff/zhli/blp-quantities/BLPmodule/gmm.jl:22)\n"
     ]
    },
    {
     "name": "stdout",
     "output_type": "stream",
     "text": [
      "θ2 = [-7.985913587649435, -2.118980246319886]\n",
      "(in /mnt/staff/zhli/blp-quantities/BLPmodule/gmm.jl:11)\n",
      "θ1 = [-0.8291268772894276; -0.24072463157591018]\n",
      "(in /mnt/staff/zhli/blp-quantities/BLPmodule/gmm.jl:19)\n",
      "obj = 399.67644347085337\n",
      "(in /mnt/staff/zhli/blp-quantities/BLPmodule/gmm.jl:22)\n"
     ]
    },
    {
     "name": "stdout",
     "output_type": "stream",
     "text": [
      "θ2 = [-3.4929567938247175, -0.559490123159943]\n",
      "(in /mnt/staff/zhli/blp-quantities/BLPmodule/gmm.jl:11)\n",
      "θ1 = [-0.8217679853456918; -0.2264794835658468]\n",
      "(in /mnt/staff/zhli/blp-quantities/BLPmodule/gmm.jl:19)\n",
      "obj = 391.9805397420546\n",
      "(in /mnt/staff/zhli/blp-quantities/BLPmodule/gmm.jl:22)\n"
     ]
    },
    {
     "name": "stdout",
     "output_type": "stream",
     "text": [
      "θ2 = [-1.2464783969123587, 0.22025493842002852]\n",
      "(in /mnt/staff/zhli/blp-quantities/BLPmodule/gmm.jl:11)\n",
      "θ1 = [-0.8188995655069673; -0.2229277626396532]\n",
      "(in /mnt/staff/zhli/blp-quantities/BLPmodule/gmm.jl:19)\n",
      "obj = 391.15435041142774\n",
      "(in /mnt/staff/zhli/blp-quantities/BLPmodule/gmm.jl:22)\n"
     ]
    },
    {
     "name": "stdout",
     "output_type": "stream",
     "text": [
      "θ2 = [-0.12323919845617937, 0.6101274692100143]\n",
      "(in /mnt/staff/zhli/blp-quantities/BLPmodule/gmm.jl:11)\n",
      "θ1 = [-0.8186407541413621; -0.2211988801349134]\n",
      "(in /mnt/staff/zhli/blp-quantities/BLPmodule/gmm.jl:19)\n",
      "obj = 392.5059495623277\n",
      "(in /mnt/staff/zhli/blp-quantities/BLPmodule/gmm.jl:22)\n"
     ]
    },
    {
     "name": "stdout",
     "output_type": "stream",
     "text": [
      "θ2 = [0.3570488422818944, 0.7768338254412438]\n",
      "(in /mnt/staff/zhli/blp-quantities/BLPmodule/gmm.jl:11)\n",
      "θ1 = [-0.8188165669460328; -0.2200146245194895]\n",
      "(in /mnt/staff/zhli/blp-quantities/BLPmodule/gmm.jl:19)\n",
      "obj = 393.9924931758216\n",
      "(in /mnt/staff/zhli/blp-quantities/BLPmodule/gmm.jl:22)\n"
     ]
    },
    {
     "name": "stdout",
     "output_type": "stream",
     "text": [
      "θ2 = [0.8596453177599543, 0.9512833639990835]\n",
      "(in /mnt/staff/zhli/blp-quantities/BLPmodule/gmm.jl:11)\n",
      "θ1 = [-0.8191518956893079; -0.21910348038930483]\n",
      "(in /mnt/staff/zhli/blp-quantities/BLPmodule/gmm.jl:19)\n",
      "obj = 395.3779247060183\n",
      "(in /mnt/staff/zhli/blp-quantities/BLPmodule/gmm.jl:22)\n"
     ]
    },
    {
     "name": "stdout",
     "output_type": "stream",
     "text": [
      "θ2 = [0.9814099131651712, 0.9935474436683995]\n",
      "(in /mnt/staff/zhli/blp-quantities/BLPmodule/gmm.jl:11)\n",
      "θ1 = [-0.8192898759578587; -0.21833732082327628]\n",
      "(in /mnt/staff/zhli/blp-quantities/BLPmodule/gmm.jl:19)\n",
      "obj = 396.4622931363402\n",
      "(in /mnt/staff/zhli/blp-quantities/BLPmodule/gmm.jl:22)\n"
     ]
    },
    {
     "name": "stdout",
     "output_type": "stream",
     "text": [
      "θ2 = [0.9977533399596846, 0.9992201918906085]\n",
      "(in /mnt/staff/zhli/blp-quantities/BLPmodule/gmm.jl:11)\n",
      "θ1 = [-0.8193363570468727; -0.21768781524788872]\n",
      "(in /mnt/staff/zhli/blp-quantities/BLPmodule/gmm.jl:19)\n",
      "obj = 397.3470004140032\n",
      "(in /mnt/staff/zhli/blp-quantities/BLPmodule/gmm.jl:22)\n"
     ]
    },
    {
     "name": "stdout",
     "output_type": "stream",
     "text": [
      "θ2 = [0.999731761004125, 0.9999068951508084]\n",
      "(in /mnt/staff/zhli/blp-quantities/BLPmodule/gmm.jl:11)\n",
      "θ1 = [-0.8193645838098523; -0.2171326211122545]\n",
      "(in /mnt/staff/zhli/blp-quantities/BLPmodule/gmm.jl:19)\n",
      "obj = 398.1050749799539\n",
      "(in /mnt/staff/zhli/blp-quantities/BLPmodule/gmm.jl:22)\n"
     ]
    },
    {
     "name": "stdout",
     "output_type": "stream",
     "text": [
      "θ2 = [0.9999680312602982, 0.9999889037584596]\n",
      "(in /mnt/staff/zhli/blp-quantities/BLPmodule/gmm.jl:11)\n",
      "θ1 = [-0.8193877448912648; -0.2166512082417803]\n",
      "(in /mnt/staff/zhli/blp-quantities/BLPmodule/gmm.jl:19)\n",
      "obj = 398.7653625049258\n",
      "(in /mnt/staff/zhli/blp-quantities/BLPmodule/gmm.jl:22)\n"
     ]
    },
    {
     "name": "stdout",
     "output_type": "stream",
     "text": [
      "θ2 = [0.9999961918791519, 0.9999986782141198]\n",
      "(in /mnt/staff/zhli/blp-quantities/BLPmodule/gmm.jl:11)\n",
      "θ1 = [-0.8194080486233928; -0.21622945040153152]\n",
      "(in /mnt/staff/zhli/blp-quantities/BLPmodule/gmm.jl:19)\n",
      "obj = 399.3458723574787\n",
      "(in /mnt/staff/zhli/blp-quantities/BLPmodule/gmm.jl:22)\n"
     ]
    },
    {
     "name": "stdout",
     "output_type": "stream",
     "text": [
      "θ2 = [0.9999995465165856, 0.999999842597439]\n",
      "(in /mnt/staff/zhli/blp-quantities/BLPmodule/gmm.jl:11)\n",
      "θ1 = [-0.8194261090647132; -0.2158570738579867]\n",
      "(in /mnt/staff/zhli/blp-quantities/BLPmodule/gmm.jl:19)\n",
      "obj = 399.86003797311054\n",
      "(in /mnt/staff/zhli/blp-quantities/BLPmodule/gmm.jl:22)\n"
     ]
    },
    {
     "name": "stdout",
     "output_type": "stream",
     "text": [
      "θ2 = [0.9999999460115088, 0.999999981260777]\n",
      "(in /mnt/staff/zhli/blp-quantities/BLPmodule/gmm.jl:11)\n",
      "θ1 = [-0.8194422658169449; -0.21552623749472744]\n",
      "(in /mnt/staff/zhli/blp-quantities/BLPmodule/gmm.jl:19)\n",
      "obj = 400.3182708973455\n",
      "(in /mnt/staff/zhli/blp-quantities/BLPmodule/gmm.jl:22)\n"
     ]
    },
    {
     "name": "stdout",
     "output_type": "stream",
     "text": [
      "θ2 = [0.9999999935739493, 0.9999999977695395]\n",
      "(in /mnt/staff/zhli/blp-quantities/BLPmodule/gmm.jl:11)\n",
      "θ1 = [-0.8194567745540525; -0.21523078158012143]\n",
      "(in /mnt/staff/zhli/blp-quantities/BLPmodule/gmm.jl:19)\n",
      "obj = 400.72878200716764\n",
      "(in /mnt/staff/zhli/blp-quantities/BLPmodule/gmm.jl:22)\n"
     ]
    },
    {
     "name": "stdout",
     "output_type": "stream",
     "text": [
      "θ2 = [0.9999999992352819, 0.9999999997345689]\n",
      "(in /mnt/staff/zhli/blp-quantities/BLPmodule/gmm.jl:11)\n",
      "θ1 = [-0.8194698440024399; -0.21496576874733142]\n",
      "(in /mnt/staff/zhli/blp-quantities/BLPmodule/gmm.jl:19)\n",
      "obj = 401.0981471661227\n",
      "(in /mnt/staff/zhli/blp-quantities/BLPmodule/gmm.jl:22)\n"
     ]
    },
    {
     "name": "stdout",
     "output_type": "stream",
     "text": [
      "θ2 = [0.9999999999090124, 0.9999999999684185]\n",
      "(in /mnt/staff/zhli/blp-quantities/BLPmodule/gmm.jl:11)\n",
      "θ1 = [-0.8194816488498884; -0.214727177529494]\n",
      "(in /mnt/staff/zhli/blp-quantities/BLPmodule/gmm.jl:19)\n",
      "obj = 401.4317114611419\n",
      "(in /mnt/staff/zhli/blp-quantities/BLPmodule/gmm.jl:22)\n"
     ]
    },
    {
     "name": "stdout",
     "output_type": "stream",
     "text": [
      "θ2 = [0.9999999999891759, 0.999999999996243]\n",
      "(in /mnt/staff/zhli/blp-quantities/BLPmodule/gmm.jl:11)\n",
      "θ1 = [-0.8194923370911087; -0.2145116876996429]\n",
      "(in /mnt/staff/zhli/blp-quantities/BLPmodule/gmm.jl:19)\n",
      "obj = 401.73388044961143\n",
      "(in /mnt/staff/zhli/blp-quantities/BLPmodule/gmm.jl:22)\n"
     ]
    },
    {
     "name": "stdout",
     "output_type": "stream",
     "text": [
      "θ2 = [0.9999999999987125, 0.9999999999995531]\n",
      "(in /mnt/staff/zhli/blp-quantities/BLPmodule/gmm.jl:11)\n",
      "θ1 = [-0.81950203516772; -0.21431652538425816]\n",
      "(in /mnt/staff/zhli/blp-quantities/BLPmodule/gmm.jl:19)\n",
      "obj = 402.0083319393651\n",
      "(in /mnt/staff/zhli/blp-quantities/BLPmodule/gmm.jl:22)\n"
     ]
    },
    {
     "name": "stdout",
     "output_type": "stream",
     "text": [
      "θ2 = [0.9999999999998469, 0.9999999999999468]\n",
      "(in /mnt/staff/zhli/blp-quantities/BLPmodule/gmm.jl:11)\n",
      "θ1 = [-0.8195108518444395; -0.21413934887612307]\n",
      "(in /mnt/staff/zhli/blp-quantities/BLPmodule/gmm.jl:19)\n",
      "obj = 402.25817175438056\n",
      "(in /mnt/staff/zhli/blp-quantities/BLPmodule/gmm.jl:22)\n"
     ]
    },
    {
     "name": "stdout",
     "output_type": "stream",
     "text": [
      "θ2 = [0.9999999999999818, 0.9999999999999937]\n",
      "(in /mnt/staff/zhli/blp-quantities/BLPmodule/gmm.jl:11)\n",
      "θ1 = [-0.819518881232087; -0.21397816296919503]\n",
      "(in /mnt/staff/zhli/blp-quantities/BLPmodule/gmm.jl:19)\n",
      "obj = 402.48604975468714\n",
      "(in /mnt/staff/zhli/blp-quantities/BLPmodule/gmm.jl:22)\n"
     ]
    },
    {
     "name": "stdout",
     "output_type": "stream",
     "text": [
      "θ2 = [0.9999999999999978, 0.9999999999999992]\n",
      "(in /mnt/staff/zhli/blp-quantities/BLPmodule/gmm.jl:11)\n",
      "θ1 = [-0.8195262051911228; -0.21383125370650624]\n",
      "(in /mnt/staff/zhli/blp-quantities/BLPmodule/gmm.jl:19)\n",
      "obj = 402.6942473938014\n",
      "(in /mnt/staff/zhli/blp-quantities/BLPmodule/gmm.jl:22)\n"
     ]
    },
    {
     "name": "stdout",
     "output_type": "stream",
     "text": [
      "θ2 = [0.9999999999999998, 0.9999999999999999]\n",
      "(in /mnt/staff/zhli/blp-quantities/BLPmodule/gmm.jl:11)\n",
      "θ1 = [-0.819532895267828; -0.21369713798716572]\n",
      "(in /mnt/staff/zhli/blp-quantities/BLPmodule/gmm.jl:19)\n",
      "obj = 402.884744680087\n",
      "(in /mnt/staff/zhli/blp-quantities/BLPmodule/gmm.jl:22)\n"
     ]
    },
    {
     "name": "stdout",
     "output_type": "stream",
     "text": [
      "θ2 = [1.0, 1.0]\n",
      "(in /mnt/staff/zhli/blp-quantities/BLPmodule/gmm.jl:11)\n",
      "θ1 = [-0.8195390142695097; -0.21357452414933598]\n",
      "(in /mnt/staff/zhli/blp-quantities/BLPmodule/gmm.jl:19)\n",
      "obj = 403.0592720680424\n",
      "(in /mnt/staff/zhli/blp-quantities/BLPmodule/gmm.jl:22)\n"
     ]
    },
    {
     "data": {
      "text/plain": [
       " * Status: failure (line search failed)\n",
       "\n",
       " * Candidate solution\n",
       "    Final objective value:     4.030593e+02\n",
       "\n",
       " * Found with\n",
       "    Algorithm:     L-BFGS\n",
       "\n",
       " * Convergence measures\n",
       "    |x - x'|               = 0.00e+00 ≤ 0.0e+00\n",
       "    |x - x'|/|x'|          = 0.00e+00 ≤ 0.0e+00\n",
       "    |f(x) - f(x')|         = 9.98e+01 ≰ 0.0e+00\n",
       "    |f(x) - f(x')|/|f(x')| = 2.48e-01 ≰ 0.0e+00\n",
       "    |g(x)|                 = 7.74e+01 ≰ 1.0e-08\n",
       "\n",
       " * Work counters\n",
       "    Seconds run:   0  (vs limit Inf)\n",
       "    Iterations:    1\n",
       "    f(x) calls:    24\n",
       "    ∇f(x) calls:   24\n"
      ]
     },
     "metadata": {},
     "output_type": "display_data"
    }
   ],
   "source": [
    "initial_θ2 = [1.,1.]\n",
    "\n",
    "pars = deserialize(\"jls/pars.jls\");\n",
    "res = optimize(θ2 -> m.gmm_lm(θ2, ec, pars, X1), g!, initial_θ2, LBFGS())"
   ]
  },
  {
   "cell_type": "code",
   "execution_count": 18,
   "metadata": {},
   "outputs": [
    {
     "data": {
      "text/plain": [
       "(2, 2)"
      ]
     },
     "metadata": {},
     "output_type": "display_data"
    }
   ],
   "source": [
    "size(inv(X1' * X1))"
   ]
  },
  {
   "cell_type": "code",
   "execution_count": 12,
   "metadata": {},
   "outputs": [],
   "source": []
  },
  {
   "cell_type": "code",
   "execution_count": 15,
   "metadata": {},
   "outputs": [
    {
     "name": "stdout",
     "output_type": "stream",
     "text": [
      "[2.0, 3.0]\n",
      "[2.0, 3.0]\n"
     ]
    }
   ],
   "source": [
    "println(Optim.minimizer(res))\n",
    "println(Optim.initial_state(res))"
   ]
  },
  {
   "cell_type": "code",
   "execution_count": 52,
   "metadata": {},
   "outputs": [],
   "source": [
    "\n"
   ]
  },
  {
   "cell_type": "markdown",
   "metadata": {},
   "source": [
    "---"
   ]
  }
 ],
 "metadata": {
  "kernelspec": {
   "display_name": "Julia 1.6.1",
   "language": "julia",
   "name": "julia-1.6"
  },
  "language_info": {
   "file_extension": ".jl",
   "mimetype": "application/julia",
   "name": "julia",
   "version": "1.6.1"
  },
  "orig_nbformat": 4,
  "vscode": {
   "interpreter": {
    "hash": "8f874cb96a7fdce6260903239cd4ccff59f9cd40f07ae8042efeb94d5942b24b"
   }
  }
 },
 "nbformat": 4,
 "nbformat_minor": 2
}
