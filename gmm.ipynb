{
 "cells": [
  {
   "cell_type": "code",
   "execution_count": 2,
   "metadata": {},
   "outputs": [
    {
     "name": "stderr",
     "output_type": "stream",
     "text": [
      "┌ Info: Precompiling BLPmodule [top-level]\n",
      "└ @ Base loading.jl:1317\n"
     ]
    }
   ],
   "source": [
    "using DataFrames, DataFramesMeta, LinearAlgebra, Distributions, Optim, Revise, Plots, CSV\n",
    "using JuMP, Ipopt\n",
    "string(@__DIR__) in LOAD_PATH || push!(LOAD_PATH, @__DIR__)\n",
    "using BLPmodule; const m = BLPmodule;"
   ]
  },
  {
   "cell_type": "code",
   "execution_count": null,
   "metadata": {},
   "outputs": [],
   "source": []
  },
  {
   "cell_type": "code",
   "execution_count": null,
   "metadata": {},
   "outputs": [],
   "source": [
    "m.gmm(β, dfj.s, X, Z, ζ)\n",
    "\n",
    "(X' * X )*( X'  * deltas)\n",
    "# model = Model(Ipopt.Optimizer)\n",
    "# @variable(model, β)\n",
    "# @NLobjective(model, Min, m.gmm(β, dfj.s, X, Z, ζ))\n",
    "\n",
    "---\n",
    "# this is messed up\n",
    "# model = Model(Ipopt.Optimizer)\n",
    "# @variable(model, β)\n",
    "# register(model, :g, 1, m.gmm, m.grad, autodiff = true)\n",
    "# @NLobjective(model, Min, (s, X, Z, ζ))\n",
    "# optimize!(model)\n",
    "# solution_summary(model; verbose = true)"
   ]
  }
 ],
 "metadata": {
  "kernelspec": {
   "display_name": "Julia 1.6.1",
   "language": "julia",
   "name": "julia-1.6"
  },
  "language_info": {
   "file_extension": ".jl",
   "mimetype": "application/julia",
   "name": "julia",
   "version": "1.6.1"
  },
  "orig_nbformat": 4,
  "vscode": {
   "interpreter": {
    "hash": "8f874cb96a7fdce6260903239cd4ccff59f9cd40f07ae8042efeb94d5942b24b"
   }
  }
 },
 "nbformat": 4,
 "nbformat_minor": 2
}
