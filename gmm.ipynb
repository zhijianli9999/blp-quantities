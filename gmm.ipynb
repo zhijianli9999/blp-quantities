{
 "cells": [
  {
   "cell_type": "code",
   "execution_count": 1,
   "metadata": {},
   "outputs": [],
   "source": [
    "using DataFrames, Optim, Revise, Serialization, DebuggingUtilities"
   ]
  },
  {
   "cell_type": "code",
   "execution_count": 2,
   "metadata": {},
   "outputs": [],
   "source": [
    "string(@__DIR__) in LOAD_PATH || push!(LOAD_PATH, @__DIR__);\n",
    "using BLPmodule; const m = BLPmodule;"
   ]
  },
  {
   "cell_type": "code",
   "execution_count": 3,
   "metadata": {},
   "outputs": [],
   "source": [
    "# df = deserialize(\"jls/df.jls\");\n",
    "pars = deserialize(\"jls/pars.jls\");\n",
    "ec = deserialize(\"jls/ec.jls\");"
   ]
  },
  {
   "cell_type": "markdown",
   "metadata": {},
   "source": [
    "---"
   ]
  },
  {
   "cell_type": "code",
   "execution_count": 4,
   "metadata": {},
   "outputs": [],
   "source": [
    "# linear characteristics (staffing variables):\n",
    "X1 = vcat(transpose.([ec.firms[i].X for i in eachindex(ec.firms)])...)\n",
    "Z = X1;"
   ]
  },
  {
   "cell_type": "code",
   "execution_count": 34,
   "metadata": {},
   "outputs": [
    {
     "name": "stdout",
     "output_type": "stream",
     "text": [
      "(ec.tracts[1]).shares = [1.0; 1.0]\n",
      "(in /users/facsupport/zhli/blp-quantities/BLPmodule/gmm.jl:14)\n"
     ]
    },
    {
     "name": "stdout",
     "output_type": "stream",
     "text": [
      "(ec.tracts[1]).shares = [0.022796195884203563; 0.029423280902398825]\n",
      "(in /users/facsupport/zhli/blp-quantities/BLPmodule/gmm.jl:18)\n"
     ]
    }
   ],
   "source": [
    "# gmm\n",
    "ec = deserialize(\"jls/ec.jls\");\n",
    "pars = deserialize(\"jls/pars.jls\");\n",
    "m.gmm_lm([10.,10.], ec, pars, X1);\n"
   ]
  },
  {
   "cell_type": "code",
   "execution_count": 36,
   "metadata": {},
   "outputs": [
    {
     "name": "stdout",
     "output_type": "stream",
     "text": [
      "(ec.tracts[1]).shares = [0.022796195884203563; 0.029423280902398825]\n",
      "(in /users/facsupport/zhli/blp-quantities/BLPmodule/gmm.jl:89)\n",
      "(ec.tracts[1]).shares = [0.022796195884203563; 0.029423280902398825]\n",
      "(in /users/facsupport/zhli/blp-quantities/BLPmodule/gmm.jl:32)\n",
      "0.022796195884203563\n",
      "grad = "
     ]
    },
    {
     "name": "stdout",
     "output_type": "stream",
     "text": [
      "[576.4668194822012, 4.727962279015691]\n"
     ]
    },
    {
     "data": {
      "text/plain": [
       "2-element Vector{Float64}:\n",
       " 576.4668194822012\n",
       "   4.727962279015691"
      ]
     },
     "metadata": {},
     "output_type": "display_data"
    }
   ],
   "source": [
    "# analytic gradient\n",
    "m.gmm_grad([1.,1.], ec, pars, X1)\n"
   ]
  },
  {
   "cell_type": "code",
   "execution_count": 26,
   "metadata": {},
   "outputs": [
    {
     "name": "stdout",
     "output_type": "stream",
     "text": [
      "θ2 = [1.0, 1.0]\n"
     ]
    },
    {
     "name": "stdout",
     "output_type": "stream",
     "text": [
      "θ2 = [1.00001, 1.0]\n"
     ]
    },
    {
     "name": "stdout",
     "output_type": "stream",
     "text": [
      "θ2 = [1.0, 1.00001]\n"
     ]
    },
    {
     "data": {
      "text/plain": [
       "2-element Vector{Float64}:\n",
       " 1.0250903414998902\n",
       " 0.005594466756519977"
      ]
     },
     "metadata": {},
     "output_type": "display_data"
    }
   ],
   "source": [
    "# finite diff\n",
    "m.grad_diff([1.,1.], ec, pars, X1)"
   ]
  },
  {
   "cell_type": "markdown",
   "metadata": {},
   "source": [
    "---"
   ]
  },
  {
   "cell_type": "code",
   "execution_count": 13,
   "metadata": {},
   "outputs": [
    {
     "data": {
      "text/plain": [
       "g! (generic function with 1 method)"
      ]
     },
     "metadata": {},
     "output_type": "display_data"
    }
   ],
   "source": [
    "function g!(θ2::Array, storage::Array)\n",
    "    storage .= m.gmm_grad(θ2, ec, pars, X1)\n",
    "    return nothing\n",
    "end\n"
   ]
  },
  {
   "cell_type": "code",
   "execution_count": 15,
   "metadata": {},
   "outputs": [
    {
     "name": "stdout",
     "output_type": "stream",
     "text": [
      "(ec.tracts[1]).shares = [1.0; 1.0]\n",
      "(in /users/facsupport/zhli/blp-quantities/BLPmodule/gmm.jl:32)\n",
      "1.0\n",
      "grad = "
     ]
    },
    {
     "name": "stdout",
     "output_type": "stream",
     "text": [
      "[-1.0591817693673309, 0.009508595725479364]\n"
     ]
    },
    {
     "data": {
      "text/plain": [
       " * Status: failure\n",
       "\n",
       " * Candidate solution\n",
       "    Final objective value:     4.050715e+02\n",
       "\n",
       " * Found with\n",
       "    Algorithm:     L-BFGS\n",
       "\n",
       " * Convergence measures\n",
       "    |x - x'|               = 0.00e+00 ≤ 0.0e+00\n",
       "    |x - x'|/|x'|          = 0.00e+00 ≤ 0.0e+00\n",
       "    |f(x) - f(x')|         = NaN ≰ 0.0e+00\n",
       "    |f(x) - f(x')|/|f(x')| = NaN ≰ 0.0e+00\n",
       "    |g(x)|                 = NaN ≰ 1.0e-08\n",
       "\n",
       " * Work counters\n",
       "    Seconds run:   0  (vs limit Inf)\n",
       "    Iterations:    0\n",
       "    f(x) calls:    1\n",
       "    ∇f(x) calls:   1\n"
      ]
     },
     "metadata": {},
     "output_type": "display_data"
    }
   ],
   "source": [
    "# optim with analytic gradient\n",
    "initial_θ2 = [1.,2.]\n",
    "pars = deserialize(\"jls/pars.jls\");\n",
    "ec = deserialize(\"jls/ec.jls\");\n",
    "res = optimize(θ2 -> m.gmm_lm(θ2, ec, pars, X1), g!, initial_θ2, LBFGS())\n"
   ]
  },
  {
   "cell_type": "code",
   "execution_count": 7,
   "metadata": {},
   "outputs": [
    {
     "name": "stdout",
     "output_type": "stream",
     "text": [
      "(ec.tracts[1]).shares = [1.0; 1.0]\n",
      "(in /users/facsupport/zhli/blp-quantities/BLPmodule/gmm.jl:14)\n"
     ]
    },
    {
     "ename": "MethodError",
     "evalue": "MethodError: no method matching Float64(::ForwardDiff.Dual{ForwardDiff.Tag{var\"#13#14\", Float64}, Float64, 2})\nClosest candidates are:\n  (::Type{T})(::Real, !Matched::RoundingMode) where T<:AbstractFloat at rounding.jl:200\n  (::Type{T})(::T) where T<:Number at boot.jl:760\n  (::Type{T})(!Matched::AbstractChar) where T<:Union{AbstractChar, Number} at char.jl:50\n  ...",
     "output_type": "error",
     "traceback": [
      "MethodError: no method matching Float64(::ForwardDiff.Dual{ForwardDiff.Tag{var\"#13#14\", Float64}, Float64, 2})\n",
      "Closest candidates are:\n",
      "  (::Type{T})(::Real, !Matched::RoundingMode) where T<:AbstractFloat at rounding.jl:200\n",
      "  (::Type{T})(::T) where T<:Number at boot.jl:760\n",
      "  (::Type{T})(!Matched::AbstractChar) where T<:Union{AbstractChar, Number} at char.jl:50\n",
      "  ...\n",
      "\n",
      "Stacktrace:\n",
      "  [1] convert(#unused#::Type{Float64}, x::ForwardDiff.Dual{ForwardDiff.Tag{var\"#13#14\", Float64}, Float64, 2})\n",
      "    @ Base ./number.jl:7\n",
      "  [2] setindex!(A::Matrix{Float64}, x::ForwardDiff.Dual{ForwardDiff.Tag{var\"#13#14\", Float64}, Float64, 2}, i1::Int64)\n",
      "    @ Base ./array.jl:839\n",
      "  [3] _unsafe_copyto!(dest::Matrix{Float64}, doffs::Int64, src::Matrix{ForwardDiff.Dual{ForwardDiff.Tag{var\"#13#14\", Float64}, Float64, 2}}, soffs::Int64, n::Int64)\n",
      "    @ Base ./array.jl:235\n",
      "  [4] unsafe_copyto!\n",
      "    @ ./array.jl:289 [inlined]\n",
      "  [5] _copyto_impl!\n",
      "    @ ./array.jl:313 [inlined]\n",
      "  [6] copyto!\n",
      "    @ ./array.jl:299 [inlined]\n",
      "  [7] copyto!\n",
      "    @ ./array.jl:325 [inlined]\n",
      "  [8] copyto!\n",
      "    @ ./broadcast.jl:977 [inlined]\n",
      "  [9] copyto!\n",
      "    @ ./broadcast.jl:936 [inlined]\n",
      " [10] materialize!\n",
      "    @ ./broadcast.jl:894 [inlined]\n",
      " [11] materialize!\n",
      "    @ ./broadcast.jl:891 [inlined]\n",
      " [12] compute_deltas(ec::BLPmodule.Economy, pars::BLPmodule.EconomyPars, σ::Vector{ForwardDiff.Dual{ForwardDiff.Tag{var\"#13#14\", Float64}, Float64, 2}}; max_iter::Int64, tol::Float64, verbose::Bool)\n",
      "    @ BLPmodule ~/blp-quantities/BLPmodule/solve.jl:48\n",
      " [13] gmm_lm(θ2::Vector{ForwardDiff.Dual{ForwardDiff.Tag{var\"#13#14\", Float64}, Float64, 2}}, ec::BLPmodule.Economy, pars::BLPmodule.EconomyPars, X::Matrix{Float64}, tol::Float64)\n",
      "    @ BLPmodule ~/blp-quantities/BLPmodule/gmm.jl:16\n",
      " [14] gmm_lm\n",
      "    @ ~/blp-quantities/BLPmodule/gmm.jl:14 [inlined]\n",
      " [15] (::var\"#13#14\")(θ2::Vector{ForwardDiff.Dual{ForwardDiff.Tag{var\"#13#14\", Float64}, Float64, 2}})\n",
      "    @ Main ~/blp-quantities/gmm.ipynb:4\n",
      " [16] vector_mode_dual_eval!\n",
      "    @ ~/.julia/packages/ForwardDiff/eqMFf/src/apiutils.jl:37 [inlined]\n",
      " [17] vector_mode_gradient!(result::DiffResults.MutableDiffResult{1, Float64, Tuple{Vector{Float64}}}, f::var\"#13#14\", x::Vector{Float64}, cfg::ForwardDiff.GradientConfig{ForwardDiff.Tag{var\"#13#14\", Float64}, Float64, 2, Vector{ForwardDiff.Dual{ForwardDiff.Tag{var\"#13#14\", Float64}, Float64, 2}}})\n",
      "    @ ForwardDiff ~/.julia/packages/ForwardDiff/eqMFf/src/gradient.jl:113\n",
      " [18] gradient!\n",
      "    @ ~/.julia/packages/ForwardDiff/eqMFf/src/gradient.jl:37 [inlined]\n",
      " [19] gradient!\n",
      "    @ ~/.julia/packages/ForwardDiff/eqMFf/src/gradient.jl:35 [inlined]\n",
      " [20] (::NLSolversBase.var\"#14#18\"{Float64, var\"#13#14\", ForwardDiff.GradientConfig{ForwardDiff.Tag{var\"#13#14\", Float64}, Float64, 2, Vector{ForwardDiff.Dual{ForwardDiff.Tag{var\"#13#14\", Float64}, Float64, 2}}}})(out::Vector{Float64}, x::Vector{Float64})\n",
      "    @ NLSolversBase ~/.julia/packages/NLSolversBase/kavn7/src/objective_types/oncedifferentiable.jl:70\n",
      " [21] value_gradient!!(obj::OnceDifferentiable{Float64, Vector{Float64}, Vector{Float64}}, x::Vector{Float64})\n",
      "    @ NLSolversBase ~/.julia/packages/NLSolversBase/kavn7/src/interface.jl:82\n",
      " [22] initial_state(method::LBFGS{Nothing, LineSearches.InitialStatic{Float64}, LineSearches.HagerZhang{Float64, Base.RefValue{Bool}}, Optim.var\"#19#21\"}, options::Optim.Options{Float64, Nothing}, d::OnceDifferentiable{Float64, Vector{Float64}, Vector{Float64}}, initial_x::Vector{Float64})\n",
      "    @ Optim ~/.julia/packages/Optim/Zq1jM/src/multivariate/solvers/first_order/l_bfgs.jl:164\n",
      " [23] optimize\n",
      "    @ ~/.julia/packages/Optim/Zq1jM/src/multivariate/optimize/optimize.jl:36 [inlined]\n",
      " [24] #optimize#89\n",
      "    @ ~/.julia/packages/Optim/Zq1jM/src/multivariate/optimize/interface.jl:142 [inlined]\n",
      " [25] top-level scope\n",
      "    @ ~/blp-quantities/gmm.ipynb:4"
     ]
    }
   ],
   "source": [
    "# optim with autodiff\n",
    "initial_θ2 = [1.,1.]\n",
    "pars = deserialize(\"jls/pars.jls\");\n",
    "ec = deserialize(\"jls/ec.jls\");\n",
    "res = optimize(θ2 -> m.gmm_lm(θ2, ec, pars, X1), initial_θ2, LBFGS(); autodiff = :forward)\n"
   ]
  },
  {
   "cell_type": "code",
   "execution_count": 12,
   "metadata": {},
   "outputs": [
    {
     "ename": "AssertionError",
     "evalue": "AssertionError: B > A",
     "output_type": "error",
     "traceback": [
      "AssertionError: B > A\n",
      "\n",
      "Stacktrace:\n",
      " [1] (::LineSearches.HagerZhang{Float64, Base.RefValue{Bool}})(ϕ::Function, ϕdϕ::LineSearches.var\"#ϕdϕ#6\"{Optim.ManifoldObjective{OnceDifferentiable{Float64, Vector{Float64}, Vector{Float64}}}, Vector{Float64}, Vector{Float64}, Vector{Float64}}, c::Float64, phi_0::Float64, dphi_0::Float64)\n",
      "   @ LineSearches ~/.julia/packages/LineSearches/G1LRk/src/hagerzhang.jl:276\n",
      " [2] HagerZhang\n",
      "   @ ~/.julia/packages/LineSearches/G1LRk/src/hagerzhang.jl:101 [inlined]\n",
      " [3] perform_linesearch!(state::Optim.LBFGSState{Vector{Float64}, Vector{Vector{Float64}}, Vector{Vector{Float64}}, Float64, Vector{Float64}}, method::LBFGS{Nothing, LineSearches.InitialStatic{Float64}, LineSearches.HagerZhang{Float64, Base.RefValue{Bool}}, Optim.var\"#19#21\"}, d::Optim.ManifoldObjective{OnceDifferentiable{Float64, Vector{Float64}, Vector{Float64}}})\n",
      "   @ Optim ~/.julia/packages/Optim/Zq1jM/src/utilities/perform_linesearch.jl:59\n",
      " [4] update_state!(d::OnceDifferentiable{Float64, Vector{Float64}, Vector{Float64}}, state::Optim.LBFGSState{Vector{Float64}, Vector{Vector{Float64}}, Vector{Vector{Float64}}, Float64, Vector{Float64}}, method::LBFGS{Nothing, LineSearches.InitialStatic{Float64}, LineSearches.HagerZhang{Float64, Base.RefValue{Bool}}, Optim.var\"#19#21\"})\n",
      "   @ Optim ~/.julia/packages/Optim/Zq1jM/src/multivariate/solvers/first_order/l_bfgs.jl:204\n",
      " [5] optimize(d::OnceDifferentiable{Float64, Vector{Float64}, Vector{Float64}}, initial_x::Vector{Float64}, method::LBFGS{Nothing, LineSearches.InitialStatic{Float64}, LineSearches.HagerZhang{Float64, Base.RefValue{Bool}}, Optim.var\"#19#21\"}, options::Optim.Options{Float64, Nothing}, state::Optim.LBFGSState{Vector{Float64}, Vector{Vector{Float64}}, Vector{Vector{Float64}}, Float64, Vector{Float64}})\n",
      "   @ Optim ~/.julia/packages/Optim/Zq1jM/src/multivariate/optimize/optimize.jl:54\n",
      " [6] optimize\n",
      "   @ ~/.julia/packages/Optim/Zq1jM/src/multivariate/optimize/optimize.jl:36 [inlined]\n",
      " [7] #optimize#89\n",
      "   @ ~/.julia/packages/Optim/Zq1jM/src/multivariate/optimize/interface.jl:142 [inlined]\n",
      " [8] optimize(f::Function, initial_x::Vector{Float64}, method::LBFGS{Nothing, LineSearches.InitialStatic{Float64}, LineSearches.HagerZhang{Float64, Base.RefValue{Bool}}, Optim.var\"#19#21\"}, options::Optim.Options{Float64, Nothing}) (repeats 2 times)\n",
      "   @ Optim ~/.julia/packages/Optim/Zq1jM/src/multivariate/optimize/interface.jl:141\n",
      " [9] top-level scope\n",
      "   @ ~/blp-quantities/gmm.ipynb:5"
     ]
    }
   ],
   "source": [
    "# optim with finite diff\n",
    "initial_θ2 = [1.,1.]\n",
    "pars = deserialize(\"jls/pars.jls\");\n",
    "ec = deserialize(\"jls/ec.jls\");\n",
    "res = optimize(θ2 -> m.gmm_lm(θ2, ec, pars, X1), initial_θ2, LBFGS())\n"
   ]
  },
  {
   "cell_type": "code",
   "execution_count": null,
   "metadata": {},
   "outputs": [],
   "source": []
  },
  {
   "cell_type": "markdown",
   "metadata": {},
   "source": [
    "---"
   ]
  },
  {
   "cell_type": "markdown",
   "metadata": {},
   "source": [
    "---"
   ]
  }
 ],
 "metadata": {
  "kernelspec": {
   "display_name": "Julia 1.6.1",
   "language": "julia",
   "name": "julia-1.6"
  },
  "language_info": {
   "file_extension": ".jl",
   "mimetype": "application/julia",
   "name": "julia",
   "version": "1.6.1"
  },
  "orig_nbformat": 4,
  "vscode": {
   "interpreter": {
    "hash": "8f874cb96a7fdce6260903239cd4ccff59f9cd40f07ae8042efeb94d5942b24b"
   }
  }
 },
 "nbformat": 4,
 "nbformat_minor": 2
}
