{
 "cells": [
  {
   "attachments": {},
   "cell_type": "markdown",
   "metadata": {},
   "source": [
    "$$\n",
    "\\begin{align*}\n",
    "\\eta_j &= \\frac{\\sum_{t\\in T(j)} q_{tj}  (1-s_{tj}) \\theta x_j}{\\sum_{t\\in T(j)} q_{tj}} \\\\\n",
    "&= \\frac{\\theta x_j}{q_j} \\sum_{t\\in T(j)} q_{tj} (1-s_{tj})\n",
    "\\end{align*}\n",
    "$$"
   ]
  },
  {
   "cell_type": "code",
   "execution_count": 5,
   "metadata": {},
   "outputs": [
    {
     "data": {
      "text/plain": [
       "compute_elasticity (generic function with 2 methods)"
      ]
     },
     "metadata": {},
     "output_type": "display_data"
    }
   ],
   "source": [
    "function compute_elasticity(\n",
    "    X::Vector{Float64}, \n",
    "    θ::Float64,\n",
    "    share::Vector{Matrix{Float64}}, #market-level shares, index with tt,jj \n",
    "    mktq::Vector{Matrix{Float64}}, #market-level quantities, index with tt,jj\n",
    "    t_indexer::Vector{Vector{Int64}}, \n",
    "    JpositioninT::Matrix{Int64}, #JpositioninT[jj,tt] is jj's position in tt\n",
    "    n_firms::Int,\n",
    "    islogged_q = false\n",
    ")::Vector{Float64}\n",
    "    # t_indexer and JpositioninT are made with create_indices() in make.jl\n",
    "    η = Vector{Float64}(undef,n_firms)\n",
    "    if islogged_q\n",
    "        for jj in 1:n_firms\n",
    "            q_j = reduce(+,[mktq[tt][JpositioninT[jj,tt]] for tt in t_indexer[jj]])\n",
    "            \n",
    "            η[jj] = θ * X[jj] * \n",
    "                reduce(+,[mktq[tt][JpositioninT[jj,tt]] *\n",
    "                            (1-share[tt][JpositioninT[jj,tt]])\n",
    "                        for tt in t_indexer[jj]]) / q_j\n",
    "        end\n",
    "    else\n",
    "        for jj in 1:n_firms\n",
    "            q_j = reduce(+,[mktq[tt][JpositioninT[jj,tt]] for tt in t_indexer[jj]])\n",
    "            \n",
    "            η[jj] = θ * X[jj] * \n",
    "                reduce(+,[mktq[tt][JpositioninT[jj,tt]] *\n",
    "                            (1-share[tt][JpositioninT[jj,tt]])\n",
    "                        for tt in t_indexer[jj]]) / q_j\n",
    "        end\n",
    "    end\n",
    "    return η\n",
    "end\n"
   ]
  },
  {
   "cell_type": "code",
   "execution_count": null,
   "metadata": {},
   "outputs": [],
   "source": []
  }
 ],
 "metadata": {
  "kernelspec": {
   "display_name": "Julia 1.6.1",
   "language": "julia",
   "name": "julia-1.6"
  },
  "language_info": {
   "file_extension": ".jl",
   "mimetype": "application/julia",
   "name": "julia",
   "version": "1.6.1"
  },
  "orig_nbformat": 4,
  "vscode": {
   "interpreter": {
    "hash": "8f874cb96a7fdce6260903239cd4ccff59f9cd40f07ae8042efeb94d5942b24b"
   }
  }
 },
 "nbformat": 4,
 "nbformat_minor": 2
}
