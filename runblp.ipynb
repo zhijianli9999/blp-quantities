{
 "cells": [
  {
   "cell_type": "code",
   "execution_count": 50,
   "metadata": {},
   "outputs": [],
   "source": [
    "using DataFrames, DataFramesMeta, LinearAlgebra, CSV, Distributions, Optim, Revise, Plots"
   ]
  },
  {
   "cell_type": "code",
   "execution_count": 51,
   "metadata": {},
   "outputs": [],
   "source": [
    "string(@__DIR__) in LOAD_PATH || push!(LOAD_PATH, @__DIR__)\n",
    "using BLPmodule"
   ]
  },
  {
   "cell_type": "code",
   "execution_count": 52,
   "metadata": {},
   "outputs": [],
   "source": [
    "# I = 100;              # Number of consumers\n",
    "J = 3;                  # Number of firms\n",
    "K = 1;                  # Product characteristics\n",
    "nT = 5;                 # Number of markets\n",
    "# β = [1, -1];            # Preferences\n",
    "β = -1.;            # Preferences\n",
    "varζ = 3;               # Variance of the random taste\n",
    "# rangeJ = [J, J];        # TODO: set a min and max firms per market\n",
    "rangeB = [100, 1000];       # consumers per market (e.g. census block)\n",
    "# varX = 2;               # Variance of X\n",
    "varξ = 1;               # Variance of xi"
   ]
  },
  {
   "cell_type": "code",
   "execution_count": 53,
   "metadata": {},
   "outputs": [
    {
     "data": {
      "text/html": [
       "<div class=\"data-frame\"><p>11 rows × 9 columns</p><table class=\"data-frame\"><thead><tr><th></th><th>s</th><th>s0</th><th>q</th><th>q0</th><th>j</th><th>dist</th><th>B</th><th>t</th><th>q_j</th></tr><tr><th></th><th title=\"Float64\">Float64</th><th title=\"Float64\">Float64</th><th title=\"Float64\">Float64</th><th title=\"Float64\">Float64</th><th title=\"Int64\">Int64</th><th title=\"Float64\">Float64</th><th title=\"Int64\">Int64</th><th title=\"Float64\">Float64</th><th title=\"Float64\">Float64</th></tr></thead><tbody><tr><th>1</th><td>0.254509</td><td>0.274042</td><td>127.0</td><td>136.747</td><td>1</td><td>0.0742573</td><td>499</td><td>1.0</td><td>375.297</td></tr><tr><th>2</th><td>0.228768</td><td>0.274042</td><td>114.155</td><td>136.747</td><td>2</td><td>0.17096</td><td>499</td><td>1.0</td><td>474.561</td></tr><tr><th>3</th><td>0.242681</td><td>0.274042</td><td>121.098</td><td>136.747</td><td>3</td><td>0.137927</td><td>499</td><td>1.0</td><td>481.206</td></tr><tr><th>4</th><td>0.274926</td><td>0.272186</td><td>48.6619</td><td>48.177</td><td>1</td><td>0.0268394</td><td>177</td><td>3.0</td><td>375.297</td></tr><tr><th>5</th><td>0.24416</td><td>0.272186</td><td>43.2164</td><td>48.177</td><td>2</td><td>0.218378</td><td>177</td><td>3.0</td><td>474.561</td></tr><tr><th>6</th><td>0.208727</td><td>0.272186</td><td>36.9447</td><td>48.177</td><td>3</td><td>0.185344</td><td>177</td><td>3.0</td><td>481.206</td></tr><tr><th>7</th><td>0.324399</td><td>0.386521</td><td>103.808</td><td>123.687</td><td>2</td><td>0.325542</td><td>320</td><td>4.0</td><td>474.561</td></tr><tr><th>8</th><td>0.28908</td><td>0.386521</td><td>92.5057</td><td>123.687</td><td>3</td><td>0.358575</td><td>320</td><td>4.0</td><td>481.206</td></tr><tr><th>9</th><td>0.227634</td><td>0.26605</td><td>199.635</td><td>233.326</td><td>1</td><td>0.158063</td><td>877</td><td>5.0</td><td>375.297</td></tr><tr><th>10</th><td>0.243309</td><td>0.26605</td><td>213.382</td><td>233.326</td><td>2</td><td>0.0871544</td><td>877</td><td>5.0</td><td>474.561</td></tr><tr><th>11</th><td>0.263007</td><td>0.26605</td><td>230.658</td><td>233.326</td><td>3</td><td>0.0541209</td><td>877</td><td>5.0</td><td>481.206</td></tr></tbody></table></div>"
      ],
      "text/latex": [
       "\\begin{tabular}{r|ccccccccc}\n",
       "\t& s & s0 & q & q0 & j & dist & B & t & q\\_j\\\\\n",
       "\t\\hline\n",
       "\t& Float64 & Float64 & Float64 & Float64 & Int64 & Float64 & Int64 & Float64 & Float64\\\\\n",
       "\t\\hline\n",
       "\t1 & 0.254509 & 0.274042 & 127.0 & 136.747 & 1 & 0.0742573 & 499 & 1.0 & 375.297 \\\\\n",
       "\t2 & 0.228768 & 0.274042 & 114.155 & 136.747 & 2 & 0.17096 & 499 & 1.0 & 474.561 \\\\\n",
       "\t3 & 0.242681 & 0.274042 & 121.098 & 136.747 & 3 & 0.137927 & 499 & 1.0 & 481.206 \\\\\n",
       "\t4 & 0.274926 & 0.272186 & 48.6619 & 48.177 & 1 & 0.0268394 & 177 & 3.0 & 375.297 \\\\\n",
       "\t5 & 0.24416 & 0.272186 & 43.2164 & 48.177 & 2 & 0.218378 & 177 & 3.0 & 474.561 \\\\\n",
       "\t6 & 0.208727 & 0.272186 & 36.9447 & 48.177 & 3 & 0.185344 & 177 & 3.0 & 481.206 \\\\\n",
       "\t7 & 0.324399 & 0.386521 & 103.808 & 123.687 & 2 & 0.325542 & 320 & 4.0 & 474.561 \\\\\n",
       "\t8 & 0.28908 & 0.386521 & 92.5057 & 123.687 & 3 & 0.358575 & 320 & 4.0 & 481.206 \\\\\n",
       "\t9 & 0.227634 & 0.26605 & 199.635 & 233.326 & 1 & 0.158063 & 877 & 5.0 & 375.297 \\\\\n",
       "\t10 & 0.243309 & 0.26605 & 213.382 & 233.326 & 2 & 0.0871544 & 877 & 5.0 & 474.561 \\\\\n",
       "\t11 & 0.263007 & 0.26605 & 230.658 & 233.326 & 3 & 0.0541209 & 877 & 5.0 & 481.206 \\\\\n",
       "\\end{tabular}\n"
      ],
      "text/plain": [
       "\u001b[1m11×9 DataFrame\u001b[0m\n",
       "\u001b[1m Row \u001b[0m│\u001b[1m s        \u001b[0m\u001b[1m s0       \u001b[0m\u001b[1m q        \u001b[0m\u001b[1m q0      \u001b[0m\u001b[1m j     \u001b[0m\u001b[1m dist      \u001b[0m\u001b[1m B     \u001b[0m\u001b[1m t      \u001b[0m ⋯\n",
       "\u001b[1m     \u001b[0m│\u001b[90m Float64  \u001b[0m\u001b[90m Float64  \u001b[0m\u001b[90m Float64  \u001b[0m\u001b[90m Float64 \u001b[0m\u001b[90m Int64 \u001b[0m\u001b[90m Float64   \u001b[0m\u001b[90m Int64 \u001b[0m\u001b[90m Float64\u001b[0m ⋯\n",
       "─────┼──────────────────────────────────────────────────────────────────────────\n",
       "   1 │ 0.254509  0.274042  127.0     136.747      1  0.0742573    499      1.0 ⋯\n",
       "   2 │ 0.228768  0.274042  114.155   136.747      2  0.17096      499      1.0\n",
       "   3 │ 0.242681  0.274042  121.098   136.747      3  0.137927     499      1.0\n",
       "   4 │ 0.274926  0.272186   48.6619   48.177      1  0.0268394    177      3.0\n",
       "   5 │ 0.24416   0.272186   43.2164   48.177      2  0.218378     177      3.0 ⋯\n",
       "   6 │ 0.208727  0.272186   36.9447   48.177      3  0.185344     177      3.0\n",
       "   7 │ 0.324399  0.386521  103.808   123.687      2  0.325542     320      4.0\n",
       "   8 │ 0.28908   0.386521   92.5057  123.687      3  0.358575     320      4.0\n",
       "   9 │ 0.227634  0.26605   199.635   233.326      1  0.158063     877      5.0 ⋯\n",
       "  10 │ 0.243309  0.26605   213.382   233.326      2  0.0871544    877      5.0\n",
       "  11 │ 0.263007  0.26605   230.658   233.326      3  0.0541209    877      5.0\n",
       "\u001b[36m                                                                1 column omitted\u001b[0m"
      ]
     },
     "metadata": {},
     "output_type": "display_data"
    }
   ],
   "source": [
    "dist_thresh = 0.5\n",
    "df = BLPmodule.build_dist_data(J, β, nT, rangeB, varζ, varξ, dist_thresh)"
   ]
  },
  {
   "cell_type": "code",
   "execution_count": 54,
   "metadata": {},
   "outputs": [],
   "source": [
    "# Simulate\n",
    "# df = BLPmodule.simulate_data(I, J, β, nT, rangeJ, rangeB, varζ, varX, varξ)\n",
    "# Retrieve data\n",
    "T = Int.(df.t)\n",
    "X_ = df.dist\n",
    "# s_ = df.s\n",
    "q_j_ = df.q_j\n",
    "s0_ = df.s0\n",
    "q0_ = df.q0\n",
    "# IV_ = [df.x1 df.w]\n",
    "# Z_ = [df.x1 df.z1]\n",
    "ζ_ = [rand(Normal(0,1), 1, I); zeros(K, I)]; # Draw shocks (less)"
   ]
  },
  {
   "cell_type": "code",
   "execution_count": 55,
   "metadata": {},
   "outputs": [],
   "source": [
    "# using BLPmodule\n",
    "# Minimize GMM objective function\n",
    "# varζ_ = optimize(x -> BLPmodule.GMM(q_j_, q0_, X_, Z_, ζ_, T, IV_, x[1])[1], [3.0], LBFGS()).minimizer[1];"
   ]
  },
  {
   "cell_type": "code",
   "execution_count": 56,
   "metadata": {},
   "outputs": [],
   "source": [
    "agg_q = [q_j_[df.j .== j][1] for j in 1:J]\n",
    "total_outside = sum(unique(df.q0))\n",
    "agg_q0 = repeat([total_outside], J)\n",
    "total_B = sum([sum(agg_q), total_outside])\n",
    "agg_shares = agg_q ./ total_B\n",
    "agg_s0 = agg_q0 ./ total_B;"
   ]
  },
  {
   "cell_type": "code",
   "execution_count": 70,
   "metadata": {},
   "outputs": [
    {
     "data": {
      "text/plain": [
       "3-element Vector{Float64}:\n",
       " 375.2967868281019\n",
       " 474.56135958130574\n",
       " 481.20568471194986"
      ]
     },
     "metadata": {},
     "output_type": "display_data"
    }
   ],
   "source": [
    "agg_q"
   ]
  },
  {
   "cell_type": "code",
   "execution_count": 57,
   "metadata": {},
   "outputs": [
    {
     "data": {
      "text/plain": [
       "3-element Vector{Float64}:\n",
       " 0.20037201645921082\n",
       " 0.25336965273961864\n",
       " 0.2569170767282167"
      ]
     },
     "metadata": {},
     "output_type": "display_data"
    }
   ],
   "source": [
    "agg_shares"
   ]
  },
  {
   "cell_type": "code",
   "execution_count": 58,
   "metadata": {},
   "outputs": [
    {
     "data": {
      "text/plain": [
       "3-element Vector{Float64}:\n",
       " 0.2893412540729539\n",
       " 0.2893412540729539\n",
       " 0.2893412540729539"
      ]
     },
     "metadata": {},
     "output_type": "display_data"
    }
   ],
   "source": [
    "agg_s0"
   ]
  },
  {
   "cell_type": "code",
   "execution_count": 69,
   "metadata": {},
   "outputs": [
    {
     "data": {
      "text/plain": [
       "11-element Vector{Float64}:\n",
       " 0.07425725620262957\n",
       " 0.17096009434286352\n",
       " 0.1379266015322187\n",
       " 0.026839367280010462\n",
       " 0.21837798326548263\n",
       " 0.1853444904548378\n",
       " 0.3255415455552728\n",
       " 0.35857503836591764\n",
       " 0.15806297745465514\n",
       " 0.08715437309083796\n",
       " 0.05412088028019313"
      ]
     },
     "metadata": {},
     "output_type": "display_data"
    }
   ],
   "source": [
    "X_"
   ]
  },
  {
   "cell_type": "code",
   "execution_count": 67,
   "metadata": {},
   "outputs": [],
   "source": [
    "t1ind = df.t .== 1;"
   ]
  },
  {
   "cell_type": "code",
   "execution_count": 68,
   "metadata": {},
   "outputs": [
    {
     "ename": "BoundsError",
     "evalue": "BoundsError: attempt to access 3-element Vector{Float64} at index [Bool[1, 1, 1, 0, 0, 0, 0, 0, 0, 0, 0]]",
     "output_type": "error",
     "traceback": [
      "BoundsError: attempt to access 3-element Vector{Float64} at index [Bool[1, 1, 1, 0, 0, 0, 0, 0, 0, 0, 0]]\n",
      "\n",
      "Stacktrace:\n",
      " [1] throw_boundserror(A::Vector{Float64}, I::Tuple{Base.LogicalIndex{Int64, BitVector}})\n",
      "   @ Base ./abstractarray.jl:651\n",
      " [2] checkbounds\n",
      "   @ ./abstractarray.jl:616 [inlined]\n",
      " [3] _getindex\n",
      "   @ ./multidimensional.jl:831 [inlined]\n",
      " [4] getindex\n",
      "   @ ./abstractarray.jl:1170 [inlined]\n",
      " [5] compute_delta(s_::Vector{Float64}, s0_::Vector{Float64}, X_::Vector{Float64}, ζ_::Matrix{Float64}, T::Vector{Int64})\n",
      "   @ BLPmodule ~/blp-quantities/BLPmodule/solve.jl:66\n",
      " [6] top-level scope\n",
      "   @ ~/blp-quantities/runblp.ipynb:2"
     ]
    }
   ],
   "source": [
    "using BLPmodule\n",
    "deltas = BLPmodule.compute_delta(agg_shares, agg_s0, X_, ζ_, T);"
   ]
  },
  {
   "cell_type": "code",
   "execution_count": 61,
   "metadata": {},
   "outputs": [
    {
     "ename": "UndefVarError",
     "evalue": "UndefVarError: t1ind not defined",
     "output_type": "error",
     "traceback": [
      "UndefVarError: t1ind not defined\n",
      "\n",
      "Stacktrace:\n",
      " [1] top-level scope\n",
      "   @ ~/blp-quantities/runblp.ipynb:2"
     ]
    }
   ],
   "source": [
    "δ0 = zeros(1, size(ζ_, 2))\n",
    "shares = BLPmodule.implied_shares(X_[t1ind,:], ζ_, deltas, δ0)\n",
    "println(\"computed shares:       \", shares)\n",
    "println(\"true aggregate shares: \", agg_shares)"
   ]
  },
  {
   "cell_type": "code",
   "execution_count": 62,
   "metadata": {},
   "outputs": [],
   "source": [
    "# δ0 = zeros(1, size(ζ_, 2))\n",
    "# for t in unique(T)\n",
    "#     tind = df.t.==t\n",
    "#     shares = BLPmodule.implied_shares(X_[tind,:], ζ_, deltas1, δ0)\n",
    "#     println(\"computed shares: \", shares)\n",
    "# end\n",
    "# println(agg_shares)"
   ]
  },
  {
   "cell_type": "code",
   "execution_count": 63,
   "metadata": {},
   "outputs": [],
   "source": [
    "# β_blp = BLPmodule.GMM(q_j_, q0_, X_, Z_, ζ_, T, IV_, varζ_)[2];"
   ]
  },
  {
   "cell_type": "code",
   "execution_count": 64,
   "metadata": {},
   "outputs": [],
   "source": [
    "# print(\"Estimated BLP coefficients: $β_blp\")"
   ]
  },
  {
   "cell_type": "code",
   "execution_count": 65,
   "metadata": {},
   "outputs": [],
   "source": [
    "# # Compute logit estimate\n",
    "# y = log.(df.s) - log.(df.s0)\n",
    "# β_logit = inv(IV_' * X_) * (IV_' * y)\n",
    "# print(\"Estimated logit coefficients: $β_logit\")"
   ]
  }
 ],
 "metadata": {
  "kernelspec": {
   "display_name": "Julia 1.6.1",
   "language": "julia",
   "name": "julia-1.6"
  },
  "language_info": {
   "file_extension": ".jl",
   "mimetype": "application/julia",
   "name": "julia",
   "version": "1.6.1"
  },
  "orig_nbformat": 4,
  "vscode": {
   "interpreter": {
    "hash": "31f2aee4e71d21fbe5cf8b01ff0e069b9275f58929596ceb00d14d90e3e16cd6"
   }
  }
 },
 "nbformat": 4,
 "nbformat_minor": 2
}
