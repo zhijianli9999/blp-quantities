{
 "cells": [
  {
   "cell_type": "code",
   "execution_count": 23,
   "metadata": {},
   "outputs": [],
   "source": [
    "using DataFrames, DataFramesMeta, LinearAlgebra, CSV, Distributions, Optim, Revise, Plots"
   ]
  },
  {
   "cell_type": "code",
   "execution_count": 56,
   "metadata": {},
   "outputs": [],
   "source": [
    "string(@__DIR__) in LOAD_PATH || push!(LOAD_PATH, @__DIR__)\n",
    "using BLPmodule"
   ]
  },
  {
   "cell_type": "code",
   "execution_count": 57,
   "metadata": {},
   "outputs": [],
   "source": [
    "# I = 100;              # Number of consumers\n",
    "J = 3;                  # Number of firms\n",
    "K = 1;                  # Product characteristics\n",
    "nT = 5;                 # Number of markets\n",
    "# β = [1, -1];            # Preferences\n",
    "β = -1.;            # Preferences\n",
    "varζ = 3;               # Variance of the random taste\n",
    "# rangeJ = [J, J];        # TODO: set a min and max firms per market\n",
    "rangeB = [100, 1000];       # consumers per market (e.g. census block)\n",
    "# varX = 2;               # Variance of X\n",
    "varξ = 1;               # Variance of xi"
   ]
  },
  {
   "cell_type": "code",
   "execution_count": 75,
   "metadata": {},
   "outputs": [
    {
     "data": {
      "text/html": [
       "<div class=\"data-frame\"><p>15 rows × 10 columns</p><table class=\"data-frame\"><thead><tr><th></th><th>t</th><th>j</th><th>q</th><th>q0</th><th>q_j</th><th>agg_q0</th><th>B</th><th>total_B</th><th>agg_s</th><th>agg_s0</th></tr><tr><th></th><th title=\"Int64\">Int64</th><th title=\"Int64\">Int64</th><th title=\"Float64\">Float64</th><th title=\"Float64\">Float64</th><th title=\"Float64\">Float64</th><th title=\"Float64\">Float64</th><th title=\"Int64\">Int64</th><th title=\"Int64\">Int64</th><th title=\"Float64\">Float64</th><th title=\"Float64\">Float64</th></tr></thead><tbody><tr><th>1</th><td>1</td><td>1</td><td>144.136</td><td>192.472</td><td>647.868</td><td>781.837</td><td>638</td><td>2685</td><td>0.241292</td><td>0.291187</td></tr><tr><th>2</th><td>1</td><td>2</td><td>142.033</td><td>192.472</td><td>637.475</td><td>781.837</td><td>638</td><td>2685</td><td>0.237421</td><td>0.291187</td></tr><tr><th>3</th><td>1</td><td>3</td><td>159.358</td><td>192.472</td><td>617.82</td><td>781.837</td><td>638</td><td>2685</td><td>0.230101</td><td>0.291187</td></tr><tr><th>4</th><td>2</td><td>1</td><td>149.034</td><td>163.562</td><td>647.868</td><td>781.837</td><td>576</td><td>2685</td><td>0.241292</td><td>0.291187</td></tr><tr><th>5</th><td>2</td><td>2</td><td>136.435</td><td>163.562</td><td>637.475</td><td>781.837</td><td>576</td><td>2685</td><td>0.237421</td><td>0.291187</td></tr><tr><th>6</th><td>2</td><td>3</td><td>126.968</td><td>163.562</td><td>617.82</td><td>781.837</td><td>576</td><td>2685</td><td>0.230101</td><td>0.291187</td></tr><tr><th>7</th><td>3</td><td>1</td><td>46.1161</td><td>56.2573</td><td>647.868</td><td>781.837</td><td>191</td><td>2685</td><td>0.241292</td><td>0.291187</td></tr><tr><th>8</th><td>3</td><td>2</td><td>46.8223</td><td>56.2573</td><td>637.475</td><td>781.837</td><td>191</td><td>2685</td><td>0.237421</td><td>0.291187</td></tr><tr><th>9</th><td>3</td><td>3</td><td>41.8043</td><td>56.2573</td><td>617.82</td><td>781.837</td><td>191</td><td>2685</td><td>0.230101</td><td>0.291187</td></tr><tr><th>10</th><td>4</td><td>1</td><td>63.9559</td><td>82.5608</td><td>647.868</td><td>781.837</td><td>288</td><td>2685</td><td>0.241292</td><td>0.291187</td></tr><tr><th>11</th><td>4</td><td>2</td><td>74.6218</td><td>82.5608</td><td>637.475</td><td>781.837</td><td>288</td><td>2685</td><td>0.237421</td><td>0.291187</td></tr><tr><th>12</th><td>4</td><td>3</td><td>66.8616</td><td>82.5608</td><td>617.82</td><td>781.837</td><td>288</td><td>2685</td><td>0.230101</td><td>0.291187</td></tr><tr><th>13</th><td>5</td><td>1</td><td>244.626</td><td>286.984</td><td>647.868</td><td>781.837</td><td>992</td><td>2685</td><td>0.241292</td><td>0.291187</td></tr><tr><th>14</th><td>5</td><td>2</td><td>237.563</td><td>286.984</td><td>637.475</td><td>781.837</td><td>992</td><td>2685</td><td>0.237421</td><td>0.291187</td></tr><tr><th>15</th><td>5</td><td>3</td><td>222.828</td><td>286.984</td><td>617.82</td><td>781.837</td><td>992</td><td>2685</td><td>0.230101</td><td>0.291187</td></tr></tbody></table></div>"
      ],
      "text/latex": [
       "\\begin{tabular}{r|cccccccccc}\n",
       "\t& t & j & q & q0 & q\\_j & agg\\_q0 & B & total\\_B & agg\\_s & agg\\_s0\\\\\n",
       "\t\\hline\n",
       "\t& Int64 & Int64 & Float64 & Float64 & Float64 & Float64 & Int64 & Int64 & Float64 & Float64\\\\\n",
       "\t\\hline\n",
       "\t1 & 1 & 1 & 144.136 & 192.472 & 647.868 & 781.837 & 638 & 2685 & 0.241292 & 0.291187 \\\\\n",
       "\t2 & 1 & 2 & 142.033 & 192.472 & 637.475 & 781.837 & 638 & 2685 & 0.237421 & 0.291187 \\\\\n",
       "\t3 & 1 & 3 & 159.358 & 192.472 & 617.82 & 781.837 & 638 & 2685 & 0.230101 & 0.291187 \\\\\n",
       "\t4 & 2 & 1 & 149.034 & 163.562 & 647.868 & 781.837 & 576 & 2685 & 0.241292 & 0.291187 \\\\\n",
       "\t5 & 2 & 2 & 136.435 & 163.562 & 637.475 & 781.837 & 576 & 2685 & 0.237421 & 0.291187 \\\\\n",
       "\t6 & 2 & 3 & 126.968 & 163.562 & 617.82 & 781.837 & 576 & 2685 & 0.230101 & 0.291187 \\\\\n",
       "\t7 & 3 & 1 & 46.1161 & 56.2573 & 647.868 & 781.837 & 191 & 2685 & 0.241292 & 0.291187 \\\\\n",
       "\t8 & 3 & 2 & 46.8223 & 56.2573 & 637.475 & 781.837 & 191 & 2685 & 0.237421 & 0.291187 \\\\\n",
       "\t9 & 3 & 3 & 41.8043 & 56.2573 & 617.82 & 781.837 & 191 & 2685 & 0.230101 & 0.291187 \\\\\n",
       "\t10 & 4 & 1 & 63.9559 & 82.5608 & 647.868 & 781.837 & 288 & 2685 & 0.241292 & 0.291187 \\\\\n",
       "\t11 & 4 & 2 & 74.6218 & 82.5608 & 637.475 & 781.837 & 288 & 2685 & 0.237421 & 0.291187 \\\\\n",
       "\t12 & 4 & 3 & 66.8616 & 82.5608 & 617.82 & 781.837 & 288 & 2685 & 0.230101 & 0.291187 \\\\\n",
       "\t13 & 5 & 1 & 244.626 & 286.984 & 647.868 & 781.837 & 992 & 2685 & 0.241292 & 0.291187 \\\\\n",
       "\t14 & 5 & 2 & 237.563 & 286.984 & 637.475 & 781.837 & 992 & 2685 & 0.237421 & 0.291187 \\\\\n",
       "\t15 & 5 & 3 & 222.828 & 286.984 & 617.82 & 781.837 & 992 & 2685 & 0.230101 & 0.291187 \\\\\n",
       "\\end{tabular}\n"
      ],
      "text/plain": [
       "\u001b[1m15×10 DataFrame\u001b[0m\n",
       "\u001b[1m Row \u001b[0m│\u001b[1m t     \u001b[0m\u001b[1m j     \u001b[0m\u001b[1m q        \u001b[0m\u001b[1m q0       \u001b[0m\u001b[1m q_j     \u001b[0m\u001b[1m agg_q0  \u001b[0m\u001b[1m B     \u001b[0m\u001b[1m total_B \u001b[0m\u001b[1m agg\u001b[0m ⋯\n",
       "\u001b[1m     \u001b[0m│\u001b[90m Int64 \u001b[0m\u001b[90m Int64 \u001b[0m\u001b[90m Float64  \u001b[0m\u001b[90m Float64  \u001b[0m\u001b[90m Float64 \u001b[0m\u001b[90m Float64 \u001b[0m\u001b[90m Int64 \u001b[0m\u001b[90m Int64   \u001b[0m\u001b[90m Flo\u001b[0m ⋯\n",
       "─────┼──────────────────────────────────────────────────────────────────────────\n",
       "   1 │     1      1  144.136   192.472   647.868  781.837    638     2685  0.2 ⋯\n",
       "   2 │     1      2  142.033   192.472   637.475  781.837    638     2685  0.2\n",
       "   3 │     1      3  159.358   192.472   617.82   781.837    638     2685  0.2\n",
       "   4 │     2      1  149.034   163.562   647.868  781.837    576     2685  0.2\n",
       "   5 │     2      2  136.435   163.562   637.475  781.837    576     2685  0.2 ⋯\n",
       "   6 │     2      3  126.968   163.562   617.82   781.837    576     2685  0.2\n",
       "   7 │     3      1   46.1161   56.2573  647.868  781.837    191     2685  0.2\n",
       "   8 │     3      2   46.8223   56.2573  637.475  781.837    191     2685  0.2\n",
       "   9 │     3      3   41.8043   56.2573  617.82   781.837    191     2685  0.2 ⋯\n",
       "  10 │     4      1   63.9559   82.5608  647.868  781.837    288     2685  0.2\n",
       "  11 │     4      2   74.6218   82.5608  637.475  781.837    288     2685  0.2\n",
       "  12 │     4      3   66.8616   82.5608  617.82   781.837    288     2685  0.2\n",
       "  13 │     5      1  244.626   286.984   647.868  781.837    992     2685  0.2 ⋯\n",
       "  14 │     5      2  237.563   286.984   637.475  781.837    992     2685  0.2\n",
       "  15 │     5      3  222.828   286.984   617.82   781.837    992     2685  0.2\n",
       "\u001b[36m                                                               2 columns omitted\u001b[0m"
      ]
     },
     "metadata": {},
     "output_type": "display_data"
    }
   ],
   "source": [
    "dist_thresh = 1.\n",
    "df = BLPmodule.build_dist_data(J, β, nT, rangeB, varζ, varξ, dist_thresh)\n",
    "df[:, Cols(\"t\", \"j\", r\"q\", r\"B\", r\"agg\")]"
   ]
  },
  {
   "cell_type": "code",
   "execution_count": 90,
   "metadata": {},
   "outputs": [],
   "source": [
    "# Simulate\n",
    "# df = BLPmodule.simulate_data(I, J, β, nT, rangeJ, rangeB, varζ, varX, varξ)\n",
    "# Retrieve data\n",
    "T = Int.(df.t)\n",
    "X_ = df.dist\n",
    "# s_ = df.s\n",
    "q_j_ = df.q_j\n",
    "s0_ = df.s0\n",
    "q0_ = df.q0\n",
    "# IV_ = [df.x1 df.w]\n",
    "# Z_ = [df.x1 df.z1]\n",
    "nI = 100\n",
    "# ζ_ = [rand(Normal(0,1), 1, nI); zeros(K, nI)]; # Draw shocks (less)\n",
    "ζ_ = rand(Normal(0,1), 1, nI); # Draw shocks (less)"
   ]
  },
  {
   "cell_type": "code",
   "execution_count": 91,
   "metadata": {},
   "outputs": [],
   "source": [
    "# using BLPmodule\n",
    "# Minimize GMM objective function\n",
    "# varζ_ = optimize(x -> BLPmodule.GMM(q_j_, q0_, X_, Z_, ζ_, T, IV_, x[1])[1], [3.0], LBFGS()).minimizer[1];"
   ]
  },
  {
   "cell_type": "code",
   "execution_count": 92,
   "metadata": {},
   "outputs": [],
   "source": [
    "agg_q = [q_j_[df.j .== j][1] for j in 1:J]\n",
    "total_outside = sum(unique(df.q0))\n",
    "agg_q0 = repeat([total_outside], J)\n",
    "total_B = sum([sum(agg_q), total_outside])\n",
    "agg_shares = agg_q ./ total_B\n",
    "agg_s0 = agg_q0 ./ total_B;"
   ]
  },
  {
   "cell_type": "code",
   "execution_count": 97,
   "metadata": {},
   "outputs": [],
   "source": [
    "t1ind = df.t .== 1;"
   ]
  },
  {
   "cell_type": "code",
   "execution_count": 99,
   "metadata": {},
   "outputs": [],
   "source": [
    "using BLPmodule\n",
    "# deltas = BLPmodule.loop(agg_shares, agg_s0, X_[t1ind], ζ_, T);"
   ]
  },
  {
   "cell_type": "code",
   "execution_count": 102,
   "metadata": {},
   "outputs": [
    {
     "name": "stdout",
     "output_type": "stream",
     "text": [
      "deltas:"
     ]
    },
    {
     "name": "stdout",
     "output_type": "stream",
     "text": [
      "[-0.21506138455491342, -0.2959378069473715, -0.22835075082107825]\n"
     ]
    }
   ],
   "source": [
    "using BLPmodule\n",
    "deltas = BLPmodule.compute_delta(agg_shares, agg_s0, X_[t1ind], ζ_, T[t1ind]);"
   ]
  },
  {
   "cell_type": "code",
   "execution_count": 103,
   "metadata": {},
   "outputs": [
    {
     "name": "stdout",
     "output_type": "stream",
     "text": [
      "computed shares:       [0.24129171695127144, 0.2374209060593391, 0.23010053446712916]\n",
      "true aggregate shares: [0.24129171557972579, 0.2374209046837222, 0.23010053319031587]\n"
     ]
    }
   ],
   "source": [
    "δ0 = zeros(1, size(ζ_, 2))\n",
    "shares = BLPmodule.implied_shares(X_[t1ind,:], ζ_, deltas, δ0)\n",
    "println(\"computed shares:       \", shares)\n",
    "println(\"true aggregate shares: \", agg_shares)"
   ]
  },
  {
   "cell_type": "code",
   "execution_count": 62,
   "metadata": {},
   "outputs": [],
   "source": [
    "# δ0 = zeros(1, size(ζ_, 2))\n",
    "# for t in unique(T)\n",
    "#     tind = df.t.==t\n",
    "#     shares = BLPmodule.implied_shares(X_[tind,:], ζ_, deltas1, δ0)\n",
    "#     println(\"computed shares: \", shares)\n",
    "# end\n",
    "# println(agg_shares)"
   ]
  },
  {
   "cell_type": "code",
   "execution_count": 63,
   "metadata": {},
   "outputs": [],
   "source": [
    "# β_blp = BLPmodule.GMM(q_j_, q0_, X_, Z_, ζ_, T, IV_, varζ_)[2];"
   ]
  },
  {
   "cell_type": "code",
   "execution_count": 64,
   "metadata": {},
   "outputs": [],
   "source": [
    "# print(\"Estimated BLP coefficients: $β_blp\")"
   ]
  },
  {
   "cell_type": "code",
   "execution_count": 65,
   "metadata": {},
   "outputs": [],
   "source": [
    "# # Compute logit estimate\n",
    "# y = log.(df.s) - log.(df.s0)\n",
    "# β_logit = inv(IV_' * X_) * (IV_' * y)\n",
    "# print(\"Estimated logit coefficients: $β_logit\")"
   ]
  }
 ],
 "metadata": {
  "kernelspec": {
   "display_name": "Julia 1.6.1",
   "language": "julia",
   "name": "julia-1.6"
  },
  "language_info": {
   "file_extension": ".jl",
   "mimetype": "application/julia",
   "name": "julia",
   "version": "1.6.1"
  },
  "orig_nbformat": 4,
  "vscode": {
   "interpreter": {
    "hash": "31f2aee4e71d21fbe5cf8b01ff0e069b9275f58929596ceb00d14d90e3e16cd6"
   }
  }
 },
 "nbformat": 4,
 "nbformat_minor": 2
}
