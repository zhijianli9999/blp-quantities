{
 "cells": [
  {
   "cell_type": "code",
   "execution_count": 1,
   "metadata": {},
   "outputs": [],
   "source": [
    "using DataFrames, DataFramesMeta, LinearAlgebra, CSV, Distributions, Optim, Revise"
   ]
  },
  {
   "cell_type": "code",
   "execution_count": 2,
   "metadata": {},
   "outputs": [],
   "source": [
    "string(@__DIR__) in LOAD_PATH || push!(LOAD_PATH, @__DIR__)\n",
    "using BLPmodule"
   ]
  },
  {
   "cell_type": "code",
   "execution_count": 3,
   "metadata": {},
   "outputs": [],
   "source": [
    "I = 50;                # Number of consumers\n",
    "J = 10;                 # Number of firms\n",
    "K = 1;                  # Product characteristics\n",
    "nT = 5;                # Number of markets\n",
    "β = [2, -1];        # Preferences\n",
    "varζ = 5;               # Variance of the random taste\n",
    "rangeJ = [2, 6];        # Min and max firms per market\n",
    "rangeB = [0, 1];        # Min and max consumers per market (e.g. census block)\n",
    "varX = 1;               # Variance of X\n",
    "varξ = 2;               # Variance of xi"
   ]
  },
  {
   "cell_type": "code",
   "execution_count": 4,
   "metadata": {},
   "outputs": [
    {
     "name": "stdout",
     "output_type": "stream",
     "text": [
      "[\"j\", \"w\", \"p\", \"s\", \"s0\", \"pr\", \"q\", \"q0\", \"B\", \"x1\", \"z1\", \"t\", \"q_j\"]\n"
     ]
    }
   ],
   "source": [
    "using BLPmodule\n",
    "# Simulate\n",
    "df = BLPmodule.simulate_data(I, J, β, nT, rangeJ, rangeB, varζ, varX, varξ)\n",
    "# Retrieve data\n",
    "T = Int.(df.t)\n",
    "X_ = [df.x1 df.p]\n",
    "# s_ = df.s\n",
    "q_j_ = df.q_j\n",
    "s0_ = df.s0\n",
    "IV_ = [df.x1 df.w]\n",
    "Z_ = [df.x1 df.z1]\n",
    "println(names(df))"
   ]
  },
  {
   "cell_type": "code",
   "execution_count": 5,
   "metadata": {},
   "outputs": [
    {
     "data": {
      "text/plain": [
       "2×50 Matrix{Float64}:\n",
       " -1.55982  -1.69464  1.87477  -0.471827  …  -1.68254  -1.23604  1.14481\n",
       "  0.0       0.0      0.0       0.0           0.0       0.0      0.0"
      ]
     },
     "metadata": {},
     "output_type": "display_data"
    }
   ],
   "source": [
    "# Draw shocks (less)\n",
    "ζ_ = [rand(Normal(0,1), 1, I); zeros(K, I)]"
   ]
  },
  {
   "cell_type": "code",
   "execution_count": 6,
   "metadata": {},
   "outputs": [
    {
     "data": {
      "text/plain": [
       "2.0"
      ]
     },
     "metadata": {},
     "output_type": "display_data"
    }
   ],
   "source": [
    "# Minimize GMM objective function\n",
    "varζ_ = optimize(x -> BLPmodule.GMM(q_j_, X_, Z_, ζ_, T, IV_, x[1])[1], [2.0], LBFGS()).minimizer[1]"
   ]
  },
  {
   "cell_type": "code",
   "execution_count": 7,
   "metadata": {},
   "outputs": [
    {
     "name": "stdout",
     "output_type": "stream",
     "text": [
      "Estimated BLP coefficients: [NaN, NaN]"
     ]
    }
   ],
   "source": [
    "β_blp = BLPmodule.GMM(q_j_, X_, Z_, ζ_, T, IV_, varζ_)[2]\n",
    "print(\"Estimated BLP coefficients: $β_blp\")"
   ]
  },
  {
   "cell_type": "code",
   "execution_count": 8,
   "metadata": {},
   "outputs": [],
   "source": [
    "# # Compute logit estimate\n",
    "# y = log.(df.s) - log.(df.s0)\n",
    "# β_logit = inv(IV_' * X_) * (IV_' * y)\n",
    "# print(\"Estimated logit coefficients: $β_logit\")"
   ]
  }
 ],
 "metadata": {
  "kernelspec": {
   "display_name": "Julia 1.6.1",
   "language": "julia",
   "name": "julia-1.6"
  },
  "language_info": {
   "file_extension": ".jl",
   "mimetype": "application/julia",
   "name": "julia",
   "version": "1.6.1"
  },
  "orig_nbformat": 4,
  "vscode": {
   "interpreter": {
    "hash": "31f2aee4e71d21fbe5cf8b01ff0e069b9275f58929596ceb00d14d90e3e16cd6"
   }
  }
 },
 "nbformat": 4,
 "nbformat_minor": 2
}
