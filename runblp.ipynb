{
 "cells": [
  {
   "cell_type": "code",
   "execution_count": 37,
   "metadata": {},
   "outputs": [],
   "source": [
    "using DataFrames, DataFramesMeta, LinearAlgebra, Distributions, Optim, Revise, Plots"
   ]
  },
  {
   "cell_type": "code",
   "execution_count": 38,
   "metadata": {},
   "outputs": [],
   "source": [
    "string(@__DIR__) in LOAD_PATH || push!(LOAD_PATH, @__DIR__)\n",
    "using BLPmodule"
   ]
  },
  {
   "cell_type": "code",
   "execution_count": 40,
   "metadata": {},
   "outputs": [],
   "source": [
    "I = 1000;              # Number of consumers\n",
    "J = 2;                  # Number of firms\n",
    "K = 1;                  # Product characteristics\n",
    "nT = 5;                 # Number of markets\n",
    "# β = [1, -1];            # Preferences\n",
    "β = -1.;            # Preferences\n",
    "varζ = 3;               # Variance of the random taste\n",
    "rangeB = [100, 1000];       # consumers per market (e.g. census block)\n",
    "# varX = 2;               # Variance of X\n",
    "varξ = 1;               # Variance of xi\n",
    "δ0 = zeros(1, size(ζ, 2))\n",
    "ζ = rand(Normal(0,1), 1, I); # Draw shocks (less)"
   ]
  },
  {
   "cell_type": "code",
   "execution_count": 41,
   "metadata": {},
   "outputs": [
    {
     "data": {
      "text/html": [
       "<div class=\"data-frame\"><p>7 rows × 10 columns</p><table class=\"data-frame\"><thead><tr><th></th><th>t</th><th>j</th><th>q</th><th>q0</th><th>agg_qj</th><th>agg_q0</th><th>B</th><th>agg_B</th><th>agg_s</th><th>agg_s0</th></tr><tr><th></th><th title=\"Int64\">Int64</th><th title=\"Int64\">Int64</th><th title=\"Float64\">Float64</th><th title=\"Float64\">Float64</th><th title=\"Float64\">Float64</th><th title=\"Float64\">Float64</th><th title=\"Int64\">Int64</th><th title=\"Int64\">Int64</th><th title=\"Float64\">Float64</th><th title=\"Float64\">Float64</th></tr></thead><tbody><tr><th>1</th><td>1</td><td>2</td><td>340.751</td><td>359.249</td><td>1138.74</td><td>1260.48</td><td>700</td><td>2722</td><td>0.418348</td><td>0.463073</td></tr><tr><th>2</th><td>2</td><td>2</td><td>47.3547</td><td>52.6453</td><td>1138.74</td><td>1260.48</td><td>100</td><td>2722</td><td>0.418348</td><td>0.463073</td></tr><tr><th>3</th><td>3</td><td>1</td><td>283.289</td><td>339.565</td><td>322.772</td><td>388.145</td><td>902</td><td>1042</td><td>0.309762</td><td>0.3725</td></tr><tr><th>4</th><td>3</td><td>2</td><td>279.145</td><td>339.565</td><td>1138.74</td><td>1260.48</td><td>902</td><td>2722</td><td>0.418348</td><td>0.463073</td></tr><tr><th>5</th><td>4</td><td>2</td><td>419.555</td><td>460.445</td><td>1138.74</td><td>1260.48</td><td>880</td><td>2722</td><td>0.418348</td><td>0.463073</td></tr><tr><th>6</th><td>5</td><td>1</td><td>39.4832</td><td>48.5796</td><td>322.772</td><td>388.145</td><td>140</td><td>1042</td><td>0.309762</td><td>0.3725</td></tr><tr><th>7</th><td>5</td><td>2</td><td>51.9371</td><td>48.5796</td><td>1138.74</td><td>1260.48</td><td>140</td><td>2722</td><td>0.418348</td><td>0.463073</td></tr></tbody></table></div>"
      ],
      "text/latex": [
       "\\begin{tabular}{r|cccccccccc}\n",
       "\t& t & j & q & q0 & agg\\_qj & agg\\_q0 & B & agg\\_B & agg\\_s & agg\\_s0\\\\\n",
       "\t\\hline\n",
       "\t& Int64 & Int64 & Float64 & Float64 & Float64 & Float64 & Int64 & Int64 & Float64 & Float64\\\\\n",
       "\t\\hline\n",
       "\t1 & 1 & 2 & 340.751 & 359.249 & 1138.74 & 1260.48 & 700 & 2722 & 0.418348 & 0.463073 \\\\\n",
       "\t2 & 2 & 2 & 47.3547 & 52.6453 & 1138.74 & 1260.48 & 100 & 2722 & 0.418348 & 0.463073 \\\\\n",
       "\t3 & 3 & 1 & 283.289 & 339.565 & 322.772 & 388.145 & 902 & 1042 & 0.309762 & 0.3725 \\\\\n",
       "\t4 & 3 & 2 & 279.145 & 339.565 & 1138.74 & 1260.48 & 902 & 2722 & 0.418348 & 0.463073 \\\\\n",
       "\t5 & 4 & 2 & 419.555 & 460.445 & 1138.74 & 1260.48 & 880 & 2722 & 0.418348 & 0.463073 \\\\\n",
       "\t6 & 5 & 1 & 39.4832 & 48.5796 & 322.772 & 388.145 & 140 & 1042 & 0.309762 & 0.3725 \\\\\n",
       "\t7 & 5 & 2 & 51.9371 & 48.5796 & 1138.74 & 1260.48 & 140 & 2722 & 0.418348 & 0.463073 \\\\\n",
       "\\end{tabular}\n"
      ],
      "text/plain": [
       "\u001b[1m7×10 DataFrame\u001b[0m\n",
       "\u001b[1m Row \u001b[0m│\u001b[1m t     \u001b[0m\u001b[1m j     \u001b[0m\u001b[1m q        \u001b[0m\u001b[1m q0       \u001b[0m\u001b[1m agg_qj   \u001b[0m\u001b[1m agg_q0   \u001b[0m\u001b[1m B     \u001b[0m\u001b[1m agg_B \u001b[0m\u001b[1m agg\u001b[0m ⋯\n",
       "\u001b[1m     \u001b[0m│\u001b[90m Int64 \u001b[0m\u001b[90m Int64 \u001b[0m\u001b[90m Float64  \u001b[0m\u001b[90m Float64  \u001b[0m\u001b[90m Float64  \u001b[0m\u001b[90m Float64  \u001b[0m\u001b[90m Int64 \u001b[0m\u001b[90m Int64 \u001b[0m\u001b[90m Flo\u001b[0m ⋯\n",
       "─────┼──────────────────────────────────────────────────────────────────────────\n",
       "   1 │     1      2  340.751   359.249   1138.74   1260.48     700   2722  0.4 ⋯\n",
       "   2 │     2      2   47.3547   52.6453  1138.74   1260.48     100   2722  0.4\n",
       "   3 │     3      1  283.289   339.565    322.772   388.145    902   1042  0.3\n",
       "   4 │     3      2  279.145   339.565   1138.74   1260.48     902   2722  0.4\n",
       "   5 │     4      2  419.555   460.445   1138.74   1260.48     880   2722  0.4 ⋯\n",
       "   6 │     5      1   39.4832   48.5796   322.772   388.145    140   1042  0.3\n",
       "   7 │     5      2   51.9371   48.5796  1138.74   1260.48     140   2722  0.4\n",
       "\u001b[36m                                                               2 columns omitted\u001b[0m"
      ]
     },
     "metadata": {},
     "output_type": "display_data"
    }
   ],
   "source": [
    "dist_thresh = 0.5\n",
    "df = BLPmodule.build_dist_data(J, β, nT, rangeB, varζ, varξ, dist_thresh)\n",
    "df[:, Cols(\"t\", \"j\", r\"q\", r\"B\", r\"agg\")]"
   ]
  },
  {
   "cell_type": "code",
   "execution_count": null,
   "metadata": {},
   "outputs": [],
   "source": [
    "BLPmodule.compute_delta();"
   ]
  },
  {
   "cell_type": "code",
   "execution_count": 42,
   "metadata": {},
   "outputs": [
    {
     "data": {
      "text/html": [
       "<div class=\"data-frame\"><p>2 rows × 8 columns</p><table class=\"data-frame\"><thead><tr><th></th><th>j</th><th>dist</th><th>mean_dist</th><th>agg_qj</th><th>agg_q0</th><th>agg_B</th><th>agg_s</th><th>agg_s0</th></tr><tr><th></th><th title=\"Int64\">Int64</th><th title=\"Float64\">Float64</th><th title=\"Float64\">Float64</th><th title=\"Float64\">Float64</th><th title=\"Float64\">Float64</th><th title=\"Int64\">Int64</th><th title=\"Float64\">Float64</th><th title=\"Float64\">Float64</th></tr></thead><tbody><tr><th>1</th><td>2</td><td>0.153358</td><td>0.119416</td><td>1138.74</td><td>1260.48</td><td>2722</td><td>0.418348</td><td>0.463073</td></tr><tr><th>2</th><td>1</td><td>0.268196</td><td>0.332926</td><td>322.772</td><td>388.145</td><td>1042</td><td>0.309762</td><td>0.3725</td></tr></tbody></table></div>"
      ],
      "text/latex": [
       "\\begin{tabular}{r|cccccccc}\n",
       "\t& j & dist & mean\\_dist & agg\\_qj & agg\\_q0 & agg\\_B & agg\\_s & agg\\_s0\\\\\n",
       "\t\\hline\n",
       "\t& Int64 & Float64 & Float64 & Float64 & Float64 & Int64 & Float64 & Float64\\\\\n",
       "\t\\hline\n",
       "\t1 & 2 & 0.153358 & 0.119416 & 1138.74 & 1260.48 & 2722 & 0.418348 & 0.463073 \\\\\n",
       "\t2 & 1 & 0.268196 & 0.332926 & 322.772 & 388.145 & 1042 & 0.309762 & 0.3725 \\\\\n",
       "\\end{tabular}\n"
      ],
      "text/plain": [
       "\u001b[1m2×8 DataFrame\u001b[0m\n",
       "\u001b[1m Row \u001b[0m│\u001b[1m j     \u001b[0m\u001b[1m dist     \u001b[0m\u001b[1m mean_dist \u001b[0m\u001b[1m agg_qj   \u001b[0m\u001b[1m agg_q0   \u001b[0m\u001b[1m agg_B \u001b[0m\u001b[1m agg_s    \u001b[0m\u001b[1m agg_s0\u001b[0m ⋯\n",
       "\u001b[1m     \u001b[0m│\u001b[90m Int64 \u001b[0m\u001b[90m Float64  \u001b[0m\u001b[90m Float64   \u001b[0m\u001b[90m Float64  \u001b[0m\u001b[90m Float64  \u001b[0m\u001b[90m Int64 \u001b[0m\u001b[90m Float64  \u001b[0m\u001b[90m Float6\u001b[0m ⋯\n",
       "─────┼──────────────────────────────────────────────────────────────────────────\n",
       "   1 │     2  0.153358   0.119416  1138.74   1260.48    2722  0.418348  0.4630 ⋯\n",
       "   2 │     1  0.268196   0.332926   322.772   388.145   1042  0.309762  0.3725\n",
       "\u001b[36m                                                                1 column omitted\u001b[0m"
      ]
     },
     "metadata": {},
     "output_type": "display_data"
    }
   ],
   "source": [
    "df_j = df[Not(findall(nonunique(df[!,[:j]]))), Cols(\"j\", r\"dist\", r\"agg\")]"
   ]
  },
  {
   "cell_type": "code",
   "execution_count": 33,
   "metadata": {},
   "outputs": [
    {
     "name": "stdout",
     "output_type": "stream",
     "text": [
      "iterations:2\n"
     ]
    }
   ],
   "source": [
    "using BLPmodule\n",
    "deltas = BLPmodule.loop(df_j.agg_qj);"
   ]
  },
  {
   "cell_type": "code",
   "execution_count": 36,
   "metadata": {},
   "outputs": [
    {
     "name": "stdout",
     "output_type": "stream",
     "text": [
      "(3, 10000)\n"
     ]
    },
    {
     "data": {
      "text/plain": [
       "2-element Vector{Float64}:\n",
       " 947.8096503540006\n",
       " 219.48668005075152"
      ]
     },
     "metadata": {},
     "output_type": "display_data"
    }
   ],
   "source": [
    "BLPmodule.simple_shares(deltas, df_j.mean_dist, ζ)"
   ]
  },
  {
   "cell_type": "code",
   "execution_count": 35,
   "metadata": {},
   "outputs": [
    {
     "name": "stdout",
     "output_type": "stream",
     "text": [
      "[934.2249437267444, 210.84383709896815]\n"
     ]
    },
    {
     "data": {
      "text/plain": [
       "2-element Vector{Float64}:\n",
       " 934.2249437267444\n",
       " 210.84383709896807"
      ]
     },
     "metadata": {},
     "output_type": "display_data"
    }
   ],
   "source": [
    "println(BLPmodule.simple_shares(deltas))\n",
    "df_j.agg_qj"
   ]
  },
  {
   "cell_type": "code",
   "execution_count": 26,
   "metadata": {},
   "outputs": [
    {
     "name": "stdout",
     "output_type": "stream",
     "text": [
      "iterations:2\n"
     ]
    }
   ],
   "source": [
    "deltas = BLPmodule.loop(df_j.agg_s);"
   ]
  },
  {
   "cell_type": "code",
   "execution_count": 27,
   "metadata": {},
   "outputs": [
    {
     "name": "stdout",
     "output_type": "stream",
     "text": [
      "[0.42686377759135685, 0.42484988881288455]\n"
     ]
    },
    {
     "data": {
      "text/plain": [
       "2-element Vector{Float64}:\n",
       " 0.42686377759135685\n",
       " 0.42484988881288455"
      ]
     },
     "metadata": {},
     "output_type": "display_data"
    }
   ],
   "source": [
    "println(BLPmodule.simple_shares(deltas))\n",
    "df_j.agg_s"
   ]
  },
  {
   "cell_type": "code",
   "execution_count": null,
   "metadata": {},
   "outputs": [],
   "source": []
  },
  {
   "cell_type": "code",
   "execution_count": null,
   "metadata": {},
   "outputs": [],
   "source": []
  },
  {
   "cell_type": "markdown",
   "metadata": {},
   "source": [
    "---"
   ]
  },
  {
   "cell_type": "markdown",
   "metadata": {},
   "source": [
    "Stuff below are wrong (working with the original functions, trying to work with shares). "
   ]
  },
  {
   "cell_type": "code",
   "execution_count": 51,
   "metadata": {},
   "outputs": [],
   "source": [
    "aux_x = repeat([0.], J);\n",
    "aux_t = repeat([1], J);"
   ]
  },
  {
   "cell_type": "code",
   "execution_count": 52,
   "metadata": {},
   "outputs": [
    {
     "name": "stdout",
     "output_type": "stream",
     "text": [
      "final counter: 100001\n",
      "deltas:[10.906520560496855, 10.724932478798397]\n",
      "computed shares:       [0.5452672337486898, 0.4547227669949113]\n",
      "true aggregate shares: [0.3657848442956161, 0.30504436398899093]\n"
     ]
    }
   ],
   "source": [
    "using BLPmodule\n",
    "deltas = BLPmodule.compute_delta(df_j.agg_s, df_j.agg_s0, aux_x , ζ_, aux_t);\n",
    "shares = BLPmodule.implied_shares(aux_x, ζ_, deltas, δ0)\n",
    "println(\"computed shares:       \", shares)\n",
    "println(\"true aggregate shares: \", df_j.agg_s)"
   ]
  },
  {
   "cell_type": "code",
   "execution_count": 53,
   "metadata": {},
   "outputs": [
    {
     "name": "stdout",
     "output_type": "stream",
     "text": [
      "final counter: 100001\n",
      "deltas:[11.106302651709791, 10.416817206024435]\n",
      "computed shares:       [0.6658457937795371, 0.3341442069640639]\n",
      "true aggregate shares: [0.3657848442956161, 0.30504436398899093]\n"
     ]
    }
   ],
   "source": [
    "# using quantities\n",
    "using BLPmodule\n",
    "deltas = BLPmodule.compute_delta(df_j.agg_qj, df_j.agg_q0, aux_x, ζ_, aux_t);\n",
    "shares = BLPmodule.implied_shares(aux_x, ζ_, deltas, δ0)\n",
    "println(\"computed shares:       \", shares)\n",
    "println(\"true aggregate shares: \", df_j.agg_s)"
   ]
  },
  {
   "cell_type": "code",
   "execution_count": 224,
   "metadata": {},
   "outputs": [],
   "source": [
    "# δ0 = zeros(1, size(ζ_, 2))\n",
    "# for t in unique(T)\n",
    "#     tind = df.t.==t\n",
    "#     shares = BLPmodule.implied_shares(X_[tind,:], ζ_, deltas1, δ0)\n",
    "#     println(\"computed shares: \", shares)\n",
    "# end\n",
    "# println(agg_shares)"
   ]
  },
  {
   "cell_type": "code",
   "execution_count": 225,
   "metadata": {},
   "outputs": [],
   "source": [
    "# using BLPmodule\n",
    "# Minimize GMM objective function\n",
    "# varζ_ = optimize(x -> BLPmodule.GMM(q_j_, q0_, X_, Z_, ζ_, T, IV_, x[1])[1], [3.0], LBFGS()).minimizer[1];"
   ]
  },
  {
   "cell_type": "code",
   "execution_count": 226,
   "metadata": {},
   "outputs": [],
   "source": [
    "# β_blp = BLPmodule.GMM(q_j_, q0_, X_, Z_, ζ_, T, IV_, varζ_)[2];"
   ]
  },
  {
   "cell_type": "code",
   "execution_count": 227,
   "metadata": {},
   "outputs": [],
   "source": [
    "# print(\"Estimated BLP coefficients: $β_blp\")"
   ]
  },
  {
   "cell_type": "code",
   "execution_count": 228,
   "metadata": {},
   "outputs": [],
   "source": [
    "# # Compute logit estimate\n",
    "# y = log.(df.s) - log.(df.s0)\n",
    "# β_logit = inv(IV_' * X_) * (IV_' * y)\n",
    "# print(\"Estimated logit coefficients: $β_logit\")"
   ]
  }
 ],
 "metadata": {
  "kernelspec": {
   "display_name": "Julia 1.6.1",
   "language": "julia",
   "name": "julia-1.6"
  },
  "language_info": {
   "file_extension": ".jl",
   "mimetype": "application/julia",
   "name": "julia",
   "version": "1.6.1"
  },
  "orig_nbformat": 4,
  "vscode": {
   "interpreter": {
    "hash": "31f2aee4e71d21fbe5cf8b01ff0e069b9275f58929596ceb00d14d90e3e16cd6"
   }
  }
 },
 "nbformat": 4,
 "nbformat_minor": 2
}
