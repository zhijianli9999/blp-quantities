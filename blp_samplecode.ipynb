{
 "cells": [
  {
   "cell_type": "markdown",
   "metadata": {},
   "source": [
    "This is [Mark Ponder's example code](github.com/ponde006/BLP_Code/blob/main/BLP%20Replication.ipynb)."
   ]
  },
  {
   "cell_type": "code",
   "execution_count": 1,
   "metadata": {},
   "outputs": [],
   "source": [
    "using DataFrames\n",
    "using DataFramesMeta\n",
    "using LinearAlgebra\n",
    "using CSV # Read Data\n",
    "using BenchmarkTools\n",
    "using NLopt\n",
    "using Distributions\n",
    "\n",
    "# For Halton Draws\n",
    "using StatsFuns\n",
    "using Primes\n",
    "using Statistics\n",
    "#using Sobol\n",
    "\n",
    "#cars = DataFrame!(CSV.File(\"[filepath]/Automobile Data.csv\", header = true));\n",
    "cars = DataFrame!(CSV.File(\"C:/Users/ponde/Dropbox/Nonparametric Random Coefficients/Raw Data/Automobile Data.csv\", header = true));"
   ]
  },
  {
   "cell_type": "code",
   "execution_count": 2,
   "metadata": {},
   "outputs": [
    {
     "data": {
      "text/plain": [
       "1.72"
      ]
     },
     "execution_count": 2,
     "metadata": {},
     "output_type": "execute_result"
    }
   ],
   "source": [
    "# Estimated means and deviations for lognormal distribution\n",
    "incomeMeans = [2.01156, 2.06526, 2.07843, 2.05775, 2.02915, 2.05346, 2.06745,\n",
    "2.09805, 2.10404, 2.07208, 2.06019, 2.06561, 2.07672, 2.10437, 2.12608, 2.16426,\n",
    "2.18071, 2.18856, 2.21250, 2.18377]\n",
    " \n",
    "sigma_v = 1.72"
   ]
  },
  {
   "cell_type": "code",
   "execution_count": 3,
   "metadata": {},
   "outputs": [],
   "source": [
    "βs = [-7.061, 2.883, 1.521, -0.122, 3.46]\n",
    "γs = [0.952, 0.477, 0.619, -0.415, -0.046, 0.019]\n",
    "α = 43.501\n",
    "σs = [3.612, 4.628, 1.818, 1.050, 2.056];"
   ]
  },
  {
   "cell_type": "code",
   "execution_count": 4,
   "metadata": {},
   "outputs": [],
   "source": [
    "cars[!,:ln_hpwt] = log.(cars[!,:hpwt]);\n",
    "cars[!,:ln_space] = log.(cars[!,:space])\n",
    "cars[!,:ln_mpg] = log.(cars[!,:mpg])\n",
    "cars[!,:ln_mpd] = log.(cars[!,:mpd])\n",
    "cars[!,:ln_price] = log.(cars[!,:price])\n",
    "cars[!,:trend] = cars[!,:market] .- 1 \n",
    "cars[!,:cons] = ones(size(cars,1));"
   ]
  },
  {
   "cell_type": "code",
   "execution_count": 5,
   "metadata": {},
   "outputs": [],
   "source": [
    "regSet = @linq cars |>\n",
    "    by(:model_year, s_0 = log.(1 - sum(:share)))\n",
    " \n",
    "regSet = innerjoin(cars, regSet, on = :model_year);\n",
    "  \n",
    "regSet = @linq regSet |>\n",
    "    transform(s_i = log.(:share)) |>\n",
    "    transform(dif = :s_i - :s_0);\n",
    "\n",
    "regSet[!,:dif_2] = log.(regSet[!,:share]) .- log.(regSet[!,:share_out]) ;\n",
    "regSet[!,:ln_price] = log.(regSet[!,:price]);\n",
    " \n",
    "regSet = sort!(regSet, [:market,  :firmid])\n",
    " \n",
    "markets = convert(Array{Int64,2} , regSet[:, [ :market] ])[:]\n",
    "marks = unique(markets)\n",
    "firms = convert(Matrix, regSet[:, [ :firmid] ]);\n",
    "modlist = unique(regSet[!,:newmodv])\n",
    "modLoc = regSet[!,:newmodv];"
   ]
  },
  {
   "cell_type": "code",
   "execution_count": 6,
   "metadata": {},
   "outputs": [],
   "source": [
    "X = convert(Array{Float64,2}, regSet[:, [ :cons, :hpwt, :air, :mpd, :space] ]) # Demand Variables\n",
    "W = convert(Array{Float64,2}, regSet[:, [ :cons, :ln_hpwt, :air, :ln_mpg, :ln_space, :trend] ]) # Supply Variables\n",
    "price = convert(Array{Float64,2}, regSet[:, [ :price] ]) # Price\n",
    "delta_0 = convert(Array, round.(regSet[:,:dif_2], digits = 20));"
   ]
  },
  {
   "cell_type": "code",
   "execution_count": 7,
   "metadata": {},
   "outputs": [],
   "source": [
    "J_f = Array{Int64}(undef, 0,2)\n",
    "count = 0\n",
    "for ms = 1:20\n",
    "    midx = findall(markets .== ms)\n",
    "    tfirms = unique(firms[midx])\n",
    "    for f in tfirms\n",
    "        J_f = vcat(J_f, [count + findfirst(firms[midx] .== f) count + findlast(firms[midx] .== f)])\n",
    "    end\n",
    "    count += length(midx)\n",
    "end;"
   ]
  },
  {
   "cell_type": "code",
   "execution_count": 8,
   "metadata": {},
   "outputs": [],
   "source": [
    "# Beginning and end of the market ids\n",
    "idxs = [findfirst(markets .== i) for i = 1:20]\n",
    "idxe = [findlast(markets .== i) for i = 1:20]\n",
    "midx = hcat(idxs, idxe);"
   ]
  },
  {
   "cell_type": "markdown",
   "metadata": {},
   "source": [
    "## Instrumental Variable Construction"
   ]
  },
  {
   "cell_type": "code",
   "execution_count": 9,
   "metadata": {},
   "outputs": [
    {
     "data": {
      "text/plain": [
       "gen_gh_inst_1 (generic function with 1 method)"
      ]
     },
     "execution_count": 9,
     "metadata": {},
     "output_type": "execute_result"
    }
   ],
   "source": [
    "# Neighborhood Distance Instruments\n",
    "function gen_gh_inst_1( inX, midx )\n",
    "\n",
    "    my_insts = 0\n",
    "    # Loop over markets\n",
    "    for m in 1:size(midx,1)\n",
    "        # find input obs\n",
    "        sub = inX[midx[m,1]:midx[m,2],:]\n",
    "        # calculate standard deviation\n",
    "        stdx = std(sub, dims = 1)\n",
    "        # Initialize empty array\n",
    "        z_1 = Array{Float64,2}(undef, size(sub,1), 0)\n",
    "        \n",
    "        # Loop over observations, calculating differences\n",
    "        for i = 1:size(inX,2)\n",
    "            unique_vals = unique(sub[:,i])\n",
    "            # Correct for indicator variables\n",
    "            if (unique_vals == [0.0, 1.0]) | (unique_vals == [1.0]) | (unique_vals == [0.0]) | (unique_vals == [1.0, 0.0])\n",
    "                z_1 = hcat(z_1, sum(abs.(sub[:,i] .!= sub[:,i]'), dims = 2))\n",
    "            else\n",
    "                z_1 = hcat(z_1, sum((abs.(sub[:,i] .- sub[:,i]') .< stdx[i]), dims = 2))\n",
    "            end\n",
    "            # Calculate the interactions\n",
    "            for j = 1:size(inX,2)\n",
    "                # Correct for indicator variables\n",
    "                if (unique_vals == [0.0, 1.0]) | (unique_vals == [1.0]) | (unique_vals == [0.0]) | (unique_vals == [1.0, 0.0])\n",
    "                    z_1 = hcat(z_1, sum(abs.(sub[:,i] .!= sub[:,i]').*(sub[:,j] .- sub[:,j]'), dims = 2))\n",
    "                else\n",
    "                    z_1 = hcat(z_1, sum((abs.(sub[:,i] .- sub[:,i]') .< stdx[i]).*(sub[:,j] .- sub[:,j]'), dims = 2))\n",
    "                end\n",
    "            end\n",
    "        end\n",
    "            \n",
    "        if m == 1   \n",
    "            my_insts = z_1\n",
    "        else\n",
    "            my_insts = vcat(my_insts, z_1)\n",
    "        end\n",
    "    end\n",
    "\n",
    "    return my_insts\n",
    "end"
   ]
  },
  {
   "cell_type": "code",
   "execution_count": 10,
   "metadata": {},
   "outputs": [
    {
     "data": {
      "text/plain": [
       "30×30 Array{Float64,2}:\n",
       "  1.0           1.27595e-17   7.68445e-17  …   1.3791e-16    1.02269e-15\n",
       " -1.19217e-14   1.0           1.84779e-14     -1.63924e-15  -7.99009e-14\n",
       " -6.03433e-15  -6.3772e-17    1.0             -9.59052e-16  -2.48466e-14\n",
       "  5.29915e-16  -1.11265e-17  -2.39223e-15      1.82591e-15   6.04439e-15\n",
       " -8.50387e-16  -1.05383e-16   5.52108e-15      4.58036e-15  -7.88542e-15\n",
       "  6.72394e-16   2.72263e-18  -1.14914e-15  …   8.00091e-17   2.38996e-15\n",
       "  4.40258e-16   1.22282e-17   3.31554e-17     -1.01952e-16  -1.60014e-16\n",
       "  2.6964e-14   -5.98333e-16  -2.86341e-14     -7.7746e-15   -1.65858e-14\n",
       "  1.46121e-14  -1.60566e-16  -3.75517e-14     -2.92485e-15   3.18525e-14\n",
       " -3.00873e-15  -3.68084e-17   4.45555e-15      2.40802e-16  -1.1457e-15\n",
       "  5.29071e-15  -3.46808e-17   1.56639e-15  …  -3.91103e-15  -2.19148e-14\n",
       " -1.54849e-15   1.59514e-17   3.08783e-15      3.72826e-16  -1.66471e-15\n",
       " -6.2113e-15    3.36438e-17  -1.53046e-15     -2.91253e-17   5.95349e-15\n",
       "  ⋮                                        ⋱                \n",
       "  3.69169e-15  -6.17316e-17   2.46586e-15      7.86476e-17  -6.81985e-15\n",
       " -5.55709e-16  -2.13306e-15   8.13277e-14      4.59675e-16  -1.8387e-13\n",
       " -4.39602e-15  -9.04627e-16   4.55927e-14  …   1.26487e-15  -7.80729e-14\n",
       " -1.63467e-15   1.59925e-16  -5.3379e-15       7.17479e-16   1.94261e-14\n",
       "  3.33795e-15   4.1055e-17    5.64908e-15      3.06144e-16   5.93896e-15\n",
       "  3.95189e-16   9.374e-17    -4.28861e-15     -8.47556e-17   8.13654e-15\n",
       "  1.26063e-15   1.62973e-18  -8.31096e-16     -1.25258e-16  -6.3527e-16\n",
       " -8.64295e-15   4.36627e-16  -4.28598e-14  …   1.14096e-15   1.522e-13\n",
       " -3.25898e-15   2.42608e-16  -1.51203e-14      1.64228e-15   4.87908e-14\n",
       " -7.03884e-16   2.1694e-18    2.39735e-15     -2.56772e-15  -1.42651e-14\n",
       " -9.10301e-17   1.89923e-16  -1.18964e-14      1.0           1.99136e-14\n",
       "  4.23834e-17  -1.46753e-17   2.7574e-15      -2.75492e-16   1.0"
      ]
     },
     "execution_count": 10,
     "metadata": {},
     "output_type": "execute_result"
    }
   ],
   "source": [
    "phat = W*((W'W)\\W'log.(price))\n",
    "Zgh = gen_gh_inst_1(hcat(X[:,2:end], exp.(phat)), midx )\n",
    "(Zgh'Zgh)\\(Zgh'Zgh)"
   ]
  },
  {
   "cell_type": "code",
   "execution_count": 11,
   "metadata": {},
   "outputs": [
    {
     "data": {
      "text/plain": [
       "gen_gh_inst_2 (generic function with 1 method)"
      ]
     },
     "execution_count": 11,
     "metadata": {},
     "output_type": "execute_result"
    }
   ],
   "source": [
    "# Quadratic Distance Instruments\n",
    "function gen_gh_inst_2( inX, midx )\n",
    "\n",
    "    my_insts = 0\n",
    "    # Loop over markets\n",
    "    for m in 1:size(midx,1)\n",
    "        # find input obs\n",
    "        sub = inX[midx[m,1]:midx[m,2],:]\n",
    "        # calculate standard deviation\n",
    "        stdx = std(sub, dims = 1)\n",
    "        # Initialize empty array\n",
    "        z_1 = Array{Float64,2}(undef, size(sub,1), 0)\n",
    "        \n",
    "        # Loop over observations, calculating differences\n",
    "        for i = 1:size(inX,2)\n",
    "            unique_vals = unique(sub[:,i])\n",
    "            # Correct for indicator variables\n",
    "            if (unique_vals == [0.0, 1.0]) | (unique_vals == [1.0]) | (unique_vals == [0.0]) | (unique_vals == [1.0, 0.0])\n",
    "                z_1 = hcat(z_1, sum((sub[:,i] .!= sub[:,i]'), dims = 2))\n",
    "            else\n",
    "                z_1 = hcat(z_1, sum((sub[:,i] .- sub[:,i]').^2, dims = 2))\n",
    "            end\n",
    "            # Calculate the interactions\n",
    "            for j = i+1:size(inX,2)\n",
    "                # Correct for indicator variables\n",
    "                if (unique_vals == [0.0, 1.0]) | (unique_vals == [1.0]) | (unique_vals == [0.0]) | (unique_vals == [1.0, 0.0])\n",
    "                    z_1 = hcat(z_1, sum((sub[:,i] .!= sub[:,i]').*(sub[:,j] .- sub[:,j]'), dims = 2))\n",
    "                else\n",
    "                    z_1 = hcat(z_1, sum((sub[:,i] .- sub[:,i]').*(sub[:,j] .- sub[:,j]'), dims = 2))\n",
    "                end\n",
    "            end\n",
    "        end\n",
    "            \n",
    "        if m == 1   \n",
    "            my_insts = z_1\n",
    "        else\n",
    "            my_insts = vcat(my_insts, z_1)\n",
    "        end\n",
    "    end\n",
    "\n",
    "    return my_insts\n",
    "end"
   ]
  },
  {
   "cell_type": "code",
   "execution_count": 12,
   "metadata": {},
   "outputs": [
    {
     "data": {
      "text/plain": [
       "2217×15 Array{Float64,2}:\n",
       " 3.37361   0.0        0.111778   4.66214   …  12.1038    65.7027    461.874\n",
       " 2.62967   0.0       -4.67432    5.49612      23.7214   117.744     690.554\n",
       " 2.01381   0.0       -2.00414    2.84391      23.5562    97.4828    525.278\n",
       " 2.16614   0.0       -2.97013    3.71751      19.0519    90.5837    539.694\n",
       " 2.33019   0.0       -5.16327    5.10697      30.8042   143.542     778.178\n",
       " 2.61201   0.0       -8.09451    6.40681   …  34.7873   175.521     991.0\n",
       " 2.45972   0.0       -5.08303    5.31094      26.9796   130.357     737.136\n",
       " 8.52447   0.0      -24.0638    16.6845       39.6723   282.545    2152.21\n",
       " 2.49452   0.0       -5.70538    5.29426      25.47     130.936     778.133\n",
       " 2.43432   0.0       -2.5334     3.50397      11.2181    63.7938    472.496\n",
       " 3.65033   0.0       -4.78246    4.59545   …  11.2871    77.5673    716.601\n",
       " 2.18024   0.0       -2.63822    3.72085      18.2625    84.0745    499.035\n",
       " 2.04489   0.0       -1.60437    2.74719      11.2871    53.4691    367.778\n",
       " ⋮                                         ⋱                      \n",
       " 1.15239   2.96674   -3.23572    0.278225  …  19.1205   377.129   11618.9\n",
       " 1.79209   8.1011   -10.0426     2.20152       8.69091  345.659   18519.2\n",
       " 1.20791   4.3803    -3.40924    0.558789      4.07478  144.677   10694.7\n",
       " 2.36026   8.89986   -2.0551    -1.71926       7.21468  -35.2207  11489.1\n",
       " 2.18646   8.46942   -6.54125    0.437595      3.54893  102.174   12478.6\n",
       " 1.68844   6.97752   -6.70141    1.02727   …   4.31163  164.555   12360.5\n",
       " 1.21246   1.8438    -2.92698   -0.131885      7.96162  228.941   10492.0\n",
       " 1.21777   4.48482   -3.04459    0.343263      3.57446   88.1458  10316.1\n",
       " 1.51065   6.27774   -9.53764    1.99894      10.7896   320.194   13424.1\n",
       " 3.09969  11.7948   -13.0169     5.08944      14.9008   493.785   20401.3\n",
       " 6.55764  17.5599   -19.4559     2.99995   …   4.80998  247.692   24285.1\n",
       " 2.23933   8.60394  -12.6224     5.29787      25.7246   511.381   14320.8"
      ]
     },
     "execution_count": 12,
     "metadata": {},
     "output_type": "execute_result"
    }
   ],
   "source": [
    "phat = W*((W'W)\\W'log.(price))\n",
    "Zgh = gen_gh_inst_2(hcat(X[:,2:end], exp.(phat)), midx )\n",
    "Zgh"
   ]
  },
  {
   "cell_type": "code",
   "execution_count": 13,
   "metadata": {},
   "outputs": [
    {
     "data": {
      "text/plain": [
       "gen_inst (generic function with 2 methods)"
      ]
     },
     "execution_count": 13,
     "metadata": {},
     "output_type": "execute_result"
    }
   ],
   "source": [
    "# BLP Instruments\n",
    "function gen_inst( inX, normal = 1 )\n",
    "    totMarket = similar(inX)\n",
    "    totFirm = similar(inX)\n",
    "\n",
    "    for m in marks\n",
    "        sub = inX[findall(markets .== m),:]\n",
    "        firminfo = firms[findall(markets .== m),:]\n",
    "        #modelinfo = modLoc[find(markets .== m),:]\n",
    "        sameFirm = convert(Array{Float64,2}, firminfo .== firminfo')\n",
    "        #sameFirm = sameFirm - diagm(diag(sameFirm))\n",
    "\n",
    "        #sameProduct = ones(sameFirm) - diagm(ones(size(sub,1), 1)[:])\n",
    "        z_1 = similar(sub)\n",
    "        for i = 1:size(sub, 2)\n",
    "            if normal == 1\n",
    "                z_1[:,i] = sum((sub[:,i] .* sameFirm), dims = 1)' # Prime on sameFirm is key\n",
    "            else\n",
    "                z_1[:,i] = sum((sub[:,i] .* (sameFirm - I))', dims = 1)' # Prime on sameFirm is key\n",
    "            end\n",
    "        end\n",
    "        totFirm[findall(markets .== m),:] = z_1\n",
    "\n",
    "        # Within Market\n",
    "        sub = inX[findall(markets .== m),:]\n",
    "        z_1 = similar(sub)\n",
    "        sameFirm = firminfo .== firminfo'\n",
    "        for i = 1:size(sub, 2)\n",
    "            if normal == 1\n",
    "                z_1[:,i] = sum(sub[:,i] .* (sameFirm .+ .!sameFirm ), dims = 1)\n",
    "            else\n",
    "                z_1[:,i] = sum((sub[:,i] .* (.!sameFirm )), dims = 1)\n",
    "            end\n",
    "        end\n",
    "        totMarket[findall(markets .== m),:] = z_1\n",
    "    end\n",
    "\n",
    "    return [totFirm, totMarket]\n",
    "end"
   ]
  },
  {
   "cell_type": "code",
   "execution_count": 14,
   "metadata": {},
   "outputs": [],
   "source": [
    "Z_x_1, Z_x_2 = gen_inst(X,0)\n",
    "Z_w_1, Z_w_2 = gen_inst(W,0)\n",
    "Z_x = hcat(X, Z_x_1, Z_x_2)\n",
    "Z_w = hcat(W, Z_w_1, Z_w_2, convert(Array{Float64,1}, regSet[:mpd]))\n",
    "Z_ = [Z_x zeros(size(Z_w)); zeros(size(Z_x)) Z_w];"
   ]
  },
  {
   "cell_type": "code",
   "execution_count": 15,
   "metadata": {},
   "outputs": [],
   "source": [
    "mutable struct ModelData\n",
    "    price::Array{Float64, 1}\n",
    "    X::Array{Float64, 2}\n",
    "    alpha::Float64\n",
    "    beta::Array{Float64, 1}\n",
    "    gamma::Array{Float64, 1}\n",
    "    sigma::Array{Float64, 1}\n",
    "    delta::Array{Float64, 1}\n",
    "    xi::Array{Float64, 1}\n",
    "    marketidx::Array{Int64, 1} # Market IDs in a vector\n",
    "    midx::Array{Int64, 2} # Beginning and end index for each market\n",
    "    J_f::Array{Int64, 2} # Beginning and end index for each firm's products\n",
    "    y_it::Array{Float64, 2} # Random income draws\n",
    "    v_ik::Array{Float64, 2} # Random coefficient draws\n",
    "    unobs_weight::Array{Float64, 1}\n",
    "    p_ijt::Array{Float64, 2} # Array for individual choice probability\n",
    "    s_jt::Array{Float64, 1} # Array for implied market share\n",
    "    act_s::Array{Float64, 1} # Array for actual market shares\n",
    "    mc::Array{Float64, 1}  # Array for marginal costs\n",
    "    optinst::Array{Float64,2} # Array of Optimal Instruments\n",
    "    W::Array{Float64, 2}\n",
    "    \n",
    "    function ModelData( price , X , alpha , beta , gamma, sigma, delta, xi, marketidx, midx, J_f, y_it, v_ik,\n",
    "                        unobs_weight, p_ijt, s_jt, act_s, mc, optinst)\n",
    "        return new( price , X , alpha , beta , gamma, sigma, delta, xi, marketidx, midx, J_f, y_it, v_ik,\n",
    "                        unobs_weight, p_ijt, s_jt, act_s, mc, optinst, zeros(size(X)) )\n",
    "    end\n",
    "end"
   ]
  },
  {
   "cell_type": "code",
   "execution_count": 16,
   "metadata": {},
   "outputs": [],
   "source": [
    "ns = 1000*20\n",
    "v_ik1 = randn(6,  ns )'\n",
    "m_t = repeat(incomeMeans, inner = [ns, 1])\n",
    "  \n",
    "#y_it = exp(m_t + sigma_v * repeat(v_ik[:,end], outer = [length(incomeMeans),1]));\n",
    "y_it1 = exp.(incomeMeans .+ sigma_v * v_ik1[:,end]');\n",
    " \n",
    "unobs_weight = ones(ns)'/(ns)*20;"
   ]
  },
  {
   "cell_type": "code",
   "execution_count": 17,
   "metadata": {},
   "outputs": [
    {
     "data": {
      "text/plain": [
       "gen_mm2 (generic function with 1 method)"
      ]
     },
     "execution_count": 17,
     "metadata": {},
     "output_type": "execute_result"
    }
   ],
   "source": [
    "function gen_mm2(m::ModelData)\n",
    "    α = m.alpha\n",
    "    v_ik = m.v_ik\n",
    "    J_f = m.J_f\n",
    "    midx = m.midx\n",
    "    for i = 1:length(m.p_ijt)\n",
    "        m.p_ijt[i] = 0.0\n",
    "    end\n",
    "  \n",
    "    m.delta .= exp.(m.delta)\n",
    "        \n",
    "    step = Int(size(m.v_ik,1)/size(m.midx,1))\n",
    " \n",
    "    # iterate over markets\n",
    "    for mi = 1:size(m.midx,1)\n",
    "        muidx1 = step*(mi - 1) + 1; muidx2 = step*mi\n",
    " \n",
    "        eps = 1.0\n",
    "        count = 1\n",
    " \n",
    "        r1 = midx[mi,1]; r2 = midx[mi,2];\n",
    " \n",
    "        # precalculate random coeffs\n",
    "        mui = zeros(r2-r1+1, size(m.p_ijt,2)) # Allocate Array\n",
    "        randcoeff = (m.sigma' .* m.v_ik[muidx1:muidx2,:])\n",
    "        yp = m.y_it[mi,muidx1:muidx2]'.*m.price[r1:r2]\n",
    "        # calculate random coefficient\n",
    "        BLAS.gemm!('N', 'T', 1.0, m.X[r1:r2,:], randcoeff, 0.0, mui)\n",
    "        mui .-= α*yp\n",
    "        mui .= exp.(mui);\n",
    " \n",
    "        marketmat = ones(r2-r1+1, r2-r1+1)\n",
    "        # contraction mapping/fixed point\n",
    "        while (eps > 1e-14)*(200 > count)\n",
    " \n",
    "            numer = mui.*m.delta[r1:r2];\n",
    "            s0 = 1.0./(1.0 .+ sum(numer,dims=1))\n",
    "            m.p_ijt[r1:r2,:] .= numer .* s0;\n",
    " \n",
    "            m.s_jt[r1:r2] .= m.p_ijt[r1:r2,:] * m.unobs_weight[muidx1:muidx2]\n",
    "             \n",
    "           # Finding the Fixed Point\n",
    "            if eps > 0.1\n",
    "                # Nevo Contraction\n",
    "                m.delta[r1:r2] .= m.delta[r1:r2] .* m.act_s[r1:r2]./m.s_jt[r1:r2]\n",
    "                eps = maximum(abs.((m.s_jt[r1:r2]./m.act_s[r1:r2]) .- 1))\n",
    "     \n",
    "            else\n",
    "                # Newton Root-finding\n",
    "                m.delta[r1:r2] .= log.(m.delta[r1:r2])\n",
    "                tmp2 = m.p_ijt[r1:r2,:] .* m.unobs_weight[muidx1:muidx2]'\n",
    " \n",
    "                Jf = I - (tmp2*m.p_ijt[r1:r2,:]')./m.s_jt[r1:r2,:]\n",
    "                diff = log.(m.s_jt[r1:r2]) .- log.(m.act_s[r1:r2])\n",
    "                stp = -Jf\\diff\n",
    "                m.delta[r1:r2,:] .= m.delta[r1:r2,:] .+ stp\n",
    "                eps = maximum(abs.(stp))\n",
    "                m.delta[r1:r2] .= exp.(m.delta[r1:r2])\n",
    "            end\n",
    "     \n",
    "            count += 1\n",
    "        end\n",
    " \n",
    "    end\n",
    "    m.delta .= log.(m.delta)\n",
    " \n",
    "    # calculate mc\n",
    "    for j = 1:size(J_f, 1)\n",
    "         \n",
    "        idx1 = J_f[j,1]; idx2 = J_f[j,2];\n",
    "        muidx = searchsortedlast(m.midx[:,1], idx1 )\n",
    "        muidx_1 = (muidx-1)*step + 1\n",
    "        muidx_2 = (muidx)*step\n",
    "        rp = m.p_ijt[idx1:idx2,:] \n",
    "        wα =  m.unobs_weight[muidx_1:muidx_2] .* m.y_it[muidx,muidx_1:muidx_2] * α\n",
    "        nfirms = idx2 - idx1 + 1;\n",
    "        tmp2 = rp .* wα'\n",
    "        tmpvec = diagm(rp * wα);\n",
    "        BLAS.gemm!('N', 'T', -1.0, m.p_ijt[idx1:idx2,:], tmp2 , 1.0, tmpvec) \n",
    " \n",
    "        b = tmpvec\\m.s_jt[idx1:idx2]\n",
    "        m.mc[idx1:idx2] .= m.price[idx1:idx2] .- b\n",
    "    end\n",
    "    for i = 1:length(m.mc)\n",
    "        m.mc[i] = ifelse(m.mc[i] < 0, 0.001, m.mc[i])\n",
    "    end\n",
    "    return nothing\n",
    "end"
   ]
  },
  {
   "cell_type": "code",
   "execution_count": 18,
   "metadata": {},
   "outputs": [
    {
     "name": "stdout",
     "output_type": "stream",
     "text": [
      "  1.177374 seconds (15.02 k allocations: 1.097 GiB, 9.86% gc time)\n"
     ]
    },
    {
     "data": {
      "text/plain": [
       "-0.7227089043692163"
      ]
     },
     "execution_count": 18,
     "metadata": {},
     "output_type": "execute_result"
    }
   ],
   "source": [
    "d_share = convert(Array{Float64,1}, regSet[:share])\n",
    "m = ModelData(  price[:], X, α, βs, γs, σs, deepcopy(delta_0), deepcopy(delta_0), markets[:], midx, J_f, 1 ./y_it1, v_ik1[:,1:end-1], \n",
    "  unobs_weight[:], zeros(size(X,1), Int(size(v_ik1,1)/20)), convert(Array{Float64,1}, deepcopy(d_share)), \n",
    "    convert(Array{Float64,1}, deepcopy(d_share)), deepcopy(delta_0), zeros(size(X,1), 19));\n",
    " \n",
    "@time gen_mm2(m)\n",
    "mean(m.delta)"
   ]
  },
  {
   "cell_type": "code",
   "execution_count": 19,
   "metadata": {},
   "outputs": [
    {
     "data": {
      "text/plain": [
       "GMM (generic function with 1 method)"
      ]
     },
     "execution_count": 19,
     "metadata": {},
     "output_type": "execute_result"
    }
   ],
   "source": [
    "function GMM(param, m, wght)\n",
    "    m.alpha = abs(param[1])\n",
    "    m.sigma = abs.(param[2:end])\n",
    "     \n",
    "    gen_mm2(m)\n",
    "    Z_ = m.optinst\n",
    "    y_ = vcat(m.delta, log.(m.mc))\n",
    " \n",
    "    X_ = [m.X zeros(size(m.W)); zeros(size(m.X)) m.W]\n",
    "    zx = Z_'*X_\n",
    "     \n",
    "    βols = (zx'wght*zx)\\(zx'wght*Z_'y_)\n",
    "    ϵ = y_ - X_*βols\n",
    "    g = Z_'*ϵ/length(ϵ)\n",
    "    m.beta = βols[1:size(m.X,2)]\n",
    "    m.gamma = βols[size(m.X,2)+1:end]\n",
    "    res = g'wght*g*length(g)\n",
    "  #  println(m.alpha, m.sigma, res)\n",
    "    return res\n",
    "end\n"
   ]
  },
  {
   "cell_type": "code",
   "execution_count": null,
   "metadata": {},
   "outputs": [],
   "source": [
    "m.W = W\n",
    "m.optinst = Z_;\n",
    " \n",
    "tp = [α, σs...];\n",
    "wght = inv(Z_'Z_);\n",
    " \n",
    "y_ = vcat(m.delta, log.(m.mc))\n",
    "X_ = [m.X zeros(size(m.W)); zeros(size(m.X)) m.W]\n",
    "zx = Z_'*X_\n",
    " \n",
    "βols = (zx'wght*zx)\\(zx'wght*Z_'y_)\n",
    "ϵ = y_ - X_*βols;\n",
    "mm = Z_ .* ϵ\n",
    "g = mean(mm, dims=1)\n",
    "wght = inv(mm'mm/size(mm,1) .- g.*g');\n",
    " \n",
    "opt = Opt(:LN_NELDERMEAD, 6)\n",
    "initial_step!(opt, abs.(tp)*0.1 ) \n",
    "ftol_rel!(opt,1e-4)\n",
    "xtol_rel!(opt,1e-4)\n",
    "maxeval!(opt, 250)\n",
    "min_objective!(opt, (x,y) -> GMM(x, m, wght))\n",
    "@time minf_,minx_,ret_ = NLopt.optimize(opt, tp )"
   ]
  },
  {
   "cell_type": "code",
   "execution_count": null,
   "metadata": {},
   "outputs": [],
   "source": []
  }
 ],
 "metadata": {
  "kernelspec": {
   "display_name": "Julia 1.6.1",
   "language": "julia",
   "name": "julia-1.6"
  },
  "language_info": {
   "file_extension": ".jl",
   "mimetype": "application/julia",
   "name": "julia",
   "version": "1.5.1"
  }
 },
 "nbformat": 4,
 "nbformat_minor": 4
}
